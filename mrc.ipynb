{
  "nbformat": 4,
  "nbformat_minor": 0,
  "metadata": {
    "colab": {
      "provenance": [],
      "collapsed_sections": [],
      "history_visible": true,
      "include_colab_link": true
    },
    "kernelspec": {
      "name": "python3",
      "display_name": "Python 3"
    },
    "language_info": {
      "name": "python"
    },
    "accelerator": "GPU"
  },
  "cells": [
    {
      "cell_type": "markdown",
      "metadata": {
        "id": "view-in-github",
        "colab_type": "text"
      },
      "source": [
        "<a href=\"https://colab.research.google.com/github/DayoungKwon/mrc/blob/main/mrc.ipynb\" target=\"_parent\"><img src=\"https://colab.research.google.com/assets/colab-badge.svg\" alt=\"Open In Colab\"/></a>"
      ]
    },
    {
      "cell_type": "markdown",
      "source": [
        "## 설치 \n",
        "- khaiii (오래걸림)\n",
        "- 그외 (huggingface, konlpy)"
      ],
      "metadata": {
        "id": "h-e4Wj7lOcTf"
      }
    },
    {
      "cell_type": "code",
      "source": [
        "# !git clone https://github.com/kakao/khaiii.git\n",
        "# !pip install cmake\n",
        "# !mkdir build\n",
        "# !cd build && cmake /content/khaiii\n",
        "# !cd /content/build/ && make all\n",
        "# !cd /content/build/ && make resource\n",
        "# !cd /content/build && make install\n",
        "# !cd /content/build && make package_python\n",
        "# !pip install /content/build/package_python"
      ],
      "metadata": {
        "collapsed": true,
        "id": "-kp1EuCNKlS1"
      },
      "execution_count": 1,
      "outputs": []
    },
    {
      "cell_type": "code",
      "source": [
        "! pip install datasets\n",
        "! pip install transformers\n",
        "! apt-get install -y openjdk-8-jdk python3-dev\n",
        "! pip install konlpy \"tweepy<4.0.0\"\n",
        "! /bin/bash <(curl -s https://raw.githubusercontent.com/konlpy/konlpy/master/scripts/mecab.sh)"
      ],
      "metadata": {
        "colab": {
          "base_uri": "https://localhost:8080/"
        },
        "id": "W9ofpU3RheFr",
        "outputId": "524f1b1e-3c6b-4ff7-fd96-8c9031d15d49",
        "collapsed": true
      },
      "execution_count": 2,
      "outputs": [
        {
          "output_type": "stream",
          "name": "stdout",
          "text": [
            "Looking in indexes: https://pypi.org/simple, https://us-python.pkg.dev/colab-wheels/public/simple/\n",
            "Requirement already satisfied: datasets in /usr/local/lib/python3.7/dist-packages (2.5.2)\n",
            "Requirement already satisfied: packaging in /usr/local/lib/python3.7/dist-packages (from datasets) (21.3)\n",
            "Requirement already satisfied: tqdm>=4.62.1 in /usr/local/lib/python3.7/dist-packages (from datasets) (4.64.1)\n",
            "Requirement already satisfied: pyarrow>=6.0.0 in /usr/local/lib/python3.7/dist-packages (from datasets) (6.0.1)\n",
            "Requirement already satisfied: multiprocess in /usr/local/lib/python3.7/dist-packages (from datasets) (0.70.13)\n",
            "Requirement already satisfied: xxhash in /usr/local/lib/python3.7/dist-packages (from datasets) (3.0.0)\n",
            "Requirement already satisfied: pandas in /usr/local/lib/python3.7/dist-packages (from datasets) (1.3.5)\n",
            "Requirement already satisfied: fsspec[http]>=2021.11.1 in /usr/local/lib/python3.7/dist-packages (from datasets) (2022.8.2)\n",
            "Requirement already satisfied: aiohttp in /usr/local/lib/python3.7/dist-packages (from datasets) (3.8.3)\n",
            "Requirement already satisfied: huggingface-hub<1.0.0,>=0.2.0 in /usr/local/lib/python3.7/dist-packages (from datasets) (0.10.0)\n",
            "Requirement already satisfied: dill<0.3.6 in /usr/local/lib/python3.7/dist-packages (from datasets) (0.3.5.1)\n",
            "Requirement already satisfied: responses<0.19 in /usr/local/lib/python3.7/dist-packages (from datasets) (0.18.0)\n",
            "Requirement already satisfied: requests>=2.19.0 in /usr/local/lib/python3.7/dist-packages (from datasets) (2.23.0)\n",
            "Requirement already satisfied: importlib-metadata in /usr/local/lib/python3.7/dist-packages (from datasets) (5.0.0)\n",
            "Requirement already satisfied: numpy>=1.17 in /usr/local/lib/python3.7/dist-packages (from datasets) (1.21.6)\n",
            "Requirement already satisfied: attrs>=17.3.0 in /usr/local/lib/python3.7/dist-packages (from aiohttp->datasets) (22.1.0)\n",
            "Requirement already satisfied: yarl<2.0,>=1.0 in /usr/local/lib/python3.7/dist-packages (from aiohttp->datasets) (1.8.1)\n",
            "Requirement already satisfied: aiosignal>=1.1.2 in /usr/local/lib/python3.7/dist-packages (from aiohttp->datasets) (1.2.0)\n",
            "Requirement already satisfied: async-timeout<5.0,>=4.0.0a3 in /usr/local/lib/python3.7/dist-packages (from aiohttp->datasets) (4.0.2)\n",
            "Requirement already satisfied: multidict<7.0,>=4.5 in /usr/local/lib/python3.7/dist-packages (from aiohttp->datasets) (6.0.2)\n",
            "Requirement already satisfied: asynctest==0.13.0 in /usr/local/lib/python3.7/dist-packages (from aiohttp->datasets) (0.13.0)\n",
            "Requirement already satisfied: charset-normalizer<3.0,>=2.0 in /usr/local/lib/python3.7/dist-packages (from aiohttp->datasets) (2.1.1)\n",
            "Requirement already satisfied: frozenlist>=1.1.1 in /usr/local/lib/python3.7/dist-packages (from aiohttp->datasets) (1.3.1)\n",
            "Requirement already satisfied: typing-extensions>=3.7.4 in /usr/local/lib/python3.7/dist-packages (from aiohttp->datasets) (4.1.1)\n",
            "Requirement already satisfied: pyyaml>=5.1 in /usr/local/lib/python3.7/dist-packages (from huggingface-hub<1.0.0,>=0.2.0->datasets) (6.0)\n",
            "Requirement already satisfied: filelock in /usr/local/lib/python3.7/dist-packages (from huggingface-hub<1.0.0,>=0.2.0->datasets) (3.8.0)\n",
            "Requirement already satisfied: pyparsing!=3.0.5,>=2.0.2 in /usr/local/lib/python3.7/dist-packages (from packaging->datasets) (3.0.9)\n",
            "Requirement already satisfied: chardet<4,>=3.0.2 in /usr/local/lib/python3.7/dist-packages (from requests>=2.19.0->datasets) (3.0.4)\n",
            "Requirement already satisfied: urllib3!=1.25.0,!=1.25.1,<1.26,>=1.21.1 in /usr/local/lib/python3.7/dist-packages (from requests>=2.19.0->datasets) (1.25.11)\n",
            "Requirement already satisfied: certifi>=2017.4.17 in /usr/local/lib/python3.7/dist-packages (from requests>=2.19.0->datasets) (2022.9.24)\n",
            "Requirement already satisfied: idna<3,>=2.5 in /usr/local/lib/python3.7/dist-packages (from requests>=2.19.0->datasets) (2.10)\n",
            "Requirement already satisfied: zipp>=0.5 in /usr/local/lib/python3.7/dist-packages (from importlib-metadata->datasets) (3.8.1)\n",
            "Requirement already satisfied: python-dateutil>=2.7.3 in /usr/local/lib/python3.7/dist-packages (from pandas->datasets) (2.8.2)\n",
            "Requirement already satisfied: pytz>=2017.3 in /usr/local/lib/python3.7/dist-packages (from pandas->datasets) (2022.4)\n",
            "Requirement already satisfied: six>=1.5 in /usr/local/lib/python3.7/dist-packages (from python-dateutil>=2.7.3->pandas->datasets) (1.15.0)\n",
            "Looking in indexes: https://pypi.org/simple, https://us-python.pkg.dev/colab-wheels/public/simple/\n",
            "Requirement already satisfied: transformers in /usr/local/lib/python3.7/dist-packages (4.22.2)\n",
            "Requirement already satisfied: filelock in /usr/local/lib/python3.7/dist-packages (from transformers) (3.8.0)\n",
            "Requirement already satisfied: regex!=2019.12.17 in /usr/local/lib/python3.7/dist-packages (from transformers) (2022.6.2)\n",
            "Requirement already satisfied: packaging>=20.0 in /usr/local/lib/python3.7/dist-packages (from transformers) (21.3)\n",
            "Requirement already satisfied: requests in /usr/local/lib/python3.7/dist-packages (from transformers) (2.23.0)\n",
            "Requirement already satisfied: tqdm>=4.27 in /usr/local/lib/python3.7/dist-packages (from transformers) (4.64.1)\n",
            "Requirement already satisfied: tokenizers!=0.11.3,<0.13,>=0.11.1 in /usr/local/lib/python3.7/dist-packages (from transformers) (0.12.1)\n",
            "Requirement already satisfied: huggingface-hub<1.0,>=0.9.0 in /usr/local/lib/python3.7/dist-packages (from transformers) (0.10.0)\n",
            "Requirement already satisfied: pyyaml>=5.1 in /usr/local/lib/python3.7/dist-packages (from transformers) (6.0)\n",
            "Requirement already satisfied: numpy>=1.17 in /usr/local/lib/python3.7/dist-packages (from transformers) (1.21.6)\n",
            "Requirement already satisfied: importlib-metadata in /usr/local/lib/python3.7/dist-packages (from transformers) (5.0.0)\n",
            "Requirement already satisfied: typing-extensions>=3.7.4.3 in /usr/local/lib/python3.7/dist-packages (from huggingface-hub<1.0,>=0.9.0->transformers) (4.1.1)\n",
            "Requirement already satisfied: pyparsing!=3.0.5,>=2.0.2 in /usr/local/lib/python3.7/dist-packages (from packaging>=20.0->transformers) (3.0.9)\n",
            "Requirement already satisfied: zipp>=0.5 in /usr/local/lib/python3.7/dist-packages (from importlib-metadata->transformers) (3.8.1)\n",
            "Requirement already satisfied: idna<3,>=2.5 in /usr/local/lib/python3.7/dist-packages (from requests->transformers) (2.10)\n",
            "Requirement already satisfied: certifi>=2017.4.17 in /usr/local/lib/python3.7/dist-packages (from requests->transformers) (2022.9.24)\n",
            "Requirement already satisfied: urllib3!=1.25.0,!=1.25.1,<1.26,>=1.21.1 in /usr/local/lib/python3.7/dist-packages (from requests->transformers) (1.25.11)\n",
            "Requirement already satisfied: chardet<4,>=3.0.2 in /usr/local/lib/python3.7/dist-packages (from requests->transformers) (3.0.4)\n",
            "Reading package lists... Done\n",
            "Building dependency tree       \n",
            "Reading state information... Done\n",
            "python3-dev is already the newest version (3.6.7-1~18.04).\n",
            "openjdk-8-jdk is already the newest version (8u342-b07-0ubuntu1~18.04).\n",
            "The following package was automatically installed and is no longer required:\n",
            "  libnvidia-common-460\n",
            "Use 'apt autoremove' to remove it.\n",
            "0 upgraded, 0 newly installed, 0 to remove and 22 not upgraded.\n",
            "Looking in indexes: https://pypi.org/simple, https://us-python.pkg.dev/colab-wheels/public/simple/\n",
            "Requirement already satisfied: konlpy in /usr/local/lib/python3.7/dist-packages (0.6.0)\n",
            "Requirement already satisfied: tweepy<4.0.0 in /usr/local/lib/python3.7/dist-packages (3.10.0)\n",
            "Requirement already satisfied: six>=1.10.0 in /usr/local/lib/python3.7/dist-packages (from tweepy<4.0.0) (1.15.0)\n",
            "Requirement already satisfied: requests[socks]>=2.11.1 in /usr/local/lib/python3.7/dist-packages (from tweepy<4.0.0) (2.23.0)\n",
            "Requirement already satisfied: requests-oauthlib>=0.7.0 in /usr/local/lib/python3.7/dist-packages (from tweepy<4.0.0) (1.3.1)\n",
            "Requirement already satisfied: oauthlib>=3.0.0 in /usr/local/lib/python3.7/dist-packages (from requests-oauthlib>=0.7.0->tweepy<4.0.0) (3.2.1)\n",
            "Requirement already satisfied: urllib3!=1.25.0,!=1.25.1,<1.26,>=1.21.1 in /usr/local/lib/python3.7/dist-packages (from requests[socks]>=2.11.1->tweepy<4.0.0) (1.25.11)\n",
            "Requirement already satisfied: idna<3,>=2.5 in /usr/local/lib/python3.7/dist-packages (from requests[socks]>=2.11.1->tweepy<4.0.0) (2.10)\n",
            "Requirement already satisfied: chardet<4,>=3.0.2 in /usr/local/lib/python3.7/dist-packages (from requests[socks]>=2.11.1->tweepy<4.0.0) (3.0.4)\n",
            "Requirement already satisfied: certifi>=2017.4.17 in /usr/local/lib/python3.7/dist-packages (from requests[socks]>=2.11.1->tweepy<4.0.0) (2022.9.24)\n",
            "Requirement already satisfied: PySocks!=1.5.7,>=1.5.6 in /usr/local/lib/python3.7/dist-packages (from requests[socks]>=2.11.1->tweepy<4.0.0) (1.7.1)\n",
            "Requirement already satisfied: lxml>=4.1.0 in /usr/local/lib/python3.7/dist-packages (from konlpy) (4.9.1)\n",
            "Requirement already satisfied: numpy>=1.6 in /usr/local/lib/python3.7/dist-packages (from konlpy) (1.21.6)\n",
            "Requirement already satisfied: JPype1>=0.7.0 in /usr/local/lib/python3.7/dist-packages (from konlpy) (1.4.0)\n",
            "Requirement already satisfied: typing-extensions in /usr/local/lib/python3.7/dist-packages (from JPype1>=0.7.0->konlpy) (4.1.1)\n",
            "mecab-ko is already installed\n",
            "mecab-ko-dic is already installed\n",
            "mecab-python is already installed\n",
            "Done.\n"
          ]
        }
      ]
    },
    {
      "cell_type": "markdown",
      "source": [
        "### Data Preparing\n",
        "\n",
        "1. data load \n",
        "2. data preprocessing \n",
        "- 형태소 분석 \n",
        "- tokenizing \n"
      ],
      "metadata": {
        "id": "Cn0PipT7h6-Z"
      }
    },
    {
      "cell_type": "markdown",
      "source": [
        "## Data Load\n",
        "\n",
        "데이터를 로드하고, parsing 해서 필요한 데이터만 뽑아주는 모듈 \n",
        "KoMRC"
      ],
      "metadata": {
        "id": "axvXSXoWtwFa"
      }
    },
    {
      "cell_type": "code",
      "source": [
        "from typing import List, Tuple, Dict, Any\n",
        "import json\n",
        "import numpy as np\n",
        "import random\n",
        "\n",
        "class KoMRC:\n",
        "    def __init__(self, data, indices: List[Tuple[int, int, int]], mode=None): #, tokenizer=None):\n",
        "        self._data = data\n",
        "        self._indices = indices \n",
        "        self._preprocessed_data = None\n",
        "\n",
        "    # Json을 불러오는 메소드\n",
        "    @classmethod\n",
        "    def load(cls, file_path):\n",
        "        with open(file_path, 'r', encoding='utf-8') as fd:\n",
        "            data = json.load(fd)\n",
        "\n",
        "        indices = []\n",
        "        for d_id, document in enumerate(data['data']):\n",
        "            for p_id, paragraph in enumerate(document['paragraphs']):\n",
        "                for q_id, _ in enumerate(paragraph['qas']):\n",
        "                    indices.append((d_id, p_id, q_id))\n",
        "        \n",
        "        return cls(data, indices)\n",
        "\n",
        "    # 데이터 셋을 잘라내는 메소드\n",
        "    @classmethod\n",
        "    def split(cls, dataset, eval_ratio: float=.1, seed=42, mode='mecab'): #, tokenizer=None):\n",
        "        indices = list(dataset._indices)\n",
        "        random.seed(seed)\n",
        "        random.shuffle(indices)\n",
        "        train_indices = indices[int(len(indices) * eval_ratio):]\n",
        "        eval_indices = indices[:int(len(indices) * eval_ratio)]\n",
        "\n",
        "        return cls(dataset._data, train_indices, mode=mode), cls(dataset._data, eval_indices, mode=mode)#, tokenizer=tokenizer)\n",
        "\n",
        "    def __getitem__(self, slices):\n",
        "        if not self._preprocessed_data :\n",
        "          self._preprocessed_data = self.__parse_rawdata(self._indices)\n",
        "\n",
        "\n",
        "        if isinstance(slices, (int, np.int64)):\n",
        "          # row \n",
        "          return {\n",
        "              'guid': self._preprocessed_data['guid'][slices],\n",
        "              'context': self._preprocessed_data['context'][slices],\n",
        "              'answers': self._preprocessed_data['answers'][slices],\n",
        "              'question': self._preprocessed_data['question'][slices]\n",
        "          }\n",
        "        elif isinstance(slices, str):\n",
        "          return self._preprocessed_data[slices]\n",
        "        elif isinstance(slices, slice):\n",
        "          return {\n",
        "              'guid': [self._preprocessed_data['guid'][i] for i in range(slices.start, slices.stop)],\n",
        "              'context': [self._preprocessed_data['context'][i] for i in range(slices.start, slices.stop)],\n",
        "              'answers': [self._preprocessed_data['answers'][i] for i in range(slices.start, slices.stop)],\n",
        "              'question': [self._preprocessed_data['question'][i] for i in range(slices.start, slices.stop)]\n",
        "          }\n",
        "        raise ValueError(f'unhanled slices : {slices}, type={type(slices)}')\n",
        "\n",
        "\n",
        "    def __parse_rawdata(self, indices) -> dict:\n",
        "\n",
        "        _indices = {'question':[], 'answers':[], \n",
        "                    'context':[], 'guid':[]}\n",
        "\n",
        "        for index, indice in enumerate(indices):\n",
        "          d_id, p_id, q_id = indice\n",
        "          paragraph = self._data['data'][d_id]['paragraphs'][p_id]\n",
        "\n",
        "          qa = paragraph['qas'][q_id]\n",
        "          _indices['guid'].append(qa['guid'])\n",
        "\n",
        "          _indices['question'].append(qa['question'])\n",
        "          _indices['answers'].append(qa['answers']) \n",
        "          _indices['context'].append(paragraph['context'])\n",
        "\n",
        "        print(len(_indices['question']))\n",
        "        return _indices\n",
        "\n",
        "\n",
        "    def __len__(self) -> int:\n",
        "        return len(self._indices)"
      ],
      "metadata": {
        "id": "sn7jmz27jh-J"
      },
      "execution_count": 3,
      "outputs": []
    },
    {
      "cell_type": "code",
      "source": [
        "# 데이터 위치 (저장하신 위치에 따라 바꿔주세요)\n",
        "train_file = '/content/train.json'\n",
        "test_file = '/content/test.json'\n",
        "dataset = KoMRC.load(train_file)\n",
        "train_dataset, dev_dataset = KoMRC.split(dataset)\n",
        "print(\"Number of Train Samples:\", len(train_dataset))\n",
        "print(\"Number of Dev Samples:\", len(dev_dataset))\n",
        "\n",
        "print(dev_dataset[0])\n",
        "print(dev_dataset[0]['answers'])\n",
        "print(dev_dataset[0]['context'].split('.')[0])\n",
        "print(dev_dataset['answers'])\n",
        "print(len(dev_dataset['answers']))\n",
        "print(dev_dataset['question'])\n",
        "print(len(dev_dataset['question']))\n",
        "print(dev_dataset[0:10])"
      ],
      "metadata": {
        "id": "q_lF3Zhvtnlx",
        "colab": {
          "base_uri": "https://localhost:8080/"
        },
        "outputId": "3080ce87-580b-4640-879a-95834bb68bb0"
      },
      "execution_count": 4,
      "outputs": [
        {
          "output_type": "stream",
          "name": "stdout",
          "text": [
            "Number of Train Samples: 10834\n",
            "Number of Dev Samples: 1203\n",
            "1203\n",
            "{'guid': '844e22ab28924c1697d5ac28801b34c1', 'context': '지난해 주요 연극상을 나눠 가졌던 세 편의 작품이 올봄에 나란히 앙코르 무대를 갖는다. 대한민국연극대상 연기·무대예술상, 동아연극상 작품·희곡·연기상 등을 수상한 ‘알리바이 연대기’(17~20일 대학로 아르코예술극장 대극장, 25일~5월11일 서계동 국립극단 백성희장민호극장), 연극대상에서 대상과 희곡상을 받은 ‘여기가 집이다’(18일~5월22일 대학로 연우소극장), 연극대상 작품·연출상과 김상열연극상 수상작인 ‘황금용’(5월9~18일 서강대 메리홀 대극장)이다. 초연 당시 짧은 상연 기간과 낮은 인지도 등으로 공연을 놓친 연극팬에겐 평단으로부터 작품성을 인정받은 수작을 관람할 수 있는 기회다. ‘알리바이 연대기’는 희곡을 쓰고 연출한 김재엽의 가족사에 근거한 다큐멘터리 드라마다. 1930년에 태어난 한 개인의 사적인 연대기를 바탕으로 그 사이를 파고드는 역사적 순간들을 정밀하게 조명한다. 연출가는 “공적인 권력이 사적인 권리를 지켜주기보다 억압하기 일쑤였던 한국 현대사 속에서 개인은 언제나 무죄를 입증하며 하루하루 자신을 지켜내야 하는 ‘알리바이의 연대기’ 속에서 살아왔다”고 말한다.한국연극평론가협회는 이 작품을 ‘2013년 올해의 연극 베스트3’로 선정하며 “촘촘하고 세세하게 삶에 천착해 개인과 역사에 대한 이분법적 관점을 극복한다. 정치극에 대한 새로운 가능성을 보여줬다”고 평했다. 이 작품으로 연기상을 휩쓴 남명렬을 비롯해 지춘성 정원조 등 초연 배우들이 그대로 출연한다.‘여기가 집이다’는 허름하고 볼품 없는 ‘20년 전통’의 고시원에 모여 사는 사람들의 절망과 희망을 그린 작품. ‘차력사와 아코디언’ ‘택배 왔어요’를 만든 극단 이와삼의 장우재 대표가 직접 대본을 쓰고 연출했다. 나름의 규칙을 가지고 평화로웠던 고시원에 새로운 주인으로 등장한 ‘20세 고등학생’ 동교가 “이제부터 고시원 식구들에게 월세를 받지 않겠다”고 선언하면서 갑작스런 변화의 바람이 분다.날것 그대로의 직설 화법으로 풀어 놓는 풍성한 인생 이야기와 생동감 넘치는 극적 구조로 ‘집’의 본원적 의미와 삶에 대한 성찰의 기회를 제공한다는 평가를 받았다. 재연에서는 중견 배우 김세동이 장씨 역으로 출연해 박무영 김충근 한동규 류제승 김정민 등 초연 배우들과 호흡을 맞춘다.독일 극작가 롤란트 시멜페니히가 쓴 현대극 ‘황금용’은 독일 소도시에 있는 아시아계 간이식당을 배경으로 현대 물질사회와 세계화 속에 가려진 욕망과 폭력, 소외를 그린다. 치통을 앓지만 불법 체류자 신분으로 치과에 가지 못하는 한 젊은 중국인 요리사는 결국 비참한 최후를 맞는다.작품을 연출한 윤광진 용인대 교수는 “극의 배경은 유럽의 한 소도시이지만 서울이나 경기 안산의 어느 거리에서 일어나는 듯 우리에게 가깝게 다가오는 작품”이라며 “지하철에서 마주치는 외국인 근로자들, 그 옆에서 졸고 있는 우리의 이야기”라고 말했다. 이호성 남미정 이동근 한덕호 방현숙 등 초연 배우들이 다시 뭉친다.', 'answers': [{'text': '서강대 메리홀 대극장', 'answer_start': 246}], 'question': '윤광진 교수가 연출한 연극이 앙코르 공연을 하는 장소는 어디인가?'}\n",
            "[{'text': '서강대 메리홀 대극장', 'answer_start': 246}]\n",
            "지난해 주요 연극상을 나눠 가졌던 세 편의 작품이 올봄에 나란히 앙코르 무대를 갖는다\n",
            "[[{'text': '서강대 메리홀 대극장', 'answer_start': 246}], [{'text': '저축은행중앙회', 'answer_start': 345}, {'text': '중앙회', 'answer_start': 774}], [{'text': '구문론', 'answer_start': 521}], [{'text': '1956년', 'answer_start': 634}, {'text': '1956', 'answer_start': 634}], [{'text': '1부', 'answer_start': 187}], [{'text': '이베이', 'answer_start': 889}], [{'text': '50개', 'answer_start': 65}], [{'text': '‘쿠리어’', 'answer_start': 43}, {'text': '쿠리어', 'answer_start': 44}], [{'text': '스타일태그', 'answer_start': 561}], [{'text': '‘은행 계좌이동제’', 'answer_start': 386}, {'text': '은행 계좌이동제', 'answer_start': 387}, {'text': '계좌이동제', 'answer_start': 390}, {'text': '계좌이동제', 'answer_start': 1405}, {'text': '계좌이동제', 'answer_start': 1436}], [{'text': '‘최종면접에서의 역량 부족’', 'answer_start': 733}, {'text': '최종면접에서의 역량 부족', 'answer_start': 734}], [{'text': '바트러첸코 이반', 'answer_start': 21}], [{'text': '게라심 콜라파코프스키', 'answer_start': 340}], [{'text': '경북대', 'answer_start': 46}], [{'text': '은관문화훈장', 'answer_start': 350}], [{'text': '19명', 'answer_start': 240}, {'text': '19', 'answer_start': 240}], [{'text': '9월', 'answer_start': 216}, {'text': '9', 'answer_start': 216}], [{'text': '2011년부터', 'answer_start': 611}], [{'text': '1년7개월', 'answer_start': 264}], [{'text': '‘중간저장’', 'answer_start': 969}, {'text': '중간저장', 'answer_start': 970}], [{'text': '6000만달러', 'answer_start': 156}], [{'text': '10월1일', 'answer_start': 307}], [{'text': '사운드클라우드', 'answer_start': 462}], [{'text': '정부', 'answer_start': 319}], [{'text': '최낙정 해양수산부 장관', 'answer_start': 610}, {'text': '최낙정', 'answer_start': 610}, {'text': '최 장관', 'answer_start': 644}], [{'text': '템퍼', 'answer_start': 212}, {'text': '템퍼코리아', 'answer_start': 349}], [{'text': '1사1병영 캠페인', 'answer_start': 331}, {'text': '1사1병영 운동', 'answer_start': 555}], [{'text': '파란색', 'answer_start': 1376}], [{'text': '‘골드 올리브’', 'answer_start': 308}, {'text': '골드 올리브', 'answer_start': 309}], [{'text': '강북구', 'answer_start': 548}], [{'text': '동아시아정상회의(EAS)', 'answer_start': 139}, {'text': '동아시아정상회의', 'answer_start': 139}, {'text': 'EAS', 'answer_start': 525}], [{'text': '5달러', 'answer_start': 257}], [{'text': '형사', 'answer_start': 492}], [{'text': '기획재정부', 'answer_start': 253}], [{'text': '11월', 'answer_start': 558}], [{'text': '4천 명', 'answer_start': 585}], [{'text': '헨리 H. 빙엄', 'answer_start': 1454}, {'text': '헨리 H. 빙엄 대위', 'answer_start': 1454}, {'text': '빙엄', 'answer_start': 1460}, {'text': '빙엄 대위', 'answer_start': 1460}], [{'text': '진나라에 저항', 'answer_start': 720}], [{'text': '제주도 SH공사', 'answer_start': 300}], [{'text': '광고 모델', 'answer_start': 364}], [{'text': '3년', 'answer_start': 94}], [{'text': '이윤혜', 'answer_start': 75}], [{'text': '아케디아', 'answer_start': 500}], [{'text': '블랙 핸드', 'answer_start': 519}], [{'text': '대구고검장', 'answer_start': 582}], [{'text': '제네바', 'answer_start': 99}], [{'text': '‘광명역 지웰 에스테이트’', 'answer_start': 859}, {'text': '광명역 지웰 에스테이트', 'answer_start': 860}], [{'text': '금융위기', 'answer_start': 589}], [{'text': '450억달러', 'answer_start': 288}, {'text': '450억달러(약 52조2720억원)', 'answer_start': 288}, {'text': '약 52조2720억원', 'answer_start': 295}], [{'text': '말랑카우', 'answer_start': 627}], [{'text': '조대식', 'answer_start': 470}], [{'text': '이승현', 'answer_start': 72}], [{'text': '36세', 'answer_start': 702}, {'text': '36', 'answer_start': 702}], [{'text': '한덕희 대표', 'answer_start': 1133}, {'text': '한덕희', 'answer_start': 1133}], [{'text': '서일본 고속도로', 'answer_start': 1489}], [{'text': '포스코', 'answer_start': 331}], [{'text': '2003년', 'answer_start': 559}, {'text': '2003', 'answer_start': 559}], [{'text': '멀리사 스넬 (Melissa Snell)', 'answer_start': 665}, {'text': '멀리사 스넬', 'answer_start': 665}, {'text': 'Melissa Snell', 'answer_start': 673}], [{'text': '《완전한 죽음》', 'answer_start': 581}, {'text': '완전한 죽음', 'answer_start': 582}], [{'text': '난류', 'answer_start': 745}], [{'text': '스웨덴', 'answer_start': 1326}], [{'text': '금리 눈속임', 'answer_start': 515}], [{'text': '민우혁', 'answer_start': 974}], [{'text': '7명', 'answer_start': 408}, {'text': '7', 'answer_start': 408}], [{'text': '감사원', 'answer_start': 1345}], [{'text': '‘랜덤 업그레이드 배차’', 'answer_start': 274}, {'text': '랜덤 업그레이드 배차', 'answer_start': 275}], [{'text': '철기', 'answer_start': 130}], [{'text': '95인치', 'answer_start': 133}], [{'text': '최대주주', 'answer_start': 303}], [{'text': '케냐의 우간다 정교회', 'answer_start': 613}, {'text': '우간다 정교회', 'answer_start': 617}], [{'text': '3.8%', 'answer_start': 271}], [{'text': '7일', 'answer_start': 166}], [{'text': '엘리엇', 'answer_start': 1101}], [{'text': '우윤근', 'answer_start': 399}], [{'text': '3억8000만원', 'answer_start': 853}], [{'text': '넷마블', 'answer_start': 395}], [{'text': '박종훈', 'answer_start': 134}], [{'text': '27일', 'answer_start': 9}], [{'text': '벡스코', 'answer_start': 21}], [{'text': '신청자의 사연', 'answer_start': 994}, {'text': '사연', 'answer_start': 999}], [{'text': '동림저수지', 'answer_start': 197}], [{'text': '태국', 'answer_start': 334}], [{'text': '세례당', 'answer_start': 577}], [{'text': '일제강점기', 'answer_start': 367}], [{'text': '인간', 'answer_start': 840}], [{'text': '철퇴', 'answer_start': 476}], [{'text': '‘애플케어플러스(AppleCare+)’', 'answer_start': 588}, {'text': '애플케어플러스(AppleCare+)', 'answer_start': 589}, {'text': '애플케어플러스', 'answer_start': 589}, {'text': 'AppleCare+', 'answer_start': 597}], [{'text': '60개', 'answer_start': 348}, {'text': '60', 'answer_start': 348}], [{'text': '윌키파&갤러거 크리스토퍼 지안카를로', 'answer_start': 228}], [{'text': '허갑범', 'answer_start': 305}], [{'text': '구례 화엄사 각황전 앞 석등(국보 제12호)', 'answer_start': 657}, {'text': '구례 화엄사 각황전 앞 석등', 'answer_start': 657}, {'text': '국보 제12호', 'answer_start': 673}], [{'text': '몸체', 'answer_start': 166}], [{'text': '삼성물산', 'answer_start': 389}], [{'text': '내위성', 'answer_start': 251}], [{'text': '11.6㎞/L', 'answer_start': 592}], [{'text': '‘대구 북죽곡 삼정그린코아 더 베스트’', 'answer_start': 1111}, {'text': '대구 북죽곡 삼정그린코아 더 베스트', 'answer_start': 1112}], [{'text': '라젠드라 1세', 'answer_start': 838}], [{'text': '1만명', 'answer_start': 446}], [{'text': '1521년', 'answer_start': 5}], [{'text': '총 9차례', 'answer_start': 434}, {'text': '9차례', 'answer_start': 436}, {'text': '9', 'answer_start': 436}], [{'text': '28일', 'answer_start': 133}], [{'text': '6개', 'answer_start': 222}, {'text': '6', 'answer_start': 222}], [{'text': '한여름', 'answer_start': 381}, {'text': '여름', 'answer_start': 382}], [{'text': '비무장지대(DMZ) 관광 활성화', 'answer_start': 33}], [{'text': '대령', 'answer_start': 182}], [{'text': '가까운 미래의 지구', 'answer_start': 422}], [{'text': '금융위원회', 'answer_start': 0}], [{'text': '유승선', 'answer_start': 1238}], [{'text': '프로페서 코브라', 'answer_start': 1391}, {'text': '코브라', 'answer_start': 1751}], [{'text': '대선 공약', 'answer_start': 376}], [{'text': '‘K-POP MTCamp’', 'answer_start': 413}, {'text': 'K-POP MTCamp', 'answer_start': 414}], [{'text': '스탈린', 'answer_start': 297}], [{'text': '서울드래곤시티 2층 아케이드', 'answer_start': 398}], [{'text': '신형 제네시스', 'answer_start': 1643}], [{'text': '장기근속 공제제도', 'answer_start': 498}, {'text': '장기근속 공제', 'answer_start': 498}], [{'text': '알자베르 가문', 'answer_start': 290}], [{'text': '360배', 'answer_start': 468}, {'text': '360', 'answer_start': 468}], [{'text': '740억원', 'answer_start': 717}, {'text': '740억원가량', 'answer_start': 717}], [{'text': '네우손 바르보자', 'answer_start': 1281}], [{'text': '한국', 'answer_start': 445}], [{'text': '코로나19', 'answer_start': 1040}, {'text': '코로나', 'answer_start': 1040}], [{'text': '창작자', 'answer_start': 379}], [{'text': '조선', 'answer_start': 471}, {'text': '조선시대', 'answer_start': 471}], [{'text': '500동', 'answer_start': 389}, {'text': '500', 'answer_start': 389}], [{'text': '프랑스', 'answer_start': 87}], [{'text': '징계위원회', 'answer_start': 170}], [{'text': '1919년', 'answer_start': 166}, {'text': '1919', 'answer_start': 166}], [{'text': '오전 5시', 'answer_start': 377}, {'text': '5시', 'answer_start': 380}], [{'text': '천안', 'answer_start': 113}], [{'text': '애경그룹', 'answer_start': 426}, {'text': '애경', 'answer_start': 426}], [{'text': '정주영', 'answer_start': 294}], [{'text': '클레오메네스', 'answer_start': 813}], [{'text': '5년', 'answer_start': 774}], [{'text': '1999년', 'answer_start': 410}, {'text': '1999', 'answer_start': 410}], [{'text': '『협동조합에 관하여』', 'answer_start': 310}, {'text': '협동조합에 관하여', 'answer_start': 311}], [{'text': '은평구', 'answer_start': 489}], [{'text': '‘신상출시 편스토랑’', 'answer_start': 726}, {'text': '신상출시 편스토랑', 'answer_start': 727}], [{'text': '신동주', 'answer_start': 606}], [{'text': '2.5단계', 'answer_start': 690}, {'text': '2.5', 'answer_start': 690}], [{'text': '상인', 'answer_start': 548}], [{'text': '조양호', 'answer_start': 1285}], [{'text': '롯데면세점', 'answer_start': 183}], [{'text': '스페인', 'answer_start': 140}], [{'text': '2020', 'answer_start': 937}, {'text': '2020년', 'answer_start': 937}], [{'text': '중국', 'answer_start': 585}], [{'text': '1998년', 'answer_start': 417}, {'text': '1998', 'answer_start': 417}], [{'text': '기업은행', 'answer_start': 735}], [{'text': '1조6299억원', 'answer_start': 633}], [{'text': '1610년', 'answer_start': 43}], [{'text': '이탈리아군', 'answer_start': 583}], [{'text': '9월', 'answer_start': 884}, {'text': '9', 'answer_start': 884}], [{'text': '10월 4일', 'answer_start': 161}], [{'text': '986억달러', 'answer_start': 131}], [{'text': 'B블록', 'answer_start': 689}, {'text': 'B', 'answer_start': 689}], [{'text': '1897년', 'answer_start': 41}, {'text': '1897', 'answer_start': 41}], [{'text': '대의제도', 'answer_start': 401}], [{'text': '칠곡', 'answer_start': 988}], [{'text': '에스톡', 'answer_start': 55}], [{'text': '악사 홍선종', 'answer_start': 160}, {'text': '홍선종', 'answer_start': 163}], [{'text': '1988년', 'answer_start': 260}, {'text': '1988', 'answer_start': 260}], [{'text': '조선 순조 9년(1809)', 'answer_start': 268}, {'text': '조선 순조 9년', 'answer_start': 268}, {'text': '1809', 'answer_start': 277}], [{'text': '토니 그윈', 'answer_start': 588}], [{'text': '2010년', 'answer_start': 308}], [{'text': '동양적인 부드러움', 'answer_start': 153}], [{'text': '서방 총대주교', 'answer_start': 322}], [{'text': '인도네시아 발리', 'answer_start': 182}, {'text': '발리', 'answer_start': 188}], [{'text': '가장자리', 'answer_start': 111}], [{'text': '23개', 'answer_start': 382}, {'text': '23', 'answer_start': 382}], [{'text': '삼종지도', 'answer_start': 358}, {'text': '삼종지도(三從之道)', 'answer_start': 358}, {'text': '三從之道', 'answer_start': 363}], [{'text': '2023t', 'answer_start': 979}], [{'text': '46개', 'answer_start': 700}, {'text': '46', 'answer_start': 700}], [{'text': '페니파싱', 'answer_start': 16}], [{'text': '‘봄날’', 'answer_start': 454}, {'text': '봄날', 'answer_start': 455}], [{'text': '신분보장 조항의 입법', 'answer_start': 168}], [{'text': '겐로쿠 지진', 'answer_start': 130}], [{'text': '전산교체 과정 의혹', 'answer_start': 396}], [{'text': '산업포장', 'answer_start': 570}], [{'text': '항공사진', 'answer_start': 347}], [{'text': '7만5000원', 'answer_start': 404}], [{'text': '서울', 'answer_start': 202}], [{'text': '와카야마 제4고로', 'answer_start': 618}], [{'text': '사건 자체의 의미', 'answer_start': 1096}], [{'text': 'NVMe 방식', 'answer_start': 448}, {'text': 'NVMe', 'answer_start': 448}], [{'text': '‘설날’', 'answer_start': 383}, {'text': '설날', 'answer_start': 384}], [{'text': '두 개', 'answer_start': 574}, {'text': '두', 'answer_start': 574}], [{'text': '방어대장군', 'answer_start': 316}], [{'text': '나미', 'answer_start': 220}], [{'text': '스페인', 'answer_start': 168}], [{'text': '아일린 그레이', 'answer_start': 536}], [{'text': '박세준', 'answer_start': 36}], [{'text': '인스타그램', 'answer_start': 972}], [{'text': '암회색', 'answer_start': 402}], [{'text': '8만 4,337명', 'answer_start': 719}, {'text': '8만 4,337', 'answer_start': 719}], [{'text': '무료', 'answer_start': 199}], [{'text': '보건복지부', 'answer_start': 313}], [{'text': '170cm', 'answer_start': 68}], [{'text': '에어팟 프로', 'answer_start': 1184}], [{'text': '한문 교사', 'answer_start': 381}, {'text': '교사', 'answer_start': 384}], [{'text': '서대문 경교장', 'answer_start': 1074}], [{'text': '‘분리과세 하이일드펀드’', 'answer_start': 1125}, {'text': '분리과세 하이일드펀드', 'answer_start': 1126}], [{'text': '뮤직박스 음악', 'answer_start': 326}], [{'text': '기초노령연금', 'answer_start': 130}], [{'text': '29일', 'answer_start': 213}], [{'text': '820만채', 'answer_start': 51}, {'text': '820만', 'answer_start': 51}], [{'text': '150', 'answer_start': 324}, {'text': '150편', 'answer_start': 324}], [{'text': '1939년', 'answer_start': 15}, {'text': '1939', 'answer_start': 15}], [{'text': '2016년', 'answer_start': 198}], [{'text': '최관호', 'answer_start': 203}], [{'text': '1.6%', 'answer_start': 211}], [{'text': '채무자', 'answer_start': 45}], [{'text': '테헤란', 'answer_start': 428}], [{'text': '14.4%', 'answer_start': 708}], [{'text': '베르나르도 총대주교', 'answer_start': 522}, {'text': '베르나르도', 'answer_start': 522}], [{'text': '23조6000억원', 'answer_start': 355}], [{'text': '40억원', 'answer_start': 233}], [{'text': '강재섭', 'answer_start': 386}], [{'text': '9510가구', 'answer_start': 274}, {'text': '9510', 'answer_start': 274}], [{'text': '암', 'answer_start': 279}], [{'text': '스카이 해븐 사원', 'answer_start': 552}], [{'text': '동성상고', 'answer_start': 195}], [{'text': '‘플립보드’', 'answer_start': 336}, {'text': '플립보드', 'answer_start': 337}], [{'text': '1996년', 'answer_start': 56}, {'text': '1996', 'answer_start': 56}], [{'text': '고등학교를 보다 일찍 졸업하기 위한 수단', 'answer_start': 690}], [{'text': '투시노', 'answer_start': 0}], [{'text': '2개', 'answer_start': 399}, {'text': '2', 'answer_start': 399}], [{'text': '2005년', 'answer_start': 358}], [{'text': '소프트웨어 모듈', 'answer_start': 108}], [{'text': '순자격식(循資格式)', 'answer_start': 279}, {'text': '순자격식', 'answer_start': 279}, {'text': '循資格式', 'answer_start': 284}], [{'text': '뉴캐슬', 'answer_start': 609}], [{'text': '4년', 'answer_start': 865}], [{'text': '조선중앙일보', 'answer_start': 0}], [{'text': '148조6000억원', 'answer_start': 715}], [{'text': '미시코바강', 'answer_start': 394}], [{'text': 'SM엔터테인먼트', 'answer_start': 200}, {'text': 'SM', 'answer_start': 200}], [{'text': '크리세스', 'answer_start': 12}], [{'text': '페이스북', 'answer_start': 818}], [{'text': '제우스', 'answer_start': 588}], [{'text': '해운조합', 'answer_start': 708}], [{'text': '중앙대', 'answer_start': 836}, {'text': '중앙', 'answer_start': 836}], [{'text': '갈리아', 'answer_start': 376}], [{'text': '\"경찰과 국민은 하나\"', 'answer_start': 347}, {'text': '경찰과 국민은 하나', 'answer_start': 348}], [{'text': '다양한 소비자들의 취향을 반영', 'answer_start': 778}, {'text': '다양한 소비자들의 취향을 반영하기 위해', 'answer_start': 778}], [{'text': '슈퍼세이브에 ‘재가입’하는 회원들', 'answer_start': 35}, {'text': '슈퍼세이브에 ‘재가입’하는 회원', 'answer_start': 35}, {'text': '슈퍼세이브에 가입한 이력이 있는 회원', 'answer_start': 98}], [{'text': '91명', 'answer_start': 841}, {'text': '91', 'answer_start': 841}], [{'text': '싱가포르', 'answer_start': 883}], [{'text': '‘자동 Wake-up’', 'answer_start': 249}, {'text': '자동 Wake-up', 'answer_start': 250}], [{'text': '암으로 죽어간다는 믿음', 'answer_start': 478}, {'text': '암으로 죽어간다는 믿음 때문에', 'answer_start': 478}], [{'text': '1억원', 'answer_start': 271}], [{'text': '표트르 슈체틴킨', 'answer_start': 1780}], [{'text': '에어워셔 ‘숨’', 'answer_start': 353}, {'text': '숨', 'answer_start': 359}], [{'text': '국무총리', 'answer_start': 119}], [{'text': '자동차', 'answer_start': 38}], [{'text': '2015년', 'answer_start': 555}, {'text': '2015', 'answer_start': 555}], [{'text': '통인 주기', 'answer_start': 159}, {'text': '주기', 'answer_start': 162}], [{'text': '세인트루이스', 'answer_start': 460}], [{'text': '50인', 'answer_start': 896}, {'text': '50', 'answer_start': 896}], [{'text': '충청권 과학비즈니스벨트 사업', 'answer_start': 110}], [{'text': '개인화된 경험', 'answer_start': 864}, {'text': '개인화된 경험들', 'answer_start': 864}], [{'text': '463억원', 'answer_start': 897}], [{'text': '‘플라스마 화학증착(CVD)’ 법', 'answer_start': 331}, {'text': '플라스마 화학증착(CVD)', 'answer_start': 332}, {'text': '플라스마 화학증착', 'answer_start': 332}, {'text': 'CVD', 'answer_start': 342}], [{'text': '32명', 'answer_start': 461}, {'text': '32', 'answer_start': 461}], [{'text': '둘째 아들', 'answer_start': 71}], [{'text': '영국', 'answer_start': 26}], [{'text': '에메랄드', 'answer_start': 757}, {'text': '에메랄드 컬러', 'answer_start': 757}], [{'text': '레스토랑', 'answer_start': 657}], [{'text': '아베노믹스', 'answer_start': 140}], [{'text': '소루트비히', 'answer_start': 379}], [{'text': '4일', 'answer_start': 626}], [{'text': '1770만도즈', 'answer_start': 401}], [{'text': '‘신한PWM 라운지’', 'answer_start': 1223}, {'text': '신한PWM 라운지', 'answer_start': 1224}], [{'text': '‘Risk Management Award’', 'answer_start': 763}, {'text': 'Risk Management Award', 'answer_start': 764}], [{'text': '60억원', 'answer_start': 130}], [{'text': '5%', 'answer_start': 632}], [{'text': '후쿠오카 임시 법원', 'answer_start': 819}], [{'text': '개화역', 'answer_start': 445}], [{'text': '2층', 'answer_start': 146}, {'text': '2', 'answer_start': 146}], [{'text': '1.08달러', 'answer_start': 474}], [{'text': '1727', 'answer_start': 231}, {'text': '1727년', 'answer_start': 231}], [{'text': '경건주의', 'answer_start': 69}], [{'text': '이기석', 'answer_start': 927}], [{'text': '독도', 'answer_start': 638}], [{'text': 'Talent X Junior+', 'answer_start': 673}], [{'text': '장제스', 'answer_start': 1384}], [{'text': '한정대', 'answer_start': 322}], [{'text': '10만원', 'answer_start': 202}], [{'text': 'MLP펀드', 'answer_start': 288}], [{'text': '70%', 'answer_start': 421}], [{'text': '11월17일', 'answer_start': 627}], [{'text': '로열 콘세르트허바우 오케스트라(RCO)', 'answer_start': 143}, {'text': '로열 콘세르트허바우 오케스트라', 'answer_start': 143}, {'text': 'RCO', 'answer_start': 160}], [{'text': '일관', 'answer_start': 210}], [{'text': '6월', 'answer_start': 297}, {'text': '6', 'answer_start': 297}], [{'text': '제비초리', 'answer_start': 251}], [{'text': '민족문제연구소', 'answer_start': 33}], [{'text': '인천국제공항 귀빈실', 'answer_start': 281}, {'text': '인천국제공항', 'answer_start': 281}], [{'text': '8%', 'answer_start': 283}, {'text': '8', 'answer_start': 283}], [{'text': '9월4~6일', 'answer_start': 612}], [{'text': '(주)한라', 'answer_start': 401}, {'text': '한라', 'answer_start': 404}], [{'text': '두 명', 'answer_start': 31}], [{'text': '회칠', 'answer_start': 13}], [{'text': '기독교에 대한 탄압', 'answer_start': 886}], [{'text': '85㎡', 'answer_start': 267}, {'text': '85㎡ 이하', 'answer_start': 267}], [{'text': '연세대', 'answer_start': 231}], [{'text': '상암동', 'answer_start': 18}], [{'text': '국제통화기금(IMF)', 'answer_start': 411}, {'text': '국제통화기금', 'answer_start': 411}, {'text': 'IMF', 'answer_start': 418}], [{'text': '1998년', 'answer_start': 244}, {'text': '1998년 외환위기 당시', 'answer_start': 244}, {'text': '외환위기 당시', 'answer_start': 250}], [{'text': '포스코건설', 'answer_start': 49}], [{'text': '미세플라스틱', 'answer_start': 444}], [{'text': '강남 3구', 'answer_start': 407}], [{'text': '1864년', 'answer_start': 131}], [{'text': '\"공유지의 비극\"', 'answer_start': 270}, {'text': '공유지의 비극', 'answer_start': 271}], [{'text': '칸막이', 'answer_start': 282}], [{'text': '26일', 'answer_start': 172}], [{'text': '2009년', 'answer_start': 334}, {'text': '2009', 'answer_start': 334}], [{'text': '김영수', 'answer_start': 80}], [{'text': '출장 잦은 건축가', 'answer_start': 412}, {'text': '건축가', 'answer_start': 418}], [{'text': '이효상 의장', 'answer_start': 106}, {'text': '이효상', 'answer_start': 106}], [{'text': '1982년', 'answer_start': 54}, {'text': '1982', 'answer_start': 54}], [{'text': '정재정', 'answer_start': 207}], [{'text': '700만원', 'answer_start': 628}], [{'text': '‘e편한세상 신촌’', 'answer_start': 294}, {'text': 'e편한세상 신촌', 'answer_start': 295}], [{'text': '웅기탁', 'answer_start': 737}], [{'text': '서울 신당동 동대문패션비즈센터', 'answer_start': 248}, {'text': '신당동 동대문패션비즈센터', 'answer_start': 251}, {'text': '동대문패션비즈센터', 'answer_start': 255}], [{'text': 'D1세션', 'answer_start': 487}, {'text': 'D1', 'answer_start': 487}], [{'text': '두 달', 'answer_start': 180}], [{'text': '약 30년', 'answer_start': 302}, {'text': '30년', 'answer_start': 304}], [{'text': '‘카사델타코’', 'answer_start': 1573}], [{'text': '50%', 'answer_start': 480}, {'text': '50', 'answer_start': 480}], [{'text': '2011년', 'answer_start': 622}, {'text': '2011', 'answer_start': 622}], [{'text': '주벌 얼리의 보병부대', 'answer_start': 498}], [{'text': '지난달 10일', 'answer_start': 225}, {'text': '10일', 'answer_start': 229}], [{'text': '로컬스티치', 'answer_start': 624}], [{'text': '‘내비둬 콘서트’', 'answer_start': 147}, {'text': '내비둬 콘서트', 'answer_start': 148}], [{'text': '2만1979원', 'answer_start': 159}], [{'text': '버진아일랜드', 'answer_start': 872}], [{'text': '팝 발라드', 'answer_start': 414}], [{'text': '이영희 막달레나', 'answer_start': 165}, {'text': '이영희', 'answer_start': 165}], [{'text': '아루에', 'answer_start': 156}], [{'text': '100여개', 'answer_start': 683}], [{'text': '미국', 'answer_start': 439}], [{'text': '2년', 'answer_start': 215}], [{'text': '60여년', 'answer_start': 205}], [{'text': '4만 9천원', 'answer_start': 446}], [{'text': '48.27%', 'answer_start': 1816}], [{'text': '혁명적공산주의자동맹', 'answer_start': 512}], [{'text': '이완구', 'answer_start': 396}], [{'text': '중소기업', 'answer_start': 645}], [{'text': '2007년', 'answer_start': 128}, {'text': '2007', 'answer_start': 128}], [{'text': '대학교의 의학 교수', 'answer_start': 162}, {'text': '의학 교수', 'answer_start': 167}], [{'text': '‘라이언 킹’', 'answer_start': 741}, {'text': '라이언 킹', 'answer_start': 742}], [{'text': '뱅크샐러드 송금 서비스 런칭 이벤트', 'answer_start': 568}], [{'text': '5월 29일', 'answer_start': 454}], [{'text': '벌레와 꽃, 그리고 새들을 노래한 시집', 'answer_start': 392}, {'text': '시집', 'answer_start': 411}], [{'text': '2,418건', 'answer_start': 314}, {'text': '2,418', 'answer_start': 314}], [{'text': '총 5000대', 'answer_start': 1460}, {'text': '5000대', 'answer_start': 1462}], [{'text': '최경환', 'answer_start': 0}], [{'text': '‘소회의실’', 'answer_start': 901}, {'text': '‘소회의실’ 기능', 'answer_start': 901}, {'text': '소회의실', 'answer_start': 902}], [{'text': '저출산고령사회위원회', 'answer_start': 517}], [{'text': '23일', 'answer_start': 120}, {'text': '23', 'answer_start': 120}], [{'text': '‘중항삼성생명보험유한공사’', 'answer_start': 322}, {'text': '중항삼성생명보험유한공사', 'answer_start': 323}, {'text': '중항삼성', 'answer_start': 355}, {'text': '삼성생명', 'answer_start': 605}], [{'text': '경제개혁조치', 'answer_start': 53}], [{'text': '5000만원', 'answer_start': 526}], [{'text': '54개', 'answer_start': 399}, {'text': '54', 'answer_start': 399}], [{'text': '마케도니아의 장군 알렉산더 3세', 'answer_start': 399}, {'text': '알렉산더 3세', 'answer_start': 409}], [{'text': '7조9576억원', 'answer_start': 1260}], [{'text': '현대건설', 'answer_start': 310}], [{'text': '황도철학이라는 어용 학문을 연구해 다수의 논설을 발표한 일', 'answer_start': 320}], [{'text': '보병 기사(말에서 내린 기사)', 'answer_start': 490}, {'text': '보병 기사', 'answer_start': 490}, {'text': '말에서 내린 기사', 'answer_start': 496}], [{'text': '히브리 백성', 'answer_start': 436}], [{'text': '2009년', 'answer_start': 179}], [{'text': '12%', 'answer_start': 904}, {'text': '12', 'answer_start': 904}], [{'text': '중재위원회', 'answer_start': 358}], [{'text': '1748억원', 'answer_start': 510}], [{'text': '<옥자>', 'answer_start': 812}, {'text': '옥자', 'answer_start': 813}], [{'text': '유동성 부족', 'answer_start': 738}], [{'text': '서울', 'answer_start': 311}], [{'text': '9월 1일', 'answer_start': 259}], [{'text': '23만개', 'answer_start': 452}], [{'text': '전략총괄이사', 'answer_start': 549}], [{'text': '‘메탈 그라운드’', 'answer_start': 276}, {'text': '메탈 그라운드', 'answer_start': 277}], [{'text': '대나라', 'answer_start': 166}], [{'text': '지난 2월4일', 'answer_start': 196}], [{'text': '2.9%', 'answer_start': 561}, {'text': '2.9', 'answer_start': 561}], [{'text': '아테나이', 'answer_start': 530}], [{'text': '라치오', 'answer_start': 549}], [{'text': '갤럭시S6', 'answer_start': 322}], [{'text': '1905년', 'answer_start': 748}, {'text': '1905', 'answer_start': 748}], [{'text': '한국', 'answer_start': 1312}], [{'text': '유로콥터', 'answer_start': 419}], [{'text': '2500여점', 'answer_start': 213}, {'text': '2500', 'answer_start': 213}], [{'text': '중국', 'answer_start': 714}], [{'text': '보코하람 테러리스트들', 'answer_start': 217}, {'text': '보코하람 테러리스트', 'answer_start': 217}], [{'text': '‘불평등은 어떻게 성장을 촉발시키나’', 'answer_start': 254}, {'text': '불평등은 어떻게 성장을 촉발시키나', 'answer_start': 255}], [{'text': '바리오 아덴트로 미션', 'answer_start': 485}], [{'text': '어린이날', 'answer_start': 369}], [{'text': '6000원', 'answer_start': 544}], [{'text': '‘화성침공’', 'answer_start': 664}, {'text': '화성침공', 'answer_start': 665}], [{'text': '샌디훅초등학교에서 발생한 총기 난사 사건', 'answer_start': 81}], [{'text': '9조7198억원', 'answer_start': 307}], [{'text': '어머니', 'answer_start': 372}], [{'text': '비단', 'answer_start': 232}], [{'text': '16일', 'answer_start': 47}], [{'text': '메이저 릿지', 'answer_start': 583}], [{'text': '강신명', 'answer_start': 635}], [{'text': '서울', 'answer_start': 105}], [{'text': '성벽에 목이 매달리는 교수형', 'answer_start': 1088}, {'text': '교수형', 'answer_start': 1100}], [{'text': '정부서울청사', 'answer_start': 241}], [{'text': '학생규약', 'answer_start': 636}], [{'text': '69조원', 'answer_start': 331}], [{'text': '성균관대', 'answer_start': 879}, {'text': '성균관', 'answer_start': 879}], [{'text': '4월15일', 'answer_start': 764}], [{'text': '반신화적인 인물인 우파', 'answer_start': 84}, {'text': '우파', 'answer_start': 94}], [{'text': '‘순간’', 'answer_start': 500}, {'text': '순간', 'answer_start': 501}], [{'text': '사적기업설립권', 'answer_start': 115}], [{'text': '11월', 'answer_start': 650}, {'text': '11', 'answer_start': 650}], [{'text': '김자봉', 'answer_start': 63}], [{'text': '21일', 'answer_start': 693}], [{'text': '1993년', 'answer_start': 208}], [{'text': '가수', 'answer_start': 463}], [{'text': '‘구글 킵(keep)’', 'answer_start': 13}, {'text': '구글 킵', 'answer_start': 14}, {'text': '구글 킵(keep)', 'answer_start': 14}, {'text': 'keep', 'answer_start': 19}], [{'text': '무역보험공사', 'answer_start': 70}, {'text': '무보', 'answer_start': 99}], [{'text': '2층', 'answer_start': 377}, {'text': '2', 'answer_start': 377}], [{'text': '460억달러', 'answer_start': 214}], [{'text': '1811년', 'answer_start': 318}, {'text': '1811', 'answer_start': 318}], [{'text': '6만23', 'answer_start': 661}, {'text': '6만23대', 'answer_start': 661}], [{'text': '컴퓨터', 'answer_start': 437}], [{'text': '29일', 'answer_start': 106}, {'text': '29', 'answer_start': 106}], [{'text': '21일', 'answer_start': 510}, {'text': '21', 'answer_start': 510}], [{'text': '에어로바이런먼트', 'answer_start': 225}], [{'text': '4발기 제작 경험', 'answer_start': 99}], [{'text': '거치대', 'answer_start': 184}], [{'text': '기원전 451년', 'answer_start': 237}], [{'text': '농협중앙회', 'answer_start': 739}], [{'text': '과학', 'answer_start': 522}, {'text': '과학적 측면', 'answer_start': 522}], [{'text': '일본', 'answer_start': 477}], [{'text': '뇌출혈', 'answer_start': 168}], [{'text': '28일', 'answer_start': 12}], [{'text': '28개', 'answer_start': 276}, {'text': '28', 'answer_start': 276}], [{'text': '‘안정적’', 'answer_start': 123}, {'text': '안정적', 'answer_start': 124}], [{'text': '롯데', 'answer_start': 653}], [{'text': '1907년', 'answer_start': 873}, {'text': '1907', 'answer_start': 873}], [{'text': '비선형 광학 현상', 'answer_start': 197}], [{'text': '철도박물관', 'answer_start': 271}, {'text': '철도 박물관', 'answer_start': 353}], [{'text': '200여명', 'answer_start': 271}], [{'text': '이종호', 'answer_start': 367}], [{'text': '마라(麻辣)', 'answer_start': 205}, {'text': '마라', 'answer_start': 205}, {'text': '麻辣', 'answer_start': 208}], [{'text': '미켈란젤로', 'answer_start': 591}], [{'text': '자장율사', 'answer_start': 60}], [{'text': '아트워터흙파는쥐', 'answer_start': 165}], [{'text': '《칼의 노래》', 'answer_start': 267}, {'text': '칼의 노래', 'answer_start': 268}], [{'text': '듀얼키', 'answer_start': 164}], [{'text': '인도', 'answer_start': 796}], [{'text': '형태에 있어 거의 혹은 전혀 자유가 없어 다양한 번역을 창조해내기가 불가능하고 시구 구조에서도 다른 여지를 찾기 어려운 탓이다.', 'answer_start': 328}], [{'text': '로젠바움', 'answer_start': 347}], [{'text': '영국', 'answer_start': 1642}], [{'text': '리버리', 'answer_start': 178}], [{'text': '《탐사기획 스트레이트》', 'answer_start': 101}, {'text': '탐사기획 스트레이트', 'answer_start': 102}], [{'text': '촉매', 'answer_start': 237}], [{'text': '24시간', 'answer_start': 696}, {'text': '24', 'answer_start': 696}], [{'text': '유니레버', 'answer_start': 1507}], [{'text': '인체의 치수', 'answer_start': 310}], [{'text': '레흐 카친스키', 'answer_start': 373}, {'text': '레흐', 'answer_start': 373}], [{'text': '3400건', 'answer_start': 350}, {'text': '3400', 'answer_start': 350}], [{'text': '그랜드하얏트호텔', 'answer_start': 255}, {'text': '그랜드하얏트', 'answer_start': 255}], [{'text': '케빈 G. 린치', 'answer_start': 773}], [{'text': '레오 6세의 전임자인 요한 10세', 'answer_start': 240}, {'text': '요한 10세', 'answer_start': 252}], [{'text': '750억원', 'answer_start': 221}], [{'text': '분만직전', 'answer_start': 211}], [{'text': '8307', 'answer_start': 151}, {'text': '8307가구', 'answer_start': 151}], [{'text': '1916년', 'answer_start': 824}, {'text': '1916', 'answer_start': 824}], [{'text': '1525년까지', 'answer_start': 55}, {'text': '1525년', 'answer_start': 55}, {'text': '1525', 'answer_start': 55}], [{'text': '마이클 무어', 'answer_start': 554}], [{'text': '징역 또는 금고의 형을 선고받고 형기의 3분의 1을 마친 모범 수형자', 'answer_start': 365}], [{'text': '4대 2', 'answer_start': 764}], [{'text': '엠큐브씨어터', 'answer_start': 510}], [{'text': '공훈의 보상', 'answer_start': 1779}, {'text': '보상', 'answer_start': 1783}], [{'text': '표준화질', 'answer_start': 512}, {'text': '표준화질(SD)', 'answer_start': 512}, {'text': 'SD', 'answer_start': 517}], [{'text': '20km', 'answer_start': 83}], [{'text': '건과류', 'answer_start': 707}], [{'text': '여성소비자연합', 'answer_start': 520}], [{'text': '신계륜 위원장', 'answer_start': 148}, {'text': '신계륜', 'answer_start': 148}, {'text': '신 위원장', 'answer_start': 210}], [{'text': '전문 성우들', 'answer_start': 184}, {'text': '전문 성우', 'answer_start': 184}], [{'text': '27일', 'answer_start': 1384}], [{'text': '충칭', 'answer_start': 562}], [{'text': 'f(x)', 'answer_start': 394}], [{'text': '지안시', 'answer_start': 105}], [{'text': '고동우', 'answer_start': 23}], [{'text': '리플리컨트', 'answer_start': 430}], [{'text': '세월호 참사', 'answer_start': 456}, {'text': '세월호', 'answer_start': 456}], [{'text': '영화배우', 'answer_start': 385}], [{'text': '아웃도어 브랜드 트렉스타', 'answer_start': 106}, {'text': '트렉스타', 'answer_start': 115}], [{'text': '감정', 'answer_start': 39}], [{'text': '혼묘지', 'answer_start': 249}, {'text': '혼묘지(本妙寺)', 'answer_start': 249}, {'text': '本妙寺', 'answer_start': 253}], [{'text': '15명', 'answer_start': 426}, {'text': '15', 'answer_start': 426}], [{'text': '‘조드가 불어오는 곳’', 'answer_start': 139}, {'text': '조드가 불어오는 곳', 'answer_start': 140}], [{'text': '112만8000여명', 'answer_start': 496}], [{'text': '7일', 'answer_start': 830}], [{'text': '사라센인', 'answer_start': 783}], [{'text': '70%', 'answer_start': 470}], [{'text': '청나라 때', 'answer_start': 24}, {'text': '청나라', 'answer_start': 24}], [{'text': '금융 공기업 부채', 'answer_start': 0}], [{'text': '일본 도야마', 'answer_start': 934}, {'text': '도야마', 'answer_start': 937}], [{'text': '김복영', 'answer_start': 532}], [{'text': '자본주의적 농업 소유 구조', 'answer_start': 167}], [{'text': '진주교대', 'answer_start': 410}], [{'text': '말', 'answer_start': 482}], [{'text': '기독교복음침례회', 'answer_start': 233}, {'text': '기독교복음침례회(구원파)', 'answer_start': 233}, {'text': '구원파', 'answer_start': 242}], [{'text': '25일', 'answer_start': 110}, {'text': '25', 'answer_start': 110}], [{'text': '개척시대의 부락회의(타운 미팅)', 'answer_start': 426}, {'text': '부락회의(타운 미팅)', 'answer_start': 432}, {'text': '부락회의', 'answer_start': 432}, {'text': '타운 미팅', 'answer_start': 437}], [{'text': '김치스탈', 'answer_start': 142}], [{'text': '장자 유비(劉肥)', 'answer_start': 315}, {'text': '장자 유비', 'answer_start': 315}, {'text': '유비', 'answer_start': 318}, {'text': '유비(劉肥)', 'answer_start': 318}, {'text': '劉肥', 'answer_start': 321}], [{'text': '‘몬스터’', 'answer_start': 556}, {'text': '몬스터', 'answer_start': 557}], [{'text': '기원전 310년의 전멸 이후', 'answer_start': 614}, {'text': '기원전 310년', 'answer_start': 614}], [{'text': '17개', 'answer_start': 7}, {'text': '17', 'answer_start': 7}], [{'text': '5개', 'answer_start': 260}], [{'text': '현대자동차', 'answer_start': 76}, {'text': '현대차', 'answer_start': 184}], [{'text': '롯데홀딩스', 'answer_start': 757}], [{'text': '5000만원', 'answer_start': 1095}], [{'text': '부산센텀점', 'answer_start': 472}], [{'text': '16,100원', 'answer_start': 220}], [{'text': '리틀 포크 교회', 'answer_start': 576}], [{'text': '최영애', 'answer_start': 49}], [{'text': '1913년', 'answer_start': 881}], [{'text': '‘배틀 포인트’', 'answer_start': 273}, {'text': '배틀 포인트', 'answer_start': 274}], [{'text': '‘꿈의 숲 SK뷰’', 'answer_start': 147}, {'text': '꿈의 숲 SK뷰', 'answer_start': 488}], [{'text': '1947년', 'answer_start': 0}], [{'text': '비센테 델 보스케 감독', 'answer_start': 1123}, {'text': '비센테 델 보스케', 'answer_start': 1123}, {'text': '델 보스케 감독', 'answer_start': 1127}, {'text': '델 보스케', 'answer_start': 1127}], [{'text': '3년', 'answer_start': 443}], [{'text': '16세기', 'answer_start': 227}], [{'text': '롯데카드', 'answer_start': 663}], [{'text': '<<종횡무진 한국경제>>', 'answer_start': 941}, {'text': '종횡무진 한국경제', 'answer_start': 943}], [{'text': '독일', 'answer_start': 653}], [{'text': '하리수', 'answer_start': 399}], [{'text': '나카지마 하루오', 'answer_start': 63}], [{'text': '‘코드 감사’', 'answer_start': 463}, {'text': '코드 감사', 'answer_start': 464}], [{'text': '정우택 충북지사', 'answer_start': 674}, {'text': '정우택', 'answer_start': 674}], [{'text': '2015년 초', 'answer_start': 220}, {'text': '2015년', 'answer_start': 220}], [{'text': '휘주상인', 'answer_start': 397}], [{'text': '9개', 'answer_start': 564}, {'text': '9', 'answer_start': 564}], [{'text': '국회의 비준동의', 'answer_start': 471}], [{'text': '이경훈', 'answer_start': 376}], [{'text': '이상호', 'answer_start': 8}], [{'text': '이라크', 'answer_start': 266}], [{'text': '총 3925가구', 'answer_start': 224}, {'text': '3925가구', 'answer_start': 226}, {'text': '3925', 'answer_start': 226}], [{'text': '\"배낭의 남자\"', 'answer_start': 384}, {'text': '배낭의 남자', 'answer_start': 385}], [{'text': '공개 키 암호 방식(public key) 토큰', 'answer_start': 258}, {'text': '공개 열쇠 암호 토큰', 'answer_start': 331}], [{'text': 'SK텔레콤', 'answer_start': 96}, {'text': 'SK', 'answer_start': 124}], [{'text': '프린스턴', 'answer_start': 89}, {'text': '프린스턴대', 'answer_start': 89}], [{'text': '통의동', 'answer_start': 121}], [{'text': '갤럭시S4', 'answer_start': 952}], [{'text': '가지안테프', 'answer_start': 6}], [{'text': '티무르 왕조', 'answer_start': 273}], [{'text': '김용태', 'answer_start': 578}], [{'text': '베이다황그룹', 'answer_start': 379}], [{'text': '1053', 'answer_start': 166}], [{'text': '9월', 'answer_start': 106}], [{'text': '2.9%', 'answer_start': 137}], [{'text': '1944년', 'answer_start': 582}, {'text': '1944', 'answer_start': 582}], [{'text': '1945년 11월 11일', 'answer_start': 61}], [{'text': '이희국', 'answer_start': 98}], [{'text': '부리', 'answer_start': 188}], [{'text': '인종주의', 'answer_start': 639}], [{'text': '다산 정약용', 'answer_start': 296}, {'text': '정약용', 'answer_start': 299}], [{'text': '세션Ⅰ', 'answer_start': 405}, {'text': 'Ⅰ', 'answer_start': 407}], [{'text': '4731억원', 'answer_start': 259}], [{'text': '박민식', 'answer_start': 202}], [{'text': '‘비츠(Biits)’', 'answer_start': 396}, {'text': '비츠(Biits)', 'answer_start': 397}, {'text': '비츠', 'answer_start': 397}, {'text': 'Biits', 'answer_start': 400}], [{'text': '‘수능 완성’', 'answer_start': 1652}, {'text': '수능 완성', 'answer_start': 1653}], [{'text': '센리 선', 'answer_start': 7}], [{'text': '원자력 발전', 'answer_start': 203}], [{'text': '웨어러블 스마트 디바이스', 'answer_start': 288}], [{'text': '현대삼호중공업', 'answer_start': 646}], [{'text': '고케닌', 'answer_start': 377}], [{'text': '식중독', 'answer_start': 599}], [{'text': '4위', 'answer_start': 1258}, {'text': '4', 'answer_start': 1258}], [{'text': '3년', 'answer_start': 116}], [{'text': 'iHQ', 'answer_start': 800}], [{'text': '충북 충주', 'answer_start': 17}], [{'text': '50%', 'answer_start': 311}], [{'text': '순수 그리스인', 'answer_start': 118}], [{'text': '3개', 'answer_start': 599}, {'text': '3개 등급', 'answer_start': 599}, {'text': '3', 'answer_start': 599}], [{'text': '‘그림자 금융’', 'answer_start': 569}, {'text': '그림자 금융', 'answer_start': 570}], [{'text': '연꽃잎', 'answer_start': 450}], [{'text': '주벌 얼리 장군', 'answer_start': 1128}, {'text': '주벌 얼리', 'answer_start': 1128}], [{'text': '160만명', 'answer_start': 312}, {'text': '160만', 'answer_start': 312}], [{'text': '사영기업', 'answer_start': 954}], [{'text': '‘서비스드 레지던스’', 'answer_start': 323}, {'text': '서비스드 레지던스', 'answer_start': 324}], [{'text': '64.6%', 'answer_start': 446}, {'text': '64.6', 'answer_start': 446}], [{'text': '18일', 'answer_start': 20}, {'text': '18', 'answer_start': 20}], [{'text': '러시아', 'answer_start': 229}], [{'text': '미국', 'answer_start': 857}], [{'text': '휴온스', 'answer_start': 742}], [{'text': '샤를 기욤 르 노르망 데티올', 'answer_start': 369}], [{'text': '스위스', 'answer_start': 1934}], [{'text': '6조8631억원', 'answer_start': 617}], [{'text': '직각자자리 은하단', 'answer_start': 98}, {'text': '우리은하에서 약 2억 5000만 광년 떨어진 거대 은하 집합체', 'answer_start': 113}, {'text': '약 2억 5000만 광년 떨어진 거대 은하 집합체', 'answer_start': 120}, {'text': '2억 5000만 광년 떨어진 거대 은하 집합체', 'answer_start': 122}, {'text': '거대 은하 집합체', 'answer_start': 138}], [{'text': '이방 그리스도 교인', 'answer_start': 66}], [{'text': '1974년', 'answer_start': 400}, {'text': '1974', 'answer_start': 400}], [{'text': '라미스테카', 'answer_start': 136}], [{'text': '대우건설', 'answer_start': 112}], [{'text': '관광진흥법', 'answer_start': 379}], [{'text': '핀란드 헬싱키', 'answer_start': 6}, {'text': '핀란드', 'answer_start': 6}, {'text': '헬싱키', 'answer_start': 10}], [{'text': '독일 행정부', 'answer_start': 252}, {'text': '행정부', 'answer_start': 255}], [{'text': '8500만원', 'answer_start': 481}], [{'text': '양성윤', 'answer_start': 73}], [{'text': '미국', 'answer_start': 233}], [{'text': '5억 년', 'answer_start': 599}, {'text': '5억', 'answer_start': 599}], [{'text': '2008년', 'answer_start': 366}, {'text': '2008', 'answer_start': 366}], [{'text': '4.6%', 'answer_start': 461}], [{'text': '박수현', 'answer_start': 504}], [{'text': '2013년', 'answer_start': 428}], [{'text': '182만2601CGT', 'answer_start': 1160}], [{'text': '픽톨로지', 'answer_start': 24}, {'text': '픽톨로지(PICTOLOGI)', 'answer_start': 24}, {'text': '(PICTOLOGI)', 'answer_start': 28}, {'text': 'PICTOLOGI', 'answer_start': 29}], [{'text': '감', 'answer_start': 207}], [{'text': '‘BlueStacks Inside for Steam’', 'answer_start': 570}, {'text': 'BlueStacks Inside for Steam', 'answer_start': 571}], [{'text': '고준석', 'answer_start': 166}], [{'text': '최영익', 'answer_start': 249}], [{'text': '6명', 'answer_start': 623}, {'text': '6', 'answer_start': 623}], [{'text': '카카오 간편 결제 서비스', 'answer_start': 447}], [{'text': '갈라바 성', 'answer_start': 493}], [{'text': '10.8%', 'answer_start': 464}, {'text': '10.8', 'answer_start': 464}], [{'text': '러시아', 'answer_start': 395}], [{'text': '현대자동차그룹', 'answer_start': 519}], [{'text': '골든 리트리버', 'answer_start': 90}], [{'text': '문자', 'answer_start': 776}], [{'text': '펀드별 장기 누적 수익률', 'answer_start': 321}], [{'text': '아랍에미리트(UAE) 수의진단센터', 'answer_start': 727}], [{'text': '칼 레빈', 'answer_start': 291}, {'text': '레빈', 'answer_start': 857}], [{'text': '삼성전자', 'answer_start': 1214}], [{'text': '1045년', 'answer_start': 601}], [{'text': '캐나다', 'answer_start': 51}], [{'text': '100%', 'answer_start': 303}], [{'text': '기아자동차', 'answer_start': 324}, {'text': '기아차', 'answer_start': 420}], [{'text': '외부의 공적기관', 'answer_start': 603}, {'text': '공적기관', 'answer_start': 607}], [{'text': '연기', 'answer_start': 179}], [{'text': '굵은 바늘', 'answer_start': 16}], [{'text': '군의(軍毅)', 'answer_start': 703}, {'text': '군의', 'answer_start': 703}, {'text': '軍毅', 'answer_start': 706}], [{'text': '잠재성장률', 'answer_start': 118}], [{'text': '며느리', 'answer_start': 889}], [{'text': 'DCF-PYL', 'answer_start': 477}], [{'text': '나가시노 전투', 'answer_start': 319}], [{'text': '국제전기전자기술인협회 유럽 안테나 앤드 프로퍼게이션 컨퍼런스', 'answer_start': 486}, {'text': '국제전기전자기술인협회 유럽 안테나 앤드 프로퍼게이션 컨퍼런스 (IEEE European Conference on Antennas and Propagation, EuCAP 2020)', 'answer_start': 486}, {'text': '(IEEE European Conference on Antennas and Propagation, EuCAP 2020)', 'answer_start': 520}, {'text': 'IEEE European Conference on Antennas and Propagation, EuCAP 2020', 'answer_start': 521}], [{'text': 'LG유플러스', 'answer_start': 360}], [{'text': '크리스토퍼 기스트', 'answer_start': 524}], [{'text': '22일', 'answer_start': 90}], [{'text': '엔지니어', 'answer_start': 1124}], [{'text': '전북 정읍', 'answer_start': 249}, {'text': '전북', 'answer_start': 249}, {'text': '정읍', 'answer_start': 252}], [{'text': '‘2017년 이후’', 'answer_start': 457}, {'text': '2017년 이후', 'answer_start': 458}], [{'text': '2019년 12월 31일', 'answer_start': 88}], [{'text': '77%', 'answer_start': 181}], [{'text': '11명', 'answer_start': 123}, {'text': '11', 'answer_start': 123}], [{'text': '네이버', 'answer_start': 0}], [{'text': '23개', 'answer_start': 519}, {'text': '23', 'answer_start': 519}], [{'text': '평택성모병원', 'answer_start': 339}], [{'text': '이곤', 'answer_start': 120}], [{'text': '현장 면접', 'answer_start': 867}], [{'text': '보신주의', 'answer_start': 687}], [{'text': '9호선', 'answer_start': 242}], [{'text': '4개', 'answer_start': 1076}, {'text': '4', 'answer_start': 1076}], [{'text': '베르디', 'answer_start': 120}], [{'text': '18일', 'answer_start': 13}, {'text': '18', 'answer_start': 13}], [{'text': '중형 일개미들이 가져온 잎', 'answer_start': 450}, {'text': '일개미들이 가져온 잎', 'answer_start': 453}], [{'text': '벨라암', 'answer_start': 516}], [{'text': '4년', 'answer_start': 358}, {'text': '4', 'answer_start': 358}], [{'text': '1순위', 'answer_start': 197}, {'text': '1', 'answer_start': 197}], [{'text': '웨스트민스터 궁', 'answer_start': 417}], [{'text': '홍준표', 'answer_start': 523}], [{'text': '게즈어', 'answer_start': 1623}], [{'text': '벤더', 'answer_start': 203}], [{'text': '공산당', 'answer_start': 253}], [{'text': '과태료', 'answer_start': 316}], [{'text': '신세계백화점', 'answer_start': 0}, {'text': '신세계', 'answer_start': 0}], [{'text': '독일', 'answer_start': 270}], [{'text': '최근의 반도의 경제사범 \\xad국민의 신경제 윤리의 파악을 위하여\\xad', 'answer_start': 318}], [{'text': '30%', 'answer_start': 738}], [{'text': '영어', 'answer_start': 368}], [{'text': '고구려', 'answer_start': 208}], [{'text': '아시아', 'answer_start': 988}], [{'text': '라이헨바르 전투', 'answer_start': 665}], [{'text': '391', 'answer_start': 352}, {'text': '391명', 'answer_start': 352}], [{'text': '‘내일은 미스터트롯’ 우승', 'answer_start': 429}], [{'text': '140억원', 'answer_start': 288}], [{'text': '부산', 'answer_start': 316}], [{'text': '김주현', 'answer_start': 624}], [{'text': '《라쇼몽》', 'answer_start': 464}, {'text': '라쇼몽', 'answer_start': 465}], [{'text': '‘유니티 개발자의 날’', 'answer_start': 1069}, {'text': '유니티 개발자의 날', 'answer_start': 1070}], [{'text': '60%', 'answer_start': 367}, {'text': '60', 'answer_start': 367}], [{'text': '한국', 'answer_start': 1584}], [{'text': '화재', 'answer_start': 461}, {'text': '화재로 인한 사망자가 많았기 때문에', 'answer_start': 461}, {'text': '화재로 인한 사망자가 많았기 때문', 'answer_start': 461}], [{'text': '562가구', 'answer_start': 399}, {'text': '562', 'answer_start': 399}], [{'text': '지장보살', 'answer_start': 231}], [{'text': '개선사례', 'answer_start': 149}], [{'text': '에르빈 롬멜', 'answer_start': 380}, {'text': '롬멜', 'answer_start': 384}], [{'text': '로젠이사', 'answer_start': 910}], [{'text': '리비우스', 'answer_start': 54}], [{'text': '레이쥔 최고경영자(CEO)', 'answer_start': 91}, {'text': '레이쥔 최고경영자', 'answer_start': 91}, {'text': '레이쥔', 'answer_start': 91}], [{'text': '자문 분야', 'answer_start': 346}, {'text': '자문', 'answer_start': 346}], [{'text': '엠넷의 공개 오디션 프로그램 슈퍼스타K 2', 'answer_start': 80}, {'text': '엠넷의 공개 오디션 프로그램', 'answer_start': 80}, {'text': '슈퍼스타K 2', 'answer_start': 96}, {'text': '슈퍼스타K', 'answer_start': 96}], [{'text': '국민연금', 'answer_start': 460}], [{'text': '5.7%', 'answer_start': 217}, {'text': '5.7', 'answer_start': 217}], [{'text': '25%', 'answer_start': 939}, {'text': '25', 'answer_start': 939}], [{'text': '경상남도에서 출토되었다는 점', 'answer_start': 627}], [{'text': '아오모리현', 'answer_start': 546}], [{'text': '16%', 'answer_start': 209}, {'text': '16', 'answer_start': 209}], [{'text': '전동기', 'answer_start': 224}], [{'text': '1억원', 'answer_start': 401}], [{'text': '일본정책투자은행(DBJ) 캐피털 디렉터(총괄부장)', 'answer_start': 1061}, {'text': '캐피털 디렉터(총괄부장)', 'answer_start': 1075}, {'text': '총괄부장', 'answer_start': 1083}], [{'text': '전용갑 부사장', 'answer_start': 228}, {'text': '전용갑', 'answer_start': 228}], [{'text': '부산', 'answer_start': 542}], [{'text': '미국', 'answer_start': 177}], [{'text': 'B급 영화', 'answer_start': 96}, {'text': '영화', 'answer_start': 99}], [{'text': '스마트 크루즈 컨트롤', 'answer_start': 160}, {'text': '스마트 크루즈 컨트롤(SCC)', 'answer_start': 160}, {'text': 'SCC', 'answer_start': 390}], [{'text': '지난달 30일', 'answer_start': 98}, {'text': '30일', 'answer_start': 102}], [{'text': '‘EMS’', 'answer_start': 190}, {'text': 'EMS', 'answer_start': 191}], [{'text': '중소 프랜차이즈', 'answer_start': 22}], [{'text': '위안화', 'answer_start': 705}], [{'text': '1946년', 'answer_start': 252}, {'text': '1946', 'answer_start': 252}], [{'text': '금호산업', 'answer_start': 569}], [{'text': '조선총독부', 'answer_start': 123}], [{'text': '에지캐피털', 'answer_start': 563}], [{'text': '트로츠키', 'answer_start': 859}], [{'text': '숲과나눔 강당', 'answer_start': 77}, {'text': '강당', 'answer_start': 82}], [{'text': '2009년', 'answer_start': 976}], [{'text': '프랑스', 'answer_start': 128}], [{'text': '재발 위험', 'answer_start': 108}], [{'text': '11개', 'answer_start': 979}, {'text': '11', 'answer_start': 979}, {'text': '1', 'answer_start': 1704}], [{'text': '두 명', 'answer_start': 359}], [{'text': '수학적 귀납법', 'answer_start': 706}, {'text': '귀납법', 'answer_start': 710}], [{'text': '1937년', 'answer_start': 590}, {'text': '1937', 'answer_start': 590}], [{'text': '이명박', 'answer_start': 312}], [{'text': '카메라', 'answer_start': 490}], [{'text': '오는 27일', 'answer_start': 392}, {'text': '27일', 'answer_start': 395}], [{'text': '말', 'answer_start': 490}], [{'text': '임영록 KB금융지주 회장', 'answer_start': 20}, {'text': '임영록', 'answer_start': 20}, {'text': '임영록 KB금융지주 회장 내정자', 'answer_start': 20}, {'text': '임 내정자', 'answer_start': 225}], [{'text': '미국 중앙은행(Fed)의 양적완화 규모 축소', 'answer_start': 140}], [{'text': '4', 'answer_start': 845}, {'text': '4월', 'answer_start': 845}], [{'text': '도봉구', 'answer_start': 374}], [{'text': '경영진단 컨설팅', 'answer_start': 693}], [{'text': '1978년', 'answer_start': 855}, {'text': '1978', 'answer_start': 855}], [{'text': '1792년', 'answer_start': 115}, {'text': '1792', 'answer_start': 115}], [{'text': '노이즈 캔슬링', 'answer_start': 136}], [{'text': '1996년', 'answer_start': 430}], [{'text': '한국프레스센터', 'answer_start': 46}], [{'text': '‘컴투스프로야구2021’', 'answer_start': 563}, {'text': '컴투스프로야구2021', 'answer_start': 564}], [{'text': '1977년', 'answer_start': 361}], [{'text': '인터넷TV(IPTV)', 'answer_start': 108}, {'text': '인터넷TV', 'answer_start': 108}, {'text': 'IPTV', 'answer_start': 114}], [{'text': '사회 비판', 'answer_start': 298}], [{'text': '야당', 'answer_start': 384}, {'text': '공화당', 'answer_start': 388}], [{'text': '85층', 'answer_start': 287}], [{'text': '미래에셋생명', 'answer_start': 441}], [{'text': '16일', 'answer_start': 48}], [{'text': '항공모함', 'answer_start': 529}], [{'text': '7월 6일', 'answer_start': 289}], [{'text': '파키스탄', 'answer_start': 190}], [{'text': '스히폴 국제공항', 'answer_start': 15}], [{'text': '금융투자협회', 'answer_start': 541}], [{'text': '광주전남혁신도시', 'answer_start': 272}], [{'text': '보험 상품', 'answer_start': 1071}, {'text': '보험', 'answer_start': 1071}], [{'text': '5000억원', 'answer_start': 370}], [{'text': '빌트루디스', 'answer_start': 819}], [{'text': '고리키 공장', 'answer_start': 281}], [{'text': '‘세인트헤이븐 가이드 퀘스트’', 'answer_start': 311}, {'text': '세인트헤이븐 가이드 퀘스트', 'answer_start': 312}], [{'text': '《예루살렘의 아이히만》', 'answer_start': 582}, {'text': '예루살렘의 아이히만', 'answer_start': 583}], [{'text': '8월 29일', 'answer_start': 540}], [{'text': '0.4%', 'answer_start': 233}], [{'text': '이틀', 'answer_start': 641}], [{'text': '5만', 'answer_start': 356}, {'text': '5만개', 'answer_start': 356}], [{'text': '1920년', 'answer_start': 116}], [{'text': '약 2098억달러', 'answer_start': 188}], [{'text': '안톤 실루아노프', 'answer_start': 588}, {'text': '안톤 실루아노프 재무장관', 'answer_start': 588}, {'text': '안톤', 'answer_start': 588}, {'text': '실루아노프 재무장관', 'answer_start': 591}, {'text': '실루아노프', 'answer_start': 591}], [{'text': '5건', 'answer_start': 439}, {'text': '5', 'answer_start': 439}], [{'text': '오는 13일', 'answer_start': 967}, {'text': '13일', 'answer_start': 970}], [{'text': '프라이스에이리어', 'answer_start': 902}], [{'text': '5000만원', 'answer_start': 342}], [{'text': '폴', 'answer_start': 914}], [{'text': '캄보디아인민당(CPP)', 'answer_start': 215}], [{'text': '박종복', 'answer_start': 963}], [{'text': '34년', 'answer_start': 274}, {'text': '34', 'answer_start': 274}], [{'text': '도쿄', 'answer_start': 376}], [{'text': '한국', 'answer_start': 750}], [{'text': '5만원권', 'answer_start': 360}, {'text': '5만원', 'answer_start': 360}], [{'text': '교육부', 'answer_start': 596}], [{'text': '과일 등 농산물', 'answer_start': 276}, {'text': '농산물', 'answer_start': 281}], [{'text': '슈베르트', 'answer_start': 714}], [{'text': '22개', 'answer_start': 1105}, {'text': '22', 'answer_start': 1105}], [{'text': '모든 관직을 거친 대과 급제자', 'answer_start': 174}], [{'text': '12만원+1500만원 초과액의 0.14%', 'answer_start': 343}], [{'text': '지난해 2학기', 'answer_start': 1325}], [{'text': '시·도지사 승인', 'answer_start': 396}], [{'text': '47개', 'answer_start': 577}, {'text': '47', 'answer_start': 577}], [{'text': '교육부', 'answer_start': 515}], [{'text': '‘해외가 낫다’', 'answer_start': 578}, {'text': '해외가 낫다', 'answer_start': 579}], [{'text': '기원전 제2천년기', 'answer_start': 11}], [{'text': '2억2200만원', 'answer_start': 139}], [{'text': '금속', 'answer_start': 498}], [{'text': '사장', 'answer_start': 538}], [{'text': '경기 김포 한강신도시', 'answer_start': 38}, {'text': '김포 한강신도시', 'answer_start': 41}, {'text': '한강신도시', 'answer_start': 44}], [{'text': '11개', 'answer_start': 615}, {'text': '11', 'answer_start': 615}], [{'text': '중국', 'answer_start': 240}], [{'text': '선친의 산소', 'answer_start': 122}], [{'text': '일본', 'answer_start': 554}], [{'text': '강호갑', 'answer_start': 13}], [{'text': '파비아', 'answer_start': 110}], [{'text': '12년', 'answer_start': 146}, {'text': '12년 만', 'answer_start': 146}], [{'text': '바닷물', 'answer_start': 246}], [{'text': '스콧 케이스 스타트업아메리카 최고경영자(CEO)', 'answer_start': 37}, {'text': '스콧 케이스', 'answer_start': 37}, {'text': '케이스 CEO', 'answer_start': 233}, {'text': '케이스', 'answer_start': 233}], [{'text': '6개', 'answer_start': 572}, {'text': '6', 'answer_start': 572}], [{'text': '노령연금', 'answer_start': 226}, {'text': '기초노령연금', 'answer_start': 585}], [{'text': '1A ~ 5A', 'answer_start': 97}], [{'text': '스키', 'answer_start': 307}], [{'text': '70%', 'answer_start': 645}], [{'text': '제수씨', 'answer_start': 307}], [{'text': '한샘', 'answer_start': 106}], [{'text': '사츠키', 'answer_start': 516}], [{'text': '서울 그랜드인터컨티넨탈호텔 그랜드볼룸', 'answer_start': 68}, {'text': '서울 그랜드인터컨티넨탈호텔', 'answer_start': 68}, {'text': '그랜드인터컨티넨탈호텔 그랜드볼룸', 'answer_start': 71}, {'text': '그랜드인터컨티넨탈호텔', 'answer_start': 71}, {'text': '그랜드볼룸', 'answer_start': 83}], [{'text': '미국 휴스턴', 'answer_start': 136}, {'text': '휴스턴', 'answer_start': 139}], [{'text': 'CPU 시간', 'answer_start': 137}], [{'text': '세월호 참사', 'answer_start': 222}], [{'text': '1984년', 'answer_start': 666}], [{'text': '에너지법 제4조 5항', 'answer_start': 393}], [{'text': '허나라', 'answer_start': 911}], [{'text': '이홍균', 'answer_start': 413}], [{'text': '629년', 'answer_start': 0}], [{'text': '1752년', 'answer_start': 1414}], [{'text': '알리페이', 'answer_start': 186}], [{'text': '17일', 'answer_start': 622}], [{'text': '34층', 'answer_start': 530}, {'text': '34', 'answer_start': 530}], [{'text': '‘쉐취팡(學區房)’', 'answer_start': 681}, {'text': '쉐취팡', 'answer_start': 682}, {'text': '쉐취팡(學區房)', 'answer_start': 682}, {'text': '學區房', 'answer_start': 686}], [{'text': '‘신안인스빌 리베라2차’', 'answer_start': 360}, {'text': '신안인스빌 리베라2차', 'answer_start': 361}], [{'text': '잉그보르그 벵츠도터', 'answer_start': 71}], [{'text': '핸드볼', 'answer_start': 47}], [{'text': '김원겸', 'answer_start': 371}], [{'text': '미국', 'answer_start': 246}], [{'text': '김경숙', 'answer_start': 402}], [{'text': '독일', 'answer_start': 105}], [{'text': '한국', 'answer_start': 876}], [{'text': '김서룡', 'answer_start': 971}], [{'text': '서울 삼성동', 'answer_start': 194}, {'text': '삼성동', 'answer_start': 197}], [{'text': '뉴턴', 'answer_start': 290}], [{'text': '한국외국어대', 'answer_start': 65}], [{'text': '제일모직', 'answer_start': 73}], [{'text': '이사회', 'answer_start': 245}], [{'text': '김진호 사장', 'answer_start': 249}, {'text': '최고경영자(CEO)', 'answer_start': 309}, {'text': '최고경영자', 'answer_start': 309}, {'text': 'CEO', 'answer_start': 315}, {'text': '김 사장', 'answer_start': 405}], [{'text': '아프리카', 'answer_start': 992}], [{'text': '실버종합물류', 'answer_start': 405}], [{'text': '경기 과천', 'answer_start': 355}, {'text': '과천', 'answer_start': 358}], [{'text': '‘오페라의 유령’', 'answer_start': 20}, {'text': '오페라의 유령', 'answer_start': 21}], [{'text': '21', 'answer_start': 5}, {'text': '21일', 'answer_start': 5}], [{'text': '6억7500만원', 'answer_start': 278}], [{'text': '광공업생산', 'answer_start': 129}], [{'text': '프란츠 (프란체스코)', 'answer_start': 129}, {'text': '프란츠', 'answer_start': 129}, {'text': '프란체스코', 'answer_start': 134}], [{'text': '대법관', 'answer_start': 29}], [{'text': '업무 집행', 'answer_start': 417}, {'text': '집행', 'answer_start': 420}, {'text': '집행 기능', 'answer_start': 486}], [{'text': '첸나이', 'answer_start': 349}], [{'text': '신라 경문왕', 'answer_start': 618}, {'text': '경문왕', 'answer_start': 621}], [{'text': '8곳', 'answer_start': 141}, {'text': '8', 'answer_start': 141}], [{'text': '‘초서’', 'answer_start': 142}, {'text': '초서', 'answer_start': 143}], [{'text': '36%', 'answer_start': 506}, {'text': '36', 'answer_start': 506}], [{'text': '전체 산업생산', 'answer_start': 546}], [{'text': '오니기리', 'answer_start': 164}], [{'text': '소리바다 주식', 'answer_start': 193}, {'text': '소리바다', 'answer_start': 193}], [{'text': '한전', 'answer_start': 421}], [{'text': '창', 'answer_start': 143}], [{'text': '윌리엄 S. 하니 준장', 'answer_start': 10}, {'text': '윌리엄 S. 하니', 'answer_start': 10}], [{'text': '개봉작이란 타이틀을 얻기 위해서다', 'answer_start': 1119}, {'text': '개봉작이란 타이틀을 얻기 위해서', 'answer_start': 1119}, {'text': '개봉작이란 타이틀을 얻기 위해', 'answer_start': 1119}], [{'text': '서구 기독교 국가들', 'answer_start': 151}, {'text': '서구 기독교 국가', 'answer_start': 151}], [{'text': '3956억달러', 'answer_start': 1427}], [{'text': '니콜라 1세 왕실기', 'answer_start': 128}], [{'text': '남원 진기리 느티나무', 'answer_start': 537}], [{'text': '뇌일혈', 'answer_start': 679}], [{'text': '2608㎡', 'answer_start': 250}, {'text': '2608', 'answer_start': 250}], [{'text': '8명', 'answer_start': 453}, {'text': '8', 'answer_start': 453}], [{'text': '이상백', 'answer_start': 334}], [{'text': '적외선 복사 현상', 'answer_start': 220}], [{'text': '김 변호사', 'answer_start': 186}], [{'text': '1979년', 'answer_start': 527}, {'text': '1979', 'answer_start': 527}], [{'text': '쉐보레HHR', 'answer_start': 811}], [{'text': '미국 주재 조선일보', 'answer_start': 172}, {'text': '조선일보', 'answer_start': 178}], [{'text': '현삼과', 'answer_start': 560}], [{'text': '유방암의 진단', 'answer_start': 185}], [{'text': '마르쿠스 안토니우스', 'answer_start': 76}], [{'text': '2월 초', 'answer_start': 578}], [{'text': '2015년', 'answer_start': 370}, {'text': '2015', 'answer_start': 370}], [{'text': '정오', 'answer_start': 59}], [{'text': '5일', 'answer_start': 124}, {'text': '5', 'answer_start': 124}], [{'text': '젠하이저(Sennheiser)', 'answer_start': 1278}, {'text': '젠하이저', 'answer_start': 1278}, {'text': 'Sennheiser', 'answer_start': 1283}], [{'text': '특별법', 'answer_start': 733}, {'text': '특별법(일명 원샷법)', 'answer_start': 733}, {'text': '원샷법', 'answer_start': 740}], [{'text': '베링', 'answer_start': 695}], [{'text': '‘와팝(WAPOP)’', 'answer_start': 200}, {'text': '와팝', 'answer_start': 201}, {'text': '와팝(WAPOP)', 'answer_start': 201}, {'text': 'WAPOP', 'answer_start': 204}], [{'text': '《무정》', 'answer_start': 298}, {'text': '무정', 'answer_start': 299}], [{'text': '3.5%', 'answer_start': 184}], [{'text': '2015년', 'answer_start': 515}], [{'text': '‘모란문표형주전자’', 'answer_start': 64}, {'text': '모란문표형주전자', 'answer_start': 65}], [{'text': '91 cm 구경의 굴절망원경', 'answer_start': 42}, {'text': '굴절망원경', 'answer_start': 52}], [{'text': '박 대통령 사열', 'answer_start': 504}], [{'text': '10월', 'answer_start': 411}], [{'text': '상업용 부동산 개발', 'answer_start': 534}, {'text': '상업용 부동산', 'answer_start': 534}], [{'text': '2011년', 'answer_start': 187}, {'text': '2011', 'answer_start': 187}], [{'text': '해조류', 'answer_start': 495}, {'text': '해조류 성분', 'answer_start': 495}], [{'text': '아야스디', 'answer_start': 580}], [{'text': '갈색세포종', 'answer_start': 57}], [{'text': '2000만원', 'answer_start': 192}, {'text': '2000만원', 'answer_start': 1479}], [{'text': '오후 2시', 'answer_start': 226}], [{'text': '서천화력발전 2호기', 'answer_start': 237}], [{'text': '마늘 재고', 'answer_start': 482}, {'text': '재고', 'answer_start': 485}], [{'text': '지방세분석과장', 'answer_start': 338}], [{'text': 'Unity 2020.2', 'answer_start': 684}], [{'text': '전북 군산', 'answer_start': 131}, {'text': '군산', 'answer_start': 134}], [{'text': '게오르크 벨(Georg Bell)', 'answer_start': 530}, {'text': '게오르크 벨', 'answer_start': 530}, {'text': 'Georg Bell', 'answer_start': 537}], [{'text': '박혜윤', 'answer_start': 913}], [{'text': '약 2% 정도', 'answer_start': 73}, {'text': '약 2%', 'answer_start': 73}], [{'text': '구글', 'answer_start': 290}], [{'text': '80%', 'answer_start': 415}, {'text': '80', 'answer_start': 415}], [{'text': '국민은행', 'answer_start': 675}], [{'text': '2년 반', 'answer_start': 424}], [{'text': '몽골', 'answer_start': 66}], [{'text': '추기경', 'answer_start': 515}], [{'text': '손석현', 'answer_start': 258}], [{'text': '애덤 램버트', 'answer_start': 1118}], [{'text': '4.5%', 'answer_start': 69}], [{'text': '싱가포르 셸', 'answer_start': 872}], [{'text': '80%', 'answer_start': 898}], [{'text': '2011년', 'answer_start': 370}, {'text': '2011', 'answer_start': 370}], [{'text': '바레인', 'answer_start': 427}], [{'text': '뮤코펩티드', 'answer_start': 767}, {'text': '뮤코펩티드라는 화합물', 'answer_start': 767}], [{'text': '언더우드 박사 집', 'answer_start': 82}], [{'text': '시메온 1세', 'answer_start': 226}], [{'text': '시리아킬리키아 포에니케 (Syria-Cilicia Phoenice)', 'answer_start': 460}, {'text': '시리아킬리키아 포에니케', 'answer_start': 460}, {'text': 'Syria-Cilicia Phoenice', 'answer_start': 474}], [{'text': '창업진흥원·경기창조경제혁신센터', 'answer_start': 225}], [{'text': '국세공무원교육원', 'answer_start': 210}], [{'text': '‘잡포스팅 존(job posting zone)’', 'answer_start': 499}, {'text': '잡포스팅 존(job posting zone)', 'answer_start': 500}, {'text': '잡포스팅 존', 'answer_start': 500}, {'text': 'job posting zone', 'answer_start': 507}], [{'text': '‘가요(kayo)’', 'answer_start': 171}, {'text': '가요(kayo)', 'answer_start': 172}, {'text': '가요', 'answer_start': 172}, {'text': 'kayo', 'answer_start': 175}], [{'text': '9일', 'answer_start': 205}], [{'text': '자국 병사', 'answer_start': 681}], [{'text': '최종현', 'answer_start': 253}], [{'text': '제50화', 'answer_start': 272}, {'text': '제50화(최종화)', 'answer_start': 272}, {'text': '50', 'answer_start': 273}, {'text': '50화', 'answer_start': 273}, {'text': '최종화', 'answer_start': 277}], [{'text': '‘밀크’', 'answer_start': 930}, {'text': '밀크', 'answer_start': 931}], [{'text': '2조7000억달러', 'answer_start': 307}], [{'text': '5년', 'answer_start': 80}], [{'text': '3300억원', 'answer_start': 464}], [{'text': '장남인 한스', 'answer_start': 651}, {'text': '한스', 'answer_start': 655}], [{'text': '27일', 'answer_start': 452}], [{'text': '1603년', 'answer_start': 163}], [{'text': '미국', 'answer_start': 99}], [{'text': '프랑스', 'answer_start': 226}], [{'text': '절연체 재료', 'answer_start': 385}, {'text': '절연체', 'answer_start': 385}, {'text': '재료', 'answer_start': 389}, {'text': '원재료', 'answer_start': 478}], [{'text': '1.2%', 'answer_start': 116}], [{'text': '신춘문예공모전', 'answer_start': 382}], [{'text': '숭실대', 'answer_start': 756}, {'text': '숭실대 법학과', 'answer_start': 756}], [{'text': '일본', 'answer_start': 363}], [{'text': '신한일전기', 'answer_start': 42}], [{'text': '독일', 'answer_start': 658}], [{'text': '랄라웨티카', 'answer_start': 198}], [{'text': '삼성토탈', 'answer_start': 763}], [{'text': '33층', 'answer_start': 1505}, {'text': '33', 'answer_start': 1505}], [{'text': '미국 의과학학술지(BBRC)', 'answer_start': 278}, {'text': '미국 의과학학술지', 'answer_start': 278}, {'text': '미국 의과학학술지(BBRC) 11월호', 'answer_start': 278}, {'text': 'BBRC', 'answer_start': 288}], [{'text': '제러미 코빈', 'answer_start': 181}], [{'text': '65%', 'answer_start': 742}, {'text': '65', 'answer_start': 742}], [{'text': '12%', 'answer_start': 411}], [{'text': '밧지 공화국', 'answer_start': 58}, {'text': '밧지', 'answer_start': 58}], [{'text': '기획재정부', 'answer_start': 114}], [{'text': '영국', 'answer_start': 409}], [{'text': '미래창조과학부', 'answer_start': 371}], [{'text': 'MD', 'answer_start': 563}], [{'text': '6394만원', 'answer_start': 99}], [{'text': '오는 30일', 'answer_start': 171}, {'text': '30일', 'answer_start': 174}], [{'text': 'SK텔링크', 'answer_start': 108}], [{'text': '당대의 바빌로니아 기록들이 현재까지 별로 많이 남아있지 않기 때문', 'answer_start': 65}], [{'text': '국가자연사연구종합정보시스템', 'answer_start': 187}], [{'text': '정기영', 'answer_start': 228}], [{'text': '플라스틱보다 강도가 높기 때문에', 'answer_start': 1083}, {'text': '플라스틱보다 강도가 높기 때문', 'answer_start': 1083}], [{'text': '자녀가 부모를 모시고 10년 이상 함께 산 ‘동거 주택’을 상속받는 경우', 'answer_start': 343}], [{'text': '상용특허', 'answer_start': 559}], [{'text': '르로클', 'answer_start': 27}, {'text': '르로클(Le Locle)', 'answer_start': 27}, {'text': 'Le Locle', 'answer_start': 31}], [{'text': '서울 관악구', 'answer_start': 41}, {'text': '서울', 'answer_start': 41}, {'text': '관악구', 'answer_start': 44}], [{'text': '영국', 'answer_start': 0}], [{'text': '61.2%', 'answer_start': 512}], [{'text': '일본', 'answer_start': 774}], [{'text': '촘베', 'answer_start': 376}], [{'text': '최하부 지층', 'answer_start': 749}], [{'text': '나가모리 시게노부', 'answer_start': 90}], [{'text': '트레뻬제 부대', 'answer_start': 333}], [{'text': '5.8%', 'answer_start': 543}], [{'text': '사외 이사', 'answer_start': 651}, {'text': '사외이사', 'answer_start': 754}], [{'text': '독일', 'answer_start': 241}], [{'text': '보스', 'answer_start': 111}], [{'text': '‘아임에잇’', 'answer_start': 1401}, {'text': '아임에잇', 'answer_start': 1402}], [{'text': '‘집사광익(集思廣益)’', 'answer_start': 461}, {'text': '집사광익(集思廣益)', 'answer_start': 462}, {'text': '집사광익', 'answer_start': 462}, {'text': '集思廣益', 'answer_start': 467}], [{'text': '헤르만 폰 잘차', 'answer_start': 136}], [{'text': '지난 1월', 'answer_start': 539}], [{'text': '‘페인스크램블러’', 'answer_start': 1405}, {'text': '페인스크램블러', 'answer_start': 1406}], [{'text': '이승만', 'answer_start': 235}], [{'text': '오후 7시30분', 'answer_start': 874}], [{'text': '후군', 'answer_start': 67}], [{'text': '선착순', 'answer_start': 1211}], [{'text': '11곳', 'answer_start': 325}], [{'text': 'AIA생명보험', 'answer_start': 420}], [{'text': '‘드라이빙 마일리지제’', 'answer_start': 825}, {'text': '드라이빙 마일리지제', 'answer_start': 826}], [{'text': '2008년', 'answer_start': 213}], [{'text': '중형화물차', 'answer_start': 256}], [{'text': '교황 율리오 2세', 'answer_start': 285}, {'text': '율리오 2세', 'answer_start': 288}], [{'text': '26일', 'answer_start': 159}], [{'text': '300SPM', 'answer_start': 362}], [{'text': '시민과 동등한 세금 부담의 특권(이소테레이아)', 'answer_start': 408}, {'text': '시민과 동등한 세금 부담의 특권', 'answer_start': 408}, {'text': '이소테레이아', 'answer_start': 426}], [{'text': '포스카르네트', 'answer_start': 388}], [{'text': '경춘선 갈매역', 'answer_start': 318}, {'text': '갈매역', 'answer_start': 322}], [{'text': '2000년', 'answer_start': 483}, {'text': '2000', 'answer_start': 483}], [{'text': '적립식 재형저축', 'answer_start': 1230}, {'text': '재형저축', 'answer_start': 1234}], [{'text': '2016년', 'answer_start': 513}, {'text': '2016년', 'answer_start': 1543}], [{'text': '윌리 텔라비 총리', 'answer_start': 394}, {'text': '윌리 텔라비', 'answer_start': 394}], [{'text': '노엘 클라크', 'answer_start': 568}], [{'text': '53만3000t', 'answer_start': 739}], [{'text': '2010년', 'answer_start': 242}], [{'text': '성왕', 'answer_start': 432}], [{'text': '고영테크놀로지', 'answer_start': 256}], [{'text': '하나은행 분당중앙지점', 'answer_start': 720}], [{'text': '박용만', 'answer_start': 784}, {'text': '박용만 회장', 'answer_start': 784}], [{'text': '김현묵', 'answer_start': 403}], [{'text': '시스템반도체 사업', 'answer_start': 1373}], [{'text': '10년 이하', 'answer_start': 507}], [{'text': '오세정', 'answer_start': 348}], [{'text': '119,000원', 'answer_start': 420}], [{'text': '네오프톨레모스', 'answer_start': 655}], [{'text': '‘다다익선 할인’', 'answer_start': 486}, {'text': '다다익선 할인', 'answer_start': 487}], [{'text': '1만1662.52엔', 'answer_start': 922}], [{'text': '샐러드', 'answer_start': 556}], [{'text': '서울', 'answer_start': 369}], [{'text': 'LG상사', 'answer_start': 622}], [{'text': '205조5000억원', 'answer_start': 749}], [{'text': '31일', 'answer_start': 399}, {'text': '31', 'answer_start': 399}], [{'text': '한국', 'answer_start': 445}], [{'text': '1000억원', 'answer_start': 445}], [{'text': '지상에 가족이 없었기 때문', 'answer_start': 118}], [{'text': '55개', 'answer_start': 999}, {'text': '55', 'answer_start': 999}], [{'text': '일본', 'answer_start': 636}], [{'text': 'Monster Movie', 'answer_start': 899}], [{'text': '1986년', 'answer_start': 93}], [{'text': '현대백화점', 'answer_start': 203}], [{'text': '5개', 'answer_start': 201}, {'text': '5', 'answer_start': 201}], [{'text': '6년 반', 'answer_start': 581}], [{'text': '21년 상반기', 'answer_start': 207}], [{'text': '‘GR8’', 'answer_start': 431}, {'text': 'GR8', 'answer_start': 432}], [{'text': '실리콘', 'answer_start': 854}], [{'text': '1853년', 'answer_start': 910}, {'text': '1853', 'answer_start': 910}], [{'text': \"'메테오스의 탑'\", 'answer_start': 155}, {'text': '메테오스의 탑', 'answer_start': 156}], [{'text': '뮤지컬 팬들', 'answer_start': 376}], [{'text': '신민계', 'answer_start': 381}], [{'text': '성기사 카드 팩', 'answer_start': 1677}], [{'text': '영·유아', 'answer_start': 15}], [{'text': '호텔면세사업부', 'answer_start': 261}], [{'text': '300SPM', 'answer_start': 362}], [{'text': '수원화성행궁점', 'answer_start': 674}], [{'text': '김현웅', 'answer_start': 1136}], [{'text': '신소재사업단', 'answer_start': 657}], [{'text': '자누비아', 'answer_start': 500}], [{'text': '자유무역지역법', 'answer_start': 271}], [{'text': '1차면접', 'answer_start': 301}, {'text': '1차', 'answer_start': 301}, {'text': '1', 'answer_start': 301}], [{'text': '초월적인 존재(신)', 'answer_start': 64}, {'text': '초월적인 존재', 'answer_start': 64}, {'text': '(신)', 'answer_start': 71}, {'text': '신', 'answer_start': 72}], [{'text': '대한법률구조공단', 'answer_start': 89}], [{'text': '신학자 반디넬리', 'answer_start': 132}, {'text': '반디넬리', 'answer_start': 136}], [{'text': '나구모 주이치(南雲忠一) 중장', 'answer_start': 501}, {'text': '나구모 주이치', 'answer_start': 501}, {'text': '南雲忠一', 'answer_start': 509}], [{'text': '와츠', 'answer_start': 412}], [{'text': '민간', 'answer_start': 38}], [{'text': '2014년', 'answer_start': 348}, {'text': '2014', 'answer_start': 348}], [{'text': '러셀', 'answer_start': 519}], [{'text': '아웃도어&여행채널 ONT(오앤티)', 'answer_start': 759}, {'text': 'ONT(오앤티)', 'answer_start': 769}, {'text': 'ONT', 'answer_start': 769}, {'text': '오앤티', 'answer_start': 773}], [{'text': '12월', 'answer_start': 3}, {'text': '12', 'answer_start': 3}], [{'text': '공민왕', 'answer_start': 234}], [{'text': '광주교도소', 'answer_start': 534}], [{'text': '각종 수신(受信) 문서들', 'answer_start': 378}, {'text': '각종 수신(受信) 문서', 'answer_start': 378}, {'text': '수신(受信) 문서들', 'answer_start': 381}, {'text': '수신(受信) 문서', 'answer_start': 381}], [{'text': '‘인어왕자: 너를 만지다’', 'answer_start': 156}, {'text': '인어왕자: 너를 만지다', 'answer_start': 157}], [{'text': '하이랜더 연대', 'answer_start': 179}], [{'text': '김소유', 'answer_start': 3}], [{'text': '네빌 체임벌린', 'answer_start': 770}, {'text': '네빌 체임벌린 총리', 'answer_start': 770}], [{'text': '왕우', 'answer_start': 293}], [{'text': '세선각 기법', 'answer_start': 735}], [{'text': '중앙행정기관이 이전', 'answer_start': 453}], [{'text': '부천아이파크', 'answer_start': 108}], [{'text': '12명', 'answer_start': 1040}, {'text': '12', 'answer_start': 1040}], [{'text': '식후 졸림증', 'answer_start': 194}], [{'text': '지난해 7월', 'answer_start': 134}], [{'text': '군사 원조', 'answer_start': 318}], [{'text': '복합형 오피스텔', 'answer_start': 48}], [{'text': '임수정', 'answer_start': 268}], [{'text': '나영묵', 'answer_start': 193}, {'text': '나영묵 현대건설 상무', 'answer_start': 193}], [{'text': '4544가구', 'answer_start': 246}, {'text': '4544', 'answer_start': 246}], [{'text': '성남시청소년재단 중원청소년수련관', 'answer_start': 523}, {'text': '중원청소년수련관', 'answer_start': 532}], [{'text': '웨이퍼 두께', 'answer_start': 739}, {'text': '두께', 'answer_start': 743}], [{'text': '김영대', 'answer_start': 195}], [{'text': '이명박', 'answer_start': 600}], [{'text': '2월28일', 'answer_start': 422}, {'text': '28일', 'answer_start': 424}], [{'text': '손정의', 'answer_start': 169}], [{'text': '‘트로이의 목마’', 'answer_start': 659}, {'text': '트로이의 목마', 'answer_start': 660}], [{'text': '14개', 'answer_start': 357}, {'text': '14', 'answer_start': 357}], [{'text': '‘힐스테이트 영통’', 'answer_start': 462}, {'text': '힐스테이트 영통', 'answer_start': 463}], [{'text': '2004년의 국방부 보고서', 'answer_start': 167}], [{'text': '88%', 'answer_start': 318}, {'text': '88', 'answer_start': 318}], [{'text': '4월9일(수)', 'answer_start': 20}, {'text': '4월9일', 'answer_start': 20}], [{'text': '부여현감(扶餘縣監)', 'answer_start': 184}, {'text': '부여현감', 'answer_start': 184}, {'text': '扶餘縣監', 'answer_start': 189}], [{'text': '27년', 'answer_start': 119}], [{'text': '2008년', 'answer_start': 285}, {'text': '2008', 'answer_start': 285}], [{'text': '20일', 'answer_start': 1173}, {'text': '20', 'answer_start': 1173}], [{'text': '메그', 'answer_start': 158}], [{'text': '일본 전국시대', 'answer_start': 82}, {'text': '전국시대', 'answer_start': 85}], [{'text': '‘수요회’', 'answer_start': 536}, {'text': '수요회', 'answer_start': 537}], [{'text': '2000만원', 'answer_start': 460}], [{'text': '15명', 'answer_start': 107}, {'text': '15', 'answer_start': 107}], [{'text': '12월 24일', 'answer_start': 88}], [{'text': '5일', 'answer_start': 15}], [{'text': '터키 이스탄불', 'answer_start': 250}], [{'text': '25일', 'answer_start': 78}], [{'text': '구글', 'answer_start': 1072}], [{'text': '길피', 'answer_start': 1109}, {'text': '길피 (Kjartan Bjargmundsson)', 'answer_start': 1109}, {'text': 'Kjartan Bjargmundsson', 'answer_start': 1113}], [{'text': '12월 17일(목)', 'answer_start': 778}, {'text': '12월 17일', 'answer_start': 778}], [{'text': '‘원칙이 바로 선 시장경제 질서 확립’', 'answer_start': 369}, {'text': '원칙이 바로 선 시장경제 질서 확립', 'answer_start': 370}], [{'text': '조류인플루엔자', 'answer_start': 55}, {'text': '조류인플루엔자(AI)', 'answer_start': 55}, {'text': 'AI', 'answer_start': 63}], [{'text': '베를린', 'answer_start': 694}], [{'text': '306만1000대', 'answer_start': 131}], [{'text': '7억8100만명', 'answer_start': 741}, {'text': '7억8100만', 'answer_start': 741}], [{'text': '네이트 실버', 'answer_start': 857}], [{'text': '서초동', 'answer_start': 60}], [{'text': '992가구', 'answer_start': 903}, {'text': '992', 'answer_start': 903}], [{'text': 'TD-LTE', 'answer_start': 443}], [{'text': '로마 제국의 카를 5세', 'answer_start': 540}, {'text': '카를 5세', 'answer_start': 547}], [{'text': '‘교동반점 짬뽕’', 'answer_start': 408}, {'text': '교동반점 짬뽕', 'answer_start': 409}], [{'text': '1기', 'answer_start': 349}], [{'text': '12월 30일', 'answer_start': 1121}], [{'text': '2002년', 'answer_start': 711}, {'text': '2002', 'answer_start': 711}], [{'text': '마케팅', 'answer_start': 666}], [{'text': '콜럼버스', 'answer_start': 1263}], [{'text': '1949년 12월 경', 'answer_start': 923}, {'text': '1949년 12월', 'answer_start': 923}], [{'text': '파주', 'answer_start': 322}], [{'text': '문무일', 'answer_start': 329}], [{'text': '뛰어난 그립력', 'answer_start': 213}, {'text': '그립력', 'answer_start': 217}], [{'text': '주택경기 활성화 정책', 'answer_start': 391}], [{'text': '문경은', 'answer_start': 938}], [{'text': '‘디지털 쇼룸’', 'answer_start': 480}, {'text': '디지털 쇼룸', 'answer_start': 481}], [{'text': '파시즘', 'answer_start': 94}], [{'text': '마법', 'answer_start': 430}], [{'text': '지난해 4월', 'answer_start': 1045}, {'text': '지난해', 'answer_start': 1045}], [{'text': '9월 5일', 'answer_start': 758}], [{'text': '134만명', 'answer_start': 227}, {'text': '134만', 'answer_start': 227}], [{'text': '‘불가리’', 'answer_start': 502}, {'text': '불가리', 'answer_start': 503}], [{'text': '박은주', 'answer_start': 638}], [{'text': '김효재 전 청와대 정무수석', 'answer_start': 154}, {'text': '김효재', 'answer_start': 154}, {'text': '전 청와대 정무수석', 'answer_start': 158}], [{'text': '‘MMA 응원보드’ 이벤트', 'answer_start': 1023}, {'text': '‘MMA 응원보드’', 'answer_start': 1023}, {'text': 'MMA 응원보드', 'answer_start': 1024}], [{'text': '1753년', 'answer_start': 499}], [{'text': \"'사채회사'\", 'answer_start': 530}, {'text': '사채회사', 'answer_start': 531}], [{'text': '심야시간', 'answer_start': 155}], [{'text': '그레이슨 페리', 'answer_start': 426}], [{'text': '‘지오송지오’', 'answer_start': 276}, {'text': '지오송지오', 'answer_start': 277}], [{'text': '호주 맥쿼리', 'answer_start': 414}, {'text': '맥쿼리', 'answer_start': 417}], [{'text': '수직 안정체', 'answer_start': 707}], [{'text': '22.2%', 'answer_start': 208}], [{'text': '아버지', 'answer_start': 32}], [{'text': '11월 19일', 'answer_start': 409}], [{'text': '경기 안성경찰서', 'answer_start': 263}, {'text': '안성경찰서', 'answer_start': 266}], [{'text': '건강질의서', 'answer_start': 572}], [{'text': '원유 시추', 'answer_start': 248}], [{'text': '이해인', 'answer_start': 194}, {'text': '이해인 수녀', 'answer_start': 194}], [{'text': '천주교 수사', 'answer_start': 173}, {'text': '수사', 'answer_start': 177}], [{'text': '1413만원', 'answer_start': 75}], [{'text': '외곽순환도로', 'answer_start': 1175}], [{'text': '집정관', 'answer_start': 450}], [{'text': '김한길', 'answer_start': 13}], [{'text': '서울 궁정동', 'answer_start': 486}, {'text': '궁정동', 'answer_start': 489}], [{'text': '임상심리사', 'answer_start': 1134}], [{'text': '대우조선해양', 'answer_start': 107}], [{'text': '존 맥스웰', 'answer_start': 428}], [{'text': '11월', 'answer_start': 1344}], [{'text': '순천향대', 'answer_start': 361}], [{'text': '1,990만 원(세금 및 봉사료 포함)', 'answer_start': 663}, {'text': '1,990만 원', 'answer_start': 663}], [{'text': '96억5500만원', 'answer_start': 321}], [{'text': '단백질', 'answer_start': 707}], [{'text': '로린 마젤', 'answer_start': 1027}, {'text': '마젤', 'answer_start': 1102}], [{'text': '월머 해안', 'answer_start': 252}], [{'text': '21일', 'answer_start': 631}], [{'text': '4%', 'answer_start': 248}, {'text': '4', 'answer_start': 248}], [{'text': '2030년', 'answer_start': 161}, {'text': '2030', 'answer_start': 161}], [{'text': '250억원', 'answer_start': 350}], [{'text': '‘반값등록금’', 'answer_start': 481}, {'text': '반값등록금', 'answer_start': 482}], [{'text': '‘카이스트 AI 대학원’', 'answer_start': 508}, {'text': '카이스트 AI 대학원', 'answer_start': 754}], [{'text': '8조1823억원', 'answer_start': 173}], [{'text': '‘부루마블’', 'answer_start': 19}, {'text': '부루마블', 'answer_start': 20}], [{'text': '통합형', 'answer_start': 220}], [{'text': '5', 'answer_start': 323}, {'text': '5개', 'answer_start': 323}], [{'text': '1962년', 'answer_start': 0}, {'text': '1962', 'answer_start': 0}], [{'text': '고문', 'answer_start': 293}], [{'text': '4만5800원', 'answer_start': 721}], [{'text': '‘브릭오븐’', 'answer_start': 283}, {'text': '브릭오븐', 'answer_start': 284}], [{'text': '중국 후룬연구소', 'answer_start': 366}, {'text': '후룬연구소', 'answer_start': 369}], [{'text': '9만150마리', 'answer_start': 431}], [{'text': '변동', 'answer_start': 866}, {'text': '변동금리', 'answer_start': 866}], [{'text': '대우건설', 'answer_start': 220}], [{'text': '기아', 'answer_start': 197}], [{'text': '6일', 'answer_start': 276}, {'text': '6', 'answer_start': 276}, {'text': '6일(금)', 'answer_start': 276}], [{'text': 'E1', 'answer_start': 186}], [{'text': '언더우드(Underwood)박사', 'answer_start': 1262}, {'text': '언더우드', 'answer_start': 1262}, {'text': '언더우드(Underwood)', 'answer_start': 1262}, {'text': '(Underwood)', 'answer_start': 1266}, {'text': 'Underwood', 'answer_start': 1267}], [{'text': '도쿠시마대', 'answer_start': 699}, {'text': '도쿠시마', 'answer_start': 699}, {'text': '도쿠시마대 대학원', 'answer_start': 699}], [{'text': '10곳', 'answer_start': 251}, {'text': '10', 'answer_start': 251}], [{'text': '뒤쪽', 'answer_start': 162}], [{'text': '첸쉬안퉁', 'answer_start': 43}], [{'text': '1865년 1월 7일이후', 'answer_start': 334}], [{'text': '35%', 'answer_start': 873}]]\n",
            "1203\n",
            "['윤광진 교수가 연출한 연극이 앙코르 공연을 하는 장소는 어디인가?', '자체 신용평가시스템이 없는 저축은행은 어느 기관의 시스템을 따르는가?', '한 언어를 다른 언어로 번역하기 위해 필요하며, 의미론, 사전학, 화용론을 이해해야 하는 문법은?', '소비에트 연방이 수정주의를 도입한 해는?', '돈키호테의 하이라이트를 볼 수 있는 것은 몇 부인가?', '폴란드인의 과시욕을 만족시키지 못해 폴란드 시장에서 실패한 전자거래소는?', '이번 해에 증가될 국내 맥도날드 가맹점 수는?', 'MS에서 개발한 태블릿PC 이름은?', '의류의 사진을 찍고 업로드하면, 그 제품을 바로 찾아낼 수 있는 콘텐츠는?', '자동이체에 관한 소비자의 불편을 해소할 수 있게해 주는 것의 명칭은?', 'K씨가 면접에서 떨어진 공식 이유는?', '항암치료와 검사를 위해 정기적으로 한국에 오는 외국인의 이름은?', '동투르키스탄을 식민지로 삼아야 한다고 주장한 사람은?', '2년째 등록금이 동일한 지방대는?', '천경자 화백이 수상한 적이 있는 훈장은?', '염수정 추기경의 서임식이 있었던 날 함께 추기경이 된 사람의 수는?', '힐이 사관학교 병원에서 임질의 치료를 받은 때는 몇 월이었나요?', '정모씨(30)가 대포폰을 만들기 시작한 시기는?', '아르켈스텐 의원이 중도당의 수장으로 일했던 기간은?', '사용후핵연료 처리 방식 중 물질을 지상에서 보관하는 방식은 무엇인가?', '녹십자가 작년에 수출한 백신은 총 얼마치인가?', '삼양그룹이 세워진 날은 언제인가?', \"navigation'이 올라온 사이트는?\", '농가의 보험료 부담을 가장 많이 덜어 주는 기관은?', '총리의 건의로 해임된 첫 번째 장관은 누구인가?', '2011년, 한국에 진출한 매트리스 업체는?', '어떤 활동을 통해 군부대의 TV가 교체되었는가?', '창의력을 향상시키기 위해선 방을 무슨 색으로 도배해야하나?', '상품 9개를 선물받을 수 있는 올리브영 등급은?', '개정법이 통과되면 전체 아파트 중 98%가 취득세율이 1%로 감소하는 지역은?', '박근혜와 반기문이 만날 수 있는 회의는?', '대통령 표창을 받은 기업의 샘플 분석 가격은?', '앨리스에서 주원이 연기한 인물의 직업은?', '가장 먼저 영문 명칭이 수정되어야 하는 부처는 어디인가?', '광공업 생산이 전월보다 1.3% 증가한 달은 언제인가?', '요동도행군의 선발 기병부대 숫자는?', '조지 피켓의 여단을 지휘한 장교의 소식을 핸콕에게 전한 사람은 누구인가?', '진왕 정의 말을 전해 들은 후 제왕 건은 어떤 행동을 취할 것이라고 다짐하였나?', '씨티스케이프에 참여 예정인 한국 공기업 이름은?', \"레몬'의 뮤직비디오에서 손재원이 연기한 역할의 직업은?\", '지드래곤은 \"One Of A Kind\"로 얼마만에 솔로로 무대에 복귀하는가?', '샌프란시스코 소방국장에게 영웅이라고 칭송 받는 인물의 이름은?', '수행에 대해 근본적으로 의문을 제기함으로써 영적 수행자의 수행 의지를 갉아먹는 것은 무엇인가?', '마르시온이 노드 형제단을 배신한 후 결성한 단체는?', '교체되지 않는 검찰 내 고검장급은?', '루카치가 부다페스트 대학에 복귀한 이듬해 참석한 국제회의가 열린 도시는?', 'KTX광명역에서 5분 거리에 있는 아파트의 이름은?', '언제 이후로 투자은행들이 인재들의 고된 업무 강도를 보상해주지 못하게 되었나?', '전세계 억만장자들의 자선액 중 가장 큰 금액은 얼마인가?', '매출이, SNS에서 공유된 레시피로 인해 크게 오른 제품의 이름은?', '투명 경영을 강화하기 위해 SK그룹이 이사로 선임한 사람의 이름은?', '축구로써 회사생활을 극복했다고 언급한 인물의 이름은?', '남명혁 부인의 사망 당시 나이는?', '리모델링과 재건축을 비교하여 리모델링의 이점을 강조한 사람은?', '시미즈 건설이 기밀을 발설하여 공사에 대한 입찰을 하지 않았던 집단은?', '주식 전량 매각 시 가격이 높은 순으로 10개의 주식 중 유일하게 상승한 종목은?', '김홍석 작가가 베니스 비엔날레에 처음으로 작품을 출품한 연도는?', '병으로 인해 피렌체의 수많은 사람들이 죽어갔음을 언급한 사람은?', '<구해줘> 바로 이전에 출간된 책은?', '예측할 수 없는 대류의 움직임 때문에 발생하게 되는 것은?', \"화학적 거세'가 세계 최초로 실시된 나라는 어디인가?\", '여신전문업체들이 할부 금리를 속이고 취급수수료를 받아 내는 행위를 무엇이라 하는가?', '그 어느 때보다 의미 있는 공연이 될 것 같다는 인터뷰를 남긴 사람의 이름은?', '신체에 령주를 새긴 마술사는 몇 명인가?', '인허가 관련 결정에 관해 사후 감사를 실시하는 기관은?', '업그레이드에 대한 추가 비용을 받지 않는 이벤트는?', '고구려 연맹장들이 세력을 키우고 집권화하는 데 중요한 역할을 한 도구는?', \"삼성이 'CES 2014'에서 첫 선을 보이는 LFD의 사이즈는?\", '회사가 자사주를 많이 가진 경우 의결권 행사가 유리해지는 사람은?', '강제 수용소에 갔던 성직자들의 소속은?', '작년 예상했던 올해의 원래 경제성장률은?', '제12회 대통령배 아마추어 e스포츠대회’가 개최되는 날짜는?', '삼성물산과 제일모직의 합병에 반대하는 주주 중 가장 지분율이 높은 주주는?', '통진당을 해산시킨 결정을 인정한다고 직접 말한 인물은?', '강원랜드가 금품과 향응을 받아 해임된 임직원들에게 지급한 퇴직금은 총 얼마인가?', '네이버에게 게임 마케팅 플랫폼의 역할을 맡긴 회사는?', '원격의료와 삼성을 엮는 것을 비판한 사람의 이름은?', '대구시장이 광주시청에서 교환특강을 실시한 날짜는?', '부산 글로벌 MICE 포럼이 열린 장소는?', \"선배'가 선배 박람회 참가자를 뽑을 때 고려하는 것은?\", '전라북도가 방역초소를 더 만든 곳은?', '2009년 미얀마 전기생산량의 25배인 나라는?', '르네상스 시대에 세례대를 관리하던 곳의 명칭은?', '탑에 시멘트를 바른 것은 언제인가?', '리치몬드 발렌타인이 제작한 칩은 무엇을 파괴하기 위해 만들어졌나요?', '궁예가 석총을 살인할 때 사용한 무기는?', '기본 혜택 이외의 여러 혜택을 받기 위해서 아이폰 SE 이외에 추가적으로 사야하는 것은 무엇인가?', '블룸버그가 파악한 이번 년도 세계 시가총액 500대 기업에 중국 기업은 몇 개가 포함되어 있는가?', \"디지털 달러 프로젝트'를 운영하고 있는 사람의 이름은 무엇인가?\", '대통령 주치의로 처음 발탁된 연세대 의대 출신 의사의 이름은?', '관촉사 앞뜰의 4각 석등보다 큰 것은 무엇인가요?', '흥왕사명 청동은입사향완에서 갈대가 새겨진 부분은?', '제일모직은 어느 그룹도 합병하여 호텔과 수목원을 지을 계힉인가?', '해왕성 동기 궤도 안쪽에 있는 위성들을 무엇이라고 부르는가?', '혼다가 만든 SUV의 연비는?', '최고 60.6 대 1의 경쟁률을 기록한 아파트 이름은?', '강가이콘다 촐라푸람을 수도로 지정한 황제는?', '27일에 한국전문대학교육협의회가 주최한 엑스포를 방문한 최소인원은?', '루터가 보름스 청문회에 참여한 해는 언제인가요?', 'TV 토론 참가자가 하게 될 TV토론회의 횟수는?', '포스트 VRICI가 언급되었던 것은 언제인가요?', '코소보의 새 국기에 있는 하얀 별의 갯수는?', \"강남 오렌지 에일'의 맛과 향에 걸맞는 계절은?\", '문화체육관광부와 한국관광공사가 주최한 캠페인의 목적은?', '1835년 선출된 텍사스 지원군 지휘관이 제임스 보이에게 임명한 직책은?', '사이버펑크에 주로 등장하는 시간적 공간적 배경은?', '은행의 혁신성을 순위나 등급으로 평가하는 기관은?', '<오래된 신발> 저자와 결혼한 사람의 이름은?', '체력부족으로 은퇴한 인물이 손을 잡은 인물은?', '복지부가 예비타당성 절차 없이 시행을 요구한 사업의 출처는?', '참가자 모집에 3,000여 명이 응모한 프로그램명은?', '쿠즈네초프는 누구의 명령을 거역하였나요?', '장기 투숙 고객의 호콕을 도울 시설이 있는 장소는?', '현대자동차가 이듬해에 유럽에서 출시할 차종은?', '중소기업이 장기 근속자 인센티브 목적으로 기금을 모으면 세제혜택을 주는 정책은 무엇인가?', '알사바 전 부총리가 속한 가문의 이름은?', '인형에서 불임과 정자 수 감소를 유발하는 물질이 기준치 대비 최고 몇 배까지 나왔는가?', '지금까지 LIG그룹이 피해자들에게 보상한 대략적인 금액은?', '브라질의 신임 재무장관 이름은?', '안중근 의사 기념관 참배를 추진중인 국가는?', '젠서 관계자에 따르면 젠서의 해외사업에 지장을 준 요소는?', '정해진 기간동안 목표 금액에 도달하지 못할 경우 돈을 받지 못하는 사람은?', '도천사지 내에서 발견되는 와편은 어느 나라 때 만들어진 것인가?', '4년전 정기점검에서 A등급으로 평가된 건물 동은 어디인가?', '대통령 포로셴코가 푸틴을 처음 마주한 나라는 어디인가?', '전교조 미복귀 전임자의 징계처분에 관한 의결을 담당하는 교육청 의결기관은?', '장춘단 터가 공원으로 바뀐 해는?', '캘리포니아에서 쿡이 크래머에게 답장을 보낸 시각은?', '다음달 8일, 한화 클래식 공연을 관람할 수 있는 도시는?', '엄부영 본부장이 제주항공 전에 다녔던 회사는?', 'SAP ERP 시스템을 업그레이드 한 프로젝트를 발표한 인물의 이름은?', '기원전 227년에 군사혁명을 일으켜 에포로스를 살해한 인물은?', '부당하게 쫓겨나는 임차인 보호를 위해 상가임대차보호법에서 보장해 주는 영업기간은?', 'SBT가 급여를 6개월 간 주지 못했던 해는 몇 년도인가?', '레닌이 출간한 책 중 농민의 자발적 참여에 대한 내용이 포함되어있는 것은?', '전셋값 상승률이 두 번째로 높은 서울의 지역구는?', '오윤아가 가족과 함께 출연한 프로그램은 무엇인가?', '롯데쇼핑 2대주주의 이름은?', '스플안심스팟은 사회적 거리두기 몇 단계 동안 유지될 계획인가?', '영자초를 진귀한 재화라 평가한 사람의 직업는?', '작년 가장 일하고 싶은 비제조업 기업 2위였던 곳의 회장은?', '국내 1위 면세점 사업자는 어느 기업인가?', '삼성전자가 갤럭시S6 공개 이벤트를 진행한 나라는?', '선저우 10호 발사국이 독자적인 우주정거장을 보유하고자자 하는 해는?', '타이젠폰의 두 번째 출시국은?', '일곱 성당 이야기가 현지에서 출간된 연도는?', '특성화고 출신 직원의 대학교 학비를 대신 부담해주는 은행은?', '삼성중공업과 삼성엔지니어링의 합병을 반대하는 주주들의 주식매수청구금액 총액은 얼마인가?', '갈릴레이가 이오와 유로파를 하나의 천체로 관측한 것은 몇 년도였나요?', '참호 속에 무기와 장비를 버리고 도주한 집단은?', '몇 월에 하나은행과 외환은행의 합병이 이루어지는가?', \"2020 추석 장사씨름대회'가 폐막하는 날은 언제인가?\", '미국 대형은행들의 주주들이 받은 배당금은?', '역북지구 공공주택지 중 아직 팔리지 않은 블록은?', '포겐도르프가 <물리학사>를 출간한 년도는?', '상류 부르주아의 정치 독점을 불러일으킨 체계는?', '검찰이 처음부터 죽이려는 고의를 인정하지 않은 사건이 발생한 지역은?', '쇄자갑이나 판금갑을 파훼하기 위해 개발된 무기는?', '1561년, 안상에게 합자보를 수정하라고 지시받은 인물은?', '김수천 사장의 입사년도는?', '김정희가 청나라에 간 해는?', '뮤지얼보다 더 높은 점수로 경기를 그만 둔 인물은?', '퍼 스티니우스가 컨설팅 회사를 창립한 연도는?', '주인공 노바는 어떤 느낌을 지닌 캐릭터로 바뀌었나요?', '이탈리아 수석 대주교의 직함 중 없어진 것은?', \"7일 '발리 패키지'를 통과시킨 회의가 열린 도시는?\", '모란이 수놓아진 부분 중 녹색 연화문단으로 만들어진 것은 유물의 어느 부분인가?', '토이저러스 매출이 1500억원을 돌파한 해에 토이저러스 매장 수는?', '대가족제도에서 차별의식을 더욱 강화시켰던 문화는?', '세월호 사고 당시 세월호의 적정 평형수는?', '삼성SDI 해외영업소의 수는?', '큰 앞바퀴와 작은 뒷바퀴를 가진 자전거는 무엇인가?', '조회수가 가장 크게 증가한 방탄소년단 뮤직비디오의 이름은 무엇인가?', '지미 카더는 선거 공약으로 무엇을 내세웠는가?', '간토 대지진 외에 사가미 해곡 지진에 해당되는 지진은?', '국민은행 감사위원들이 거부로 구체적으로 다루지 못한 건은?', '한국농어촌공사가 추천해서 받을 수 있는 상은?', '서울시를 3D 모델로 나타내기 위해서 사용된 2D 이미지는?', '파워레인저 다이너 포스의 정식 가격은 얼마인가?', '인수위원회 위원 중 가장 많은 비율을 차지하는 지역은?', '역사상 가장 오랫동안 이용된 용광로는?', '엔트로피에서 배제하는 것은?', '3차원 낸드플래시를 탑재한 SSD에 사용된 데이터 전송 규격은?', '윤극영 선생이 처음으로 만든 노래의 이름은?', '코보의 제품중에 마우저에서 구매할 수 있는 모듈은 몇 개인가?', '서천리 당산의 남자 돌장승의 이름은?', '김옥균이 히라노초를 갔을 당시 믿고 의지했던 인물은?', 'SK회장이 중화권 국가 다음으로 방문한 나라는?', '크리스티 경매에서 가장 높은 금액에 낙찰된 디자인 작품의 디자이너는?', '특강의 멘토로 참여하는 기업의 대표 이름은 무엇인가?', '아이머게이머 챌린지에 참가하기 위해 글을 업로드 해야 하는 SNS는 무엇인가?', '황녹색의 유약이 있는 겉부분이 없어지면 무슨색을 띄는가?', '2018년 1월부터 2020년 8월까지 연령이 60대 이상인 서울시 주택구매자는 몇 명인가?', '음식 메뉴를 번역하는 데 드는 비용은?', '전일제 지원의 대상을 맞벌이 부부로 한정할 것이라고 주장한 사람의 부처는?', '경희대학교에 들어가 수비를 전담하게 된 선수의 키는?', '올레tv와 인터넷을 처음 가입하면 공짜로 받을 수 있는 것은?', '송경애 사장이 처음으로 갖게되었던 직업은 무엇인가?', '여운형이 김구에 의해 몸수색을 지시받은 장소는?', '공모주 물량의 10%를 우선 배정받는 펀드의 이름은?', '민석이 잠을 자기위해 반드시 청취해야 하는 것은?', '소득에 따라서만 수급여부가 결정되는 연금의 이름은?', '중흥S클래스 리버티에 언제부터 청약 신청이 가능한가?', '일본에 있는 주택 중에 사람이 살고있지 않은 집은 몇 채인가?', '한국유학 2000년사에 활용된 논문 수는 대략 몇 개 인가?', '차홍녀와 황철이 만든 극단이 설립되었던 해는?', '쌍용자동차를 시험 주행할 수 있도록 허가해준 기준이 되는 제도가 시행되기 시작한 연도는?', '2012년 게임산업협회장을 맡았던 사람의 이름은?', '일본 2분기 GDP의 전분기 대비 감소율을 연율로 나타내면?', '보증금은 누가 납입하는가?', '멘데스가 요원들을 구하기 위해 간 도시는 어디인가?', '가장 낮은 응답률을 보인 복권 구입 빈도 항목의 응답률은?', '로제르에게 안티오키아가 적으로부터 안전한 이유를 전한 사람은?', '삼성물산이 기대하는 2020년 건설사업 매출액은?', '포스코가 정강섭씨에게 지급한 기술료는?', '권영모가 예전에 모시던 사람의 이름은?', '송파 헬리오시티엔 총 몇 세대가 입주할 수 있는가?', '조수호 회장의 사망 원인은?', '플레이어와 블레이드가 알두인에 맞서 싸울 수 있는 힌트를 얻은 장소는?', '동성상업학교 교장으로 직무를 수행하기 전 장면의 직장은?', '새 서비스는 어떤 잡지의 구조와 유사할 것이라 예상되는가?', '중소기업 전용 주식시장 이전 주식시장이 출범했던 년도는?', '학교형태의 평생교육시설이 어떠한 목적으로 이용되는 것을 막아야 하는가?', '가짜 드미트리가 정부를 건립한 곳은?', '꿈카 스테이션이 시범 운영되는 시설은 몇 개인가?', '박근혜 씨가 국회 국방위원으로 활동한 해는 언제인가?', '호출에 의해 동적인 상태로 변환되는 소프트웨어 구성요소는?', '권력이 강한 가문 출신 사람들이 빠르게 승진하는 문제를 해결하기 위해 신돈이 실시한 정책은?', '페터 스토이베산트가 포트 캐지미어를 세웠던 장소의 현재 이름은 무엇인가?', '한진 중공업 노조가 변화하기까지 걸린 기간은?', '여운형이 여러 소일을 하기전에 일했던 곳은?', '무형자산 4조원을 가지고 있는 회사의 사내유보금은 얼마인가?', '제6장갑사단이 어디로 가는 도중 소련군 증원부대와 마주쳤나요?', 'MCM과 협업하여 상품을 제작한 회사는?', '일리아드 첫 장면에 나오는 것은 누구인가?', '봉봉 유입이 가장 많은 SNS는?', '아폴론에게 예언을 주관하는 힘을 준 이는?', '선박 안전 관리에 관한 책임을 지고 있는 기관은?', '가정교육과를 폐지한 대학은?', '카이사르는 브리튼의 추운 날씨로 인해 어디로 후퇴했는가?', '경찰들이 시위대에 합류하면서 한 말은?', '지유가 12월에 진행하는 콜라보레이션의 목적은?', '티몬에게 반값 할인 쿠폰을 받을 수 있는 고객은?', \"수정의 밤'사건으로 사망한 유대인들은 최소 몇 명인가요?\", 'SK이노베이션이 정유 시장에서 중점을 두는 국가는?', '스마트폰을 가까이 가져감으로써 출입이 가능한 ADT캡스 서비스명은?', '샘 슈만이 죽은 원인은 무엇인가?', '정부가 가계부채 증가 속도를 늦추기 위한 방안을 추진하기 전, DTI 적용을 피할 수 있는 대출 최대 금액은?', '웅게른슈테른베르크가 포로로 붙잡혔던 유격대의 리더는 누구였나요?', '세균을 제거하는데 탁월한 능력을 보여준 제품은?', '새만금을 관광명소로 만드는 내용을 내놓은 회의의 중심이 된 사람의 직책은?', '신시내티에서 노면전차의 승객 수를 감소시킨 교통 수단은?', '에스비비테크가 HDS사 독점 공급 부품의 양산에 성공한 연도는?', '아랑을 살해한 사람은?', \"유리동물원'에서 이야기 속 사건들이 일어나는 도시는 어디인가?\", '노이즈 캔슬링에 대한 미션을 이행하는 참여자는 몇 명인가요?', '추가경정예산을 통과시키기 위해 마지막으로 논의 된 사항은?', '하임 레빗이 통찰한 현 시대 사람들이 가치있게 여기는 것은?', '자동차 엔진 공기유입 부품을 제조하는 회사의 올해 2분기 영업이익은?', 'LED소자의 기능 상실을 방지하기 위해 사용한 방법은?', '프로젝트 결과물을 평가받은 사람 수는?', '남종삼이 사망할 당시 유일하게 살아남은 인물은?', '잉글랜드 요리는 어느 나라 요리에 속하나요?', '니모 FD의 컬러 중 이번에 새로 나온 색은?', '한국맥도날드 본사에서 근무하는 직원들 중 50% 정도가 어디에서 근무를 시작했는가?', '일본의 총리가 만든 경제 관련 정책의 이름은?', '루트비히 2세의 사망 이후, 동프랑크 왕국의 중북부 지방의 땅을 물려받은 인물은?', '유창근 사장이 남미지역 회의에 참석하는 날짜는?', '산발적 백신 품귀 현상이 발생한 해, 제조사가 공급한 백신 물량은?', '신한 은행에서 직접 캐피털의 대출 상품을 판매하기 위해 만든 것은?', '현대카드가 Visa에서 2018년에 수상한 상은?', '의정부경전철의 환승 할인에 의한 손해와 환승 시스템을 구축하는 데 드는 비용의 총합은 얼마인가?', '애플과 NTT도코모가 손잡은 후 일본시장에서 삼성전자 점유율은 얼마인가?', '이마무라와 다스다에게 참수형을 선고한 기관은?', '박인용이 급행열차로 갈아타기 전에 들른 역은?', '디지털정보센터에서 전자책을 이용할 수 있는 공간은 몇 층인가?', '양적완화를 시작한 9일에 유로화 가치는 얼마였는가?', '밀풍군 탄의 아들이 김씨의 양자가 된 해는?', '교회 개혁을 추진하는 사상은 무엇인가?', '처음으로 수액제가 국내에서 생산될 수 있도록 만든 사람의 이름은?', '개별 토지의 단위 면적당 가격이 3년 연속 상승한 곳은?', '직원 가족 대상 프로그램 중 참여인원이 명시되어 있는 프로그램의 이름은 무엇인가?', '두위밍을 불러 들인 사람은?', '한 분야의 전문기업으로 사회적 역할을 강조한 인물의 이름은?', 'T끼리 요금제의 최대 가격은 얼마인가요?', '미국의 에너지 운송 인프라 기업에 집중 투자하는 펀드는?', '보험료율이 14%인 집단의 소득대체율은?', '주태석의 기념전은 언제까지 열리는가?', '시즌 마지막마다 베토벤 교향곡을 연주하는 곳은?', '오윤부의 이름 앞에 붙었던 칭호는?', '처리시한을 넘긴 동의안을 국회에 제출한 달은 몇 월인가?', '어피인장함의 뒷면에 붙은 경첩은 무엇의 형태인가?', '임헌영은 어느 기관에 소속되어 있는가?', '박 회장 측이 요청한 면담이 이루어진 장소는?', '앙리 지스카르 데스탱은 클럽메드의 지분을 몇 퍼센트 갖게 되는가?', '수능 응시유형 변경 가능 기간은?', '현대아울렛 가산점은 이제부터 어떤 기업이 맡게 될 예정인가?', '하나금융지주 회장의 비서로 일하는 사람은 몇 명인가?', '벽에 천녀를 그리기 전에 하는 밑작업은?', '프랑스가 베트남을 공격한 명분은?', '준공공임대주택은 전용면적이 얼마 이하여야 되는가?', '3번째로 스타트업 대표를 가장 많이 배출한 대학은 어디인가?', '우리나라에서 처음으로 기부금으로 지어지는 병원이 들어설 동네는?', '1.8%의 브라질 경제성장률을 예측한 기관은?', '파견법이 제정된 시기는?', '올해 가장 높은 청약 경쟁률을 보인 아파트의 건설사는 어디인가?', '국순당에서 참여한 환경보존 기술은 무엇을 줄이기 위해 실시되는가?', '서울에서 매매 거래량이 가장 많이 증가한 지역은?', '영국 해군이 다시 전장식으로 돌아가기를 결정했던 때는?', '경제학의 어떤 개념을 통해 개방경지제의 공동 방목지가 능률이 떨어지는 이유를 이해할 수 있는가?', '부처 간 협의를 강조하면서 정총리가 없애고자 한 것은?', '신형 제네시스의 정확한 가격을 알 수 있는 날짜는?', '정기선 전무가 미국 유학길에 오른 해는?', '김혜연의 배우자는 누구인가?', '아멜리아는 빅토르의 직업을 무엇으로 착각하나요?', '김정길이 지역주의 제거에 선구하기 전 분위기를 조성한 사람은?', '방실이가 미군 부대에서 처음으로 활동하기 시작한 해는?', '더퍼포먼스 대표 이전에 먼저 강의를 한 인물의 이름은?', '2019 해양관광 오디션에 우승시 받을 수 있는 상의 가치는?', '안산벚꽃음악회가 열리는 인근에서 홍보 중인 아파트는?', '장정기가 들어있는 우산이끼의 가지는?', '쌍용어패럴이 입주해있는 건물은?', \"글로벌 인재포럼 2015'에서 <인구쇼크>의 저자가 있는 세션은?\", 'LG전자가 90여개국에 G2를 선보인 기간은?', '루신화가 에세이를 써낼 때 까지 미국에서 산 기간은?', '청년몰에 있는 여러 가게 중 SNS를 이용한 마케팅전략으로 많이 알려진 곳은?', '여신협회가 부담할 증여세율은?', '1톤당 150달러로 발전용 연료탄이 판매되었던 년도는?', '존스가 최정예 대대를 파견해서 돕고자 한 부대는?', '제주도 소재 아파트 가격이 급격하게 오르기 시작한 날짜는?', '영상을 통해 마지막으로 소개되는 ‘이지스-테크업플러스’ 선발 기업은?', '대중이 불교에 친숙해질 수 있도록 일감 스님이 주최한 행사의 이름은?', '작년 17일 삼겹살 1kg당 소매가격은?', '블루 아도니스가 있는 곳은?', 'When We Were Close 노래의 장르는 무엇인가?', '허계임과 그녀의 두 딸 중 가장 먼저 순교한 것은 누구인가?', '메구밍에게 자신이 사용하던 안대를 준 사람은?', '리모델링 박람회에서 수도권 아파트 리모델링 관련 내용을 밝힌 사람은?', '국산 라면이 두 번째로 많이 수출되는 국가는?', '로그 오브 히어로즈 게임이 시중에 나오기까지 얼마나 걸렸는가?', '한국에서 고등 교육이 두 계열로 분화되었던 관행이 생긴 지는 대략 얼마나 되었는가?', \"쏘카만 있어도' 프로모션을 통해 1박 2일동안 쏘카를 이용할 수 있는 최소 금액은?\", '무바라크 측근의 지난 대선 득표율은?', '일본이 반자본주의 사회가 되었다고 라고 주장한 조직은?', '재판을 받고 있는 인물의 이름은?', '박용만 회장의 의견에 따르면, 경제민주화 입법으로 피해를 입고 있는 기업의 유형은?', '미국의 일광절약시간제 기간이 늘어나기 시작한 해는 언제인가요?', '비트겐슈타인이 병원에서 봉사를 할 수 있도록 한 인물의 직업은?', \"잃어버린 얼굴 1895'에서 '명성왕후 민자영'을 연기한 배우의 데뷔작은 무엇인가?\", '수수료를 올해 마지막 달까지 면제해주는 행사는?', '미네소타주 경찰이 오마르 히메네스를 체포한 날짜는 언제인가요?', '철도공으로써 받은 첫 급여로 파브르는 무엇을 구매하였나?', '106번째 북미 영상의학회에서 인정된 연구는 몇 건인가요?', '19일까지 올 뉴 쏘렌토의 주문량은?', '성과보수체계 개선안을 만들겠다고 밝힌 인물의 이름은?', '줌에서 전체 참여자의 일부분이 따로 회의를 열 수 있는 기능은?', '저출산 문제를 해결하기 위한 대책을 수립하는 역할을 맡은 기관은?', '주가 변동폭이 1260포인트를 기록한 날은 며칠인가?', '중국에 진출한 국내 보험사 중 두 번째로 점유율이 높은 회사는?', '독립채산제의 확대 실시 등으로 이루어진 경제 관리 개선 조치를 무엇이라고 하는가?', '소득공제장기펀드에 가입할 수 있는 최대 연간 총급여는?', '이사회에 가입되어있는 회원국 수는?', '기원전 324년에 드리페티스의 결혼 상대는 누구의 동료였나요?', '올해 1분기 세수가 지난해 같은 시기와 비교하여 감소한 액수는?', '현대로템이 준비하는 실증사업을 진행 중인 회사는?', '고권삼이 친일인명사전 수록예정자 명단 중 해외 부문에 포함된 이유는 무엇 때문인가?', '버클러를 이용하거나 애초에 방패의 장점을 버리고 양손 무기를 썼던 사람들은?', '모세가 십계명을 받고 시나이 산에서 내려와 누구를 보고 슬퍼하고 분노했다고 <탈출기>는 전하는가?', '동부화재가 미국에서 세 번째로 지점을 연 때는?', '해외사업이 넷마블 전체 매출에서 차지하는 비중은?', '2019년 한일청구권 협정 제 3조에 의거하여 일본이 대한민국 정부에 설립을 요구한 부서는?', '드림허브의 2대 주주가 용산역세권개발에 투자한 금액은?', '돌비 협력 작품 중 4K 화질을 지원하지 않는 것은 무엇인가?', '서든애비뉴매니지먼트가 정크본드 환매를 중지하면서 그 사유로 내세운것은?', '작년 외국인 관광객을 가장 많이 유치한 지역의 이름은?', '아카풀코에 새로운 열대 요란이 일어난 날짜는 언제인가요?', '과잉 인증의 정비를 통해 비용을 절감하게 된 회사의 수는?', '씽씽 서비스 배치 구역의 선정 이유를 설명한 사람의 직책은 무엇인가?', '삼성이 이번 년도에 출시한 김치냉장고의 이름은?', '항우가 진나라를 멸하면서 조왕 헐은 어디로 이동했는가?', '이번 6일 이전에, 원·달러 환율이 가장 낮았던 것은 언제인가?', '현대차의 대당 수출단가는 전년 동기 대비 몇 퍼센트 증가했나?', '테바이는 권력을 잃고난 뒤 누구에게 복종하게 되는가?', '프리마 카테고리아 1912-1913 결승전에서 6-0으로 패배한 팀은?', '삼성전자에서 이번 년도에 출시한 핸드폰은?', '스빈후부드가 신분제 중심의 핀란드 국회를 개혁하는데 큰 영향을 미쳤던 시기는?', '한국 대 멕시코 경기에서 선제골을 넣은 쪽은?', '추락한 헬기를 제작한 곳은?', '관람객들이 마니프의 전시회에서 감상할 수 있는 작품은 대략 몇 점인가?', '한미엔텍이 악취처리 신기술을 제공하고 있는 다른 나라는 어디인가?', '구즈바의 학교 기숙사에 무단으로 들어와 학생들을 공격한 사람은 누구인가?', \"위대한 탈출' 번역판에서는 책 커버에 보충 제목이 뭐라고 쓰여있는가?\", '의사-석유 교환 협정으로 이득을 본 베네수엘라의 정책은?', '서울상상나라에 참가비를 내지않고 방문할 수 있는 때는?', '롯데마트에서 2일에 한 근의 훈제오리슬라이스를 신한카드로 계산하면 얼마에 살 수 있나?', '김태원석함 오디션 예선에서 오샘의 선곡은?', '뉴욕주에서 총기 규제 문제가 대두된 것은 어떤 사건때문인가?', '셧다운제 시행 이듬해의 국내 게임 시장규모는?', '우효준 대표가 잠에 관심을 갖게 한 사람은?', '죽림사 세존괘불탱은 어떤 재료 위에 그려졌는가?', '상원이 합의안을 표결에 붙일 것으로 알려진 날짜는?', '로스 수장이 살해한 사람은 어느 당 회원인가?', '민주노총을 압수수색한 기관의 대표의 이름은?', '티라윗 리타본 부회장이 방문한 도시는?', '크레센티우스 2세가 받은 형벌은?', '기재부가 세법개정 계획을 밝힌 장소는?', '총학에서 노동자의 인권에 관한 내용을 기반으로 협의하여 정한 규칙은?', '30대 그룹이 작년 상반기에 투자한 금액은?', '3개년 로펌 누적 합격자수가 19명인 대학교는?', '전기안전공사 채용 결과는 언제 알 수 있는가?', '우핑가스 왕조의 이름은 어디서 유래하였나?', '무용인 한마음 축제에 두 번째 순서로 오를 공연은?', '1989년에 가내작업반은 무엇으로 인정받게 되었나요?', '콜 오브 듀티 블랙옵스의 후속편이 출시되는 달은 몇 월인가?', '토론회에서 선의의 차명거래 제도화를 주장한 인물의 이름은?', '세계 자동차 판매량 1위 기업의 부정행위가 발표된 날짜는?', '미국 1위 투자은행의 부회장이 회사에 입사한 연도는?', '중학생이었던 하상욱 씨의 장래희망은 무엇이었는가?', '구글 드라이브와 연동되는 메모 앱 이름은?', '수입 대금을 돌려받지 못한 기업들은 어느 기관에 도움을 요청할 수 있나?', '플래그쉽 스토어 방문객들이 쉴 수 있는 공간은 몇 층에 마련돼있는가?', '유럽 부동산에 투자될 자금의 규모는 얼마인가?', '피아노 협주곡 5번의 첫 공개 초연이 이루어진 해는?', '전주 소재 공장에서 작년에 만들어진 차량은 총 몇 대인가?', '다 다른 계정으로 게시물을 올려도 무엇이 동일하다면 모든 게시물의 IP 주소는 동일한가?', '한국 주식시장에 대해 비관적인 견해를 밝힌 인물이 단독 인터뷰를 한 일자는?', '에스북서비스로 받은 책은 며칠간 볼 수 있는가?', '보퍼트해에서 기름 유출을 감시하는 드론의 제조사는?', '새로운 대형 중폭격기 개발을 위해 필요한 것은?', '확실한 고정력으로 휴대폰의 낙하를 방지하는 부품은?', '페리클레스가 발의한 법이 입제된 시기는?', '페스티벌에 참가하는 우리나라 단체의 이름은?', '고천문학자는 연구할 때 사회 분야와 어떤 분야의 조화를 이루는 것이 중요한가?', '불가살이가 먹은 무기들을 사용하는 장수는 실제로 어느 나라 사람인가?', '호프만스탈의 사망 원인은?', 'G4의 예약 판매가 끝나는 날은?', '유니버셜뮤직과 협력하여 만든 메가기프트를 살 수 있는 업체의 매장 수는?', '은행정리체제가 합의된 이후 EU의 신용등급 전망은?', '서울고속버스터미널 지분 매입을 망설였던 기업은?', '대한민국에 농구가 처음 상륙한 해는?', '빛과 물질의 상호작용 시에 입력 증가 정도와 다른 진동수 출력을 내는 현상은?', '호쿠토는 업무전화를 받고 어디로 가버렸나요?', '다음해에 정부가 첫 번째로 증원하는 해양대 해사대학 인원은 대략 몇 명인가?', \"왕의 하루' 공연의 스토리 구성을 맡은 사람의 이름은?\", '톡 쏘는 것처럼 혀가 아린 매운맛을 내는 향신료는 무엇인가?', '피렌체파의 대미를 수놓은 사람은?', '경상남도 기념물 제289호를 창건한 인물은?', '루이지애나흙파는쥐 다음으로 큰 동부흙파는쥐는?', '교보문고에서 이순신과 연관하여 가장 많이 팔리고 있는 도서는?', '핵무기 공유 협정을 맺은 경우 발사에 필요한 물건은?', '데이콘과 매스챌린지 보스턴 본선에서 경쟁 중인 아시아국가는?', '노랫말의 번역이 대구 시구 번역보다 훨씬 제약이 많은 이유는?', '피터와 함께 하이든의 무덤을 도굴한 인물은?', '블루투스 분야에서 세계 2위인 기업이 있는 나라는?', '던스터블 수도원에서 발견된 물건은 누구의 것으로 예상되는가?', \"송세호가 '삼신리 2호'를 운영했다고 보도한 곳은?\", '화학 반응 발생 시 스스로는 무변하지만 반응 속도에는 변화를 일으키는 것은?', '레보노게스트렐 성분을 포함한 응급피임약은 높은 효과를 위해 최대 몇 시간 안에 섭취해야 하는가?', '1회용 샴푸라는 아이디어를 낸 회사는?', '인간에게 가장 익숙한 크기의 개념은 무엇인가요?', \"야로스와프와 같이 '법과 정의당'을 만든 사람의 이름은?\", '삼성이 중소기업에 개방하는 특허 중 무료인 특허는 몇 건인가?', '건강식 코스요리를 제공하는 디너쇼가 열리는 호텔 이름은?', '현직 추밀원사무처장 웨인울터즈의 선임은?', '레오 6세에 의해 감금당하여 살해된 인물은 누구인가요?', '꼬깔콘의 작년도 연매출 규모는 얼마인가?', '임산부가 태몽을 꾸는 시기는 주로 임신전후와 또 언제인가?', '작년에 현대산업개발이 분양한 가구수는?', '상하이의 북역과 남역 모두를 자유롭게 타기 시작했던 해는?', '콘스탄티네 2세에 이어 왕위를 계승한 인물은 언제까지 군림하였나요?', '플린트를 기본 공간으로 하여 다양한 영화를 제작한 인물은?', '가석방 대상이 될 수 있는 자격은?', 'OGN 다트 챔피언십 일반부 마지막세트 최종 스코어는?', '사실과 다른 문서를 서울시에 제출한 업체의 이름은?', '국내무사가 체포 활동에 참가한 것은 무엇 때문인가?', '방송채널사업자가 송출하는 방송의 화질은?', '12월 12일에 호트군의 선봉이었던 사단의 하루 이동 거리는?', '롯데백화점에서 올해 추석 매출 5등인 품목은?', '공정위가 소비자보호 실태 조사를 맡긴 기관은?', '결의 전에 장관의 발언을 제지한 사람은?', '상대적으로 애니메이션의 캐릭터에 맞추는 것이 수월한 사람은?', '연세 금호 아트홀의 첫 공연은 언제 열리는가?', '안중근의 동생이 실종된 지역은?', '중국에서 3번째로 인기있는 K팝스타는 누구인가?', '정재근이 묵은 숙소가 있는 시는?', '환경재단과 함께 공모전을 주최하는 회사의 대표 이름은?', '블레이드 러너에서 실제 사람같은 존재를 부르는 단어는?', '정보 유출보다 카드 사용액에 크게 작용한 사건은?', '지난 해 말, 연예인 주식부자 3등인 사람의 직업은?', '등산용 신발에 보아 클로저 시스템을 적용해 큰 매출을 달성한 회사는?', '데스볼트는 무엇이 결여되어있나?', '상사병으로 사망한 소녀의 장례식이 열린 곳은 어디인가?', '연 5% 정도 수익을 낼 수 있는 금융상품을 추천한 사람 수는?', \"2차 업데이트 후 '북방대초원'에 새로 생긴 미션은?\", '박근혜 대통령의 중국어 연설 영상을 유쿠에서 시청한 사람은 얼마인가?', '소유자에게 기준시가가 공개되는 날짜는?', '제국과 메시나를 두고 전쟁을 벌인 민족은?', '지오영과 유통마진을 나누어 갖는 기업이 공급하는 마스크 비율은?', '천지 괴물에 대한 목격담은 어느 시기에서부터 시작되었나요?', '국가채무 산정에 포함되지 않아 실제보다 측정액이 낮게 나오게 하는 것은?', '한국크라시에가 과립형 제제를 생산하고 있는 지역은?', \"이승조의 '평면과의 대결'을 높게 평가한 사람은?\", '19세기 말 러시아의 농민과 진보 귀족이 거부했던 농업 구조는 무엇인가?', '등록금 인상률이 3번째로 높은 대학교는?', '스위니가 테네시에서 무엇을 도둑질 한 것으로 전해지나?', '유병언의 금융비리에 가담한 종교단체는?', '할리우드 대작 최초로 한국에서 촬영을 한 영화는 며칠만에 천만 고지를 넘었는가?', '미국 민주주의의 기원으로 여겨지는 것은?', '토치가 무엇을 가지고 있어서 돌로 바뀌지 않았는가?', '유영 대신 황태자가 될 뻔한 인물은?', '사망 사건으로 논란이 된 에너지 드링크는?', '카르타고 시민 보병대가 역사 기록에서 없어진 시기는?', '정부의 예비비를 받게 될 교육청의 수는?', 'KEB 하나은행에서 몇 군데를 대상으로 약 500명을 고용하는가?', '현대차그룹의 5개 계열사 중 가장 지원자가 많은 계열사는?', '신 회장이 최근 CEO 자리에 오른 회사는 어디인가?', '재형저축을 들 수 있는 사람 중 가장 소득이 높은 사람의 연봉은 얼마인가?', '대구범어점이 생기기 전, 한샘에서 매장이 가장 컸던 지점은?', '21일 상장 예정 회사의 공모 희망 최저가는?', '스튜어트를 구하러 온 부대는 어디에서 출발했나?', \"2020 차별에 대한 국민인식 조사'를 실시한 단체의 우두머리 이름은?\", '성당의 서쪽과 남쪽 부분에 난방이 가능해진 시기는?', '아레나에서 전투에 임하기 위해 사용해야 하는 것은?', '청약자가 정원보다 9명 적게 모인 아파트는?', '노동운동 단체가 소멸하기 시작한 연도는?', '독일이 우승했던 월드컵에서 전술과 선수 기용의 실패를 맛본 감독은 누구인가?', '일반적으로 사람들은 구입한 차량을 얼마동안 이용하는가?', '보주에서 반란이 빈발한 시기는 언제부터인가?', '상반기에 카드분실 책임을 고객에게 4번째로 많이 물게 한 카드사는?', '장하준 교수의 한국경제에 대한 생각에 대해 반론한 김상조 교수의 저서는?', '핀란드의 최대 교역국은?', \"호적을 '남'에서 '여'로 바꾼 인물은?\", '보조 수트 액터를 맡은 사람은?', '사무총장이 정권에 따라서 방향을 설정하는 감사는?', '이명박 정부를 비판한 여당 광역자치단체장은?', '페스트파이브가 우리나라에 개방형 오피스를 처음 소개한 시기는?', '양회와 강절에서 산서시들과 경쟁을 한 집단은?', '청주공예비엔날레 기획전2에 참여하는 국가 수는?', '한국과 중국의 FTA 체결 후 한국에서 치뤄야하는 과정은?', '현대자동차 임금협상에서 노조측 대표를 맡은 사람의 이름은?', '꾹꾹을 운영중인 기업의 수장 이름은?', '텔 아파르나 키프리를 탈환하기 위해 계획 중인 집단이 소속된 나라는 어디인가?', '부산대학병원 인근에 EG건설이 공급하는 총 아파트 가구수는?', '피르 볼그라는 이름은 어떤 의미를 지니는가?', '어셈블리의 구성 요소 중 어셈블리에 대한 고유값을 가진 것은?', '다음달 5일에 영업 정지되는 회사는?', '불평등의 본질을 탐구한 인물이 재직한 학교의 이름은?', '박 대통령이 일본 특사단 4명과 만난 장소는 어느 동에 위치해 있는가?', '저번달 세 번째 주에 일본에서 가장 많이 팔린 삼성의 스마트폰은 무엇인가?', '경찰관 5명이 부상을 입는 사건이 발생한 도시는?', '샤이반계 유목민들이 주치 울루스의 소유권을 두고 분쟁한 상대는?', '공정거래법 개정안에 대해 위원들과 다른 의견을 보인 인물의 이름은?', '중국이 관리, 경영하는 곡물재배 기업으로 CJ제일제당의 제휴사는?', '마틸데의 첫째 언니가 사망한 년도는?', '2017년 총선거에서 50석을 차지한 당이 만들어진 달은?', '미국에서의 현대차 매출은 1년간 몇 퍼센트 증가하였나?', '슈타우펜베르크가 패전을 확신한 것은 몇 년인가?', '조소문화협회가 만들어진 시기는?', '특허를 보유하지 못한 중소기업의 어려움을 해소해주라고 지시 받은 사람의 이름은?', '오리너구리가 전기를 가장 잘 느끼는 부위는?', '평상시 기독교선교사들로부터 차별적 대우를 받은 윤치호가 생각한 미국의 중대한 속성은?', '천주교로 종교를 바꿨다는 의심을 받았던 학자는?', '국내관광 트렌드 전망에 대해 들을 수 있는 세션은?', '작년 말 기준 보험계약자가 찾아가지 않은 보험금과 환급금의 총액은 얼마인가?', '차명계좌 규제 법안을 발의할 것으로 예상되는 사람의 이름은?', 'F5의 별칭은?', '6월 평가 이후 EBSi에서 제공될 수능 연계 교재의 이름은?', '통근특급이 걸림돌인 노선과 서로 평면교차하는 노선은 어디인가?', '사민당이 화력 발전보다 친환경적이라 주장하는 것은?', \"13대 창조경제 산업엔진'을 제시한 부처에서 착용형 컴퓨터 산업을 일컫는 말은?\", '현대의 조선 3사 중, 이번 년도 상반기 때 임원 수가 가장 적었던 곳은?', '분에이 전쟁 이후 로쿠하라 단다이에게 주어진 권한으로 처벌할 수 있는 신분은?', '음식 관리나 조리 과정에서 발생하는 문제로 인해 나타날 수 있는 질병은?', '도요타가 업계 1위를 기록한 해, 폭스바겐의 업계 순위는 몇 위였는가?', '전문대학원 방식을 처음 도입한 곳은 보통 몇 년을 다니나요?', '몽키3의 모회사가 된 회사의 이름은?', '직거래로 300마리를 판매한 농가의 지역은?', '미국 코튼마크를 받기 위해 상품에 사용해야 하는 미국 면의 최소 비율은?', '그리스의 고대 올림픽 경기에 참여할 수 있는 자격은 무엇인가?', '사고 건수를 기준으로 하는 자동차보험료 제도에서, 두 번째로 사고를 내면 보험료가 몇 개 등급 올라가는가?', '신용 경색 현상을 감내하면서도 중국 정부가 이율을 높인것은 무엇을 감시하기 위함인가?', '구슬 모양이 특징인 불상의 머리부분은 무엇을 본떠 만든것인가?', '2차 컨스타운 전투 당시 브레킨리지는 누구의 휘하에 있었나?', '영화 미스터 고의 국내 총 관람객 수는 몇 명인가?', '개인이 기업의 자산을 보유하며 8명 이상의 노동자를 고용하여 수익을 얻는 기업의 유형은?', '생활숙박시설이 과거에 불렸던 명칭은?', '4월 기준 시화산업단지에서 임차공장이 차지하는 비율은 몇 %인가?', '안경 없이 3D 입체 영상을 볼 수 있는 스마트폰이 발표된 일자는?', '어획량 감소로 가격이 비싸진 킹크랩의 원산지는?', '오리온의 직원은 초코파이 개발에 영감을 준 간식을 어느 나라에서 접했나?', '하반기 신약 허가를 신청할 예정인 회사는?', '알렉상드린의 아빠는?', 'WEF에서 조사한 대상 중 국가경쟁력이 가장 강한 나라는?', '증권사 ROE가 5.6%였던 해에 하루 평균 주식거래대금은 얼마였는가?', '바다뱀자리 방향에 위치한 중력체가 움직인 원인은 무엇으로 추정되나요?', '예루살렘 공의회는 누가 유대 그리스토교인의 주장에 반론하면서 개최되었나요?', '아카리가 미조로기 료타를 만난 해는?', '미슈텍어파 언어들의 확산의 시발점이 된 곳은?', '소송에서 이긴 곳은?', '개정이 예정된 법 중 교육청과 관계된 것은?', '슈퍼셀은 어디에서 창립되었는가?', '세종시의 전체적인 일처리 방식을 개선하기 위하여 참고하는 국가의 정부부처는?', '융합스테이션 플랫폼 구축에 나선 기업의 할인된 수소차의 금액은?', '공무원노조 인정 등의 요구사항을 전달한 사람의 이름은?', '세계에서 ICT 산업의 규모가 가장 큰 나라는?', '조스마의 나이는 약 몇 년으로 예측되는가?', '이종휘 위원장이 우리은행장으로 취임한 연도는?', '2분기 GDP 성장률은?', \"재개발 추진위원회 및 조합 해산 기간'을 연장하는 법안을 발의한 인물의 이름은?\", '염규호가 AEJMC의 학회장을 역임한 마지막 해는 언제인가?', '저번 달에 세계에서 발주된 선박의 표준환산톤수는?', '그랑에이지를 제작한 회사는?', '박대통령은 취임사에서 조상들의 배려를 무슨 과일에 비유했나?', 'SDK 중 다양한 기능을 추가로 장착한 것은 무엇인가?', \"은퇴부자들'의 저자는?\", '넥서스를 설립한 사람의 이름은?', '기금운용위원 중 정부 소속 인원 수는?', '한국사이버결제와 겨루는 새로운 결제 시스템은?', '망각의 지팡이를 만든 사람은 지금 어디 살고 있나?', '작년 동기 대비 포스코의 1분기 영업이익은 몇 퍼센트 감소했는가?', '최초의 여성적위대가 참고한 부대 모델은 어느 국가의 것이었나?', '현대상선이 현대그룹에서 분리될 경우, 현대상선을 인수할 후보로 유력한 기업은?', '다니엘 헤니가 새로 키우게 된 개의 품종은?', \"뱅크월렛'을 통해 송금할 경우, 확인 메세지는 어디로 받을 수 있는가?\", '투자 기간에 정비례하는 것은?', '송대섭 교수가 메르스 연구를 위해 협력할 예정인 기관은?', '애플이 전례 없는 수법을 사용했다고 말한 사람의 이름은?', '기어S2를 만들어 낸 회사는?', '고스자쿠 천황이 사망한 연도는?', '지구상에서 열한번째로 경제력이 강한 나라는?', \"바이오배양공정과 '녹십자생명반' 학생들의 작년 취업 성공률은?\", '2015년에 대리점 대회를 연 회사는 어디인가?', '집행임원제에서 사외이사를 추천할 권리는 어디에 있는가?', '워드는 무엇에 열정적이었나?', '진공흡인 유방생검술에서 1회에 많은 양의 조직을 얻을 때 사용하는 도구는?', '나라에서 군인들을 뽑아 만든 군대를 통솔하는 우두머리는 누구인가?', '경제전문가들은 최경환 경제팀이 무엇을 높이는 데 주력해야한다고 요구하는가?', '부모를 내다버리기 위해 아들을 설득한 인물은?', '퓨쳐캠의 전립선암 진단후보물질과 경쟁하는 약품은?', '1575년 아시가루가 다네가시마로 무장하고 참가한 전투는?', '박진호 씨에게 올 4월 최고 학생논문상을 수상한 학회는?', 'LTE 음성통화 품질 조사에서 S등급이 가장 적은 통신사는?', '형재 프랭크퍼트 지역에 처음 발을 딛은 백인은?', '주택 매입에 대한 취득세 인하를 알린 날짜는?', '메리 바라는 GM 입사 초기에 어떤 직책을 맡았었는가?', '엔일렉트릭이 민물 양식장을 조성한 태양광 발전소는 어디에 위치하는가?', '경제 회복 시기에서 가장 많은 득표율을 얻은 항목은?', '허츠 해외 렌터카의 프로모션 종료날짜는?', '전체 매출에서 우리 나라를 제외한 지역의 매출은 얼마를 차지하는가?', '쑨리리 일행은 총 몇 인인가?', '해외 다운로드 비중이 50%에 육박하는 동영상 스트리밍 서비스의 사업자는?', '5년 내 1000개 점포 개점이 폭표인 회사의 현재 중국 내 점포 수는?', '14번째 메르스 환자가 삼성병원에 오기 전 방문한 병원은?', \"최근 예술의 전당에서 공연된 '맥베드'의 감독을 맡은 사람은?\", '코드스테이츠에 채용되기 위해서 거쳐야 하는 마지막 채용 과정은 무엇인가?', '정부는 중소기업을 지원함으로써, 금융기관이 어떤 이즘으로부터 탈피하게 하려 하는가?', '지하철역 인근 아파트의 평균 거래 가격이 3위인 수도권 지하철 노선은?', '불소와 반응 후 그래핀의 탄소 1개는 몇 개의 탄소와 결합되어 있나요?', '돈카를로의 작곡가는?', '윤창중이 수석비서관 인선 내용을 발표한 날은 며칠이었나요?', '아타속이 먹는 균이 길러지는 곳은?', '요한 바오로 2세의 아들을 죽인 악마 이름은?', 'LS 전선이 해저 케이블 사업을 시작한 것은 몇 년 전인가?', '원래 두 번째 순위였던 사람은 기준이 바뀐 후에는 몇 순위가 되었겠는가?', '길이 274m, 11개의 안뜰, 1000여개의 방으로 구성된 건물의 이름은?', '글로벌 테마파크를 유치하자고 주장한 사람의 이름은?', '에티오피아 인구의 절반이 유지하고 있는 언어는?', '엔드-투-엔드 5G 네트워킹 인증 프로그램이 국한되지 않는 대상은?', '김준연은 김구가 누구와 몰래 교류하고 있다고 주장했나요?', '현재 전시사업자가 자료제출의무 위반시 내야하는 것은?', '소비자가 전통시장을 이용하도록 휴무일을 조정한 백화점은?', '치과용 CT 장비 부문에서 매출 1위 기록했던 회사의 나라는?', '강중인이 경제사범을 비판하며 국민의 일대수치라 표현한 글은?', '복제약이 시중에 나올때 최초로 만든 의약품 값의 하락률은?', '미국기업이 원하는 작업자는 어떤 언어를 사용하나요?', '당이 통일되던 해에 낭비성은 어느 국가의 영토였나?', '이미 PCS3 대회가 끝난 대륙은?', '브레슬라우 전투 이후에 벌어진 전투는 무엇인가?', '이번 년도 행정고시를 통해 뽑힐 인원의 수는?', '임영웅이 이름을 알리게 된 계기는?', '최모씨가 당시 자산 규모 220억원의 업체를 사들여 유용한 금액은?', '아파트 분양 물량이 4번째로 많은 지역은 어디인가?', '복지 서비스에 대한 중장기 로드맵의 필요성을 얘기한 사람의 이름은?', '확증 편향을 소재로 한 작품의 제목은?', \"Tiny 프로젝트'의 소개가 이뤄지는 행사는?\", '중국의 부동산 경기 활성화 대책 이후, 1주택 보유자는 집값의 몇 %까지 담보대출을 받을 수 있는가?', 'G20이 IMF에 테이퍼링 시나리오 검수를 맡기도록 한 것은 어느 나라의 의견인가?', '고토 신페이가 제도부흥계획을 만든 이유는?', '매화마을 1단지의 리모델링 전 가구수는?', '그림에서 귀걸이와 팔찌가 장식된 인물은?', '현대모비스 협력사 임직원들이 간담회에서 공유하기로 한 것은?', '메드닌 전투는 누구의 마지막 전투인가?', '이삿짐 업체이지만 인테리어 사업도 하는 업체의 이름은?', '로마의 성벽을 확장한 인물을 기록한 사람은?', '지난 8일 신제품 발표회에 스티브 잡스가 생전 즐기던 옷차림으로 나타난 사람은?', '법무법인 바른에서 송무와 함께 장기적 관점으로 키워나가고자 하는 부분은?', '위대한 탄생은 초기에 어떤 프로그램을 모방했다고 비난을 받았나요?', '인베스코와 BG그룹플레이스를 공동구매한 회사이름은?', '올해 이전에 중국의 산업생산 증가율이 가장 낮았던 때는 몇 %인가요?', '연금저축 계약을 해지하지 않고도 중간에 돈을 찾아 쓸 수 있게 한 국가에서는 몇 %의 한도를 두었는가?', '신라시대에 만들어진 작품이라고 추측하는 근거는?', '도요타가 원예업종으로 사업을 확장하면서 유리온실을 만든 지역은?', '현재, 가전제품의 관세는 몇 퍼센트인가?', '전기와 전자가 서로 유도하는 원리를 활용해 만든 물건은?', '변경 전 제도에 의하면, 특별통관 업체는 최소 얼마를 보유하고 있어야 했나?', '일본 IP시스템에 관해 강연하는 사람의 직책은?', '김균섭 사장의 후임이 결정될 때까지 대리로 사장 업무를 보는 사람은?', '석동현이 의식한 최근의 수해는 어떤 도시에서 발생했는가?', '헤레라가 처음으로 패션쇼를 개최한 나라는 어디인가?', '외계인이 주인공을 괴롭히는데 사용한 것은?', '속도제한 구간에서 자동으로 감속해주는 기술은?', '독립 운동가들의 고단한 삶에 대한 기록물은 언제 공개되었나요?', '새우를 죽음에 이르게 할 정도의 영향을 주는 바이러스는?', '규제로 인해 어떤 종류의 매장이 증가했는가?', '한은이 장기적 차원에서 투자규모를 확대해 나갈 방침임을 밝힌 외화의 종류는?', '두위밍이 창춘 시를 점령한 해는?', '완전 자본잠식이 우려되는 기업은?', '북지황군위문단 파견에 지원을 해준 기구는?', '바이두가 산 회사에 자본을 제공한 회사는?', '볼세비키에 참가해 볼세비키의 군적 역량을 강화시킨 사람은 누구인가?', '숲과 나눔이 주최하는 행사가 열리는 장소는?', '리싼치가 현재 근무 중인 회사에 입사한 시기는?', '카리용 전투에서 영국 육군이 조지 호수 해안에 상륙했을 때, 그곳에 방치되어 있던 물자와 무기는 어느 나라 군대의 것이었나?', '무엇을 감소시키기 위해 조현병 치료제를 꾸준히 먹어야하나요?', '2008년에 가족친화인증제도의 인정을 받은 기업은 몇 개인가?', 'CES에서 기조연설을 한 사람 중, 자동차 기업의 대표를 맡고 있는 이의 수는?', '연역법과 같이 수학에서 증명하는데 사용할 수 있는 방법은?', '스트라빈스키가 \"스위스 시계 장인\"이라고 칭한 인물이 사망한 해는?', '전국 아파트값 상승률이 가장 적었던 정부시기의 대통령의 이름은?', '헨나 호텔에서 고객 인증을 위해 설치한 장비는?', '최고의 실내악 공연장은 언제부터 이용할 수 있나요?', '박해룡이 빈번하게 사용하는 그림 소재는?', '관료 출신이 회장이 되었다는 이유로 출근하지 못하고 있는 인물은?', '신흥 경제국의 자본이 빠지게 된 이유는?', '후타마타구치 전투가 일어났던 달은?', '서울 아파트의 평균 임대수익률 4위를 차지한 자치구는?', '1993년 두산그룹이 맥킨지에 의뢰했던 업무는?', '8명 이상의 노동자를 고용하여 영리활동을 하는 경제조직은 언제 이후부터 출현하였나?', '심노숭의 배우자가 사망한 해는?', '음향기기에서 외부소음을 줄여주는 기능은?', '김영철 변호사가 KCL에서 일하기 시작한 때는 언제인가?', '대선 보도 진단 연속 세미나가 주최되는 건물은?', '컴투스 모바일 게임 중 굿바이2020 꾸러미를 제공하는 게임은?', '김남윤이 교수 생활을 시작한 때는?', 'PP에 대한 33% 매출점유율 규제 적용을 사실상 받지 않는 방송시장은?', '포랭과 로트렉, 도미에의 공통된 성향은?', '오바마 대통령은 백악관에서 누구와 협의하였는가?', '펜트하우스가 있는 건물의 층 수는?', '실버 암보험 연간 보험료가 가장 저렴한 보험사는?', \"2020 마스크팩 어워즈'가 끝나는 날은?\", '오자와가 핼시를 꾀어내기 위해 손실을 감수한 것은?', \"자이드 미래 에너지상'의 접수 마감일은?\", '국내에서 박사학위를 취득한 외국인 중 네 번째로 많은 국적을 차지하는 나라는?', 'ABP 출장소가 있는 장소는?', '애널리스트들이 등재되어 관리되는 곳은?', '한국전력은 본사를 어디로 옮기는가?', '차명거래가 위법에 해당하지 않는 품목은?', '난방비 지원에 투입되는 총 예산은 얼마인가?', '코르비니아노가 비판한 인물은 누구와 혼인하였나요?', '레닌그라드 제품보다 결점이 적은 전차포를 생산하는 공장은 어디인가?', '업데이트가 된 세인트헤이븐의 정보를 알려주기 위해 만들어진 것은?', '한나 아렌트가 악의 평범성에 대해 이야기한 저서는?', '유브이알의 기술이 발표되는 날은 언제인가?', '작년 전국 공동주택 공시가격의 상승률은?', '영덕군 주민 투표는 며칠 동안 진행되는가?', '반기문 사무총장이 방문 예정인 달에 22일간 설치될 등의 개수는?', '이보 안드리치가 시집 <알리야 제르젤레즈의 여행>을 발표한 해는 언제인가?', 'SIECA 소속 국가들의 전년도 GDP를 합산한 금액은?', '현 사태에 대한 미 정부의 대응에 긍정적 신뢰를 표시한 인사는?', '작년 1억달러 이상 초호화 주택의 거래 건수는?', '안희정 지사가 참여하는 팸투어가 이루어지는 날짜는?', '옐로모바일이 최근 인수한 인도네시아 회사는?', '월세 60% 공제 혜택을 받을 수 있는 최대 연 소득액은?', '폴이 어릴 적 성적으로 흥분을 느꼈던 대상은?', '캄보디아 여당의 이름은?', \"휴가에 '뱅크 2.0'을 읽고자 하는 사람 이름은?\", '<수도원에서 배우는 경영의 지혜> 속에서 등장하는 신부가 수도원의 재정을 관리한 햇수는?', '일월회가 창설된 곳은?', '신흥국 위기론의 부풀려진 단면을 지적하며 그 근거로 기디언 라크먼이 예를 든 나라는?', '6개월 무이자 할부를 할 수 있는 사람이 받는 상품권 액수는?', '고교생용 국가영어능력평가시험을 개발한 곳은?', '전체의 95%가 5만원이 넘는 상품으로 구성된 선물세트는?', '19세기 가곡이 성행하는 데 큰 역할을 한 인물은?', '블룸버그상품지수를 계산할 때 사용된 원자재의 개수는?', '대제학을 지낼 수 있는 유일한 사람은?', '아반떼 모던에 적용되는 세금의 기준은?', '김승유가 국제경영특강을 진행한 시기는?', '기관이 특별공급 대상자를 전체의 15% 비율로 선정하고자 할 때 필요한 것은?', '2016, 2017년 동안 초록우산어린이재단이 도움을 준 기관의 수는?', '세종대 국제학부의 사업을 대학 특성화 사업으로 채택한 부처는 어디인가?', '대한상공회의소의 설문 결과, 절반 이상이 선택한 답은?', '최초의 점성술 체계는 언제 등장했나요?', '우리은행에서 스마트폰으로 대출받을 수 있는 최대 한도는 얼마인가?', \"렉스'의 뼈를 만든 물질은?\", '이명희가 입사 이래로 세 번째로 맡은 직책은?', '이랜드그룹에서 2008년 이후 처음으로 분양하는 아파트의 위치는 어디인가?', \"글로벌 강소기업' 중 상장회사는 몇 개인가?\", '나스닥에 두 번째로 많은 기업들을 상장한 나라는?', '아들이 무엇을 옮겼기 때문에 아들의 어머니가 돌아가셨나?', '이를 빈약한 용이라 여긴 국가는 어디인가?', '1995년 사단법인 인가를 받은 곳의 현 회장 이름은?', '카를이 교황으로부터 신성 로마 제국 황제관을 부여받은 장소는?', '민간 CEO가 손보협회장에 선임된 건 몇 년만의 일인가?', '옛날 어부들이 육수를 만들기 위해 사용했던 것은?', '대학생들의 스타트업 인턴경험이 창업가능성을 높인다고 한 사람은?', 'G6에 소속된 회사는 총 몇 개인가?', '국민연금 가입자의 평균소득 상승의 결과로 수령액이 오른 연금은?', 'ST가 새롭게 내놓은 쇼트키 다이오드의 정격전류의 범위는?', '시에라 네바다 산맥에서 할 수 있는 스포츠는?', '인천공항의 창고 활용도를 높이기 위해 조정한 건폐율 수치는?', '조양호 회장에게 한진해운의 경영권을 넘겨받은 사람은 어떤 관계인가?', '연령에 따라서 디자인을 조절할 수 있는 물건을 낸 회사는?', '남자친구를 잃은 슬픔에 대해 《Moonlight Shadow》에서 말한 인물은?', '최경환이 환영의 말을 전한 행사가 있었던 장소는?', \"국내 조선 '빅3'가 주최한 회의가 진행된 도시는?\", '전산학 발전 초기단계에서 아끼고자 했던 자원은?', '어떤 사건을 배경으로 새로운 여객선 정책이 등장했는가?', '페라리 로마가 입상한 시상식이 처음 열린 해는 언제인가?', '에너지 기본권의 의미를 포함하는 법 조항은?', '진나라에 복종하려 했지만 대부들의 저항이 심했던 나라는?', '5년간 1조 2000억원을 투자하겠다고 밝힌 기업의 대표 이름은?', '군사 전초 기지의 용도로 쓰인 도시는 언제 만들어졌나요?', '정조가 태어난 해는?', \"짜오차이바오'를 판매하는 회사의 지급결제사는?\", '환율 변동폭에 대한 회의가 열리는 날짜는?', '우미린 센트럴파크의 최고 층수는?', '학군이 좋은 곳에 있는 집을 의미하는 말은?', '수도권 KTX의 수혜지로 언급된 아파트 이름은?', '스웨덴의 비르지타가 일찍이 스웨덴 왕실과 깊은 관계를 맺도록 기여한 인물은?', '이다혜의 아버지는 무슨 종목을 하던 사람이었나?', '전조선축구대회에서 이영민과 라이벌 관계로 경기를 뛴 선수는?', '1874년 귀국 이전 쓰보이가 머물던 국가는?', '음악 저작권 처리 과정의 다양한 예에 대해 설명할 사람의 이름은?', '우에르타가 통치권을 가지고 있었을 때, 그를 옹호한 국가는?', '배임죄가 위태범 또는 위험범이 되는 나라는?', 'GS샵이 제조사와 연결을 지원해준 디자이너 이름은?', '삼성전자 주요 인사들이 다같이 어벤져스를 볼 영화관이 있는 지역은?', '아폴로13의 우주비행사를 지구로 귀환시키는 데 활용된 이론을 만든 사람은?', '12일 방하남 장관의 특강이 열린 교육기관은?', '삼성 SDI와 하나가 된 삼성계열사는?', '신동빈의 명령으로 인사를 앞두고 처음 개최하는 회의는?', 'GSK에서 누구의 의견으로 사장실이 사라졌는가?', '아부나얀 회장이 저가수주 문제 해결 방안으로 거론한 대상국들이 속한 대륙은?', '건당 배송 수입 500원을 지급하는 회사 이름은?', 'KT가 에너지 관제센터를 세운 지역은?', 'TAIT가 설계한 공연기술이 활용된 뮤지컬은?', '이랜드는 며칠에 표창을 받았는가?', '기업공감 원스톱서비스를 이용한 후 에이알텍의 연매출은 얼마나 증가했는가?', '산업활동동향이 두 달째 하락세인 산업은?', '메디치 가문의 몰락 후 토스카나를 넘겨받은 사람은?', '일본식품시장의 해외인수합병에 영향을 준 내수시장의 직접적인 원인은?', '자산 2조원 이상의 기업에 적용되는 법안이 이사회의 감독 기능과 분리하고자 하는 것은?', '인도에 처음으로 설립된 초코파이 공장은 어느 도시에 있는가?', '동화사 석조비로자나불이 제작될 때, 당시 임금은 누구였는가?', '조 수석의 배우자가 예금을 넣은 저축은행은 모두 몇 곳인가?', '정약용이 가장 중요하게 생각한 독서법은?', '작년에 비해 메리바 판매량의 감소율은 얼마인가?', '8월 이후 2개월 연속으로 수치가 줄어든 것은?', '한국의 주먹밥과 비슷한 일본의 음식은?', '불공정거래 혐의로 입건된 삼성전자 직원이 산 주식은?', '동서발전의 모회사는 어디인가?', '하스타티들이 사용하지 않은 무기는?', '세미놀과 협상을 시도했던 인물은?', \"아프리카의 여왕'이 단 하나의 스크린에서만 상영한 동기는?\", '바르나 십자군의 구성국가는?', '딜로직의 조사에 따른 인수합병 자문 8위를 차지한 글로벌 투자은행의 자본 규모는?', '국기 중앙에 자리잡고 있는 국장은 어디에서 따왔는가?', '단양 우씨 마을의 유래에 관한 사연이 있는 나무는?', '윤치호의 사망원인은?', '올해 IFA에서 삼성의 생활가전 전시가 차지하는 면적은 몇 ㎡인가?', '글로벌 500대 기업 CEO 중 게이오대 출신은 몇 명인가?', \"시그널'을 제작한 회사 대표의 이름은?\", 'B형 항성보다 비이형 별의 스펙트럼에서 더욱 뚜렷하게 나타나는 현상은?', '어머니가 모든 재산을 가지고 사라졌다는 소식을 전해준 사람은?', '전국경제인연합회에 전용 빌딩이 처음 생긴 해는?', 'CMV에서 2위한 차의 이름은?', '유숙열의 두 번째 근무지는?', '꿀풀목 가운데 가장 큰 과와 생김새가 비슷한 과는?', '유방암 건강강좌의 첫 번째 강좌명은?', '페라타 제6군단은 기원전 41년에 누구와 동방에 있었나요?', '아카데미 시상 이전에 러닝 투 스케이트보드 인 어 워존이 상을 받은 시기는 언제인가?', '러시아가 ISIL과 타 반정부 단체와 전투를 벌인 년도는?', '릴레이 기부 콘서트가 시작한 시간은?', \"섀도우버스 코리아 오픈 2020 시즌 1' 8강 경기가 열린 첫날은 며칠인가?\", '콘티넨탈과 함께 음향 기술로 수상을 이끌어낸 곳은 어디인가?', '이승철, 이동근 등의 일행이 의장실에 가기 전 새누리당 사람들과 의논한 법은?', '코흐보다 4년 앞서 노벨상을 받게 된 인물은?', '돔 아트홀에서 열리는 공연의 이름은?', '심우섭을 모티브로하여 만든 인물이 등장하는 책 제목은?', '상반기 대비 상승폭이 둔화될 것으로 예상되는 지표의 전년 대비 올해 상승률은?', '한국판 뉴타입의 간행이 폐지된 해는?', '뚜껑이 조롱박 꼭지를 닮은 작품의 이름은?', '버넘이 허빅-아로천체를 찾아냈을 때, 사용한 물건은?', '펜타곤을 방문한 박근혜 대통령을 위한 의장행사 식순의 네 번째는?', '행복공감봉사단 1차 활동이 진행된 달은?', '완다그룹의 빠른 성장을 도운 핵심 요인은?', '윤종국이 64억원의 발전기금을 낸 해는?', '환경을 고려해 불스원이 향기캡슐 제조에 사용한 것은?', '위상수학을 상권분석에 이용하는 회사는?', '주기적으로 고혈압, 두통, 다한등의 증상을 일으키는 병의이름은?', '자산가들에레 과세가 되는 금융소득 기준액은?', '이번 황금연휴 첫째날, 순천만국제정원박람회에서 이전의 하루 최고 관람객수를 넘어선 시각은 언제인가?', '12일에 일시적으로 작동하지 않은 것은?', '10월에도 마늘값은 큰 변동이 없을 것이라고 예측한 사람의 이름은?', '임시판관에 임명된 사람의 2010년 당시 직책은?', '시기적으로 가장 나중에 출시되는 유니티의 버전은 무엇인가?', '이성당 본점이 있는 도시는?', '게를리히는 누구의 제보를 기사화했다가 히틀러에게 쫓기게 되는가?', \"마플샵'을 운영하는 회사의 대표의이름은?\", '천연두에 감염된 모든 사례 중 출혈성 천연두는 얼마의 비중을 차지하는가?', '다우케미칼 다음으로 정치자금을 많이 제공한 기업은?', '흰다리새우와 블랙타이거새우는 양식 새우의 몇 퍼센트를 차지하나요?', '주요은행 중 고객의 계좌 이동이 제일 빈번히 발생한 은행은?', '혈액암 4기를 극복한 신문 기자는 얼마 동안 투병을 하였는가?', '키카이다와 권투사 군단이 결투를 벌였던 장소는?', '교황 우르바노 2세가 그레고리오 7세를 원조했을 당시 그의 직책은?', '기술에 자신있다면 협력사라 해도 을이 아니라고 말한 사람의 이름은?', \"프레디 머큐리 대타로 '슈퍼소닉'에 서게 되는 사람은?\", '지난해 4년제 대졸 신입 사원의 평균 초임은 올해보다 몇 % 더 적었나?', '어떤 회사가 에틸렌을 80만t까지 만들어내는 능력을 가지고 있나?', '2·3·9광구를 낙찰받은 이탈리아 기업이 가진 지분은?', '올해 최고가로 거래된 아파트가 건축된 연도는?', '현대건설의 첫 번째 중동 진출국은?', '남조식물의 세포벽을 구성하는 주요 물질은?', '1895년에 서재필이 숨어있던 곳은?', '동로마 제국의 총대주교가 불가리아 총대교구를 정식으로 인정한 것은 어느 왕이 죽고 난 뒤인가?', '두 개의 지역으로 줄어든 후에 킬리키아의 명칭은 무엇으로 변경되었나?', '엑소세스템즈의 사무실이 있는 곳을 관리하는 주체는?', '세무공무원의 성과평가 방식을 상대평가에서 절대평가로 바꾼 회의가 열린 장소는?', '이웅 차장이 이용한 커리어마켓의 공간은?', '중국인 관광객에게 여행 정보를 알려주는 앱은 무엇인가?', '강다니엘이 처음으로 혼자 낸 노래가 천만 뷰를 달성하기까지 얼마나 소요되었는가?', '2011년 크리스마스에 열린 대부분의 축구 시합에서 내국 병사는 누구를 상대했는가?', 'SK 신입사원과의 대화를 시작한 사람의 이름은?', '기동전사 건담 SEED 중 만화판과 다르게 묘사된 화는?', '음악을 재생할 수 있는 삼성의 응용프로그램 이름은?', '스탠퍼드 동문기업의 연간 매출액은?', '메릴린치가 BoA에 넘어가고 흡수합병되기까지의 기간은?', '한독의 2011년 매출은?', '루돌프는 누구 다음으로 죽었는가?', '대한변협이 헌법재판소법에 대한 헌법소원을 낸 날은?', '성하 마을과 주요 도로를 정비한 연도는?', '배치 기반의 엑셀러레이팅 프로그램을 최초로 실행한 나라는?', '중상주의 시기에 콜베르는 어떤 국가의 산업을 보호하려 했나요?', '두 콘덴서 종류를 나누는 기준은?', '미에빌이 2001년 선거에 출마해 얻은 득표 비율은?', '대학원에서 수업을 듣던 시절 소설을 출품하던 곳은 어디었는가?', '고문철 사장이 출강했던 교육 기관은?', '국내 수입차 개인 구매 비중이 80%를 초과한 차량을 생산하는 나라는?', '강남규의 직장은 어디인가?', '어느 나라의 업체가 시디즈 의자 디자인을 도와주는가?', '텐스카타와의 개명전 이름은?', '토탈과 삼성종합화학이 공동으로 자본을 마련하여 경영하고 있는 회사는?', '그랜드 인터컨티넨탈에서 숙박 가능한 최고층은?', '눈 밑 지방에서 추출된 줄기세포로 쥐에게 실험한 결과가 수록된 전문 잡지는?', '전통적인 노동당 공약을 다시 내건 인물의 이름은?', '금년 베네수엘라의 물가는 몇 % 까지 증가할 예정인가?', '해외에서 돌아온 기업이 보증료 7000만원을 내면 얼마를 지원받을수 있나?', '마가다와 다이아몬드 채굴권을 협상한 나라는 어디인가요?', '특경비 사용지침을 마련한 정부 부처의 이름은?', '오스트리아 황제가 항복했던 해에 나폴레옹이 패배했던 나라는?', '올해 초에 새로 만들어진 정부부처의 이름은?', '갓반을 출시하며 각종 업체들과 협업에 개입한 11번가 직원의 직무는?', '제네시스를 가장 비싸게 사면 얼마에 살 수 있는가?', '더클래스 효성이 주최하는 캠페인의 종료날짜는?', '온라인 통합몰을 통해 가입하면 사용할 수 있는 유심을 만든 회사는?', '바빌론의 공중정원이 실존했는지 정확히 알 수 없는 이유는?', '국내 과학관 등의 시설이 소장하고 있는 자연사 자료가 총망라된 콘텐츠는?', '경제 패러다임을 창조경제로 정의한 사람의 이름은?', '메탈의 내구성이 뛰어난 이유는?', '세액 공제율이 가장 많이 올라간 경우는?', '오바마가 거부권을 행사한 이유와 관련되지 않은 특허는?', \"시계의 도시'로 불리는 지역의 명칭은?\", '1500호점는 위치는 어디인가?', '‘급격한 압력 해소(the great decompression)’라는 제목의 글을 출간한 곳은 어느 나라의 회사인가?', '기재부가 재정 다이어트를 주문한 해의 세수진도율은?', '신경림 씨가 작년에 방문한 국가는?', '새정부를 만드는데 가담하지 않은 사람은?', '이셴 층을 두가지 방법으로 측정했을 때 다른 결과가 나온 부분은?', '이번 회계연도에 900억엔을 투자한다고 발표한 사람의 이름은?', '베르니츠 강과 라슈트 강이 만나는 곳 부근에서 코네티컷 연대와 만나 전투를 벌였던 프랑스 부대는 어디인가?', '지난 6개월간 오피스빌딩의 세계 최고 가격 상승률은 얼마인가?', '밤에 임 회장을 찾아간 사람의 직위는?', '우한에 공장을 신축중인 자동차업체의 소속 국가는?', '체력아이템이 없는 경우 둘리의 체력을 회복하려면 누구를 처치해야 하는가?', '싱글생활연구소가 출간된 해에 선보인 이음소시어스의 데이팅 서비스는?', '여러 명의 생각을 합쳐 보다 많은 이익을 얻는다는 의미의 네 글자 단어는?', '독일 기사단은 누구의 지휘 아래 트란실바니아로 이동했나요?', 'LG 측 회사와 국토부, 제주도 사이에 그린 모델링 관련 계약이 성사된 시기는?', '부작용 우려가 없는 대상포진 치료 시술 이름은?', '조선인민공화국에서 최고로 높은 직위에 오른 자는?', '리골레토 개막일 공연시각은?', '한중을 공격 시, 군량과 운송이 속한 조조의 부대는?', '파라다이스시티에서 페스티브 위크를 개최하며 참여할 사람을 결정하는 방식은?', '6월에 사이버 공격으로 인해 가동이 중지된 공장은 총 몇 군데 인가?', '금융위원회에 텔레마케팅 영업제한 조치의 무효화를 요청한 기업은?', '전자태그 갱신제와 함께 도입되는 제도는?', '동화산업의 사장이 한 명이 된 시기는?', '간선도로 교통량이 최근 10년동안 두 번째로 높았던 차종은?', '모세상은 누구를 위해 만들어졌었는가?', '갤럭시노트4 S-LTE의 공시지원금을 3배 받을 수 있는 첫 날은 언제인가?', '고속 노칭 커팅 매거진 장비의 생산속도는?', '스파르타군과의 전투에서 트라쉬불로가 노예들에게 제안한 것은?', '면역력이 약해져서 아시클로버의 약효가 발휘되지 않을 때 쓰는 것은 무엇인가?', '현대산업개발이 구리갈매지구에 건설할 아파트에서 가장 가까운 지하철역은 어디인가?', '퍼거슨 시에서 흑인이 백인보다 더 많아진 년도는?', '7년이상 가입 유지시 금융소득세를 면제해주는 금융 상품은 무엇인가?', '공제율과 공제 한도를 늘림으로 주거비 부담을 더는 대상은?', '섬이 침수되더라도 섬을 지키겠다고한 사람은?', '작품에서 로즈의 남자친구 역할을 맡은 배우는?', '중국에서 제조된 H형강이 금년 1월에서 6월까지 국내에 반입된 양은?', '정 명예회장이 그린혁명을 언급한 해는?', '백제 시대에 사면불 조성을 추진한 왕은?', '직원들에게 커피를 공짜로 제공하는 회사는?', '함영주가 두 번째로 근무했던 은행 지점은?', '박근혜 대통령의 중동 4개국 순방 일정에 모두 동행하는 사람은 누구인가?', '가장 많은 지지를 얻은 기획자의 이름은?', '현재 삼성전자에서 1위 실적을 내는 사업은?', '건강기능식품에 금지된 재료를 넣은 경우 늘어난 징역형의 기간은?', '지식기반사회 변화에 부응하는 창조적 인재육성의 중요성을 말한 사람의 이름은?', '메가박스의 패키지 중 관람권이 더 많이 포함된 것은 얼마인가요?', '헥토르의 부인을 노예로 부렸던 인물은?', '인도네시아의 롯데마트가 일부 고객에게 제공하는 할인의 이름은?', '2008년 9월 29일 이후 최고치를 찍은 주식의 주가는?', '다이어트 음식으로 소비되었던 음식은?', '과거 우리나라의 전국지는 어디서 출간되었나?', 'LG 계열사 중, 영업이익률이 가장 많이 감소한 곳은?', '작년 한 해 동안 정부가 거두어 들인 세금은 얼마인가?', '일렉트로마트에서 참여할 수 있는 이벤트는 며칠에 끝나는가?', '우버의 고급 서비스만 이용할 수 있는 나라는?', '동부간선도로를 지을 때 나라에서 보조해주는 금액은?', '마사키가 라기아스에 남을 수 있었던 이유는?', '주간2교대 시행 이후 북구지역 당구장은 몇 개인가?', 'SaaS를 이용하는 회사는 어느 나라 회사인가?', 'Yoo Doo Right이 수록된 앨범명은?', '농심이 처음 신라면을 내놓은 때는?', '스트리밍도 공연보상금 대상에 포함된다는 판결이 난 재판의 피고는 누구인가?', '포럼의 1~2일차에 열리는 설명회는 몇 개의 분야를 다루는가?', '중국이 6.2%의 경제성장률을 보인 것은 얼마 전인가?', '메리어트 인터내셔널과 제휴한 호텔의 개장은 언제인가?', '롯데백화점 문화센터점에서 젊은 층의 소비에 대응해 새롭게 들인 브랜드는 무엇인가?', '노준석 교수팀에서 메타표면을 만들 때 사용한 재료는 무엇인가?', '만지로가 나카하마 성을 부여받은 해는?', '기존보다 더욱 강력한 몬스터들이 출현하는 던전은?', '이우종을 TV에서 보기를 고대하고 있는 사람들은?', '민주당 내부의 갈등을 해결하기 위해 양보한 측은?', '은빛 성기사단의 첫번째 성기사 이야기를 완료하면 받는 보상은?', '물쉼표 프로젝트는 누구를 타깃으로 하는가?', '조현아 부사장이 대한항공에서 처음 근무를 시작한 부서는?', '고속 NCM 장비의 최대 생산 속도는?', '무료 전자 잡지를 이용할 수 있는 라운지탐탐 지점은 어디인가?', \"김주원의 마그리트와 아르망'에서 아르망 역을 맡은 무용수의 이름은?\", '태광산업의 조직개편 이후, 신소재 관련팀은 무엇으로 바뀌는가?', '4월에 월매출 94억원을 기록한 약의 이름은?', '자유무역지역 입주 자격과 관련있는 법령은?', '현대자동차 면접에서 옷에 대한 규정이 없는 면접은 몇 차인가?', '창조신화는 누구에 의해 계획하고 실행된 것으로 그려지나?', '정홍원은 검사로 활동한 뒤에 어느 기관에서 일했나요?', '코시모는 누구로부터 교육을 받았나?', '진주만 작전에서 제3차 공격강행을 반대한 인물은?', '일본 100엔숍 계열사 중 4위 회사는?', '2015년 곡물 조달사업을 주도하는 측은?', '용산관광버스터미널 부지에 들어서는 호텔의 공사가 착수되는 해는?', '1919년 비트겐슈타인의 원고를 대신 출판한 사람은?', '28일 오후에 치유 농장 관련 다큐멘터리를 방영하는 채널은?', '윈터 에디션이 주제인 행사가 시작되는 달은?', '현판에 임영관이란 글씨를 자필로 쓴 사람은 누구인가?', '류한욱이 두 번째 뇌출혈로 쓰러진 공간은?', '조작설의 근거가 되는 물건은?', '11월 11일 첫 방송하는 작품의 미래 이야기를 다룬 작품은?', '프랑스군의 옆을 공격하여 그들을 퇴각시켰던 집단은?', '앨범준비를 하고 있는 가수와 게스트로 방송에 나간 사람의 이름은?', '뮌헨 협약을 통해 전쟁을 모면하려고 했던 영국 총리는?', '왕망에 대한 계략을 꾸민 이들 중 주살되지 않은 이는 누구인가?', '칠갑산 암각화의 그림은 어떠한 방식으로 표현되었나?', '세종시와 과천 땅값 변동의 공통 요인으로 작용한 것은 무엇인가?', '발코니 확장비를 지원하는 아파트는?', '서울대학교 다음 총장으로 출마한 후보 수는?', '높은 기온과 과식으로 인해 유발되는 증상은 무엇인가?', \"번지 점프를 하다'의 첫 공연이 열린 때는 언제인가?\", '밀월 관계로써 미국이 지속적으로 보급하고 있던 것은?', '생활편의시설을 공유할수 있도록 아파트 단지내에 조성되는 오피스텔을 지칭하는 말은?', '경기를 홍보하기 위해 언급된 사람은?', \"보스포러스 제3대교'의 주탑 건설 공사장의 책임자는 누구인가?\", '행복주택 사업승인을 받은 지방 가구 수는?', '24일에 희망스튜디오로부터 태블릿 PC를 기부받은 곳은?', 'SKC솔믹스가 불량률을 줄이기 위해 개선하려는 것은?', '관중석이 가득 찼다고 전한 인물과 대화한 사람의 이름은?', \"LH 비발디'와 'LH 꿈에그린'를 보금자리주택으로 분양하도록 한 대통령은?\", \"휘리리후 휘리리후'를 볼 수 있는 것은 며칠까지인가?\", '쿠팡에 10억 투자한 회사를 이끄는 인물의 이름은?', '권성 전 재판관이 진보적 민주주의를 빗대어 변론으로 인용한 문구는?', '제재금 관련 규정을 불공정하게 만든 손해보험사는 몇 군데인가?', '망포역까지 걸어서 10분 거리에 위치한 아파트는 무엇인가?', '미군이 충원되지 않으면 서울이 전쟁 시작 후 2주만에 함락될 것이라 밝힌 문서는?', '13~23일 기준, 대한항공의 동남아노선 예약률은?', '4개 기업이 강의하는 행사는 언제부터인가?', '김집이 몸이 아파서 내려놓은 관직은?', '쇼보트 카지노의 영업 기간은?', '한위수가 판사를 그만 둔 연도는?', '자동차 튜닝 규제에 관한 건의가 나온 날은 며칠인가?', '주인공에게 매번 살려달라는 간청을 받았던 인물은?', '아다케부네가 제작 된 시대는?', '최고경영자들의 모임인 삼성 수요사장단회의 이전 명칭은?', '자녀가 어른이 아닌 경우 증여세 감면 범위는 얼마인가?', '이번 면세점 특허는 몇 사람이 심사하는가?', '포커스온유의 행사가 시작되는 날짜는?', 'LG 트윈타워에서 임원세미나가 열렸던 날짜는?', '2020년 하계올림픽 개최지를 결정하는 투표에서 도쿄에게 밀린 곳은?', '이인종 부사장이 대통령상을 수상한 날은 언제인가?', '현대자동차와 함께 스마트카를 개발하려는 정보기술(IT) 업체는?', '할머니가 노이에 대한 걱정을 이야기했던 인물은?', '기간 한정 특수 서버의 회원들이 캐릭터를 이전할 수 있는 날은 언제부터인가?', '박 대통령이 스탠퍼드대 연설에서 처음 사용한 말은?', '닭고기 소비량에 큰 영향을 미칠 것으로 예상되는 질병은?', '스웨덴 총리와 독일 총리가 만난 지역은?', '작년 국산 자동차는 해외에서 얼마나 팔렸나?', '세계에서 글을 읽지 못하는 성인은 몇 명인가?', \"페코타'를 만든 인물의 이름은?\", '사슴 동상이 위치한 동은?', '평택 소사벌 중흥S-클래스에서, 부엌에 큰 창고가 있는 가구 수는?', '업로드와 다운로드 시 같은 주파수 대역을 쓰는 LTE 방식은?', '피에르 루이지 반대 세력이 지지했던 사람은?', '컵라면 매출에서 불닭볶음면을 이긴 상품은?', '161개의 집터 근처에서 발견된 석실묘의 개수는?', '홍콩을 온라인으로 여행할 수 있는 무료 행사는 몇 월 며칠에 시행되는가?', '낮은 월급 대신 복지를 지원받는 고용 형태가 법률로 제정된 년도는?', '기업에서 오픈프라이즈를 활용할 수 있는 분야는?', '잘못된 진실 덕분에 새로운 땅을 개척한 사람은?', '이호제가 통솔했던 부대가 거의 궤멸된 시기는?', '전래식 화백의 작업실이 위치한 지역은 어디인가?', '특검팀에 파견되었던 인물의 이름은?', '‘BMW M 클래스’가 넥센타이어에게 후원을 받고 있는 타이어의 장점은?', 'KB 중개업소 회원들이 평가하기에 집값 상승에 두 번째로 영향을 미친 것은?', '김광진이 과거에 연습을 구경하곤 했던 농구 선수의 이름은?', '웹어워드 코리아 2020에서 대상을 받은 웹의 주제는?', '신문 <파시스트 정권,Il Regime Fascista>의 주된 논조는?', '현대어린이책미술관 개관 그림책 전시회의 테마는 무엇인가?', '트리마제 아파트는 언제부터 거래되기 시작했는가?', \"한양대학교 대학원생이 '스마트 계약 및 탈중앙 애플리케이션'을 들을 수 있는 첫 번째 날은?\", '올해 8월 말 기준 60세 이상인 카드회원 수는 몇 명인가?', '남학생 선호 2순위 향수 브랜드는 무엇인가?', \"아! 나는 사랑했었네' 를 부른 사람의 이름은?\", '돈 봉투를 건네주라고 명령한 사람으로 의심 받은 사람은 누구인가?', '멜론 이용자와 아티스트 간의 소통을 목적으로 진행된 이벤트는?', '호프만 폭동이 수습된 해는?', '러시앤캐시는 광고를 통해 어떤 회사라는 이미지에서 탈피하고 싶어하는가?', '동승콜로 택시를 잡을 수 있는 시간대는?', '브릴리언트 아이디어 1화에서 다루는 인물은?', 'CJ오쇼핑에서 가장 많이 판매된 브랜드의 이름은?', \"삼성물산을 '머시 게이트웨이' 프로젝트에 초청한 회사는?\", '비행기가 추락할 때 첫 번째로 떨어진 것은?', '주말 방송가를 장악한 프로그램 중 김건모가 출연한 프로그램의 시청률은?', '클라우제비츠가 군인이 된 것은 누구의 영향인가?', '퍼스트 스트라이크 선발전에 출전하는 상위 8개 팀이 경기를 시작하는 날짜는?', '금수원 신도와의 충돌을 막기 위한 대책이 이루어진 곳은?', '비행기를 통해 입국하는 사람들이 반드시 써서 내야하는 것은 무엇인가요?', '베트남에서 일어난 시위의 원인으로 중국이 억지로 실행한 것은?', '신창재가 재무설계사들을 격려하기 위해 낭송한 시는 누구의 작품인가?', \"해군기지 결사반대'를 외치며 공사차량을 막은 인물의 직업은?\", '롯데월드타워가 들어서는 동네의 현재 3.3㎡당 전셋값은?', '남양주~서울 강남 구간을 30여분 만에 이동하기 위해 이용할 수 있는 길은?', '농지법을 개혁할 당시 카이사르의 직위는?', '민생과 경제살리기 법안에 집중해야 한다고 주장한 사람의 이름은?', '프란치스코 교황이 청와대에 오기 전 방문한 동네는?', '연희의 직업은?', 'LNG선과 해양플랜트 부문에서 안정적으로 흑자를 내고 있는 회사는?', '자기 삶의 전환점이 되었던 질문을 책에 실은 저자는?', '특별인출권 바스켓통화 변경 심사가 원래 예정되었던 달은?', '신장기능 평가수치를 비교 연구한 교수팀이 속한 대학은?', '프리미엄 혜택을 받기 위해서는 얼마의 금액이 드는가?', '지급되는 교육·연구 지원금은 총 얼마인가?', '다이어트시 근육을 유지 및 증가시키기 위해 섭취해야 하는 영양소는?', \"투란도트' 광저우 공연을 지휘한 사람은?\", '오늘날 역사적인 장소로 알려진 곳은?', '프란치스코 교황의 즉위를 축하하기 위해 국내에서 미사가 열리는 날짜는?', '지난 1~9월에 전체 공항 이용객 중 환승객 비중인 환승률은 몇 퍼센트 떨어졌는가?', '다음 세계교육포럼이 열리는 해는?', '작년 정부가 세월호 사고에 사용한 사고수습 비용은?', '대학 총장들이 대학교육에 두 번째로 가장 영향을 많이 주는 것으로 꼽은 정책은 무엇인가?', '2020 NeurIPS에서 뽑힌 논문을 작성한 곳은?', '20일 기준 아모레퍼시픽 회장이 보유한 상장 주식의 총 가치는 얼마인가?', '모두의마블이 연상케 하는 게임은?', '이번 모의평가에서 다른 과목과 달리 영어는 어떤 형태로 시행되었는가?', '한국벤처투자가 고른 운용사 개수는?', \"침묵의 봄'은 어느 해에 나왔는가?\", '박장적 부회장의 경영진 자리에서 내려온 이후의 직책은?', '23일 SK하이닉스 주식의 종가는?', '영어로 의사소통하는 식당 중 피자를 판매하는 곳의 이름은?', '중국 1위 부자는 완다그룹 회장이라고 밝힌 곳은?', '전라북도가 현재까지 살처분한 오리의 수는?', '주택담보대출시 5년 이내에 대출을 갚을 계획이라면 어떤 금리를 선택하는 것이 유리한가?', '대청아파트의 기존 리모델링 시공사는?', '테마기획전에서 국산 RV 차량을 선보인 기업은?', \"Moon' 선수가 'Eer0'선수를 3:0으로 이긴 날은?\", '12년간 일했던 사외이사의 임기를 늘린 회사는 어디인가?', '윤치호의 아내는 누구의 부인을 방문했나?', '나카무라 슈지가 졸업한 대학은?', '정부 실태 조사에서 배제된 기관은 몇 군데 인가?', '성현의 위패를 모시는 곳이 위치하는 방향은?', '광둥 음운 강의를 했던 사람의 이름은?', '스퀠쾨더가 남군 해군에 인도된 시기는?', '해피랜드의 매출에서 골프의류가 가지는 비중은 얼마인가?']\n",
            "1203\n",
            "{'guid': ['844e22ab28924c1697d5ac28801b34c1', '31650c1dfb3a46c09c6600cfc31b1ec4', '925dbda8c7a0474a832b87e99c6afaec', 'f15f6ce1a422400c951878df7649b12d', '2824772bc3ce4aaba089c192b30a7dc3', '73c4446c192846208336410e3bfe9d05', 'f0f59825d2634635a4615476a506a4e9', '6253d0278e264a28a048f8bf986b8b57', 'dfe026ffcaf24af9862df6d77b5a183b', '517499a00e6648df8dbf2983dfa7d8f0'], 'context': ['지난해 주요 연극상을 나눠 가졌던 세 편의 작품이 올봄에 나란히 앙코르 무대를 갖는다. 대한민국연극대상 연기·무대예술상, 동아연극상 작품·희곡·연기상 등을 수상한 ‘알리바이 연대기’(17~20일 대학로 아르코예술극장 대극장, 25일~5월11일 서계동 국립극단 백성희장민호극장), 연극대상에서 대상과 희곡상을 받은 ‘여기가 집이다’(18일~5월22일 대학로 연우소극장), 연극대상 작품·연출상과 김상열연극상 수상작인 ‘황금용’(5월9~18일 서강대 메리홀 대극장)이다. 초연 당시 짧은 상연 기간과 낮은 인지도 등으로 공연을 놓친 연극팬에겐 평단으로부터 작품성을 인정받은 수작을 관람할 수 있는 기회다. ‘알리바이 연대기’는 희곡을 쓰고 연출한 김재엽의 가족사에 근거한 다큐멘터리 드라마다. 1930년에 태어난 한 개인의 사적인 연대기를 바탕으로 그 사이를 파고드는 역사적 순간들을 정밀하게 조명한다. 연출가는 “공적인 권력이 사적인 권리를 지켜주기보다 억압하기 일쑤였던 한국 현대사 속에서 개인은 언제나 무죄를 입증하며 하루하루 자신을 지켜내야 하는 ‘알리바이의 연대기’ 속에서 살아왔다”고 말한다.한국연극평론가협회는 이 작품을 ‘2013년 올해의 연극 베스트3’로 선정하며 “촘촘하고 세세하게 삶에 천착해 개인과 역사에 대한 이분법적 관점을 극복한다. 정치극에 대한 새로운 가능성을 보여줬다”고 평했다. 이 작품으로 연기상을 휩쓴 남명렬을 비롯해 지춘성 정원조 등 초연 배우들이 그대로 출연한다.‘여기가 집이다’는 허름하고 볼품 없는 ‘20년 전통’의 고시원에 모여 사는 사람들의 절망과 희망을 그린 작품. ‘차력사와 아코디언’ ‘택배 왔어요’를 만든 극단 이와삼의 장우재 대표가 직접 대본을 쓰고 연출했다. 나름의 규칙을 가지고 평화로웠던 고시원에 새로운 주인으로 등장한 ‘20세 고등학생’ 동교가 “이제부터 고시원 식구들에게 월세를 받지 않겠다”고 선언하면서 갑작스런 변화의 바람이 분다.날것 그대로의 직설 화법으로 풀어 놓는 풍성한 인생 이야기와 생동감 넘치는 극적 구조로 ‘집’의 본원적 의미와 삶에 대한 성찰의 기회를 제공한다는 평가를 받았다. 재연에서는 중견 배우 김세동이 장씨 역으로 출연해 박무영 김충근 한동규 류제승 김정민 등 초연 배우들과 호흡을 맞춘다.독일 극작가 롤란트 시멜페니히가 쓴 현대극 ‘황금용’은 독일 소도시에 있는 아시아계 간이식당을 배경으로 현대 물질사회와 세계화 속에 가려진 욕망과 폭력, 소외를 그린다. 치통을 앓지만 불법 체류자 신분으로 치과에 가지 못하는 한 젊은 중국인 요리사는 결국 비참한 최후를 맞는다.작품을 연출한 윤광진 용인대 교수는 “극의 배경은 유럽의 한 소도시이지만 서울이나 경기 안산의 어느 거리에서 일어나는 듯 우리에게 가깝게 다가오는 작품”이라며 “지하철에서 마주치는 외국인 근로자들, 그 옆에서 졸고 있는 우리의 이야기”라고 말했다. 이호성 남미정 이동근 한덕호 방현숙 등 초연 배우들이 다시 뭉친다.', '정부가 저축은행의 수익성 확보를 위해 내년 2월부터 펀드와 보험, 신용카드 판매를 활성화하기로 했다. 또 지역 밀착형 서민금융회사라는 저축은행 본연의 기능을 강화하기 위해 비 수도권 저축은행의 지역 내 점포 확장 기준을 완화해주기로 했다.금융위원회는 17일 이 같은 내용을 골자로 한 ‘저축은행의 건전한 발전을 위한 정책방향’을 발표했다. 금융위는 우선 펀드판매와 할부금융 등 법적 근거가 필요한 업무는 세부 시행기준을 마련해 활성화하기로 했다. 저축은행의 펀드판매는 불완전판매가 최소화되도록 기준을 마련해 제한적으로 허용된다. 할부금융은 하위 법령이 정비되면 내년 2월부터 취급할 수 있게 된다. 보험과 신용카드는 저축은행중앙회가 카드·보험사와 계약 후 모든 저축은행에서 판매하는 방식으로 추진된다.금융위는 아울러 여신심사 능력을 갖춘 저축은행을 선별해 △정책금융공사의 온렌딩(중소기업 간접 지원)대출 △주택금융공사 보금자리론 △미소금융 등과 같은 서민과 중소기업 대상 정책자금도 취급할 수 있도록 할 방침이다.영업실적이나 대출모집인 활용도를 평가해 지역밀착형·관계형 영업을 충실히 수행하는 저축은행에 대해서는 영업구역 내 점포를 신설할 때 증자요건 등을 완화(수도권 제외)해 주기로 했다. 금융위는 또 저축은행이 체계적인 신용평가를 통해 금리를 적용하는 대신 높은 수준의 최고 금리를 적용하는 경우가 많다는 지적에 따라 신용평가시스템(CSS)을 개선하기로 했다. 자체 CSS가 있는 대형 저축은행의 경우 은행권 수준으로 시스템을 발전시키고, 자체 CSS 구축이 어려운 저축은행은 중앙회의 표준 CSS를 활용하도록 하는 방식이다.금융위는 다만 서민 대출이 늘어날 것으로 예상됨에 따라 소액신용대출 비중이 높은 저축은행의 관리·감독을 강화하고 개별 차주에 대한 신용공여 한도(법인 100억원)의 적정성을 재검토하는 등 건전성 관리에도 힘을 쏟을 방침이다.', '전산 언어학은 인공 지능에 전제되는 분야로써 종종 다루어지기도 한다. 전산 언어학은 1950년대 미국에서, 외국어, 특히 러시아의 과학 잡지를 영어로 자동 번역하려는 노력으로부터 기원한다. 컴퓨터는 인간보다 수리적 능력이 더욱 빠르고 정확하다고 입증되었기 때문에, 기술적 세부사항에서 컴퓨터가 인간처럼 언어를 처리할 능력을 갖게 될 수 있는 것은 단지 시간문제라고 생각되었다.\\n\\n기계 번역(또한 기계적 번역)이 정확한 번역을 즉시 해내는 것에 실패했을 때, 인간 언어 자동화 프로세싱은 원래 여겨지던 것보다 더욱 복잡한 것으로 인식되었다. 전산 언어학은 언어 데이터를 지적으로 처리할 수 있는 산술과 소프트웨어의 발달에 힘입어 새로운 학문 분야의 이름을 가지고 탄생했다. 인공지능(AI)이 1960년대에 접어들면서, 인간 수준의 이해를 다루고 자연 언어의 생산을 다루는 전산 언어학의 분야는 인공지능의 하위 분야가 되었다.\\n\\n한 언어를 다른 언어로 번역하기 위해서, 각각의 언어들의 형태론과 구문론을 포함한 문법을 이해해야 했다. 구문론을 이해하기 위해서는, 또한 의미론과 사전학(또는 어휘), 심지어 언어 사용의 화용론에 대해서도 이해해야 했다. 따라서, 어떻게 표상되는가를 이해하기 위한 전체 분야로 진화하는 언어들과 컴퓨터를 이용한 자연 언어 처리 사이를 번역하기 위한 노력으로써 시작되었다고 볼 수 있다.', '소비에트 연방을 지구 역사상 제일 위험한 제국주의 국가로 분류한 마오쩌둥은 미국과의 타협 노선을 결정하였다. 이러한 결정은 현 시대의 주요 모순을 제3세계와 제국주의 국가 사이의 모순이라고 판단하고 있던 마오쩌둥 사상 특유의 입장 때문이었다. 그러나 엔베르 호자는 『제국주의와 혁명』에서 밝힌 것과 같이, 이것은 마오쩌둥 사상의 심대한 오류라고 하였다. 마오쩌둥은 『모순론』을 통하여 적대적 모순인 계급 사이의 모순이 여러 현실 조건에 따라 다양한 모순으로 화(化)할 수 있다고 하였다. 엔베르 호자는 이러한 모순론이 이오시프 스탈린의 모순론과 크게 다를 것이 없다고 하였으며, 소비에트 연방이 수정주의 영향으로 인해 사회제국주의 국가가 되었다는 것에도 동의하였다.\\n\\n그러나 이러한 이론적 기반을 ‘제3세계와 소비에트 연방 사이의 모순’이라고 판단한 것은 기존 모순론에 대한 오류적 적용이라고 하였다. 일단 ‘사회제국주의’는 레닌주의에서 일반적으로 이해되는 ‘제국주의’와 다르다. 블라디미르 레닌에 따르면, 제국주의는 자본주의의 최고 단계이다. 그러나 스탈린 사후에 등장한 ‘사회제국주의’는 자본주의의 최고 단계로서 등장하는 제국주의가 아닌, 사회주의 국가 사이 패권 행사라는 단순한 형태의 패권주의에 불과하다. 수정주의를 받아들인 1956년 이후부터 소비에트 연방 내 몇몇 부문에서 자본주의적 생산 관계가 부활됐지만 그럼에도 불구하고 사회주의 국가로서의 정체성을 확보하고 있으며, 세계 규모의 자본주의에 대항하고 있던 역할을 일정 수행하고 있었다고 하였다. 그것은 쿠바 혁명에 관한 지원, 알제리 내전 및 앙골라 내전에서의 항미(抗美) 지원으로도 드러난다. 이러한 지원은 자본주의와 사회주의 사이의 투쟁의 연장선이었다. 그러나 마오쩌둥의 논리대로라면, 이러한 투쟁을 주도하는 소비에트 연방이 동시에 주요 모순으로서 ‘제3세계와 제국주의 국가 사이의 모순’에서 반동적 입장을 지지하는 집단이 된다. 그러나 모순은 한 국가 단위로 부분적일 수 있으나 근본적으로 하나의 일관성을 향하여 진행되는 것이다. 만약 마오쩌둥의 주장에 근거한다면 소비에트 연방은 적대적 모순(본질적)의 진행이라는 의미에서 사회주의 투쟁을 이끄는 집단인 동시에, 그것이 다른 모순으로 화한 제3세계 모순에서 반동적 입장을 견지하는 반혁명의 진영이다. 이것은 명백히 모순이며 양립할 수 없는 입장이다. 적대적 모순이 어떠한 사회적 조건, 지역적 조건으로 인해 다양한 모순으로 화한다고 하더라도, 결국 그러한 파생된 산발적 주요 모순은 적대적 모순과 최종적으로 합치하기 때문이다.', '‘오네긴’ ‘잠자는 숲속의 미녀’ ‘로미오와 줄리엣’…. 발레를 좋아하는 관객이라면 이름만 들어도 두근거리는 레퍼토리를 한자리에서 볼 수 있는 공연이 열린다. 올해 서른 살을 맞는 유니버설발레단(UBC)이 오는 21~23일 서울 서초동 예술의전당 오페라극장에서 마련하는 ‘30주년 스페셜 갈라’(사진) 무대다.공연은 2부로 전개된다. 1부의 문은 ‘라 바야데르’의 주요 장면인 ‘망령들의 왕국’이 연다. 32명의 무용수들이 부드러운 선율에 맞춰 하늘에서 땅으로 천천히 내려오는 장면이 압권. 그 뒤를 이어 ‘잠자는 숲속의 미녀’ ‘돈키호테’ ‘오네긴’ ‘베니스 카니발’ ‘해적’의 하이라이트가 펼쳐진다.2부의 커튼은 UBC가 만든 창작발레 ‘발레 춘향’이 연다. 이어 ‘로미오와 줄리엣’ ‘팡파르LX’ ‘두엔데’ ‘인 더 미들, 썸왓 엘레베이티드’ ‘마이너스 7’의 주요 장면이 공연된다.이번 공연엔 UBC의 30주년을 축하하기 위해 세계적인 무용수들의 특별 무대가 마련됐다. 서희(아메리칸발레시어터 수석무용수) 강효정(슈투트가르트발레단 수석무용수) 알렉산더 존스(슈투트가르트발레단 수석무용수) 이고르 콜브(마린스키발레단 수석무용수) 이반 푸트로프(전 로열 발레단 수석무용수)가 UBC를 축하하는 무대를 꾸미기 위해 내한했다. 황혜민, 엄재용, 강미선, 콘스탄틴 노보셀로프, 김나은, 이승현 등 UBC의 스타 무용수와 군무진도 풍성한 무대를 만들 예정이다.러시아의 마린스키 발레단을 23년간 이끈 올레그 비노그라도프가 연출을 맡았으며, 미하일 그라노프스키 볼쇼이극장 지휘자가 강남심포니 오케스트라와 함께 연주한다.  1만~10만원. 070-7124-1737', '“고령자를 위한 스마트폰 애플리케이션(앱) 등 특화된 혁신 기술이 있다면 폴란드에서 창업을 시도해볼 만합니다.”휴버트 레빈스키 폴란드 창업개발부 선임연구원(사진)은 “스타트업(신생 벤처기업)이 폴란드 창업 시장을 이끌고 있는 데다 스타트업을 지원하는 엔젤투자 시장의 저변도 넓어지고 있다”며 폴란드에서의 창업을 권고했다.폴란드 창업개발부는 중소기업의 금융지원 주선과 창업 상담을 맡고 있는 정부 기관이다. 폴란드 기업뿐 아니라 해외 기업도 지원 대상이다.레빈스키 선임연구원은 “현지 상황 변화에 맞는 스타트업이면 더욱 좋다”며 고령자를 위한 스마트폰 앱을 예로 들었다. 최근 폴란드에서는 고령자의 스마트폰 수요가 빠르게 증가하고 있다. 작년 판매량은 전년 대비 20% 증가했다. 각 기업들은 고령자를 주요 소비자로 여기고 관련 서비스와 상품 개발에 주력하고 있다.‘댓글 정리 서비스’도 마찬가지다. 기업 홈페이지나 소셜네트워크서비스(SNS)에 의견을 남긴 이용자 목록과 이들이 다른 사이트에 들어가 남긴 글을 분석해 기업들에 제공하는 서비스다. 이런 정보는 제품 마케팅에 활용 가능한 데다 서비스 이용료도 비싸지 않아 빠르게 입소문이 나면서 크게 성공했다는 설명이다. 근육 발달이 더딘 아이들의 재활 치료를 도와주는 로봇 개발 스타트업에도 투자금이 몰리고 있다고 한다.폴란드의 정보기술(IT) 시장 규모는 56억유로(약 6조8300억원·2014년 기준) 정도다. 글로벌 시장 조사 업체 비즈니스 모니터 인터내셔널은 올해 폴란드 IT시장이 작년보다 6% 성장할 것으로 예상했다.레빈스키 선임연구원은 폴란드에 진출하려는 IT기업은 폴란드만의 소비 문화를 잘 파악할 필요가 있다고 조언했다. 그는 “폴란드 사람은 상대적으로 다른 사람에게 보여주고 싶은 욕구가 강하다”며 “미국 전자상거래 업체 이베이는 폴란드 온라인 쇼핑몰에 비해 이런 욕구를 충족시킬 만한 서비스를 제공하지 못해 폴란드에서 실패한 대표적인 기업으로 꼽힌다”고 설명했다.', '햄버거 프랜차이즈 한국 맥도날드(대표 조 엘린저·사진)가 가맹점 확대에 본격 나섰다.한국 맥도날드는 올해 중 가맹점 50개를 새로 열어 총 103개의 가맹점을 운영할 계획이라고 10일 발표했다. 한국 맥도날드는 2010년 가맹사업을 시작해 4년간 가맹점 53개를 열었다. 전체 매장 수(344개) 대비 가맹점 비중은 15.4%다. 한연미 맥도날드 이사는 “가맹점을 확대하는 것은 글로벌 맥도날드의 프랜차이즈 전략을 한국에 적용하는 것”이라고 설명했다. 전 세계적으로 맥도날드는 3만4000여개 매장 중 80%를 가맹점으로 운영하고 있다.맥도날드는 매장을 열기 전 수개월간 운영과 마케팅, 제품 관리 등에 대한 교육을 진행한다고 강조했다. 부업으로 매장을 운영하려고 하는 경우에는 가맹점 승인을 내주지 않는다는 방침이다. 또 이미 성공적으로 가맹점을 운영하고 있는 점주에게는 두 번째 매장 개점을 허가하는 등 적극 지원할 계획이라고 밝혔다.맥도날드는 현재 가맹점을 열기 위해서는 가맹비와 영업권, 인테리어 등 시설투자비를 포함해 6억~8억원의 비용이 든다고 설명했다. 매장을 연 첫해 예상 이익률은 18~19%다.지난해부터 논란이 돼온 햄버거 프랜차이즈의 중소기업적합업종 지정과 관련해 맥도날드 측은 “출점 계획은 중기적합업종 지정 여부와 별개로 회사의 성장 전략 차원에서 세운 것”이라며 “지난해 말 한국휴게음식업중앙회가 이사회 의결을 한 이후 회사 측에 새롭게 전달된 내용은 없다”고 설명했다. 또 “다만 동반성장위원회가 햄버거 프랜차이즈를 중기적합업종으로 지정한다면 규제에 적극적으로 따를 것”이라고 덧붙였다.맥도날드는 가맹점과 함께 직영점 출점도 이어간다는 계획이다. 올해 직영점 50개를 새로 여는 것이 목표다. 올해 말까지 총 점포 수는 444개 정도가 될 것이라고 회사 측은 설명했다.', '2010년 봄. 스티브 발머 마이크로소프트(MS) 최고경영자(CEO·사진)는 ‘쿠리어’ 개발을 중단한다고 발표했다. 쿠리어는 책처럼 접을 수 있고 터치스크린에 스케치를 하거나 메모할 수 있는 태블릿PC다. 발머는 쿠리어에 투자할 금액을 출시까지 2년도 넘게 남은 차세대 윈도 개발에 투자하겠다고 했다. 애플 아이패드보다도 먼저 세상에 나왔던 MS 태블릿PC는 그렇게 자취를 감췄다. 월스트리트저널(WSJ)은 “그동안 MS는 혁신을 통해 제품을 개발하기보다는 단기적 수익을 좇는 안전한 행보만 지속해왔다”며 “발머의 뒤를 잇는 CEO는 누구든 이런 MS의 기업문화를 혁신해야 할 것”이라고 26일(현지시간) 보도했다. 발머는 최근 은퇴 의사를 밝혔다.웹사이트에서 워드, 엑셀 등을 사용할 수 있는 ‘넷독스’도 발머가 막은 제품 중 하나다. 넷독스는 MS오피스에 통합됐지만 오피스 매출이 줄어들 것을 걱정한 회사는 넷독스 서비스를 철수했다. 자동차 안에서 음악을 듣고 이메일을 볼 수 있도록 개발한 자동차 소프트웨어도 빛을 보지 못했다. 아이폰에서 사용할 수 있는 오피스 프로그램도 윈도8에 투자해야 하는 자금과 인력을 빼앗는다는 이유로 폐기됐다. WSJ는 “MS에서는 실패를 두려워하지 않고 목표를 정해 노력하는 자세를 오히려 나쁘게 본다”며 “위험을 감수하지 않는 문화가 커졌다”고 전했다. 이어 “직원들은 틀을 깨고 독창적인 사고를 하는 개발자를 중용할 수 있는 외부 인사를 CEO로 기다리고 있다”고 덧붙였다.', '서진우 SK플래닛 사장(사진)은 “SK플래닛이 온·오프라인 통합 커머스(상거래) 시대의 선봉에 서겠다”고 14일 선언했다. 이날 서울 코엑스인터컨티넨탈호텔에서 열린 ‘테크 플래닛 2013’의 기조연설자로 나선 서 사장은 “인터넷과 모바일 기술에 의해 지난 10여년간 괄목할 만한 성장을 이룬 온라인 커머스는 이제 콘텐츠와의 연계를 통해 한 단계 더 성장하려 한다”며 “오프라인 커머스 역시 모바일과 사물인터넷기술(IoT) 발전에 따라 소비자와 판매자, 생산자 간의 관계가 근본적으로 변화하며 이전에 볼 수 없었던 모습으로 진화하고 있다”고 말했다. 테크 플래닛은 SK플래닛 주최로 매년 열리는 정보기술(IT) 콘퍼런스다. 글로벌 IT의 세계적 흐름과 지향점을 살펴보기 위해 지난해에 이어 올해 두 번째로 열렸다. 온·오프라인 통합 커머스의 예로 서 사장은 SK플래닛의 ‘뉴 OK캐쉬백’과 한국에 곧 출시할 예정인 패션 키워드 기반 콘텐츠 커머스 ‘스타일태그’를 소개했다. 뉴 OK캐쉬백은 스마트폰 이용자의 현재 위치를 파악해 주변 OK캐쉬백 가맹 음식점이나 상점의 할인 쿠폰을 스마트폰으로 보내 준다. 스타일태그는 길을 가다 발견한 패션 상품을 사진으로 찍어 올리면 이에 해당하거나 가까운 상품의 정보를 받아볼 수 있다. 미국에서 먼저 나와 100만다운로드를 기록했으며 한국에는 연말 출시될 예정이다. 그는 “이런 혁신은 온라인과 오프라인 각각에 한정되는 것이 아니라 온·오프라인에 걸쳐 전방위로 나타나게 될 것”이라며 “온·오프라인 통합 커머스로의 혁신은 인간에 대한 이해를 바탕으로 창의적인 생각과 혁신적인 기술 접목을 통해 가능하다”고 말했다.', '금융위원회가 27일 발표한 ‘금융업 경쟁력 강화 방안’은 6개월간의 준비를 거쳐 나온 박근혜 정부의 ‘금융 비전’이다. 정부 초기 금융을 홀대한다는 업계의 불만을 반영한 때문인지 규제완화로 경쟁을 촉진하겠다는 내용이 핵심을 이루고 있다. 이를 통해 10년 뒤 국내총생산(GDP)에서 금융업 부가가치가 차지하는 비중을 10%로 늘린다는 중장기 목표도 제시했다. 금융권에서는 그러나 “고민한 흔적은 엿보이지만 한국 금융산업을 재도약시킬 획기적인 대안은 보이지 않는다”는 혹평도 적지 않다. 규제완화에 따른 부작용을 우려하는 목소리도 나온다.각종 칸막이 걷어내 무한경쟁 촉진금융위는 우선 무한경쟁 환경을 조성해 금융권 스스로 파이를 키우고 경쟁력을 갖추도록 유도하기로 했다.2016년부터 시행될 ‘은행 계좌이동제’가 대표적이다. 지금은 금융소비자가 주거래 예금계좌를 다른 은행 계좌로 변경하려면 각종 이체 거래도 일일이 바꿔야 한다. 이 과정에서 이체 거래를 변경하지 않아 카드비 등을 연체하는 경우도 있다. 하지만 계좌이동제가 도입되면 소비자는 기존 은행에서 자동이체 내역을 일일이 해지하고 신규 은행에서 자동이체를 새로 신청하는 불편을 겪지 않아도 된다. 금융위 관계자는 “길게는 수십년간 같은 주거래은행 예금계좌를 사용해온 소비자들도 금리와 수수료 등에 따라 손쉽게 은행을 바꿀 수 있어 은행권에 큰 변화가 불어닥칠 것”이라고 말했다. 여기에 금융당국이 무인·이동점포, 모바일 판매채널 등 다양한 판매채널까지 허용하기로 함에 따라 은행들은 점포 구조조정에 직면할 것으로 예상된다.진입 및 영업규제도 크게 완화된다. 금융투자업은 과도하게 세분화한 인허가 단위를 대단위로 통합하고 여신전문금융업도 비슷한 업무를 하고 있는 할부금융, 리스, 신기술 등 3개 업권의 인가 및 등록 기준을 하나로 통합해 기업금융 특화 기관으로 육성하기로 했다. 보험사에는 해외 환자 유치업에 참여할 수 있도록 허용해 신수익원을 확보하고 국내 의료관광 활성화에 기여할 수 있게 할 계획이다.기업-금융사 동반 해외 진출 지원금융사들이 포화 상태인 국내 시장을 벗어나 해외에 진출할 수 있는 지원 방안도 포함됐다. 금융위는 우선 단기 성과에 대한 부담을 줄여 중장기적인 해외 진출 전략을 수립할 수 있도록 해외 점포의 경영실태 평가 유예기간을 은행은 현재의 1년에서 3년으로 금융투자사와 보험사(현행 2년)는 5년으로 늘려주기로 했다. 현재 50%인 지주회사의 해외 자회사 지분 의무보유 비율도 완화해 자회사 설립을 활성화하기로 했다. 금융위는 특히 전국경제인연합회 등과 협의해 기업과 은행이 함께 해외 진출을 추진하는 ‘동반 진출 활성화’ 전략도 곧 내놓기로 했다. 금융권 ‘백화점식, 새로운 내용이 적다’이 같은 경쟁력 강화 방안에 대해 금융권에서는 백과사전식 나열인 데다 새로운 내용이 많지 않다는 냉담한 평가가 적지 않다. 은행권은 계좌이동제의 부작용을 우려했다. 한 시중은행 관계자는 “계좌이동제가 시행되면 고객 유치를 위해 은행 간 금리 및 서비스 경쟁이 과열될 수밖에 없다”며 “수익성 악화가 당면 과제인 은행엔 오히려 부담이 돼 경쟁력 강화로 이어질지 의문”이라고 말했다.여신업계 관계자는 “기업금융으로 특화시키겠다는 게 정부의 의도지만 상대적으로 리스크가 큰 기업금융을 강화할 수 있겠느냐”면서 “업계의 자금과 여력을 고려하면 정부의 지원이 필수적인데 정책자금 지원 등 구체적인 내용이 없다”고 지적했다.'], 'answers': [[{'text': '서강대 메리홀 대극장', 'answer_start': 246}], [{'text': '저축은행중앙회', 'answer_start': 345}, {'text': '중앙회', 'answer_start': 774}], [{'text': '구문론', 'answer_start': 521}], [{'text': '1956년', 'answer_start': 634}, {'text': '1956', 'answer_start': 634}], [{'text': '1부', 'answer_start': 187}], [{'text': '이베이', 'answer_start': 889}], [{'text': '50개', 'answer_start': 65}], [{'text': '‘쿠리어’', 'answer_start': 43}, {'text': '쿠리어', 'answer_start': 44}], [{'text': '스타일태그', 'answer_start': 561}], [{'text': '‘은행 계좌이동제’', 'answer_start': 386}, {'text': '은행 계좌이동제', 'answer_start': 387}, {'text': '계좌이동제', 'answer_start': 390}, {'text': '계좌이동제', 'answer_start': 1405}, {'text': '계좌이동제', 'answer_start': 1436}]], 'question': ['윤광진 교수가 연출한 연극이 앙코르 공연을 하는 장소는 어디인가?', '자체 신용평가시스템이 없는 저축은행은 어느 기관의 시스템을 따르는가?', '한 언어를 다른 언어로 번역하기 위해 필요하며, 의미론, 사전학, 화용론을 이해해야 하는 문법은?', '소비에트 연방이 수정주의를 도입한 해는?', '돈키호테의 하이라이트를 볼 수 있는 것은 몇 부인가?', '폴란드인의 과시욕을 만족시키지 못해 폴란드 시장에서 실패한 전자거래소는?', '이번 해에 증가될 국내 맥도날드 가맹점 수는?', 'MS에서 개발한 태블릿PC 이름은?', '의류의 사진을 찍고 업로드하면, 그 제품을 바로 찾아낼 수 있는 콘텐츠는?', '자동이체에 관한 소비자의 불편을 해소할 수 있게해 주는 것의 명칭은?']}\n"
          ]
        }
      ]
    },
    {
      "cell_type": "code",
      "source": [
        "# Tokenizer load \n",
        "from transformers import AutoTokenizer, AutoModel, AutoConfig\n",
        "\n",
        "def load_tokenizer(model_id, test_sentence):\n",
        "  tokenizer = AutoTokenizer.from_pretrained(hf_model_id)\n",
        "  return tokenizer\n"
      ],
      "metadata": {
        "id": "Eq8hf_xQCGkk"
      },
      "execution_count": 5,
      "outputs": []
    },
    {
      "cell_type": "code",
      "source": [
        "sentence = '위메프의 배달∙픽업 서비스 위메프오가 23~25일 3일간 ‘BBQ 50% 페이백’ 이벤트를 진행한다고 23일 밝혔다'\n",
        "\n",
        "# hf_model_id = 'kykim/electra-kor-base'\n",
        "# tokenizer = load_tokenizer(hf_model_id, sentence)\n",
        "\n",
        "# hf_model_id = 'monologg/kobert'\n",
        "# tokenizer = load_tokenizer(hf_model_id, sentence)\n",
        "\n",
        "\n",
        "# hf_model_id = 'kykim/bert-kor-base'\n",
        "# tokenizer = load_tokenizer(hf_model_id, sentence)\n",
        "\n",
        "\n",
        "hf_model_id = 'Jinhwan/krelectra-base-mecab'\n",
        "tokenizer = load_tokenizer(hf_model_id, sentence)\n",
        "\n",
        "# hf_model_id = 'monologg/kobigbird-bert-base'\n",
        "# #https://github.com/monologg/KoBigBird\n",
        "config = AutoConfig.from_pretrained(hf_model_id, max_position_embeddings=1024)\n",
        "model = AutoModel.from_pretrained(hf_model_id)"
      ],
      "metadata": {
        "id": "-9Y-PXz3DFku",
        "colab": {
          "base_uri": "https://localhost:8080/"
        },
        "outputId": "5a089632-9bf0-42c4-996c-e60af1c918cc"
      },
      "execution_count": 6,
      "outputs": [
        {
          "output_type": "stream",
          "name": "stderr",
          "text": [
            "Some weights of the model checkpoint at Jinhwan/krelectra-base-mecab were not used when initializing ElectraModel: ['discriminator_predictions.dense_prediction.weight', 'discriminator_predictions.dense_prediction.bias', 'discriminator_predictions.dense.bias', 'discriminator_predictions.dense.weight']\n",
            "- This IS expected if you are initializing ElectraModel from the checkpoint of a model trained on another task or with another architecture (e.g. initializing a BertForSequenceClassification model from a BertForPreTraining model).\n",
            "- This IS NOT expected if you are initializing ElectraModel from the checkpoint of a model that you expect to be exactly identical (initializing a BertForSequenceClassification model from a BertForSequenceClassification model).\n"
          ]
        }
      ]
    },
    {
      "cell_type": "code",
      "source": [
        "print(hf_model_id)\n",
        "print(tokenizer) \n",
        "question = '무슨 이벤트를 하나?'\n",
        "aa =tokenizer(question, sentence, return_offsets_mapping=True)\n",
        "print(aa)\n",
        "print(tokenizer.cls_token_id)\n",
        "print(tokenizer.sep_token_id)\n",
        "\n",
        "# answer (16,) => 7,8\n",
        "# context position (\n",
        "print(aa.offset_mapping)"
      ],
      "metadata": {
        "id": "zg7vBpan1PuA",
        "colab": {
          "base_uri": "https://localhost:8080/"
        },
        "outputId": "068f19bf-5780-4381-e63e-db0a7d59bb2c"
      },
      "execution_count": 7,
      "outputs": [
        {
          "output_type": "stream",
          "name": "stdout",
          "text": [
            "Jinhwan/krelectra-base-mecab\n",
            "PreTrainedTokenizerFast(name_or_path='Jinhwan/krelectra-base-mecab', vocab_size=32000, model_max_len=512, is_fast=True, padding_side='right', truncation_side='right', special_tokens={'unk_token': '[UNK]', 'sep_token': '[SEP]', 'pad_token': '[PAD]', 'cls_token': '[CLS]', 'mask_token': '[MASK]'})\n",
            "{'input_ids': [2, 13851, 9401, 3195, 4998, 32, 3, 1944, 3240, 3072, 3322, 1, 5520, 1944, 3240, 3072, 3026, 3204, 5196, 93, 5120, 3229, 22, 3229, 3443, 1, 19311, 3665, 5414, 8, 7441, 3490, 1, 9401, 3195, 5177, 5300, 2999, 5196, 3229, 5848, 3024, 3], 'token_type_ids': [0, 0, 0, 0, 0, 0, 0, 1, 1, 1, 1, 1, 1, 1, 1, 1, 1, 1, 1, 1, 1, 1, 1, 1, 1, 1, 1, 1, 1, 1, 1, 1, 1, 1, 1, 1, 1, 1, 1, 1, 1, 1, 1], 'attention_mask': [1, 1, 1, 1, 1, 1, 1, 1, 1, 1, 1, 1, 1, 1, 1, 1, 1, 1, 1, 1, 1, 1, 1, 1, 1, 1, 1, 1, 1, 1, 1, 1, 1, 1, 1, 1, 1, 1, 1, 1, 1, 1, 1], 'offset_mapping': [(0, 0), (0, 2), (3, 6), (6, 7), (8, 10), (10, 11), (0, 0), (0, 1), (1, 2), (2, 3), (3, 4), (5, 10), (11, 14), (15, 16), (16, 17), (17, 18), (18, 19), (19, 20), (21, 23), (23, 24), (24, 26), (26, 27), (28, 29), (29, 30), (30, 31), (32, 33), (33, 35), (35, 36), (37, 39), (39, 40), (41, 43), (43, 44), (44, 45), (46, 49), (49, 50), (51, 53), (53, 55), (55, 56), (57, 59), (59, 60), (61, 63), (63, 64), (0, 0)]}\n",
            "2\n",
            "3\n",
            "[(0, 0), (0, 2), (3, 6), (6, 7), (8, 10), (10, 11), (0, 0), (0, 1), (1, 2), (2, 3), (3, 4), (5, 10), (11, 14), (15, 16), (16, 17), (17, 18), (18, 19), (19, 20), (21, 23), (23, 24), (24, 26), (26, 27), (28, 29), (29, 30), (30, 31), (32, 33), (33, 35), (35, 36), (37, 39), (39, 40), (41, 43), (43, 44), (44, 45), (46, 49), (49, 50), (51, 53), (53, 55), (55, 56), (57, 59), (59, 60), (61, 63), (63, 64), (0, 0)]\n"
          ]
        }
      ]
    },
    {
      "cell_type": "code",
      "source": [
        "from tqdm import tqdm \n",
        "class TKIndexerWrappedDataset:\n",
        "    def __init__(self, dataset: KoMRC, tokenizer) -> None:\n",
        "        self._indexer = tokenizer\n",
        "        self._dataset = self._sample2ids_with_tk(dataset)\n",
        "\n",
        "    def __len__(self) -> int:\n",
        "        return len(self._dataset['input_ids'])\n",
        "\n",
        "\n",
        "    def _sample2ids_with_tk(self, sample):\n",
        "      tokenizer = self._indexer\n",
        "\n",
        "      # return_offsets_mapping\n",
        "      tokenized = tokenizer(sample['question'], \n",
        "                            sample['context'],\n",
        "                            return_overflowing_tokens=True, \n",
        "                            return_offsets_mapping=True, \n",
        "                            # stride = 128,\n",
        "                            return_tensors = 'pt',\n",
        "                            max_length=512, \n",
        "                            truncation='only_second', \n",
        "                            padding='max_length')\n",
        "      offset_map = tokenized.pop('offset_mapping')\n",
        "      overflow_map = tokenized.pop('overflow_to_sample_mapping')\n",
        "      tokenized['start'] = []\n",
        "      tokenized['end'] = []\n",
        "      tokenized['guid'] = []\n",
        "      cls_id = tokenizer.cls_token_id\n",
        "\n",
        "      for i, offsets in enumerate(tqdm(offset_map)):\n",
        "        input_ids = tokenized['input_ids'][i]\n",
        "        cls_index = input_ids.tolist().index(cls_id)\n",
        "        seq_ids = tokenized.sequence_ids(i)\n",
        "\n",
        "        # check\n",
        "        example_idx = overflow_map[i]\n",
        "        answers = sample['answers'][example_idx]\n",
        "        guid = sample['guid'][example_idx]\n",
        "\n",
        "        # \n",
        "        ans_start = answers[0]['answer_start']\n",
        "        ans_end = answers[0]['answer_start'] + len(answers[0]['text'])\n",
        "\n",
        "        # question, context 분리 \n",
        "        ans_token_start = 0 \n",
        "        while seq_ids[ans_token_start] != 1 :\n",
        "          ans_token_start += 1 \n",
        "\n",
        "        ans_token_end = len(input_ids) - 1\n",
        "        while seq_ids[ans_token_end] != 1 :\n",
        "          ans_token_end -= 1 \n",
        "\n",
        "        if not (offsets[ans_token_start][0] <= ans_start and offsets[ans_token_end][1] >= ans_end):\n",
        "          tokenized['start'].append(cls_index)\n",
        "          tokenized['end'].append(cls_index)      \n",
        "          tokenized['guid'].append(guid)\n",
        "        else : \n",
        "          while (ans_token_start < len(offsets) \n",
        "          and offsets[ans_token_start][0] <= ans_start): \n",
        "            ans_token_start += 1 \n",
        "          \n",
        "          while offsets[ans_token_end][1] >= ans_end:\n",
        "            ans_token_end -= 1 \n",
        "\n",
        "          tokenized['start'].append(ans_token_start)\n",
        "          tokenized['end'].append(ans_token_end)      \n",
        "          tokenized['guid'].append(guid)      \n",
        "      return tokenized\n",
        "      \n",
        "    \n",
        "    def __getitem__(self, slices) -> Any:\n",
        "\n",
        "        if isinstance(slices, (int, np.int64)):\n",
        "          # row \n",
        "          return {\n",
        "              'input_ids': self._dataset['input_ids'][slices],\n",
        "              'token_type_ids': self._dataset['token_type_ids'][slices],\n",
        "              'attention_mask': self._dataset['attention_mask'][slices],\n",
        "              'start': self._dataset['start'][slices],\n",
        "              'end': self._dataset['end'][slices],\n",
        "              'guid': self._dataset['guid'][slices]\n",
        "          }\n",
        "        elif isinstance(slices, str):\n",
        "          return self._dataset[slices]\n",
        "        elif isinstance(slices, slice):\n",
        "          return {\n",
        "              'input_ids': [self._dataset['input_ids'][i] for i in range(slices.start, slices.stop)],\n",
        "              'token_type_ids': [self._dataset['token_type_ids'][i] for i in range(slices.start, slices.stop)],\n",
        "              'attention_mask': [self._dataset['attention_mask'][i] for i in range(slices.start, slices.stop)],\n",
        "              'guid': [self._dataset['guid'][i] for i in range(slices.start, slices.stop)],\n",
        "              'start': [self._dataset['start'][i] for i in range(slices.start, slices.stop)],\n",
        "              'end': [self._dataset['end'][i] for i in range(slices.start, slices.stop)]\n",
        "          }\n",
        "        raise ValueError(f'unhanled slices : {slices}, type={type(slices)}')\n",
        "\n",
        "        return sample"
      ],
      "metadata": {
        "id": "DYOURyH8fisS"
      },
      "execution_count": 8,
      "outputs": []
    },
    {
      "cell_type": "code",
      "source": [
        "indexed_train_dataset = TKIndexerWrappedDataset(train_dataset, tokenizer)\n",
        "indexed_dev_dataset = TKIndexerWrappedDataset(dev_dataset, tokenizer)\n",
        "print(f'\\nlen origin train_dataset : {len(train_dataset)}')\n",
        "print(f'len indexed_train_dataset : {len(indexed_train_dataset)}')\n",
        "sample = indexed_dev_dataset[0]\n",
        "print(sample['input_ids'].shape)"
      ],
      "metadata": {
        "id": "ClGDGzykgODg",
        "colab": {
          "base_uri": "https://localhost:8080/"
        },
        "collapsed": true,
        "outputId": "2aa4f55c-bb45-4be3-e3aa-e4a49afa981e"
      },
      "execution_count": 9,
      "outputs": [
        {
          "output_type": "stream",
          "name": "stdout",
          "text": [
            "10834\n"
          ]
        },
        {
          "output_type": "stream",
          "name": "stderr",
          "text": [
            "100%|██████████| 16594/16594 [00:40<00:00, 406.70it/s]\n",
            "100%|██████████| 1812/1812 [00:03<00:00, 463.07it/s]"
          ]
        },
        {
          "output_type": "stream",
          "name": "stdout",
          "text": [
            "\n",
            "len origin train_dataset : 10834\n",
            "len indexed_train_dataset : 16594\n",
            "torch.Size([512])\n"
          ]
        },
        {
          "output_type": "stream",
          "name": "stderr",
          "text": [
            "\n"
          ]
        }
      ]
    },
    {
      "cell_type": "markdown",
      "source": [
        "### Data 준비\n",
        "Collator : 데이터를 batch에 맞게 자르고 묶어주고, 준비하는 모듈\n",
        "DataLoader : 데이터를 iterative (돌아가면서 훈련할 수 있게) Load하는 모듈 \n"
      ],
      "metadata": {
        "id": "PG_mJ-Y4G8-q"
      }
    },
    {
      "cell_type": "code",
      "source": [
        "import torch\n",
        "from torch.nn.utils.rnn import pad_sequence\n",
        "\n",
        "class Collator:\n",
        "    def __init__(self, indexer) -> None:\n",
        "        self._indexer = indexer\n",
        "\n",
        "    def __call__(self, samples: List[Dict[str, Any]]) -> Dict[str, torch.Tensor]:\n",
        "        samples = {\n",
        "            key: [sample[key] for sample in samples]\n",
        "            for key in samples[0]\n",
        "        }\n",
        "\n",
        "        for key in 'start', 'end':\n",
        "            if samples[key][0] is None:\n",
        "                samples[key] = None\n",
        "            else:\n",
        "                samples[key] = torch.tensor(samples[key], dtype=torch.long)\n",
        "        for key in 'input_ids', 'attention_mask', 'token_type_ids':\n",
        "            samples[key] = pad_sequence(\n",
        "                [torch.tensor(sample, dtype=torch.long) for sample in samples[key]],\n",
        "                batch_first=True, padding_value=self._indexer.pad_token_id\n",
        "            )\n",
        "\n",
        "        return samples"
      ],
      "metadata": {
        "id": "4HT9ipQixadc"
      },
      "execution_count": 10,
      "outputs": []
    },
    {
      "cell_type": "code",
      "source": [
        "from torch.utils.data import DataLoader\n",
        "\n",
        "batch_size = 64\n",
        "#num_workers = core num\n",
        "accumulation = 4 # 메모리를 아끼기 위하여 Gradient accumulation을 해보자\n",
        "collator = Collator(tokenizer)\n",
        "train_loader = DataLoader(indexed_train_dataset, batch_size=batch_size//accumulation, shuffle=True, collate_fn=collator, num_workers=2)\n",
        "dev_loader = DataLoader(indexed_dev_dataset, batch_size=batch_size//accumulation, shuffle=False, collate_fn=collator, num_workers=2)"
      ],
      "metadata": {
        "id": "oB114gInGxtv"
      },
      "execution_count": 11,
      "outputs": []
    },
    {
      "cell_type": "code",
      "source": [
        "batch = next(iter(dev_loader))\n",
        "print(batch['input_ids'].shape)\n",
        "print(list(batch.keys()))"
      ],
      "metadata": {
        "id": "guz_51BuGzD_",
        "colab": {
          "base_uri": "https://localhost:8080/"
        },
        "outputId": "2df5d1a3-ba86-49ac-e906-0211e00fd777"
      },
      "execution_count": 12,
      "outputs": [
        {
          "output_type": "stream",
          "name": "stderr",
          "text": [
            "/usr/local/lib/python3.7/dist-packages/ipykernel_launcher.py:21: UserWarning: To copy construct from a tensor, it is recommended to use sourceTensor.clone().detach() or sourceTensor.clone().detach().requires_grad_(True), rather than torch.tensor(sourceTensor).\n",
            "/usr/local/lib/python3.7/dist-packages/ipykernel_launcher.py:21: UserWarning: To copy construct from a tensor, it is recommended to use sourceTensor.clone().detach() or sourceTensor.clone().detach().requires_grad_(True), rather than torch.tensor(sourceTensor).\n"
          ]
        },
        {
          "output_type": "stream",
          "name": "stdout",
          "text": [
            "torch.Size([16, 512])\n",
            "['input_ids', 'token_type_ids', 'attention_mask', 'start', 'end', 'guid']\n"
          ]
        }
      ]
    },
    {
      "cell_type": "code",
      "source": [
        "print(len(train_loader))\n",
        "print(len(indexed_train_dataset))\n",
        "print(len(indexed_train_dataset)/16)"
      ],
      "metadata": {
        "id": "MJjtNotYG0Tf",
        "colab": {
          "base_uri": "https://localhost:8080/"
        },
        "outputId": "69c4e909-7c85-4e4e-9350-77e1b83bcf81"
      },
      "execution_count": 13,
      "outputs": [
        {
          "output_type": "stream",
          "name": "stdout",
          "text": [
            "1038\n",
            "16594\n",
            "1037.125\n"
          ]
        }
      ]
    },
    {
      "cell_type": "markdown",
      "source": [
        "## 본격적으로 훈련하기\n",
        "1. 모델 hyperparameter 정하기\n",
        "2. Training\n"
      ],
      "metadata": {
        "id": "8ZdqozR4HSF1"
      }
    },
    {
      "cell_type": "code",
      "source": [
        "!pip install transformers\n",
        "import torch.nn as nn\n",
        "\n",
        "from transformers.models.bert.modeling_bert import (\n",
        "    BertModel,\n",
        "    BertPreTrainedModel\n",
        ")\n",
        "from transformers import AutoModel\n",
        "## Simple Version for Bert QA: https://huggingface.co/transformers/_modules/transformers/models/bert/modeling_bert.html#BertForQuestionAnswering.forward\n",
        "class BertForQuestionAnswering(nn.Module):\n",
        "    _keys_to_ignore_on_load_unexpected = [r\"pooler\"]\n",
        "\n",
        "    def __init__(self, config, hf_model_id):\n",
        "        # super().__init__(config)\n",
        "        # self.bert = BertModel(config, add_pooling_layer=False)\n",
        "        # self.start_linear = nn.Linear(config.hidden_size, 1)\n",
        "        # self.end_linear = nn.Linear(config.hidden_size, 1)\n",
        "        # self.init_weights()\n",
        "\n",
        "        super().__init__()\n",
        "        self.bert = AutoModel.from_pretrained(hf_model_id)\n",
        "        self.start_linear = nn.Linear(self.bert.config.hidden_size, 1)\n",
        "        self.end_linear = nn.Linear(self.bert.config.hidden_size, 1)\n",
        "\n",
        "\n",
        "    def forward(\n",
        "        self, input_ids, attention_mask, token_type_ids\n",
        "    ):\n",
        "        outputs = self.bert(\n",
        "            input_ids,\n",
        "            attention_mask=attention_mask,\n",
        "            token_type_ids=token_type_ids,\n",
        "        )\n",
        "\n",
        "        start_logits = self.start_linear(outputs.last_hidden_state).squeeze(-1)\n",
        "        end_logits = self.end_linear(outputs.last_hidden_state).squeeze(-1)\n",
        "\n",
        "        return start_logits, end_logits"
      ],
      "metadata": {
        "id": "crSm-iADxW8-",
        "colab": {
          "base_uri": "https://localhost:8080/"
        },
        "collapsed": true,
        "outputId": "fc52d4da-652b-4d80-cc05-e7a74be6abac"
      },
      "execution_count": 14,
      "outputs": [
        {
          "output_type": "stream",
          "name": "stdout",
          "text": [
            "Looking in indexes: https://pypi.org/simple, https://us-python.pkg.dev/colab-wheels/public/simple/\n",
            "Requirement already satisfied: transformers in /usr/local/lib/python3.7/dist-packages (4.22.2)\n",
            "Requirement already satisfied: huggingface-hub<1.0,>=0.9.0 in /usr/local/lib/python3.7/dist-packages (from transformers) (0.10.0)\n",
            "Requirement already satisfied: tokenizers!=0.11.3,<0.13,>=0.11.1 in /usr/local/lib/python3.7/dist-packages (from transformers) (0.12.1)\n",
            "Requirement already satisfied: tqdm>=4.27 in /usr/local/lib/python3.7/dist-packages (from transformers) (4.64.1)\n",
            "Requirement already satisfied: packaging>=20.0 in /usr/local/lib/python3.7/dist-packages (from transformers) (21.3)\n",
            "Requirement already satisfied: pyyaml>=5.1 in /usr/local/lib/python3.7/dist-packages (from transformers) (6.0)\n",
            "Requirement already satisfied: numpy>=1.17 in /usr/local/lib/python3.7/dist-packages (from transformers) (1.21.6)\n",
            "Requirement already satisfied: requests in /usr/local/lib/python3.7/dist-packages (from transformers) (2.23.0)\n",
            "Requirement already satisfied: importlib-metadata in /usr/local/lib/python3.7/dist-packages (from transformers) (5.0.0)\n",
            "Requirement already satisfied: filelock in /usr/local/lib/python3.7/dist-packages (from transformers) (3.8.0)\n",
            "Requirement already satisfied: regex!=2019.12.17 in /usr/local/lib/python3.7/dist-packages (from transformers) (2022.6.2)\n",
            "Requirement already satisfied: typing-extensions>=3.7.4.3 in /usr/local/lib/python3.7/dist-packages (from huggingface-hub<1.0,>=0.9.0->transformers) (4.1.1)\n",
            "Requirement already satisfied: pyparsing!=3.0.5,>=2.0.2 in /usr/local/lib/python3.7/dist-packages (from packaging>=20.0->transformers) (3.0.9)\n",
            "Requirement already satisfied: zipp>=0.5 in /usr/local/lib/python3.7/dist-packages (from importlib-metadata->transformers) (3.8.1)\n",
            "Requirement already satisfied: chardet<4,>=3.0.2 in /usr/local/lib/python3.7/dist-packages (from requests->transformers) (3.0.4)\n",
            "Requirement already satisfied: certifi>=2017.4.17 in /usr/local/lib/python3.7/dist-packages (from requests->transformers) (2022.9.24)\n",
            "Requirement already satisfied: urllib3!=1.25.0,!=1.25.1,<1.26,>=1.21.1 in /usr/local/lib/python3.7/dist-packages (from requests->transformers) (1.25.11)\n",
            "Requirement already satisfied: idna<3,>=2.5 in /usr/local/lib/python3.7/dist-packages (from requests->transformers) (2.10)\n"
          ]
        }
      ]
    },
    {
      "cell_type": "code",
      "source": [
        "import torch\n",
        "from transformers import BertConfig\n",
        "\n",
        "\n",
        "print(f'Encoder model to use : {hf_model_id}')\n",
        "model = BertForQuestionAnswering({}, hf_model_id)\n",
        "optimizer = torch.optim.AdamW(model.parameters(), lr=5e-5)\n"
      ],
      "metadata": {
        "id": "Zjet6pGsHYAi",
        "colab": {
          "base_uri": "https://localhost:8080/"
        },
        "outputId": "a403227c-2d7f-43f4-968f-14cc4e14b2b5"
      },
      "execution_count": 15,
      "outputs": [
        {
          "output_type": "stream",
          "name": "stdout",
          "text": [
            "Encoder model to use : Jinhwan/krelectra-base-mecab\n"
          ]
        },
        {
          "output_type": "stream",
          "name": "stderr",
          "text": [
            "Some weights of the model checkpoint at Jinhwan/krelectra-base-mecab were not used when initializing ElectraModel: ['discriminator_predictions.dense_prediction.weight', 'discriminator_predictions.dense_prediction.bias', 'discriminator_predictions.dense.bias', 'discriminator_predictions.dense.weight']\n",
            "- This IS expected if you are initializing ElectraModel from the checkpoint of a model trained on another task or with another architecture (e.g. initializing a BertForSequenceClassification model from a BertForPreTraining model).\n",
            "- This IS NOT expected if you are initializing ElectraModel from the checkpoint of a model that you expect to be exactly identical (initializing a BertForSequenceClassification model from a BertForSequenceClassification model).\n"
          ]
        }
      ]
    },
    {
      "cell_type": "code",
      "source": [
        "# device set\n",
        "device = torch.device('cuda') if torch.cuda.is_available() else torch.device('cpu')\n",
        "model.cuda()\n"
      ],
      "metadata": {
        "colab": {
          "base_uri": "https://localhost:8080/"
        },
        "collapsed": true,
        "id": "nxE9qq7BB91-",
        "outputId": "05e4f58c-8ab9-4602-9631-3cc2764b2855"
      },
      "execution_count": 16,
      "outputs": [
        {
          "output_type": "execute_result",
          "data": {
            "text/plain": [
              "BertForQuestionAnswering(\n",
              "  (bert): ElectraModel(\n",
              "    (embeddings): ElectraEmbeddings(\n",
              "      (word_embeddings): Embedding(32000, 768, padding_idx=0)\n",
              "      (position_embeddings): Embedding(512, 768)\n",
              "      (token_type_embeddings): Embedding(2, 768)\n",
              "      (LayerNorm): LayerNorm((768,), eps=1e-12, elementwise_affine=True)\n",
              "      (dropout): Dropout(p=0.1, inplace=False)\n",
              "    )\n",
              "    (encoder): ElectraEncoder(\n",
              "      (layer): ModuleList(\n",
              "        (0): ElectraLayer(\n",
              "          (attention): ElectraAttention(\n",
              "            (self): ElectraSelfAttention(\n",
              "              (query): Linear(in_features=768, out_features=768, bias=True)\n",
              "              (key): Linear(in_features=768, out_features=768, bias=True)\n",
              "              (value): Linear(in_features=768, out_features=768, bias=True)\n",
              "              (dropout): Dropout(p=0.1, inplace=False)\n",
              "            )\n",
              "            (output): ElectraSelfOutput(\n",
              "              (dense): Linear(in_features=768, out_features=768, bias=True)\n",
              "              (LayerNorm): LayerNorm((768,), eps=1e-12, elementwise_affine=True)\n",
              "              (dropout): Dropout(p=0.1, inplace=False)\n",
              "            )\n",
              "          )\n",
              "          (intermediate): ElectraIntermediate(\n",
              "            (dense): Linear(in_features=768, out_features=3072, bias=True)\n",
              "            (intermediate_act_fn): GELUActivation()\n",
              "          )\n",
              "          (output): ElectraOutput(\n",
              "            (dense): Linear(in_features=3072, out_features=768, bias=True)\n",
              "            (LayerNorm): LayerNorm((768,), eps=1e-12, elementwise_affine=True)\n",
              "            (dropout): Dropout(p=0.1, inplace=False)\n",
              "          )\n",
              "        )\n",
              "        (1): ElectraLayer(\n",
              "          (attention): ElectraAttention(\n",
              "            (self): ElectraSelfAttention(\n",
              "              (query): Linear(in_features=768, out_features=768, bias=True)\n",
              "              (key): Linear(in_features=768, out_features=768, bias=True)\n",
              "              (value): Linear(in_features=768, out_features=768, bias=True)\n",
              "              (dropout): Dropout(p=0.1, inplace=False)\n",
              "            )\n",
              "            (output): ElectraSelfOutput(\n",
              "              (dense): Linear(in_features=768, out_features=768, bias=True)\n",
              "              (LayerNorm): LayerNorm((768,), eps=1e-12, elementwise_affine=True)\n",
              "              (dropout): Dropout(p=0.1, inplace=False)\n",
              "            )\n",
              "          )\n",
              "          (intermediate): ElectraIntermediate(\n",
              "            (dense): Linear(in_features=768, out_features=3072, bias=True)\n",
              "            (intermediate_act_fn): GELUActivation()\n",
              "          )\n",
              "          (output): ElectraOutput(\n",
              "            (dense): Linear(in_features=3072, out_features=768, bias=True)\n",
              "            (LayerNorm): LayerNorm((768,), eps=1e-12, elementwise_affine=True)\n",
              "            (dropout): Dropout(p=0.1, inplace=False)\n",
              "          )\n",
              "        )\n",
              "        (2): ElectraLayer(\n",
              "          (attention): ElectraAttention(\n",
              "            (self): ElectraSelfAttention(\n",
              "              (query): Linear(in_features=768, out_features=768, bias=True)\n",
              "              (key): Linear(in_features=768, out_features=768, bias=True)\n",
              "              (value): Linear(in_features=768, out_features=768, bias=True)\n",
              "              (dropout): Dropout(p=0.1, inplace=False)\n",
              "            )\n",
              "            (output): ElectraSelfOutput(\n",
              "              (dense): Linear(in_features=768, out_features=768, bias=True)\n",
              "              (LayerNorm): LayerNorm((768,), eps=1e-12, elementwise_affine=True)\n",
              "              (dropout): Dropout(p=0.1, inplace=False)\n",
              "            )\n",
              "          )\n",
              "          (intermediate): ElectraIntermediate(\n",
              "            (dense): Linear(in_features=768, out_features=3072, bias=True)\n",
              "            (intermediate_act_fn): GELUActivation()\n",
              "          )\n",
              "          (output): ElectraOutput(\n",
              "            (dense): Linear(in_features=3072, out_features=768, bias=True)\n",
              "            (LayerNorm): LayerNorm((768,), eps=1e-12, elementwise_affine=True)\n",
              "            (dropout): Dropout(p=0.1, inplace=False)\n",
              "          )\n",
              "        )\n",
              "        (3): ElectraLayer(\n",
              "          (attention): ElectraAttention(\n",
              "            (self): ElectraSelfAttention(\n",
              "              (query): Linear(in_features=768, out_features=768, bias=True)\n",
              "              (key): Linear(in_features=768, out_features=768, bias=True)\n",
              "              (value): Linear(in_features=768, out_features=768, bias=True)\n",
              "              (dropout): Dropout(p=0.1, inplace=False)\n",
              "            )\n",
              "            (output): ElectraSelfOutput(\n",
              "              (dense): Linear(in_features=768, out_features=768, bias=True)\n",
              "              (LayerNorm): LayerNorm((768,), eps=1e-12, elementwise_affine=True)\n",
              "              (dropout): Dropout(p=0.1, inplace=False)\n",
              "            )\n",
              "          )\n",
              "          (intermediate): ElectraIntermediate(\n",
              "            (dense): Linear(in_features=768, out_features=3072, bias=True)\n",
              "            (intermediate_act_fn): GELUActivation()\n",
              "          )\n",
              "          (output): ElectraOutput(\n",
              "            (dense): Linear(in_features=3072, out_features=768, bias=True)\n",
              "            (LayerNorm): LayerNorm((768,), eps=1e-12, elementwise_affine=True)\n",
              "            (dropout): Dropout(p=0.1, inplace=False)\n",
              "          )\n",
              "        )\n",
              "        (4): ElectraLayer(\n",
              "          (attention): ElectraAttention(\n",
              "            (self): ElectraSelfAttention(\n",
              "              (query): Linear(in_features=768, out_features=768, bias=True)\n",
              "              (key): Linear(in_features=768, out_features=768, bias=True)\n",
              "              (value): Linear(in_features=768, out_features=768, bias=True)\n",
              "              (dropout): Dropout(p=0.1, inplace=False)\n",
              "            )\n",
              "            (output): ElectraSelfOutput(\n",
              "              (dense): Linear(in_features=768, out_features=768, bias=True)\n",
              "              (LayerNorm): LayerNorm((768,), eps=1e-12, elementwise_affine=True)\n",
              "              (dropout): Dropout(p=0.1, inplace=False)\n",
              "            )\n",
              "          )\n",
              "          (intermediate): ElectraIntermediate(\n",
              "            (dense): Linear(in_features=768, out_features=3072, bias=True)\n",
              "            (intermediate_act_fn): GELUActivation()\n",
              "          )\n",
              "          (output): ElectraOutput(\n",
              "            (dense): Linear(in_features=3072, out_features=768, bias=True)\n",
              "            (LayerNorm): LayerNorm((768,), eps=1e-12, elementwise_affine=True)\n",
              "            (dropout): Dropout(p=0.1, inplace=False)\n",
              "          )\n",
              "        )\n",
              "        (5): ElectraLayer(\n",
              "          (attention): ElectraAttention(\n",
              "            (self): ElectraSelfAttention(\n",
              "              (query): Linear(in_features=768, out_features=768, bias=True)\n",
              "              (key): Linear(in_features=768, out_features=768, bias=True)\n",
              "              (value): Linear(in_features=768, out_features=768, bias=True)\n",
              "              (dropout): Dropout(p=0.1, inplace=False)\n",
              "            )\n",
              "            (output): ElectraSelfOutput(\n",
              "              (dense): Linear(in_features=768, out_features=768, bias=True)\n",
              "              (LayerNorm): LayerNorm((768,), eps=1e-12, elementwise_affine=True)\n",
              "              (dropout): Dropout(p=0.1, inplace=False)\n",
              "            )\n",
              "          )\n",
              "          (intermediate): ElectraIntermediate(\n",
              "            (dense): Linear(in_features=768, out_features=3072, bias=True)\n",
              "            (intermediate_act_fn): GELUActivation()\n",
              "          )\n",
              "          (output): ElectraOutput(\n",
              "            (dense): Linear(in_features=3072, out_features=768, bias=True)\n",
              "            (LayerNorm): LayerNorm((768,), eps=1e-12, elementwise_affine=True)\n",
              "            (dropout): Dropout(p=0.1, inplace=False)\n",
              "          )\n",
              "        )\n",
              "        (6): ElectraLayer(\n",
              "          (attention): ElectraAttention(\n",
              "            (self): ElectraSelfAttention(\n",
              "              (query): Linear(in_features=768, out_features=768, bias=True)\n",
              "              (key): Linear(in_features=768, out_features=768, bias=True)\n",
              "              (value): Linear(in_features=768, out_features=768, bias=True)\n",
              "              (dropout): Dropout(p=0.1, inplace=False)\n",
              "            )\n",
              "            (output): ElectraSelfOutput(\n",
              "              (dense): Linear(in_features=768, out_features=768, bias=True)\n",
              "              (LayerNorm): LayerNorm((768,), eps=1e-12, elementwise_affine=True)\n",
              "              (dropout): Dropout(p=0.1, inplace=False)\n",
              "            )\n",
              "          )\n",
              "          (intermediate): ElectraIntermediate(\n",
              "            (dense): Linear(in_features=768, out_features=3072, bias=True)\n",
              "            (intermediate_act_fn): GELUActivation()\n",
              "          )\n",
              "          (output): ElectraOutput(\n",
              "            (dense): Linear(in_features=3072, out_features=768, bias=True)\n",
              "            (LayerNorm): LayerNorm((768,), eps=1e-12, elementwise_affine=True)\n",
              "            (dropout): Dropout(p=0.1, inplace=False)\n",
              "          )\n",
              "        )\n",
              "        (7): ElectraLayer(\n",
              "          (attention): ElectraAttention(\n",
              "            (self): ElectraSelfAttention(\n",
              "              (query): Linear(in_features=768, out_features=768, bias=True)\n",
              "              (key): Linear(in_features=768, out_features=768, bias=True)\n",
              "              (value): Linear(in_features=768, out_features=768, bias=True)\n",
              "              (dropout): Dropout(p=0.1, inplace=False)\n",
              "            )\n",
              "            (output): ElectraSelfOutput(\n",
              "              (dense): Linear(in_features=768, out_features=768, bias=True)\n",
              "              (LayerNorm): LayerNorm((768,), eps=1e-12, elementwise_affine=True)\n",
              "              (dropout): Dropout(p=0.1, inplace=False)\n",
              "            )\n",
              "          )\n",
              "          (intermediate): ElectraIntermediate(\n",
              "            (dense): Linear(in_features=768, out_features=3072, bias=True)\n",
              "            (intermediate_act_fn): GELUActivation()\n",
              "          )\n",
              "          (output): ElectraOutput(\n",
              "            (dense): Linear(in_features=3072, out_features=768, bias=True)\n",
              "            (LayerNorm): LayerNorm((768,), eps=1e-12, elementwise_affine=True)\n",
              "            (dropout): Dropout(p=0.1, inplace=False)\n",
              "          )\n",
              "        )\n",
              "        (8): ElectraLayer(\n",
              "          (attention): ElectraAttention(\n",
              "            (self): ElectraSelfAttention(\n",
              "              (query): Linear(in_features=768, out_features=768, bias=True)\n",
              "              (key): Linear(in_features=768, out_features=768, bias=True)\n",
              "              (value): Linear(in_features=768, out_features=768, bias=True)\n",
              "              (dropout): Dropout(p=0.1, inplace=False)\n",
              "            )\n",
              "            (output): ElectraSelfOutput(\n",
              "              (dense): Linear(in_features=768, out_features=768, bias=True)\n",
              "              (LayerNorm): LayerNorm((768,), eps=1e-12, elementwise_affine=True)\n",
              "              (dropout): Dropout(p=0.1, inplace=False)\n",
              "            )\n",
              "          )\n",
              "          (intermediate): ElectraIntermediate(\n",
              "            (dense): Linear(in_features=768, out_features=3072, bias=True)\n",
              "            (intermediate_act_fn): GELUActivation()\n",
              "          )\n",
              "          (output): ElectraOutput(\n",
              "            (dense): Linear(in_features=3072, out_features=768, bias=True)\n",
              "            (LayerNorm): LayerNorm((768,), eps=1e-12, elementwise_affine=True)\n",
              "            (dropout): Dropout(p=0.1, inplace=False)\n",
              "          )\n",
              "        )\n",
              "        (9): ElectraLayer(\n",
              "          (attention): ElectraAttention(\n",
              "            (self): ElectraSelfAttention(\n",
              "              (query): Linear(in_features=768, out_features=768, bias=True)\n",
              "              (key): Linear(in_features=768, out_features=768, bias=True)\n",
              "              (value): Linear(in_features=768, out_features=768, bias=True)\n",
              "              (dropout): Dropout(p=0.1, inplace=False)\n",
              "            )\n",
              "            (output): ElectraSelfOutput(\n",
              "              (dense): Linear(in_features=768, out_features=768, bias=True)\n",
              "              (LayerNorm): LayerNorm((768,), eps=1e-12, elementwise_affine=True)\n",
              "              (dropout): Dropout(p=0.1, inplace=False)\n",
              "            )\n",
              "          )\n",
              "          (intermediate): ElectraIntermediate(\n",
              "            (dense): Linear(in_features=768, out_features=3072, bias=True)\n",
              "            (intermediate_act_fn): GELUActivation()\n",
              "          )\n",
              "          (output): ElectraOutput(\n",
              "            (dense): Linear(in_features=3072, out_features=768, bias=True)\n",
              "            (LayerNorm): LayerNorm((768,), eps=1e-12, elementwise_affine=True)\n",
              "            (dropout): Dropout(p=0.1, inplace=False)\n",
              "          )\n",
              "        )\n",
              "        (10): ElectraLayer(\n",
              "          (attention): ElectraAttention(\n",
              "            (self): ElectraSelfAttention(\n",
              "              (query): Linear(in_features=768, out_features=768, bias=True)\n",
              "              (key): Linear(in_features=768, out_features=768, bias=True)\n",
              "              (value): Linear(in_features=768, out_features=768, bias=True)\n",
              "              (dropout): Dropout(p=0.1, inplace=False)\n",
              "            )\n",
              "            (output): ElectraSelfOutput(\n",
              "              (dense): Linear(in_features=768, out_features=768, bias=True)\n",
              "              (LayerNorm): LayerNorm((768,), eps=1e-12, elementwise_affine=True)\n",
              "              (dropout): Dropout(p=0.1, inplace=False)\n",
              "            )\n",
              "          )\n",
              "          (intermediate): ElectraIntermediate(\n",
              "            (dense): Linear(in_features=768, out_features=3072, bias=True)\n",
              "            (intermediate_act_fn): GELUActivation()\n",
              "          )\n",
              "          (output): ElectraOutput(\n",
              "            (dense): Linear(in_features=3072, out_features=768, bias=True)\n",
              "            (LayerNorm): LayerNorm((768,), eps=1e-12, elementwise_affine=True)\n",
              "            (dropout): Dropout(p=0.1, inplace=False)\n",
              "          )\n",
              "        )\n",
              "        (11): ElectraLayer(\n",
              "          (attention): ElectraAttention(\n",
              "            (self): ElectraSelfAttention(\n",
              "              (query): Linear(in_features=768, out_features=768, bias=True)\n",
              "              (key): Linear(in_features=768, out_features=768, bias=True)\n",
              "              (value): Linear(in_features=768, out_features=768, bias=True)\n",
              "              (dropout): Dropout(p=0.1, inplace=False)\n",
              "            )\n",
              "            (output): ElectraSelfOutput(\n",
              "              (dense): Linear(in_features=768, out_features=768, bias=True)\n",
              "              (LayerNorm): LayerNorm((768,), eps=1e-12, elementwise_affine=True)\n",
              "              (dropout): Dropout(p=0.1, inplace=False)\n",
              "            )\n",
              "          )\n",
              "          (intermediate): ElectraIntermediate(\n",
              "            (dense): Linear(in_features=768, out_features=3072, bias=True)\n",
              "            (intermediate_act_fn): GELUActivation()\n",
              "          )\n",
              "          (output): ElectraOutput(\n",
              "            (dense): Linear(in_features=3072, out_features=768, bias=True)\n",
              "            (LayerNorm): LayerNorm((768,), eps=1e-12, elementwise_affine=True)\n",
              "            (dropout): Dropout(p=0.1, inplace=False)\n",
              "          )\n",
              "        )\n",
              "      )\n",
              "    )\n",
              "  )\n",
              "  (start_linear): Linear(in_features=768, out_features=1, bias=True)\n",
              "  (end_linear): Linear(in_features=768, out_features=1, bias=True)\n",
              ")"
            ]
          },
          "metadata": {},
          "execution_count": 16
        }
      ]
    },
    {
      "cell_type": "code",
      "source": [
        "from torch.utils.data import RandomSampler, DataLoader, Subset\n",
        "import numpy as np \n",
        "\n",
        "num_train_samples = 16\n",
        "sample_ds = Subset(indexed_train_dataset, np.arange(num_train_samples))\n",
        "sample_sampler = RandomSampler(sample_ds)\n",
        "sample_dl = DataLoader(sample_ds, collate_fn=collator, sampler=sample_sampler, batch_size=4)\n",
        "next(iter(sample_dl))\n",
        "\n",
        "num_dev_samples = 2\n",
        "sample_ds_dev = Subset(indexed_dev_dataset, np.arange(num_dev_samples))\n",
        "sample_sampler_dev = RandomSampler(sample_ds_dev)\n",
        "sample_dl_dev = DataLoader(sample_ds_dev, collate_fn=collator, sampler=sample_sampler_dev, batch_size=4)\n",
        "next(iter(sample_dl_dev))"
      ],
      "metadata": {
        "colab": {
          "base_uri": "https://localhost:8080/"
        },
        "id": "IPFPktB5ZbuD",
        "outputId": "e6da302b-3b0c-4cf9-fd05-485a7de39351"
      },
      "execution_count": 17,
      "outputs": [
        {
          "output_type": "stream",
          "name": "stderr",
          "text": [
            "/usr/local/lib/python3.7/dist-packages/ipykernel_launcher.py:21: UserWarning: To copy construct from a tensor, it is recommended to use sourceTensor.clone().detach() or sourceTensor.clone().detach().requires_grad_(True), rather than torch.tensor(sourceTensor).\n"
          ]
        },
        {
          "output_type": "execute_result",
          "data": {
            "text/plain": [
              "{'input_ids': tensor([[   2, 1957, 3021,  ...,    0,    0,    0],\n",
              "         [   2, 1957, 3021,  ..., 3090,    1,    3]]),\n",
              " 'token_type_ids': tensor([[0, 0, 0,  ..., 0, 0, 0],\n",
              "         [0, 0, 0,  ..., 1, 1, 1]]),\n",
              " 'attention_mask': tensor([[1, 1, 1,  ..., 0, 0, 0],\n",
              "         [1, 1, 1,  ..., 1, 1, 1]]),\n",
              " 'start': tensor([  0, 169]),\n",
              " 'end': tensor([  0, 171]),\n",
              " 'guid': ['844e22ab28924c1697d5ac28801b34c1',\n",
              "  '844e22ab28924c1697d5ac28801b34c1']}"
            ]
          },
          "metadata": {},
          "execution_count": 17
        }
      ]
    },
    {
      "cell_type": "code",
      "source": [
        "import os\n",
        "from statistics import mean\n",
        "\n",
        "import torch.nn.functional as F\n",
        "from torch.nn.utils import clip_grad_norm_\n",
        "print(f'device : {device}')\n",
        "os.makedirs('dump', exist_ok=True)\n",
        "train_losses = []\n",
        "dev_losses = []\n",
        "\n",
        "step = 0\n",
        "\n",
        "\n",
        "for epoch in range(1, 31):\n",
        "    print(\"Epoch\", epoch)\n",
        "    # Training\n",
        "    running_loss = 0.\n",
        "    losses = []\n",
        "    progress_bar = tqdm(sample_dl, desc='Train')\n",
        "    for batch in progress_bar:\n",
        "        del batch['guid'] #, batch['context'], batch['question'], batch['position']\n",
        "        # batch = {key: value.cuda() for key, value in batch.items()}\n",
        "        batch['input_ids'] = batch['input_ids'].to(device)\n",
        "        batch['token_type_ids'] = batch['token_type_ids'].to(device)\n",
        "        batch['attention_mask'] = batch['attention_mask'].to(device)\n",
        "        batch['start'] = batch['start'].to(device)\n",
        "        batch['end'] = batch['end'].to(device)\n",
        "\n",
        "        start = batch.pop('start')\n",
        "        end = batch.pop('end')\n",
        "        \n",
        "        model_output = model(**batch)\n",
        "        \n",
        "        try :\n",
        "          start_logits, end_logits = model_output\n",
        "        except Exception as e :\n",
        "          print(model_output)\n",
        "          raise e \n",
        "        \n",
        "        try :\n",
        "          print('loss')\n",
        "          loss = F.cross_entropy(start_logits, start) + F.cross_entropy(end_logits, end)\n",
        "\n",
        "          print(torch.argmax(start_logits, dim=1))\n",
        "          print(start)\n",
        "          print(f'ce1 : {F.cross_entropy(start_logits, start)}')\n",
        "          print(f'ce2 : {F.cross_entropy(end_logits, end)}')\n",
        "\n",
        "          loss.backward()\n",
        "          running_loss += loss.item()\n",
        "          print(f'running_loss : {running_loss}')\n",
        "        except Exception as e :\n",
        "          print(f'start_logits : {start_logits}')\n",
        "          print(f'end_logits : {end_logits}')\n",
        "          print(f'start : {start}')\n",
        "          print(f'end : {end}')\n",
        "          print(f'loss : {loss}')\n",
        "          raise e \n",
        "        del batch, start, end, start_logits, end_logits, loss\n",
        "        \n",
        "        step += 1\n",
        "        # if step % accumulation:\n",
        "        #     continue\n",
        "\n",
        "        clip_grad_norm_(model.parameters(), max_norm=1.)\n",
        "        optimizer.step()\n",
        "        optimizer.zero_grad(set_to_none=True)\n",
        "        losses.append(running_loss)\n",
        "        running_loss = 0.\n",
        "        progress_bar.set_description(f\"Train - Loss: {losses[-1]:.3f}\")\n",
        "\n",
        "    train_losses.append(mean(losses))\n",
        "    print(f\"train score: {train_losses[-1]:.3f}\")\n",
        "\n",
        "    # Evaluation\n",
        "    losses = []\n",
        "    for batch in tqdm(sample_dl_dev, desc=\"Evaluation\"):\n",
        "        del batch['guid'] #, batch['context'], batch['question'], batch['position']\n",
        "        # batch = {key: value.cuda() for key, value in batch.items()}\n",
        "        batch['input_ids'] = batch['input_ids'].to(device)\n",
        "        batch['token_type_ids'] = batch['token_type_ids'].to(device)\n",
        "        batch['attention_mask'] = batch['attention_mask'].to(device)\n",
        "        batch['start'] = batch['start'].to(device)\n",
        "        batch['end'] = batch['end'].to(device)\n",
        "\n",
        "        start = batch.pop('start')\n",
        "        end = batch.pop('end')\n",
        "        \n",
        "        with torch.no_grad():\n",
        "            start_logits, end_logits = model(**batch)\n",
        "        loss = F.cross_entropy(start_logits, start) + F.cross_entropy(end_logits, end)\n",
        "\n",
        "        losses.append(loss.item())\n",
        "        del batch, start, end, start_logits, end_logits, loss\n",
        "    dev_losses.append(mean(losses))\n",
        "    print(f\"Evaluation score: {dev_losses[-1]:.3f}\")\n",
        "\n",
        "    torch.save(model, f'dump/model.{epoch}')"
      ],
      "metadata": {
        "id": "SBeYjtCpHaVd",
        "colab": {
          "base_uri": "https://localhost:8080/"
        },
        "collapsed": true,
        "outputId": "ed2757f3-6bfb-416a-9957-aba5f803f931"
      },
      "execution_count": 18,
      "outputs": [
        {
          "output_type": "stream",
          "name": "stdout",
          "text": [
            "device : cuda\n",
            "Epoch 1\n"
          ]
        },
        {
          "output_type": "stream",
          "name": "stderr",
          "text": [
            "\rTrain:   0%|          | 0/4 [00:00<?, ?it/s]/usr/local/lib/python3.7/dist-packages/ipykernel_launcher.py:21: UserWarning: To copy construct from a tensor, it is recommended to use sourceTensor.clone().detach() or sourceTensor.clone().detach().requires_grad_(True), rather than torch.tensor(sourceTensor).\n"
          ]
        },
        {
          "output_type": "stream",
          "name": "stdout",
          "text": [
            "loss\n",
            "tensor([509, 167, 226, 159], device='cuda:0')\n",
            "tensor([  0, 401,   0,  28], device='cuda:0')\n",
            "ce1 : 6.386026382446289\n",
            "ce2 : 6.342859745025635\n"
          ]
        },
        {
          "output_type": "stream",
          "name": "stderr",
          "text": [
            "Train - Loss: 12.729:  25%|██▌       | 1/4 [00:01<00:03,  1.21s/it]"
          ]
        },
        {
          "output_type": "stream",
          "name": "stdout",
          "text": [
            "running_loss : 12.728885650634766\n",
            "loss\n",
            "tensor([248, 162, 144,  24], device='cuda:0')\n",
            "tensor([135, 415,  83,   0], device='cuda:0')\n",
            "ce1 : 6.3970513343811035\n",
            "ce2 : 6.151092052459717\n"
          ]
        },
        {
          "output_type": "stream",
          "name": "stderr",
          "text": [
            "Train - Loss: 12.548:  50%|█████     | 2/4 [00:01<00:01,  1.40it/s]"
          ]
        },
        {
          "output_type": "stream",
          "name": "stdout",
          "text": [
            "running_loss : 12.54814338684082\n",
            "loss\n",
            "tensor([  3, 150, 342, 159], device='cuda:0')\n",
            "tensor([  0,  53,  26, 195], device='cuda:0')\n",
            "ce1 : 6.186415195465088\n",
            "ce2 : 6.229832649230957\n"
          ]
        },
        {
          "output_type": "stream",
          "name": "stderr",
          "text": [
            "Train - Loss: 12.416:  75%|███████▌  | 3/4 [00:01<00:00,  1.79it/s]"
          ]
        },
        {
          "output_type": "stream",
          "name": "stdout",
          "text": [
            "running_loss : 12.416248321533203\n",
            "loss\n",
            "tensor([457, 152,   2,  66], device='cuda:0')\n",
            "tensor([  0, 151,  26,   0], device='cuda:0')\n",
            "ce1 : 5.947915077209473\n",
            "ce2 : 5.9754180908203125\n"
          ]
        },
        {
          "output_type": "stream",
          "name": "stderr",
          "text": [
            "Train - Loss: 11.923: 100%|██████████| 4/4 [00:02<00:00,  1.71it/s]\n"
          ]
        },
        {
          "output_type": "stream",
          "name": "stdout",
          "text": [
            "running_loss : 11.923333168029785\n",
            "train score: 12.404\n"
          ]
        },
        {
          "output_type": "stream",
          "name": "stderr",
          "text": [
            "Evaluation: 100%|██████████| 1/1 [00:00<00:00, 17.16it/s]"
          ]
        },
        {
          "output_type": "stream",
          "name": "stdout",
          "text": [
            "Evaluation score: 12.093\n"
          ]
        },
        {
          "output_type": "stream",
          "name": "stderr",
          "text": [
            "\n"
          ]
        },
        {
          "output_type": "stream",
          "name": "stdout",
          "text": [
            "Epoch 2\n"
          ]
        },
        {
          "output_type": "stream",
          "name": "stderr",
          "text": [
            "\rTrain:   0%|          | 0/4 [00:00<?, ?it/s]"
          ]
        },
        {
          "output_type": "stream",
          "name": "stdout",
          "text": [
            "loss\n",
            "tensor([  2, 195, 152,  69], device='cuda:0')\n",
            "tensor([  0, 195, 151,   0], device='cuda:0')\n",
            "ce1 : 5.50303316116333\n",
            "ce2 : 5.788727760314941\n"
          ]
        },
        {
          "output_type": "stream",
          "name": "stderr",
          "text": [
            "Train - Loss: 11.292:  25%|██▌       | 1/4 [00:00<00:01,  2.79it/s]"
          ]
        },
        {
          "output_type": "stream",
          "name": "stdout",
          "text": [
            "running_loss : 11.29176139831543\n",
            "loss\n",
            "tensor([  2, 401,  53,   2], device='cuda:0')\n",
            "tensor([  0, 401,  53,  26], device='cuda:0')\n",
            "ce1 : 5.038722991943359\n",
            "ce2 : 5.122995853424072\n"
          ]
        },
        {
          "output_type": "stream",
          "name": "stderr",
          "text": [
            "Train - Loss: 10.162:  50%|█████     | 2/4 [00:00<00:00,  2.75it/s]"
          ]
        },
        {
          "output_type": "stream",
          "name": "stdout",
          "text": [
            "running_loss : 10.161718368530273\n",
            "loss\n",
            "tensor([415,  66, 135, 499], device='cuda:0')\n",
            "tensor([415,   0, 135,   0], device='cuda:0')\n",
            "ce1 : 5.394305229187012\n",
            "ce2 : 5.336393356323242\n"
          ]
        },
        {
          "output_type": "stream",
          "name": "stderr",
          "text": [
            "Train - Loss: 10.731:  75%|███████▌  | 3/4 [00:01<00:00,  2.69it/s]"
          ]
        },
        {
          "output_type": "stream",
          "name": "stdout",
          "text": [
            "running_loss : 10.730698585510254\n",
            "loss\n",
            "tensor([ 31,   2, 139,  28], device='cuda:0')\n",
            "tensor([ 0, 26, 83, 28], device='cuda:0')\n",
            "ce1 : 5.3301215171813965\n",
            "ce2 : 5.007566452026367\n"
          ]
        },
        {
          "output_type": "stream",
          "name": "stderr",
          "text": [
            "Train - Loss: 10.338: 100%|██████████| 4/4 [00:01<00:00,  2.69it/s]\n"
          ]
        },
        {
          "output_type": "stream",
          "name": "stdout",
          "text": [
            "running_loss : 10.337688446044922\n",
            "train score: 10.630\n"
          ]
        },
        {
          "output_type": "stream",
          "name": "stderr",
          "text": [
            "Evaluation: 100%|██████████| 1/1 [00:00<00:00, 17.48it/s]"
          ]
        },
        {
          "output_type": "stream",
          "name": "stdout",
          "text": [
            "Evaluation score: 11.602\n"
          ]
        },
        {
          "output_type": "stream",
          "name": "stderr",
          "text": [
            "\n"
          ]
        },
        {
          "output_type": "stream",
          "name": "stdout",
          "text": [
            "Epoch 3\n"
          ]
        },
        {
          "output_type": "stream",
          "name": "stderr",
          "text": [
            "\rTrain:   0%|          | 0/4 [00:00<?, ?it/s]"
          ]
        },
        {
          "output_type": "stream",
          "name": "stdout",
          "text": [
            "loss\n",
            "tensor([401, 139, 135, 132], device='cuda:0')\n",
            "tensor([401,  83, 135,   0], device='cuda:0')\n",
            "ce1 : 4.446887016296387\n",
            "ce2 : 4.519794464111328\n"
          ]
        },
        {
          "output_type": "stream",
          "name": "stderr",
          "text": [
            "Train - Loss: 8.967:  25%|██▌       | 1/4 [00:00<00:01,  2.75it/s]"
          ]
        },
        {
          "output_type": "stream",
          "name": "stdout",
          "text": [
            "running_loss : 8.966681480407715\n",
            "loss\n",
            "tensor([ 31, 195,  53,   2], device='cuda:0')\n",
            "tensor([  0, 195,  53,   0], device='cuda:0')\n",
            "ce1 : 4.497459411621094\n",
            "ce2 : 4.886174201965332\n"
          ]
        },
        {
          "output_type": "stream",
          "name": "stderr",
          "text": [
            "Train - Loss: 9.384:  50%|█████     | 2/4 [00:00<00:00,  2.71it/s]"
          ]
        },
        {
          "output_type": "stream",
          "name": "stdout",
          "text": [
            "running_loss : 9.383633613586426\n",
            "loss\n",
            "tensor([ 26,   2, 415,  51], device='cuda:0')\n",
            "tensor([ 26,   0, 415,   0], device='cuda:0')\n",
            "ce1 : 4.690713882446289\n",
            "ce2 : 4.532680034637451\n"
          ]
        },
        {
          "output_type": "stream",
          "name": "stderr",
          "text": [
            "Train - Loss: 9.223:  75%|███████▌  | 3/4 [00:01<00:00,  2.69it/s]"
          ]
        },
        {
          "output_type": "stream",
          "name": "stdout",
          "text": [
            "running_loss : 9.223394393920898\n",
            "loss\n",
            "tensor([ 71, 151,  28, 304], device='cuda:0')\n",
            "tensor([ 26, 151,  28,   0], device='cuda:0')\n",
            "ce1 : 4.405185222625732\n",
            "ce2 : 4.005506992340088\n"
          ]
        },
        {
          "output_type": "stream",
          "name": "stderr",
          "text": [
            "Train - Loss: 8.411: 100%|██████████| 4/4 [00:01<00:00,  2.67it/s]\n"
          ]
        },
        {
          "output_type": "stream",
          "name": "stdout",
          "text": [
            "running_loss : 8.41069221496582\n",
            "train score: 8.996\n"
          ]
        },
        {
          "output_type": "stream",
          "name": "stderr",
          "text": [
            "Evaluation: 100%|██████████| 1/1 [00:00<00:00, 18.36it/s]"
          ]
        },
        {
          "output_type": "stream",
          "name": "stdout",
          "text": [
            "Evaluation score: 11.093\n"
          ]
        },
        {
          "output_type": "stream",
          "name": "stderr",
          "text": [
            "\n"
          ]
        },
        {
          "output_type": "stream",
          "name": "stdout",
          "text": [
            "Epoch 4\n"
          ]
        },
        {
          "output_type": "stream",
          "name": "stderr",
          "text": [
            "\rTrain:   0%|          | 0/4 [00:00<?, ?it/s]"
          ]
        },
        {
          "output_type": "stream",
          "name": "stdout",
          "text": [
            "loss\n",
            "tensor([195,   2,   2, 415], device='cuda:0')\n",
            "tensor([195,   0,   0, 415], device='cuda:0')\n",
            "ce1 : 4.061557769775391\n",
            "ce2 : 4.394562244415283\n"
          ]
        },
        {
          "output_type": "stream",
          "name": "stderr",
          "text": [
            "Train - Loss: 8.456:  25%|██▌       | 1/4 [00:00<00:01,  2.80it/s]"
          ]
        },
        {
          "output_type": "stream",
          "name": "stdout",
          "text": [
            "running_loss : 8.456119537353516\n",
            "loss\n",
            "tensor([132, 151, 401,   0], device='cuda:0')\n",
            "tensor([  0, 151, 401,   0], device='cuda:0')\n",
            "ce1 : 3.717288017272949\n",
            "ce2 : 3.7491273880004883\n"
          ]
        },
        {
          "output_type": "stream",
          "name": "stderr",
          "text": [
            "Train - Loss: 7.466:  50%|█████     | 2/4 [00:00<00:00,  2.74it/s]"
          ]
        },
        {
          "output_type": "stream",
          "name": "stdout",
          "text": [
            "running_loss : 7.4664154052734375\n",
            "loss\n",
            "tensor([53, 28, 26, 31], device='cuda:0')\n",
            "tensor([53, 28, 26,  0], device='cuda:0')\n",
            "ce1 : 3.6236815452575684\n",
            "ce2 : 3.5477728843688965\n"
          ]
        },
        {
          "output_type": "stream",
          "name": "stderr",
          "text": [
            "Train - Loss: 7.171:  75%|███████▌  | 3/4 [00:01<00:00,  2.69it/s]"
          ]
        },
        {
          "output_type": "stream",
          "name": "stdout",
          "text": [
            "running_loss : 7.171454429626465\n",
            "loss\n",
            "tensor([139, 304, 135,  26], device='cuda:0')\n",
            "tensor([ 83,   0, 135,  26], device='cuda:0')\n",
            "ce1 : 3.323979139328003\n",
            "ce2 : 3.2841854095458984\n"
          ]
        },
        {
          "output_type": "stream",
          "name": "stderr",
          "text": [
            "Train - Loss: 6.608: 100%|██████████| 4/4 [00:01<00:00,  2.69it/s]\n"
          ]
        },
        {
          "output_type": "stream",
          "name": "stdout",
          "text": [
            "running_loss : 6.6081647872924805\n",
            "train score: 7.426\n"
          ]
        },
        {
          "output_type": "stream",
          "name": "stderr",
          "text": [
            "Evaluation: 100%|██████████| 1/1 [00:00<00:00, 17.54it/s]"
          ]
        },
        {
          "output_type": "stream",
          "name": "stdout",
          "text": [
            "Evaluation score: 10.388\n"
          ]
        },
        {
          "output_type": "stream",
          "name": "stderr",
          "text": [
            "\n"
          ]
        },
        {
          "output_type": "stream",
          "name": "stdout",
          "text": [
            "Epoch 5\n"
          ]
        },
        {
          "output_type": "stream",
          "name": "stderr",
          "text": [
            "\rTrain:   0%|          | 0/4 [00:00<?, ?it/s]"
          ]
        },
        {
          "output_type": "stream",
          "name": "stdout",
          "text": [
            "loss\n",
            "tensor([139,   2,  53,  31], device='cuda:0')\n",
            "tensor([83,  0, 53,  0], device='cuda:0')\n",
            "ce1 : 3.6072564125061035\n",
            "ce2 : 3.718273162841797\n"
          ]
        },
        {
          "output_type": "stream",
          "name": "stderr",
          "text": [
            "Train - Loss: 7.326:  25%|██▌       | 1/4 [00:00<00:01,  2.69it/s]"
          ]
        },
        {
          "output_type": "stream",
          "name": "stdout",
          "text": [
            "running_loss : 7.3255295753479\n",
            "loss\n",
            "tensor([ 26,   0,  96, 151], device='cuda:0')\n",
            "tensor([ 26,   0,   0, 151], device='cuda:0')\n",
            "ce1 : 2.678163766860962\n",
            "ce2 : 2.5853021144866943\n"
          ]
        },
        {
          "output_type": "stream",
          "name": "stderr",
          "text": [
            "Train - Loss: 5.263:  50%|█████     | 2/4 [00:00<00:00,  2.53it/s]"
          ]
        },
        {
          "output_type": "stream",
          "name": "stdout",
          "text": [
            "running_loss : 5.263465881347656\n",
            "loss\n",
            "tensor([415, 132, 511,  26], device='cuda:0')\n",
            "tensor([415,   0,   0,  26], device='cuda:0')\n",
            "ce1 : 3.079287052154541\n",
            "ce2 : 2.9012577533721924\n"
          ]
        },
        {
          "output_type": "stream",
          "name": "stderr",
          "text": [
            "Train - Loss: 5.981:  75%|███████▌  | 3/4 [00:01<00:00,  2.55it/s]"
          ]
        },
        {
          "output_type": "stream",
          "name": "stdout",
          "text": [
            "running_loss : 5.9805450439453125\n",
            "loss\n",
            "tensor([135, 401, 195,  28], device='cuda:0')\n",
            "tensor([135, 401, 195,  28], device='cuda:0')\n",
            "ce1 : 1.9449937343597412\n",
            "ce2 : 2.536742687225342\n"
          ]
        },
        {
          "output_type": "stream",
          "name": "stderr",
          "text": [
            "Train - Loss: 4.482: 100%|██████████| 4/4 [00:01<00:00,  2.52it/s]\n"
          ]
        },
        {
          "output_type": "stream",
          "name": "stdout",
          "text": [
            "running_loss : 4.481736183166504\n",
            "train score: 5.763\n"
          ]
        },
        {
          "output_type": "stream",
          "name": "stderr",
          "text": [
            "Evaluation: 100%|██████████| 1/1 [00:00<00:00, 18.22it/s]"
          ]
        },
        {
          "output_type": "stream",
          "name": "stdout",
          "text": [
            "Evaluation score: 9.483\n"
          ]
        },
        {
          "output_type": "stream",
          "name": "stderr",
          "text": [
            "\n"
          ]
        },
        {
          "output_type": "stream",
          "name": "stdout",
          "text": [
            "Epoch 6\n"
          ]
        },
        {
          "output_type": "stream",
          "name": "stderr",
          "text": [
            "\rTrain:   0%|          | 0/4 [00:00<?, ?it/s]"
          ]
        },
        {
          "output_type": "stream",
          "name": "stdout",
          "text": [
            "loss\n",
            "tensor([511, 195, 151, 415], device='cuda:0')\n",
            "tensor([  0, 195, 151, 415], device='cuda:0')\n",
            "ce1 : 2.0388550758361816\n",
            "ce2 : 2.490340232849121\n"
          ]
        },
        {
          "output_type": "stream",
          "name": "stderr",
          "text": [
            "Train - Loss: 4.529:  25%|██▌       | 1/4 [00:00<00:01,  2.13it/s]"
          ]
        },
        {
          "output_type": "stream",
          "name": "stdout",
          "text": [
            "running_loss : 4.529195308685303\n",
            "loss\n",
            "tensor([ 28, 401,  96, 135], device='cuda:0')\n",
            "tensor([ 28, 401,   0, 135], device='cuda:0')\n",
            "ce1 : 1.617079734802246\n",
            "ce2 : 1.7023016214370728\n"
          ]
        },
        {
          "output_type": "stream",
          "name": "stderr",
          "text": [
            "Train - Loss: 3.319:  50%|█████     | 2/4 [00:00<00:00,  2.37it/s]"
          ]
        },
        {
          "output_type": "stream",
          "name": "stdout",
          "text": [
            "running_loss : 3.3193812370300293\n",
            "loss\n",
            "tensor([511,   0,  26, 132], device='cuda:0')\n",
            "tensor([ 0,  0, 26,  0], device='cuda:0')\n",
            "ce1 : 2.5452868938446045\n",
            "ce2 : 2.290426731109619\n"
          ]
        },
        {
          "output_type": "stream",
          "name": "stderr",
          "text": [
            "Train - Loss: 4.836:  75%|███████▌  | 3/4 [00:01<00:00,  2.41it/s]"
          ]
        },
        {
          "output_type": "stream",
          "name": "stdout",
          "text": [
            "running_loss : 4.8357133865356445\n",
            "loss\n",
            "tensor([53, 26,  0, 83], device='cuda:0')\n",
            "tensor([53, 26,  0, 83], device='cuda:0')\n",
            "ce1 : 1.8678020238876343\n",
            "ce2 : 1.8018779754638672\n"
          ]
        },
        {
          "output_type": "stream",
          "name": "stderr",
          "text": [
            "Train - Loss: 3.670: 100%|██████████| 4/4 [00:01<00:00,  2.42it/s]\n"
          ]
        },
        {
          "output_type": "stream",
          "name": "stdout",
          "text": [
            "running_loss : 3.669680118560791\n",
            "train score: 4.088\n"
          ]
        },
        {
          "output_type": "stream",
          "name": "stderr",
          "text": [
            "Evaluation: 100%|██████████| 1/1 [00:00<00:00, 18.71it/s]"
          ]
        },
        {
          "output_type": "stream",
          "name": "stdout",
          "text": [
            "Evaluation score: 8.783\n"
          ]
        },
        {
          "output_type": "stream",
          "name": "stderr",
          "text": [
            "\n"
          ]
        },
        {
          "output_type": "stream",
          "name": "stdout",
          "text": [
            "Epoch 7\n"
          ]
        },
        {
          "output_type": "stream",
          "name": "stderr",
          "text": [
            "\rTrain:   0%|          | 0/4 [00:00<?, ?it/s]"
          ]
        },
        {
          "output_type": "stream",
          "name": "stdout",
          "text": [
            "loss\n",
            "tensor([415,   0,  26,  26], device='cuda:0')\n",
            "tensor([415,   0,  26,  26], device='cuda:0')\n",
            "ce1 : 1.5279536247253418\n",
            "ce2 : 1.3440935611724854\n"
          ]
        },
        {
          "output_type": "stream",
          "name": "stderr",
          "text": [
            "Train - Loss: 2.872:  25%|██▌       | 1/4 [00:00<00:01,  2.16it/s]"
          ]
        },
        {
          "output_type": "stream",
          "name": "stdout",
          "text": [
            "running_loss : 2.872047185897827\n",
            "loss\n",
            "tensor([  0, 511,   0,   0], device='cuda:0')\n",
            "tensor([0, 0, 0, 0], device='cuda:0')\n",
            "ce1 : 2.0534915924072266\n",
            "ce2 : 1.9270780086517334\n"
          ]
        },
        {
          "output_type": "stream",
          "name": "stderr",
          "text": [
            "Train - Loss: 3.981:  50%|█████     | 2/4 [00:00<00:00,  2.29it/s]"
          ]
        },
        {
          "output_type": "stream",
          "name": "stdout",
          "text": [
            "running_loss : 3.98056960105896\n",
            "loss\n",
            "tensor([  0,  53, 195, 151], device='cuda:0')\n",
            "tensor([  0,  53, 195, 151], device='cuda:0')\n",
            "ce1 : 1.0094505548477173\n",
            "ce2 : 1.4157629013061523\n"
          ]
        },
        {
          "output_type": "stream",
          "name": "stderr",
          "text": [
            "Train - Loss: 2.425:  75%|███████▌  | 3/4 [00:01<00:00,  2.46it/s]"
          ]
        },
        {
          "output_type": "stream",
          "name": "stdout",
          "text": [
            "running_loss : 2.42521333694458\n",
            "loss\n",
            "tensor([ 83, 135, 401,  28], device='cuda:0')\n",
            "tensor([ 83, 135, 401,  28], device='cuda:0')\n",
            "ce1 : 0.8326001763343811\n",
            "ce2 : 1.0316649675369263\n"
          ]
        },
        {
          "output_type": "stream",
          "name": "stderr",
          "text": [
            "Train - Loss: 1.864: 100%|██████████| 4/4 [00:01<00:00,  2.42it/s]\n"
          ]
        },
        {
          "output_type": "stream",
          "name": "stdout",
          "text": [
            "running_loss : 1.8642652034759521\n",
            "train score: 2.786\n"
          ]
        },
        {
          "output_type": "stream",
          "name": "stderr",
          "text": [
            "Evaluation: 100%|██████████| 1/1 [00:00<00:00, 17.75it/s]"
          ]
        },
        {
          "output_type": "stream",
          "name": "stdout",
          "text": [
            "Evaluation score: 8.428\n"
          ]
        },
        {
          "output_type": "stream",
          "name": "stderr",
          "text": [
            "\n"
          ]
        },
        {
          "output_type": "stream",
          "name": "stdout",
          "text": [
            "Epoch 8\n"
          ]
        },
        {
          "output_type": "stream",
          "name": "stderr",
          "text": [
            "\rTrain:   0%|          | 0/4 [00:00<?, ?it/s]"
          ]
        },
        {
          "output_type": "stream",
          "name": "stdout",
          "text": [
            "loss\n",
            "tensor([83, 26,  0,  0], device='cuda:0')\n",
            "tensor([83, 26,  0,  0], device='cuda:0')\n",
            "ce1 : 1.24764084815979\n",
            "ce2 : 1.2098206281661987\n"
          ]
        },
        {
          "output_type": "stream",
          "name": "stderr",
          "text": [
            "Train - Loss: 2.457:  25%|██▌       | 1/4 [00:00<00:01,  2.02it/s]"
          ]
        },
        {
          "output_type": "stream",
          "name": "stdout",
          "text": [
            "running_loss : 2.457461357116699\n",
            "loss\n",
            "tensor([135, 511, 511, 415], device='cuda:0')\n",
            "tensor([135,   0,   0, 415], device='cuda:0')\n",
            "ce1 : 1.0099620819091797\n",
            "ce2 : 1.0495269298553467\n"
          ]
        },
        {
          "output_type": "stream",
          "name": "stderr",
          "text": [
            "Train - Loss: 2.059:  50%|█████     | 2/4 [00:00<00:00,  2.21it/s]"
          ]
        },
        {
          "output_type": "stream",
          "name": "stdout",
          "text": [
            "running_loss : 2.0594890117645264\n",
            "loss\n",
            "tensor([  0,  28,  26, 401], device='cuda:0')\n",
            "tensor([  0,  28,  26, 401], device='cuda:0')\n",
            "ce1 : 0.7008132934570312\n",
            "ce2 : 0.7726716995239258\n"
          ]
        },
        {
          "output_type": "stream",
          "name": "stderr",
          "text": [
            "Train - Loss: 1.473:  75%|███████▌  | 3/4 [00:01<00:00,  2.30it/s]"
          ]
        },
        {
          "output_type": "stream",
          "name": "stdout",
          "text": [
            "running_loss : 1.473484992980957\n",
            "loss\n",
            "tensor([151,  53, 195,   0], device='cuda:0')\n",
            "tensor([151,  53, 195,   0], device='cuda:0')\n",
            "ce1 : 0.6452126502990723\n",
            "ce2 : 0.8855248689651489\n"
          ]
        },
        {
          "output_type": "stream",
          "name": "stderr",
          "text": [
            "Train - Loss: 1.531: 100%|██████████| 4/4 [00:01<00:00,  2.28it/s]\n"
          ]
        },
        {
          "output_type": "stream",
          "name": "stdout",
          "text": [
            "running_loss : 1.5307375192642212\n",
            "train score: 1.880\n"
          ]
        },
        {
          "output_type": "stream",
          "name": "stderr",
          "text": [
            "Evaluation: 100%|██████████| 1/1 [00:00<00:00, 17.42it/s]"
          ]
        },
        {
          "output_type": "stream",
          "name": "stdout",
          "text": [
            "Evaluation score: 8.555\n"
          ]
        },
        {
          "output_type": "stream",
          "name": "stderr",
          "text": [
            "\n"
          ]
        },
        {
          "output_type": "stream",
          "name": "stdout",
          "text": [
            "Epoch 9\n"
          ]
        },
        {
          "output_type": "stream",
          "name": "stderr",
          "text": [
            "\rTrain:   0%|          | 0/4 [00:00<?, ?it/s]"
          ]
        },
        {
          "output_type": "stream",
          "name": "stdout",
          "text": [
            "loss\n",
            "tensor([ 0, 26, 28,  0], device='cuda:0')\n",
            "tensor([ 0, 26, 28,  0], device='cuda:0')\n",
            "ce1 : 0.962600827217102\n",
            "ce2 : 0.9472110271453857\n"
          ]
        },
        {
          "output_type": "stream",
          "name": "stderr",
          "text": [
            "Train - Loss: 1.910:  25%|██▌       | 1/4 [00:00<00:01,  2.11it/s]"
          ]
        },
        {
          "output_type": "stream",
          "name": "stdout",
          "text": [
            "running_loss : 1.9098118543624878\n",
            "loss\n",
            "tensor([ 53, 511,   0,   0], device='cuda:0')\n",
            "tensor([53,  0,  0,  0], device='cuda:0')\n",
            "ce1 : 1.3769456148147583\n",
            "ce2 : 1.4898366928100586\n"
          ]
        },
        {
          "output_type": "stream",
          "name": "stderr",
          "text": [
            "Train - Loss: 2.867:  50%|█████     | 2/4 [00:00<00:00,  2.42it/s]"
          ]
        },
        {
          "output_type": "stream",
          "name": "stdout",
          "text": [
            "running_loss : 2.8667821884155273\n",
            "loss\n",
            "tensor([401, 151, 511,  83], device='cuda:0')\n",
            "tensor([401, 151,   0,  83], device='cuda:0')\n",
            "ce1 : 0.47849568724632263\n",
            "ce2 : 0.4757492244243622\n"
          ]
        },
        {
          "output_type": "stream",
          "name": "stderr",
          "text": [
            "Train - Loss: 0.954:  75%|███████▌  | 3/4 [00:01<00:00,  2.47it/s]"
          ]
        },
        {
          "output_type": "stream",
          "name": "stdout",
          "text": [
            "running_loss : 0.9542449116706848\n",
            "loss\n",
            "tensor([ 26, 415, 195, 135], device='cuda:0')\n",
            "tensor([ 26, 415, 195, 135], device='cuda:0')\n",
            "ce1 : 0.19983677566051483\n",
            "ce2 : 0.3079507052898407\n"
          ]
        },
        {
          "output_type": "stream",
          "name": "stderr",
          "text": [
            "Train - Loss: 0.508: 100%|██████████| 4/4 [00:01<00:00,  2.44it/s]\n"
          ]
        },
        {
          "output_type": "stream",
          "name": "stdout",
          "text": [
            "running_loss : 0.5077874660491943\n",
            "train score: 1.560\n"
          ]
        },
        {
          "output_type": "stream",
          "name": "stderr",
          "text": [
            "Evaluation: 100%|██████████| 1/1 [00:00<00:00, 17.85it/s]"
          ]
        },
        {
          "output_type": "stream",
          "name": "stdout",
          "text": [
            "Evaluation score: 8.481\n"
          ]
        },
        {
          "output_type": "stream",
          "name": "stderr",
          "text": [
            "\n"
          ]
        },
        {
          "output_type": "stream",
          "name": "stdout",
          "text": [
            "Epoch 10\n"
          ]
        },
        {
          "output_type": "stream",
          "name": "stderr",
          "text": [
            "\rTrain:   0%|          | 0/4 [00:00<?, ?it/s]"
          ]
        },
        {
          "output_type": "stream",
          "name": "stdout",
          "text": [
            "loss\n",
            "tensor([ 26, 511,   0, 401], device='cuda:0')\n",
            "tensor([ 26,   0,   0, 401], device='cuda:0')\n",
            "ce1 : 0.751141369342804\n",
            "ce2 : 0.8273939490318298\n"
          ]
        },
        {
          "output_type": "stream",
          "name": "stderr",
          "text": [
            "Train - Loss: 1.579:  25%|██▌       | 1/4 [00:00<00:01,  2.20it/s]"
          ]
        },
        {
          "output_type": "stream",
          "name": "stdout",
          "text": [
            "running_loss : 1.5785353183746338\n",
            "loss\n",
            "tensor([ 53, 415, 135,  83], device='cuda:0')\n",
            "tensor([ 53, 415, 135,  83], device='cuda:0')\n",
            "ce1 : 0.10531730949878693\n",
            "ce2 : 0.10730741918087006\n"
          ]
        },
        {
          "output_type": "stream",
          "name": "stderr",
          "text": [
            "Train - Loss: 0.213:  50%|█████     | 2/4 [00:00<00:00,  2.23it/s]"
          ]
        },
        {
          "output_type": "stream",
          "name": "stdout",
          "text": [
            "running_loss : 0.21262472867965698\n",
            "loss\n",
            "tensor([ 28, 151,   0,  26], device='cuda:0')\n",
            "tensor([ 28, 151,   0,  26], device='cuda:0')\n",
            "ce1 : 0.36454010009765625\n",
            "ce2 : 0.38237476348876953\n"
          ]
        },
        {
          "output_type": "stream",
          "name": "stderr",
          "text": [
            "Train - Loss: 0.747:  75%|███████▌  | 3/4 [00:01<00:00,  2.30it/s]"
          ]
        },
        {
          "output_type": "stream",
          "name": "stdout",
          "text": [
            "running_loss : 0.7469148635864258\n",
            "loss\n",
            "tensor([511, 195,   0, 511], device='cuda:0')\n",
            "tensor([  0, 195,   0,   0], device='cuda:0')\n",
            "ce1 : 0.9780721068382263\n",
            "ce2 : 1.052830696105957\n"
          ]
        },
        {
          "output_type": "stream",
          "name": "stderr",
          "text": [
            "Train - Loss: 2.031: 100%|██████████| 4/4 [00:01<00:00,  2.32it/s]\n"
          ]
        },
        {
          "output_type": "stream",
          "name": "stdout",
          "text": [
            "running_loss : 2.030902862548828\n",
            "train score: 1.142\n"
          ]
        },
        {
          "output_type": "stream",
          "name": "stderr",
          "text": [
            "Evaluation: 100%|██████████| 1/1 [00:00<00:00, 18.17it/s]"
          ]
        },
        {
          "output_type": "stream",
          "name": "stdout",
          "text": [
            "Evaluation score: 8.587\n"
          ]
        },
        {
          "output_type": "stream",
          "name": "stderr",
          "text": [
            "\n"
          ]
        },
        {
          "output_type": "stream",
          "name": "stdout",
          "text": [
            "Epoch 11\n"
          ]
        },
        {
          "output_type": "stream",
          "name": "stderr",
          "text": [
            "\rTrain:   0%|          | 0/4 [00:00<?, ?it/s]"
          ]
        },
        {
          "output_type": "stream",
          "name": "stdout",
          "text": [
            "loss\n",
            "tensor([401, 195,  26, 511], device='cuda:0')\n",
            "tensor([401, 195,  26,   0], device='cuda:0')\n",
            "ce1 : 0.373342901468277\n",
            "ce2 : 0.4101654887199402\n"
          ]
        },
        {
          "output_type": "stream",
          "name": "stderr",
          "text": [
            "Train - Loss: 0.784:  25%|██▌       | 1/4 [00:00<00:01,  2.16it/s]"
          ]
        },
        {
          "output_type": "stream",
          "name": "stdout",
          "text": [
            "running_loss : 0.7835084199905396\n",
            "loss\n",
            "tensor([511, 511,   0,  53], device='cuda:0')\n",
            "tensor([ 0,  0,  0, 53], device='cuda:0')\n",
            "ce1 : 0.8782609701156616\n",
            "ce2 : 0.8947271108627319\n"
          ]
        },
        {
          "output_type": "stream",
          "name": "stderr",
          "text": [
            "Train - Loss: 1.773:  50%|█████     | 2/4 [00:00<00:00,  2.41it/s]"
          ]
        },
        {
          "output_type": "stream",
          "name": "stdout",
          "text": [
            "running_loss : 1.7729880809783936\n",
            "loss\n",
            "tensor([ 83,   0,   0, 415], device='cuda:0')\n",
            "tensor([ 83,   0,   0, 415], device='cuda:0')\n",
            "ce1 : 0.5097465515136719\n",
            "ce2 : 0.519202709197998\n"
          ]
        },
        {
          "output_type": "stream",
          "name": "stderr",
          "text": [
            "Train - Loss: 1.029:  75%|███████▌  | 3/4 [00:01<00:00,  2.51it/s]"
          ]
        },
        {
          "output_type": "stream",
          "name": "stdout",
          "text": [
            "running_loss : 1.02894926071167\n",
            "loss\n",
            "tensor([ 28, 135, 151,  26], device='cuda:0')\n",
            "tensor([ 28, 135, 151,  26], device='cuda:0')\n",
            "ce1 : 0.023113436996936798\n",
            "ce2 : 0.02518589049577713\n"
          ]
        },
        {
          "output_type": "stream",
          "name": "stderr",
          "text": [
            "Train - Loss: 0.048: 100%|██████████| 4/4 [00:01<00:00,  2.48it/s]\n"
          ]
        },
        {
          "output_type": "stream",
          "name": "stdout",
          "text": [
            "running_loss : 0.04829932749271393\n",
            "train score: 0.908\n"
          ]
        },
        {
          "output_type": "stream",
          "name": "stderr",
          "text": [
            "Evaluation: 100%|██████████| 1/1 [00:00<00:00, 17.30it/s]"
          ]
        },
        {
          "output_type": "stream",
          "name": "stdout",
          "text": [
            "Evaluation score: 8.707\n"
          ]
        },
        {
          "output_type": "stream",
          "name": "stderr",
          "text": [
            "\n"
          ]
        },
        {
          "output_type": "stream",
          "name": "stdout",
          "text": [
            "Epoch 12\n"
          ]
        },
        {
          "output_type": "stream",
          "name": "stderr",
          "text": [
            "\rTrain:   0%|          | 0/4 [00:00<?, ?it/s]"
          ]
        },
        {
          "output_type": "stream",
          "name": "stdout",
          "text": [
            "loss\n",
            "tensor([401,   0,  26,  53], device='cuda:0')\n",
            "tensor([401,   0,  26,  53], device='cuda:0')\n",
            "ce1 : 0.20931240916252136\n",
            "ce2 : 0.20767773687839508\n"
          ]
        },
        {
          "output_type": "stream",
          "name": "stderr",
          "text": [
            "Train - Loss: 0.417:  25%|██▌       | 1/4 [00:00<00:01,  2.71it/s]"
          ]
        },
        {
          "output_type": "stream",
          "name": "stdout",
          "text": [
            "running_loss : 0.41699016094207764\n",
            "loss\n",
            "tensor([ 28, 195,   0,   0], device='cuda:0')\n",
            "tensor([ 28, 195,   0,   0], device='cuda:0')\n",
            "ce1 : 0.3748718202114105\n",
            "ce2 : 0.3761608600616455\n"
          ]
        },
        {
          "output_type": "stream",
          "name": "stderr",
          "text": [
            "Train - Loss: 0.751:  50%|█████     | 2/4 [00:00<00:00,  2.66it/s]"
          ]
        },
        {
          "output_type": "stream",
          "name": "stdout",
          "text": [
            "running_loss : 0.7510327100753784\n",
            "loss\n",
            "tensor([135, 511, 415, 151], device='cuda:0')\n",
            "tensor([135,   0, 415, 151], device='cuda:0')\n",
            "ce1 : 0.20174497365951538\n",
            "ce2 : 0.2157214879989624\n"
          ]
        },
        {
          "output_type": "stream",
          "name": "stderr",
          "text": [
            "Train - Loss: 0.417:  75%|███████▌  | 3/4 [00:01<00:00,  2.62it/s]"
          ]
        },
        {
          "output_type": "stream",
          "name": "stdout",
          "text": [
            "running_loss : 0.4174664616584778\n",
            "loss\n",
            "tensor([511, 511,  83,  26], device='cuda:0')\n",
            "tensor([ 0,  0, 83, 26], device='cuda:0')\n",
            "ce1 : 0.37935176491737366\n",
            "ce2 : 0.37771859765052795\n"
          ]
        },
        {
          "output_type": "stream",
          "name": "stderr",
          "text": [
            "Train - Loss: 0.757: 100%|██████████| 4/4 [00:01<00:00,  2.62it/s]\n"
          ]
        },
        {
          "output_type": "stream",
          "name": "stdout",
          "text": [
            "running_loss : 0.7570703625679016\n",
            "train score: 0.586\n"
          ]
        },
        {
          "output_type": "stream",
          "name": "stderr",
          "text": [
            "Evaluation: 100%|██████████| 1/1 [00:00<00:00, 16.76it/s]"
          ]
        },
        {
          "output_type": "stream",
          "name": "stdout",
          "text": [
            "Evaluation score: 8.477\n"
          ]
        },
        {
          "output_type": "stream",
          "name": "stderr",
          "text": [
            "\n"
          ]
        },
        {
          "output_type": "stream",
          "name": "stdout",
          "text": [
            "Epoch 13\n"
          ]
        },
        {
          "output_type": "stream",
          "name": "stderr",
          "text": [
            "\rTrain:   0%|          | 0/4 [00:00<?, ?it/s]"
          ]
        },
        {
          "output_type": "stream",
          "name": "stdout",
          "text": [
            "loss\n",
            "tensor([415,   0,   0, 401], device='cuda:0')\n",
            "tensor([415,   0,   0, 401], device='cuda:0')\n",
            "ce1 : 0.36985287070274353\n",
            "ce2 : 0.37294477224349976\n"
          ]
        },
        {
          "output_type": "stream",
          "name": "stderr",
          "text": [
            "Train - Loss: 0.743:  25%|██▌       | 1/4 [00:00<00:01,  2.68it/s]"
          ]
        },
        {
          "output_type": "stream",
          "name": "stdout",
          "text": [
            "running_loss : 0.7427976131439209\n",
            "loss\n",
            "tensor([151, 511,  53,  26], device='cuda:0')\n",
            "tensor([151,   0,  53,  26], device='cuda:0')\n",
            "ce1 : 0.275165319442749\n",
            "ce2 : 0.24564282596111298\n"
          ]
        },
        {
          "output_type": "stream",
          "name": "stderr",
          "text": [
            "Train - Loss: 0.521:  50%|█████     | 2/4 [00:00<00:00,  2.66it/s]"
          ]
        },
        {
          "output_type": "stream",
          "name": "stdout",
          "text": [
            "running_loss : 0.5208081603050232\n",
            "loss\n",
            "tensor([ 26, 135,   0,  83], device='cuda:0')\n",
            "tensor([ 26, 135,   0,  83], device='cuda:0')\n",
            "ce1 : 0.1827528178691864\n",
            "ce2 : 0.1835610717535019\n"
          ]
        },
        {
          "output_type": "stream",
          "name": "stderr",
          "text": [
            "Train - Loss: 0.366:  75%|███████▌  | 3/4 [00:01<00:00,  2.60it/s]"
          ]
        },
        {
          "output_type": "stream",
          "name": "stdout",
          "text": [
            "running_loss : 0.3663138747215271\n",
            "loss\n",
            "tensor([511,  28, 195, 511], device='cuda:0')\n",
            "tensor([  0,  28, 195,   0], device='cuda:0')\n",
            "ce1 : 0.3555471897125244\n",
            "ce2 : 0.3547576069831848\n"
          ]
        },
        {
          "output_type": "stream",
          "name": "stderr",
          "text": [
            "Train - Loss: 0.710: 100%|██████████| 4/4 [00:01<00:00,  2.60it/s]\n"
          ]
        },
        {
          "output_type": "stream",
          "name": "stdout",
          "text": [
            "running_loss : 0.7103047966957092\n",
            "train score: 0.585\n"
          ]
        },
        {
          "output_type": "stream",
          "name": "stderr",
          "text": [
            "Evaluation: 100%|██████████| 1/1 [00:00<00:00, 18.02it/s]"
          ]
        },
        {
          "output_type": "stream",
          "name": "stdout",
          "text": [
            "Evaluation score: 10.450\n"
          ]
        },
        {
          "output_type": "stream",
          "name": "stderr",
          "text": [
            "\n"
          ]
        },
        {
          "output_type": "stream",
          "name": "stdout",
          "text": [
            "Epoch 14\n"
          ]
        },
        {
          "output_type": "stream",
          "name": "stderr",
          "text": [
            "\rTrain:   0%|          | 0/4 [00:00<?, ?it/s]"
          ]
        },
        {
          "output_type": "stream",
          "name": "stdout",
          "text": [
            "loss\n",
            "tensor([ 0, 83, 26,  0], device='cuda:0')\n",
            "tensor([ 0, 83, 26,  0], device='cuda:0')\n",
            "ce1 : 0.3557097911834717\n",
            "ce2 : 0.3539634644985199\n"
          ]
        },
        {
          "output_type": "stream",
          "name": "stderr",
          "text": [
            "Train - Loss: 0.710:  25%|██▌       | 1/4 [00:00<00:01,  2.75it/s]"
          ]
        },
        {
          "output_type": "stream",
          "name": "stdout",
          "text": [
            "running_loss : 0.709673285484314\n",
            "loss\n",
            "tensor([ 26, 511, 415, 195], device='cuda:0')\n",
            "tensor([ 26,   0, 415, 195], device='cuda:0')\n",
            "ce1 : 0.18440622091293335\n",
            "ce2 : 0.18230193853378296\n"
          ]
        },
        {
          "output_type": "stream",
          "name": "stderr",
          "text": [
            "Train - Loss: 0.367:  50%|█████     | 2/4 [00:00<00:00,  2.68it/s]"
          ]
        },
        {
          "output_type": "stream",
          "name": "stdout",
          "text": [
            "running_loss : 0.3667081594467163\n",
            "loss\n",
            "tensor([511,  28, 511, 135], device='cuda:0')\n",
            "tensor([  0,  28,   0, 135], device='cuda:0')\n",
            "ce1 : 0.35150471329689026\n",
            "ce2 : 0.3515928387641907\n"
          ]
        },
        {
          "output_type": "stream",
          "name": "stderr",
          "text": [
            "Train - Loss: 0.703:  75%|███████▌  | 3/4 [00:01<00:00,  2.61it/s]"
          ]
        },
        {
          "output_type": "stream",
          "name": "stdout",
          "text": [
            "running_loss : 0.7030975818634033\n",
            "loss\n",
            "tensor([  0, 401, 151,  53], device='cuda:0')\n",
            "tensor([  0, 401, 151,  53], device='cuda:0')\n",
            "ce1 : 0.17851442098617554\n",
            "ce2 : 0.1794443130493164\n"
          ]
        },
        {
          "output_type": "stream",
          "name": "stderr",
          "text": [
            "Train - Loss: 0.358: 100%|██████████| 4/4 [00:01<00:00,  2.62it/s]\n"
          ]
        },
        {
          "output_type": "stream",
          "name": "stdout",
          "text": [
            "running_loss : 0.35795873403549194\n",
            "train score: 0.534\n"
          ]
        },
        {
          "output_type": "stream",
          "name": "stderr",
          "text": [
            "Evaluation: 100%|██████████| 1/1 [00:00<00:00, 17.56it/s]"
          ]
        },
        {
          "output_type": "stream",
          "name": "stdout",
          "text": [
            "Evaluation score: 8.421\n"
          ]
        },
        {
          "output_type": "stream",
          "name": "stderr",
          "text": [
            "\n"
          ]
        },
        {
          "output_type": "stream",
          "name": "stdout",
          "text": [
            "Epoch 15\n"
          ]
        },
        {
          "output_type": "stream",
          "name": "stderr",
          "text": [
            "\rTrain:   0%|          | 0/4 [00:00<?, ?it/s]"
          ]
        },
        {
          "output_type": "stream",
          "name": "stdout",
          "text": [
            "loss\n",
            "tensor([ 83, 511,  53, 135], device='cuda:0')\n",
            "tensor([ 83,   0,  53, 135], device='cuda:0')\n",
            "ce1 : 0.1777978539466858\n",
            "ce2 : 0.17767944931983948\n"
          ]
        },
        {
          "output_type": "stream",
          "name": "stderr",
          "text": [
            "Train - Loss: 0.355:  25%|██▌       | 1/4 [00:00<00:01,  2.71it/s]"
          ]
        },
        {
          "output_type": "stream",
          "name": "stdout",
          "text": [
            "running_loss : 0.35547730326652527\n",
            "loss\n",
            "tensor([ 26, 511,   0,   0], device='cuda:0')\n",
            "tensor([26,  0,  0,  0], device='cuda:0')\n",
            "ce1 : 0.5248218774795532\n",
            "ce2 : 0.5257493257522583\n"
          ]
        },
        {
          "output_type": "stream",
          "name": "stderr",
          "text": [
            "Train - Loss: 1.051:  50%|█████     | 2/4 [00:00<00:00,  2.65it/s]"
          ]
        },
        {
          "output_type": "stream",
          "name": "stdout",
          "text": [
            "running_loss : 1.0505712032318115\n",
            "loss\n",
            "tensor([ 28,   0, 401,   0], device='cuda:0')\n",
            "tensor([ 28,   0, 401,   0], device='cuda:0')\n",
            "ce1 : 0.3498508334159851\n",
            "ce2 : 0.3505381941795349\n"
          ]
        },
        {
          "output_type": "stream",
          "name": "stderr",
          "text": [
            "Train - Loss: 0.700:  75%|███████▌  | 3/4 [00:01<00:00,  2.57it/s]"
          ]
        },
        {
          "output_type": "stream",
          "name": "stdout",
          "text": [
            "running_loss : 0.70038902759552\n",
            "loss\n",
            "tensor([195,  26, 415, 151], device='cuda:0')\n",
            "tensor([195,  26, 415, 151], device='cuda:0')\n",
            "ce1 : 0.0036565845366567373\n",
            "ce2 : 0.007938946597278118\n"
          ]
        },
        {
          "output_type": "stream",
          "name": "stderr",
          "text": [
            "Train - Loss: 0.012: 100%|██████████| 4/4 [00:01<00:00,  2.60it/s]\n"
          ]
        },
        {
          "output_type": "stream",
          "name": "stdout",
          "text": [
            "running_loss : 0.011595531366765499\n",
            "train score: 0.530\n"
          ]
        },
        {
          "output_type": "stream",
          "name": "stderr",
          "text": [
            "Evaluation: 100%|██████████| 1/1 [00:00<00:00, 17.21it/s]"
          ]
        },
        {
          "output_type": "stream",
          "name": "stdout",
          "text": [
            "Evaluation score: 7.879\n"
          ]
        },
        {
          "output_type": "stream",
          "name": "stderr",
          "text": [
            "\n"
          ]
        },
        {
          "output_type": "stream",
          "name": "stdout",
          "text": [
            "Epoch 16\n"
          ]
        },
        {
          "output_type": "stream",
          "name": "stderr",
          "text": [
            "\rTrain:   0%|          | 0/4 [00:00<?, ?it/s]"
          ]
        },
        {
          "output_type": "stream",
          "name": "stdout",
          "text": [
            "loss\n",
            "tensor([ 0,  0, 26,  0], device='cuda:0')\n",
            "tensor([ 0,  0, 26,  0], device='cuda:0')\n",
            "ce1 : 0.5225802659988403\n",
            "ce2 : 0.5226290225982666\n"
          ]
        },
        {
          "output_type": "stream",
          "name": "stderr",
          "text": [
            "Train - Loss: 1.045:  25%|██▌       | 1/4 [00:00<00:01,  2.66it/s]"
          ]
        },
        {
          "output_type": "stream",
          "name": "stdout",
          "text": [
            "running_loss : 1.045209288597107\n",
            "loss\n",
            "tensor([ 83,  53, 195,   0], device='cuda:0')\n",
            "tensor([ 83,  53, 195,   0], device='cuda:0')\n",
            "ce1 : 0.17611077427864075\n",
            "ce2 : 0.1767892986536026\n"
          ]
        },
        {
          "output_type": "stream",
          "name": "stderr",
          "text": [
            "Train - Loss: 0.353:  50%|█████     | 2/4 [00:00<00:00,  2.70it/s]"
          ]
        },
        {
          "output_type": "stream",
          "name": "stdout",
          "text": [
            "running_loss : 0.35290008783340454\n",
            "loss\n",
            "tensor([ 26,   0, 415, 151], device='cuda:0')\n",
            "tensor([ 26,   0, 415, 151], device='cuda:0')\n",
            "ce1 : 0.17621618509292603\n",
            "ce2 : 0.17759716510772705\n"
          ]
        },
        {
          "output_type": "stream",
          "name": "stderr",
          "text": [
            "Train - Loss: 0.354:  75%|███████▌  | 3/4 [00:01<00:00,  2.57it/s]"
          ]
        },
        {
          "output_type": "stream",
          "name": "stdout",
          "text": [
            "running_loss : 0.3538133502006531\n",
            "loss\n",
            "tensor([  0, 135,  28, 401], device='cuda:0')\n",
            "tensor([  0, 135,  28, 401], device='cuda:0')\n",
            "ce1 : 0.17577236890792847\n",
            "ce2 : 0.17546446621418\n"
          ]
        },
        {
          "output_type": "stream",
          "name": "stderr",
          "text": [
            "Train - Loss: 0.351: 100%|██████████| 4/4 [00:01<00:00,  2.59it/s]\n"
          ]
        },
        {
          "output_type": "stream",
          "name": "stdout",
          "text": [
            "running_loss : 0.35123682022094727\n",
            "train score: 0.526\n"
          ]
        },
        {
          "output_type": "stream",
          "name": "stderr",
          "text": [
            "Evaluation: 100%|██████████| 1/1 [00:00<00:00, 15.95it/s]"
          ]
        },
        {
          "output_type": "stream",
          "name": "stdout",
          "text": [
            "Evaluation score: 8.399\n"
          ]
        },
        {
          "output_type": "stream",
          "name": "stderr",
          "text": [
            "\n"
          ]
        },
        {
          "output_type": "stream",
          "name": "stdout",
          "text": [
            "Epoch 17\n"
          ]
        },
        {
          "output_type": "stream",
          "name": "stderr",
          "text": [
            "\rTrain:   0%|          | 0/4 [00:00<?, ?it/s]"
          ]
        },
        {
          "output_type": "stream",
          "name": "stdout",
          "text": [
            "loss\n",
            "tensor([ 26, 401, 135, 151], device='cuda:0')\n",
            "tensor([ 26, 401, 135, 151], device='cuda:0')\n",
            "ce1 : 0.0026335816364735365\n",
            "ce2 : 0.002150309504941106\n"
          ]
        },
        {
          "output_type": "stream",
          "name": "stderr",
          "text": [
            "Train - Loss: 0.005:  25%|██▌       | 1/4 [00:00<00:01,  2.70it/s]"
          ]
        },
        {
          "output_type": "stream",
          "name": "stdout",
          "text": [
            "running_loss : 0.004783891141414642\n",
            "loss\n",
            "tensor([415,   0,  28,   0], device='cuda:0')\n",
            "tensor([415,   0,  28,   0], device='cuda:0')\n",
            "ce1 : 0.3490166664123535\n",
            "ce2 : 0.34886813163757324\n"
          ]
        },
        {
          "output_type": "stream",
          "name": "stderr",
          "text": [
            "Train - Loss: 0.698:  50%|█████     | 2/4 [00:00<00:00,  2.63it/s]"
          ]
        },
        {
          "output_type": "stream",
          "name": "stdout",
          "text": [
            "running_loss : 0.6978847980499268\n",
            "loss\n",
            "tensor([ 26,  83, 195, 511], device='cuda:0')\n",
            "tensor([ 26,  83, 195,   0], device='cuda:0')\n",
            "ce1 : 0.1756787896156311\n",
            "ce2 : 0.17572292685508728\n"
          ]
        },
        {
          "output_type": "stream",
          "name": "stderr",
          "text": [
            "Train - Loss: 0.351:  75%|███████▌  | 3/4 [00:01<00:00,  2.57it/s]"
          ]
        },
        {
          "output_type": "stream",
          "name": "stdout",
          "text": [
            "running_loss : 0.3514017164707184\n",
            "loss\n",
            "tensor([ 0,  0, 53,  0], device='cuda:0')\n",
            "tensor([ 0,  0, 53,  0], device='cuda:0')\n",
            "ce1 : 0.5215624570846558\n",
            "ce2 : 0.5215359926223755\n"
          ]
        },
        {
          "output_type": "stream",
          "name": "stderr",
          "text": [
            "Train - Loss: 1.043: 100%|██████████| 4/4 [00:01<00:00,  2.59it/s]\n"
          ]
        },
        {
          "output_type": "stream",
          "name": "stdout",
          "text": [
            "running_loss : 1.0430984497070312\n",
            "train score: 0.524\n"
          ]
        },
        {
          "output_type": "stream",
          "name": "stderr",
          "text": [
            "Evaluation: 100%|██████████| 1/1 [00:00<00:00, 16.95it/s]"
          ]
        },
        {
          "output_type": "stream",
          "name": "stdout",
          "text": [
            "Evaluation score: 8.482\n"
          ]
        },
        {
          "output_type": "stream",
          "name": "stderr",
          "text": [
            "\n"
          ]
        },
        {
          "output_type": "stream",
          "name": "stdout",
          "text": [
            "Epoch 18\n"
          ]
        },
        {
          "output_type": "stream",
          "name": "stderr",
          "text": [
            "\rTrain:   0%|          | 0/4 [00:00<?, ?it/s]"
          ]
        },
        {
          "output_type": "stream",
          "name": "stdout",
          "text": [
            "loss\n",
            "tensor([  0, 135,   0, 151], device='cuda:0')\n",
            "tensor([  0, 135,   0, 151], device='cuda:0')\n",
            "ce1 : 0.34796756505966187\n",
            "ce2 : 0.3480474054813385\n"
          ]
        },
        {
          "output_type": "stream",
          "name": "stderr",
          "text": [
            "Train - Loss: 0.696:  25%|██▌       | 1/4 [00:00<00:01,  2.68it/s]"
          ]
        },
        {
          "output_type": "stream",
          "name": "stdout",
          "text": [
            "running_loss : 0.6960150003433228\n",
            "loss\n",
            "tensor([  0,  28, 415,  26], device='cuda:0')\n",
            "tensor([  0,  28, 415,  26], device='cuda:0')\n",
            "ce1 : 0.1756361573934555\n",
            "ce2 : 0.1750364601612091\n"
          ]
        },
        {
          "output_type": "stream",
          "name": "stderr",
          "text": [
            "Train - Loss: 0.351:  50%|█████     | 2/4 [00:00<00:00,  2.64it/s]"
          ]
        },
        {
          "output_type": "stream",
          "name": "stdout",
          "text": [
            "running_loss : 0.3506726026535034\n",
            "loss\n",
            "tensor([ 0,  0, 26,  0], device='cuda:0')\n",
            "tensor([ 0,  0, 26,  0], device='cuda:0')\n",
            "ce1 : 0.5215041041374207\n",
            "ce2 : 0.5212473273277283\n"
          ]
        },
        {
          "output_type": "stream",
          "name": "stderr",
          "text": [
            "Train - Loss: 1.043:  75%|███████▌  | 3/4 [00:01<00:00,  2.57it/s]"
          ]
        },
        {
          "output_type": "stream",
          "name": "stdout",
          "text": [
            "running_loss : 1.042751431465149\n",
            "loss\n",
            "tensor([ 53, 195, 401,  83], device='cuda:0')\n",
            "tensor([ 53, 195, 401,  83], device='cuda:0')\n",
            "ce1 : 0.00189832947216928\n",
            "ce2 : 0.0017890548333525658\n"
          ]
        },
        {
          "output_type": "stream",
          "name": "stderr",
          "text": [
            "Train - Loss: 0.004: 100%|██████████| 4/4 [00:01<00:00,  2.58it/s]\n"
          ]
        },
        {
          "output_type": "stream",
          "name": "stdout",
          "text": [
            "running_loss : 0.003687384305521846\n",
            "train score: 0.523\n"
          ]
        },
        {
          "output_type": "stream",
          "name": "stderr",
          "text": [
            "Evaluation: 100%|██████████| 1/1 [00:00<00:00, 17.17it/s]"
          ]
        },
        {
          "output_type": "stream",
          "name": "stdout",
          "text": [
            "Evaluation score: 8.041\n"
          ]
        },
        {
          "output_type": "stream",
          "name": "stderr",
          "text": [
            "\n"
          ]
        },
        {
          "output_type": "stream",
          "name": "stdout",
          "text": [
            "Epoch 19\n"
          ]
        },
        {
          "output_type": "stream",
          "name": "stderr",
          "text": [
            "\rTrain:   0%|          | 0/4 [00:00<?, ?it/s]"
          ]
        },
        {
          "output_type": "stream",
          "name": "stdout",
          "text": [
            "loss\n",
            "tensor([401, 135,   0,   0], device='cuda:0')\n",
            "tensor([401, 135,   0,   0], device='cuda:0')\n",
            "ce1 : 0.3478606939315796\n",
            "ce2 : 0.34790199995040894\n"
          ]
        },
        {
          "output_type": "stream",
          "name": "stderr",
          "text": [
            "Train - Loss: 0.696:  25%|██▌       | 1/4 [00:00<00:01,  2.72it/s]"
          ]
        },
        {
          "output_type": "stream",
          "name": "stdout",
          "text": [
            "running_loss : 0.6957626938819885\n",
            "loss\n",
            "tensor([ 26, 195,   0,  28], device='cuda:0')\n",
            "tensor([ 26, 195,   0,  28], device='cuda:0')\n",
            "ce1 : 0.17499184608459473\n",
            "ce2 : 0.1748216152191162\n"
          ]
        },
        {
          "output_type": "stream",
          "name": "stderr",
          "text": [
            "Train - Loss: 0.350:  50%|█████     | 2/4 [00:00<00:00,  2.66it/s]"
          ]
        },
        {
          "output_type": "stream",
          "name": "stdout",
          "text": [
            "running_loss : 0.34981346130371094\n",
            "loss\n",
            "tensor([53, 83,  0,  0], device='cuda:0')\n",
            "tensor([53, 83,  0,  0], device='cuda:0')\n",
            "ce1 : 0.347868949174881\n",
            "ce2 : 0.34779423475265503\n"
          ]
        },
        {
          "output_type": "stream",
          "name": "stderr",
          "text": [
            "Train - Loss: 0.696:  75%|███████▌  | 3/4 [00:01<00:00,  2.58it/s]"
          ]
        },
        {
          "output_type": "stream",
          "name": "stdout",
          "text": [
            "running_loss : 0.6956632137298584\n",
            "loss\n",
            "tensor([415, 151,   0,  26], device='cuda:0')\n",
            "tensor([415, 151,   0,  26], device='cuda:0')\n",
            "ce1 : 0.17489175498485565\n",
            "ce2 : 0.1744774580001831\n"
          ]
        },
        {
          "output_type": "stream",
          "name": "stderr",
          "text": [
            "Train - Loss: 0.349: 100%|██████████| 4/4 [00:01<00:00,  2.59it/s]\n"
          ]
        },
        {
          "output_type": "stream",
          "name": "stdout",
          "text": [
            "running_loss : 0.34936922788619995\n",
            "train score: 0.523\n"
          ]
        },
        {
          "output_type": "stream",
          "name": "stderr",
          "text": [
            "Evaluation: 100%|██████████| 1/1 [00:00<00:00, 15.86it/s]"
          ]
        },
        {
          "output_type": "stream",
          "name": "stdout",
          "text": [
            "Evaluation score: 7.748\n"
          ]
        },
        {
          "output_type": "stream",
          "name": "stderr",
          "text": [
            "\n"
          ]
        },
        {
          "output_type": "stream",
          "name": "stdout",
          "text": [
            "Epoch 20\n"
          ]
        },
        {
          "output_type": "stream",
          "name": "stderr",
          "text": [
            "\rTrain:   0%|          | 0/4 [00:00<?, ?it/s]"
          ]
        },
        {
          "output_type": "stream",
          "name": "stdout",
          "text": [
            "loss\n",
            "tensor([28, 83,  0,  0], device='cuda:0')\n",
            "tensor([28, 83,  0,  0], device='cuda:0')\n",
            "ce1 : 0.3476375341415405\n",
            "ce2 : 0.34756964445114136\n"
          ]
        },
        {
          "output_type": "stream",
          "name": "stderr",
          "text": [
            "Train - Loss: 0.695:  25%|██▌       | 1/4 [00:00<00:01,  2.71it/s]"
          ]
        },
        {
          "output_type": "stream",
          "name": "stdout",
          "text": [
            "running_loss : 0.6952071785926819\n",
            "loss\n",
            "tensor([ 53, 415,   0, 135], device='cuda:0')\n",
            "tensor([ 53, 415,   0, 135], device='cuda:0')\n",
            "ce1 : 0.17455267906188965\n",
            "ce2 : 0.1745331585407257\n"
          ]
        },
        {
          "output_type": "stream",
          "name": "stderr",
          "text": [
            "Train - Loss: 0.349:  50%|█████     | 2/4 [00:00<00:00,  2.63it/s]"
          ]
        },
        {
          "output_type": "stream",
          "name": "stdout",
          "text": [
            "running_loss : 0.34908583760261536\n",
            "loss\n",
            "tensor([  0, 401, 151,  26], device='cuda:0')\n",
            "tensor([  0, 401, 151,  26], device='cuda:0')\n",
            "ce1 : 0.17437316477298737\n",
            "ce2 : 0.1744704395532608\n"
          ]
        },
        {
          "output_type": "stream",
          "name": "stderr",
          "text": [
            "Train - Loss: 0.349:  75%|███████▌  | 3/4 [00:01<00:00,  2.55it/s]"
          ]
        },
        {
          "output_type": "stream",
          "name": "stdout",
          "text": [
            "running_loss : 0.34884360432624817\n",
            "loss\n",
            "tensor([  0,   0,  26, 195], device='cuda:0')\n",
            "tensor([  0,   0,  26, 195], device='cuda:0')\n",
            "ce1 : 0.3476695716381073\n",
            "ce2 : 0.3475643992424011\n"
          ]
        },
        {
          "output_type": "stream",
          "name": "stderr",
          "text": [
            "Train - Loss: 0.695: 100%|██████████| 4/4 [00:01<00:00,  2.58it/s]\n"
          ]
        },
        {
          "output_type": "stream",
          "name": "stdout",
          "text": [
            "running_loss : 0.695233941078186\n",
            "train score: 0.522\n"
          ]
        },
        {
          "output_type": "stream",
          "name": "stderr",
          "text": [
            "Evaluation: 100%|██████████| 1/1 [00:00<00:00, 17.47it/s]"
          ]
        },
        {
          "output_type": "stream",
          "name": "stdout",
          "text": [
            "Evaluation score: 7.938\n"
          ]
        },
        {
          "output_type": "stream",
          "name": "stderr",
          "text": [
            "\n"
          ]
        },
        {
          "output_type": "stream",
          "name": "stdout",
          "text": [
            "Epoch 21\n"
          ]
        },
        {
          "output_type": "stream",
          "name": "stderr",
          "text": [
            "\rTrain:   0%|          | 0/4 [00:00<?, ?it/s]"
          ]
        },
        {
          "output_type": "stream",
          "name": "stdout",
          "text": [
            "loss\n",
            "tensor([ 83,  28, 151,   0], device='cuda:0')\n",
            "tensor([ 83,  28, 151,   0], device='cuda:0')\n",
            "ce1 : 0.17414924502372742\n",
            "ce2 : 0.17428091168403625\n"
          ]
        },
        {
          "output_type": "stream",
          "name": "stderr",
          "text": [
            "Train - Loss: 0.348:  25%|██▌       | 1/4 [00:00<00:01,  2.68it/s]"
          ]
        },
        {
          "output_type": "stream",
          "name": "stdout",
          "text": [
            "running_loss : 0.34843015670776367\n",
            "loss\n",
            "tensor([195,   0,  53,   0], device='cuda:0')\n",
            "tensor([195,   0,  53,   0], device='cuda:0')\n",
            "ce1 : 0.3469488024711609\n",
            "ce2 : 0.34704160690307617\n"
          ]
        },
        {
          "output_type": "stream",
          "name": "stderr",
          "text": [
            "Train - Loss: 0.694:  50%|█████     | 2/4 [00:00<00:00,  2.62it/s]"
          ]
        },
        {
          "output_type": "stream",
          "name": "stdout",
          "text": [
            "running_loss : 0.6939904093742371\n",
            "loss\n",
            "tensor([401, 415,  26,   0], device='cuda:0')\n",
            "tensor([401, 415,  26,   0], device='cuda:0')\n",
            "ce1 : 0.17441901564598083\n",
            "ce2 : 0.17453518509864807\n"
          ]
        },
        {
          "output_type": "stream",
          "name": "stderr",
          "text": [
            "Train - Loss: 0.349:  75%|███████▌  | 3/4 [00:01<00:00,  2.55it/s]"
          ]
        },
        {
          "output_type": "stream",
          "name": "stdout",
          "text": [
            "running_loss : 0.3489542007446289\n",
            "loss\n",
            "tensor([  0, 135,   0,  26], device='cuda:0')\n",
            "tensor([  0, 135,   0,  26], device='cuda:0')\n",
            "ce1 : 0.346838116645813\n",
            "ce2 : 0.3469182550907135\n"
          ]
        },
        {
          "output_type": "stream",
          "name": "stderr",
          "text": [
            "Train - Loss: 0.694: 100%|██████████| 4/4 [00:01<00:00,  2.57it/s]\n"
          ]
        },
        {
          "output_type": "stream",
          "name": "stdout",
          "text": [
            "running_loss : 0.6937563419342041\n",
            "train score: 0.521\n"
          ]
        },
        {
          "output_type": "stream",
          "name": "stderr",
          "text": [
            "Evaluation: 100%|██████████| 1/1 [00:00<00:00, 16.37it/s]"
          ]
        },
        {
          "output_type": "stream",
          "name": "stdout",
          "text": [
            "Evaluation score: 10.449\n"
          ]
        },
        {
          "output_type": "stream",
          "name": "stderr",
          "text": [
            "\n"
          ]
        },
        {
          "output_type": "stream",
          "name": "stdout",
          "text": [
            "Epoch 22\n"
          ]
        },
        {
          "output_type": "stream",
          "name": "stderr",
          "text": [
            "\rTrain:   0%|          | 0/4 [00:00<?, ?it/s]"
          ]
        },
        {
          "output_type": "stream",
          "name": "stdout",
          "text": [
            "loss\n",
            "tensor([415, 135,  26, 195], device='cuda:0')\n",
            "tensor([415, 135,  26, 195], device='cuda:0')\n",
            "ce1 : 0.0012218095362186432\n",
            "ce2 : 0.0013533169403672218\n"
          ]
        },
        {
          "output_type": "stream",
          "name": "stderr",
          "text": [
            "Train - Loss: 0.003:  25%|██▌       | 1/4 [00:00<00:01,  2.75it/s]"
          ]
        },
        {
          "output_type": "stream",
          "name": "stdout",
          "text": [
            "running_loss : 0.002575126476585865\n",
            "loss\n",
            "tensor([ 0,  0, 83, 26], device='cuda:0')\n",
            "tensor([ 0,  0, 83, 26], device='cuda:0')\n",
            "ce1 : 0.784070611000061\n",
            "ce2 : 0.7284422516822815\n"
          ]
        },
        {
          "output_type": "stream",
          "name": "stderr",
          "text": [
            "Train - Loss: 1.513:  50%|█████     | 2/4 [00:00<00:00,  2.64it/s]"
          ]
        },
        {
          "output_type": "stream",
          "name": "stdout",
          "text": [
            "running_loss : 1.5125129222869873\n",
            "loss\n",
            "tensor([  0, 151,   0,   0], device='cuda:0')\n",
            "tensor([  0, 151,   0,   0], device='cuda:0')\n",
            "ce1 : 0.5174226760864258\n",
            "ce2 : 0.5179183483123779\n"
          ]
        },
        {
          "output_type": "stream",
          "name": "stderr",
          "text": [
            "Train - Loss: 1.035:  75%|███████▌  | 3/4 [00:01<00:00,  2.56it/s]"
          ]
        },
        {
          "output_type": "stream",
          "name": "stdout",
          "text": [
            "running_loss : 1.0353410243988037\n",
            "loss\n",
            "tensor([  0,  53, 401,  28], device='cuda:0')\n",
            "tensor([  0,  53, 401,  28], device='cuda:0')\n",
            "ce1 : 0.17356808483600616\n",
            "ce2 : 0.1738637536764145\n"
          ]
        },
        {
          "output_type": "stream",
          "name": "stderr",
          "text": [
            "Train - Loss: 0.347: 100%|██████████| 4/4 [00:01<00:00,  2.57it/s]\n"
          ]
        },
        {
          "output_type": "stream",
          "name": "stdout",
          "text": [
            "running_loss : 0.34743183851242065\n",
            "train score: 0.724\n"
          ]
        },
        {
          "output_type": "stream",
          "name": "stderr",
          "text": [
            "Evaluation: 100%|██████████| 1/1 [00:00<00:00, 15.71it/s]"
          ]
        },
        {
          "output_type": "stream",
          "name": "stdout",
          "text": [
            "Evaluation score: 8.256\n"
          ]
        },
        {
          "output_type": "stream",
          "name": "stderr",
          "text": [
            "\n"
          ]
        },
        {
          "output_type": "stream",
          "name": "stdout",
          "text": [
            "Epoch 23\n"
          ]
        },
        {
          "output_type": "stream",
          "name": "stderr",
          "text": [
            "\rTrain:   0%|          | 0/4 [00:00<?, ?it/s]"
          ]
        },
        {
          "output_type": "stream",
          "name": "stdout",
          "text": [
            "loss\n",
            "tensor([0, 0, 0, 0], device='cuda:0')\n",
            "tensor([0, 0, 0, 0], device='cuda:0')\n",
            "ce1 : 0.6912826299667358\n",
            "ce2 : 0.6913778781890869\n"
          ]
        },
        {
          "output_type": "stream",
          "name": "stderr",
          "text": [
            "Train - Loss: 1.383:  25%|██▌       | 1/4 [00:00<00:01,  2.71it/s]"
          ]
        },
        {
          "output_type": "stream",
          "name": "stdout",
          "text": [
            "running_loss : 1.3826605081558228\n",
            "loss\n",
            "tensor([ 53,  83,  28, 401], device='cuda:0')\n",
            "tensor([ 53,  83,  28, 401], device='cuda:0')\n",
            "ce1 : 0.0009029561188071966\n",
            "ce2 : 0.0010598314693197608\n"
          ]
        },
        {
          "output_type": "stream",
          "name": "stderr",
          "text": [
            "Train - Loss: 0.002:  50%|█████     | 2/4 [00:00<00:00,  2.63it/s]"
          ]
        },
        {
          "output_type": "stream",
          "name": "stdout",
          "text": [
            "running_loss : 0.0019627874717116356\n",
            "loss\n",
            "tensor([ 26,   0, 195,   0], device='cuda:0')\n",
            "tensor([ 26,   0, 195,   0], device='cuda:0')\n",
            "ce1 : 0.368058979511261\n",
            "ce2 : 0.35633599758148193\n"
          ]
        },
        {
          "output_type": "stream",
          "name": "stderr",
          "text": [
            "Train - Loss: 0.724:  75%|███████▌  | 3/4 [00:01<00:00,  2.55it/s]"
          ]
        },
        {
          "output_type": "stream",
          "name": "stdout",
          "text": [
            "running_loss : 0.7243949770927429\n",
            "loss\n",
            "tensor([ 26, 415, 151, 135], device='cuda:0')\n",
            "tensor([ 26, 415, 151, 135], device='cuda:0')\n",
            "ce1 : 0.0008595926919952035\n",
            "ce2 : 0.0010664138244464993\n"
          ]
        },
        {
          "output_type": "stream",
          "name": "stderr",
          "text": [
            "Train - Loss: 0.002: 100%|██████████| 4/4 [00:01<00:00,  2.56it/s]\n"
          ]
        },
        {
          "output_type": "stream",
          "name": "stdout",
          "text": [
            "running_loss : 0.0019260065164417028\n",
            "train score: 0.528\n"
          ]
        },
        {
          "output_type": "stream",
          "name": "stderr",
          "text": [
            "Evaluation: 100%|██████████| 1/1 [00:00<00:00, 14.82it/s]"
          ]
        },
        {
          "output_type": "stream",
          "name": "stdout",
          "text": [
            "Evaluation score: 7.862\n"
          ]
        },
        {
          "output_type": "stream",
          "name": "stderr",
          "text": [
            "\n"
          ]
        },
        {
          "output_type": "stream",
          "name": "stdout",
          "text": [
            "Epoch 24\n"
          ]
        },
        {
          "output_type": "stream",
          "name": "stderr",
          "text": [
            "\rTrain:   0%|          | 0/4 [00:00<?, ?it/s]"
          ]
        },
        {
          "output_type": "stream",
          "name": "stdout",
          "text": [
            "loss\n",
            "tensor([151,   0,   0,  83], device='cuda:0')\n",
            "tensor([151,   0,   0,  83], device='cuda:0')\n",
            "ce1 : 0.3409087061882019\n",
            "ce2 : 0.341548353433609\n"
          ]
        },
        {
          "output_type": "stream",
          "name": "stderr",
          "text": [
            "Train - Loss: 0.682:  25%|██▌       | 1/4 [00:00<00:01,  2.67it/s]"
          ]
        },
        {
          "output_type": "stream",
          "name": "stdout",
          "text": [
            "running_loss : 0.6824570894241333\n",
            "loss\n",
            "tensor([ 53, 401,   0, 415], device='cuda:0')\n",
            "tensor([ 53, 401,   0, 415], device='cuda:0')\n",
            "ce1 : 0.1964712291955948\n",
            "ce2 : 0.1829955130815506\n"
          ]
        },
        {
          "output_type": "stream",
          "name": "stderr",
          "text": [
            "Train - Loss: 0.379:  50%|█████     | 2/4 [00:00<00:00,  2.60it/s]"
          ]
        },
        {
          "output_type": "stream",
          "name": "stdout",
          "text": [
            "running_loss : 0.3794667422771454\n",
            "loss\n",
            "tensor([195,   0,   0,  28], device='cuda:0')\n",
            "tensor([195,   0,   0,  28], device='cuda:0')\n",
            "ce1 : 0.3158632814884186\n",
            "ce2 : 0.31120842695236206\n"
          ]
        },
        {
          "output_type": "stream",
          "name": "stderr",
          "text": [
            "Train - Loss: 0.627:  75%|███████▌  | 3/4 [00:01<00:00,  2.53it/s]"
          ]
        },
        {
          "output_type": "stream",
          "name": "stdout",
          "text": [
            "running_loss : 0.627071738243103\n",
            "loss\n",
            "tensor([ 26,  26,   0, 135], device='cuda:0')\n",
            "tensor([ 26,  26,   0, 135], device='cuda:0')\n",
            "ce1 : 0.16434791684150696\n",
            "ce2 : 0.16574448347091675\n"
          ]
        },
        {
          "output_type": "stream",
          "name": "stderr",
          "text": [
            "Train - Loss: 0.330: 100%|██████████| 4/4 [00:01<00:00,  2.55it/s]\n"
          ]
        },
        {
          "output_type": "stream",
          "name": "stdout",
          "text": [
            "running_loss : 0.3300924003124237\n",
            "train score: 0.505\n"
          ]
        },
        {
          "output_type": "stream",
          "name": "stderr",
          "text": [
            "Evaluation: 100%|██████████| 1/1 [00:00<00:00, 17.20it/s]"
          ]
        },
        {
          "output_type": "stream",
          "name": "stdout",
          "text": [
            "Evaluation score: 10.952\n"
          ]
        },
        {
          "output_type": "stream",
          "name": "stderr",
          "text": [
            "\n"
          ]
        },
        {
          "output_type": "stream",
          "name": "stdout",
          "text": [
            "Epoch 25\n"
          ]
        },
        {
          "output_type": "stream",
          "name": "stderr",
          "text": [
            "\rTrain:   0%|          | 0/4 [00:00<?, ?it/s]"
          ]
        },
        {
          "output_type": "stream",
          "name": "stdout",
          "text": [
            "loss\n",
            "tensor([401,  26, 151, 135], device='cuda:0')\n",
            "tensor([401,  26, 151, 135], device='cuda:0')\n",
            "ce1 : 0.0010775054106488824\n",
            "ce2 : 0.001239747041836381\n"
          ]
        },
        {
          "output_type": "stream",
          "name": "stderr",
          "text": [
            "Train - Loss: 0.002:  25%|██▌       | 1/4 [00:00<00:01,  2.59it/s]"
          ]
        },
        {
          "output_type": "stream",
          "name": "stdout",
          "text": [
            "running_loss : 0.002317252568900585\n",
            "loss\n",
            "tensor([83,  0,  0,  0], device='cuda:0')\n",
            "tensor([83,  0,  0,  0], device='cuda:0')\n",
            "ce1 : 0.4120611846446991\n",
            "ce2 : 0.41948968172073364\n"
          ]
        },
        {
          "output_type": "stream",
          "name": "stderr",
          "text": [
            "Train - Loss: 0.832:  50%|█████     | 2/4 [00:00<00:00,  2.56it/s]"
          ]
        },
        {
          "output_type": "stream",
          "name": "stdout",
          "text": [
            "running_loss : 0.8315508365631104\n",
            "loss\n",
            "tensor([195, 415,   0,  28], device='cuda:0')\n",
            "tensor([195, 415,   0,  28], device='cuda:0')\n",
            "ce1 : 0.05176830291748047\n",
            "ce2 : 0.05953546613454819\n"
          ]
        },
        {
          "output_type": "stream",
          "name": "stderr",
          "text": [
            "Train - Loss: 0.111:  75%|███████▌  | 3/4 [00:01<00:00,  2.52it/s]"
          ]
        },
        {
          "output_type": "stream",
          "name": "stdout",
          "text": [
            "running_loss : 0.11130376905202866\n",
            "loss\n",
            "tensor([ 53,  26,   0, 201], device='cuda:0')\n",
            "tensor([53, 26,  0,  0], device='cuda:0')\n",
            "ce1 : 1.714595079421997\n",
            "ce2 : 1.7168142795562744\n"
          ]
        },
        {
          "output_type": "stream",
          "name": "stderr",
          "text": [
            "Train - Loss: 3.431: 100%|██████████| 4/4 [00:01<00:00,  2.53it/s]\n"
          ]
        },
        {
          "output_type": "stream",
          "name": "stdout",
          "text": [
            "running_loss : 3.4314093589782715\n",
            "train score: 1.094\n"
          ]
        },
        {
          "output_type": "stream",
          "name": "stderr",
          "text": [
            "Evaluation: 100%|██████████| 1/1 [00:00<00:00, 16.35it/s]"
          ]
        },
        {
          "output_type": "stream",
          "name": "stdout",
          "text": [
            "Evaluation score: 12.713\n"
          ]
        },
        {
          "output_type": "stream",
          "name": "stderr",
          "text": [
            "\n"
          ]
        },
        {
          "output_type": "stream",
          "name": "stdout",
          "text": [
            "Epoch 26\n"
          ]
        },
        {
          "output_type": "stream",
          "name": "stderr",
          "text": [
            "\rTrain:   0%|          | 0/4 [00:00<?, ?it/s]"
          ]
        },
        {
          "output_type": "stream",
          "name": "stdout",
          "text": [
            "loss\n",
            "tensor([135, 187, 195, 201], device='cuda:0')\n",
            "tensor([135,   0, 195,   0], device='cuda:0')\n",
            "ce1 : 3.2342782020568848\n",
            "ce2 : 3.248077154159546\n"
          ]
        },
        {
          "output_type": "stream",
          "name": "stderr",
          "text": [
            "Train - Loss: 6.482:  25%|██▌       | 1/4 [00:00<00:01,  2.67it/s]"
          ]
        },
        {
          "output_type": "stream",
          "name": "stdout",
          "text": [
            "running_loss : 6.482355117797852\n",
            "loss\n",
            "tensor([ 49,   2,  26, 401], device='cuda:0')\n",
            "tensor([  0,   0,  26, 401], device='cuda:0')\n",
            "ce1 : 3.127854108810425\n",
            "ce2 : 3.175407886505127\n"
          ]
        },
        {
          "output_type": "stream",
          "name": "stderr",
          "text": [
            "Train - Loss: 6.303:  50%|█████     | 2/4 [00:00<00:00,  2.59it/s]"
          ]
        },
        {
          "output_type": "stream",
          "name": "stdout",
          "text": [
            "running_loss : 6.303261756896973\n",
            "loss\n",
            "tensor([ 83,  28, 416, 415], device='cuda:0')\n",
            "tensor([ 83,  28,   0, 415], device='cuda:0')\n",
            "ce1 : 1.5911979675292969\n",
            "ce2 : 1.56499183177948\n"
          ]
        },
        {
          "output_type": "stream",
          "name": "stderr",
          "text": [
            "Train - Loss: 3.156:  75%|███████▌  | 3/4 [00:01<00:00,  2.51it/s]"
          ]
        },
        {
          "output_type": "stream",
          "name": "stdout",
          "text": [
            "running_loss : 3.1561899185180664\n",
            "loss\n",
            "tensor([ 53,  26,   0, 151], device='cuda:0')\n",
            "tensor([ 53,  26,   0, 151], device='cuda:0')\n",
            "ce1 : 2.0126874446868896\n",
            "ce2 : 1.7562142610549927\n"
          ]
        },
        {
          "output_type": "stream",
          "name": "stderr",
          "text": [
            "Train - Loss: 3.769: 100%|██████████| 4/4 [00:01<00:00,  2.53it/s]\n"
          ]
        },
        {
          "output_type": "stream",
          "name": "stdout",
          "text": [
            "running_loss : 3.768901824951172\n",
            "train score: 4.928\n"
          ]
        },
        {
          "output_type": "stream",
          "name": "stderr",
          "text": [
            "Evaluation: 100%|██████████| 1/1 [00:00<00:00, 16.61it/s]"
          ]
        },
        {
          "output_type": "stream",
          "name": "stdout",
          "text": [
            "Evaluation score: 11.989\n"
          ]
        },
        {
          "output_type": "stream",
          "name": "stderr",
          "text": [
            "\n"
          ]
        },
        {
          "output_type": "stream",
          "name": "stdout",
          "text": [
            "Epoch 27\n"
          ]
        },
        {
          "output_type": "stream",
          "name": "stderr",
          "text": [
            "\rTrain:   0%|          | 0/4 [00:00<?, ?it/s]"
          ]
        },
        {
          "output_type": "stream",
          "name": "stdout",
          "text": [
            "loss\n",
            "tensor([ 28, 195,   0,   0], device='cuda:0')\n",
            "tensor([ 28, 195,   0,   0], device='cuda:0')\n",
            "ce1 : 2.8560214042663574\n",
            "ce2 : 2.9723620414733887\n"
          ]
        },
        {
          "output_type": "stream",
          "name": "stderr",
          "text": [
            "Train - Loss: 5.828:  25%|██▌       | 1/4 [00:00<00:01,  2.67it/s]"
          ]
        },
        {
          "output_type": "stream",
          "name": "stdout",
          "text": [
            "running_loss : 5.828383445739746\n",
            "loss\n",
            "tensor([ 53, 151, 416,  83], device='cuda:0')\n",
            "tensor([ 53, 151,   0,  83], device='cuda:0')\n",
            "ce1 : 1.3310035467147827\n",
            "ce2 : 1.4359407424926758\n"
          ]
        },
        {
          "output_type": "stream",
          "name": "stderr",
          "text": [
            "Train - Loss: 2.767:  50%|█████     | 2/4 [00:00<00:00,  2.60it/s]"
          ]
        },
        {
          "output_type": "stream",
          "name": "stdout",
          "text": [
            "running_loss : 2.766944408416748\n",
            "loss\n",
            "tensor([415,   0,  26,   0], device='cuda:0')\n",
            "tensor([415,   0,  26,   0], device='cuda:0')\n",
            "ce1 : 1.8687292337417603\n",
            "ce2 : 2.1716127395629883\n"
          ]
        },
        {
          "output_type": "stream",
          "name": "stderr",
          "text": [
            "Train - Loss: 4.040:  75%|███████▌  | 3/4 [00:01<00:00,  2.53it/s]"
          ]
        },
        {
          "output_type": "stream",
          "name": "stdout",
          "text": [
            "running_loss : 4.040341854095459\n",
            "loss\n",
            "tensor([401,  26, 511, 135], device='cuda:0')\n",
            "tensor([401,  26,   0, 135], device='cuda:0')\n",
            "ce1 : 0.7762585878372192\n",
            "ce2 : 1.0966992378234863\n"
          ]
        },
        {
          "output_type": "stream",
          "name": "stderr",
          "text": [
            "Train - Loss: 1.873: 100%|██████████| 4/4 [00:01<00:00,  2.55it/s]\n"
          ]
        },
        {
          "output_type": "stream",
          "name": "stdout",
          "text": [
            "running_loss : 1.8729578256607056\n",
            "train score: 3.627\n"
          ]
        },
        {
          "output_type": "stream",
          "name": "stderr",
          "text": [
            "Evaluation: 100%|██████████| 1/1 [00:00<00:00, 15.44it/s]"
          ]
        },
        {
          "output_type": "stream",
          "name": "stdout",
          "text": [
            "Evaluation score: 9.489\n"
          ]
        },
        {
          "output_type": "stream",
          "name": "stderr",
          "text": [
            "\n"
          ]
        },
        {
          "output_type": "stream",
          "name": "stdout",
          "text": [
            "Epoch 28\n"
          ]
        },
        {
          "output_type": "stream",
          "name": "stderr",
          "text": [
            "\rTrain:   0%|          | 0/4 [00:00<?, ?it/s]"
          ]
        },
        {
          "output_type": "stream",
          "name": "stdout",
          "text": [
            "loss\n",
            "tensor([135,   0, 511,  26], device='cuda:0')\n",
            "tensor([135,   0,   0,  26], device='cuda:0')\n",
            "ce1 : 0.7554598450660706\n",
            "ce2 : 0.8819814920425415\n"
          ]
        },
        {
          "output_type": "stream",
          "name": "stderr",
          "text": [
            "Train - Loss: 1.637:  25%|██▌       | 1/4 [00:00<00:01,  2.66it/s]"
          ]
        },
        {
          "output_type": "stream",
          "name": "stdout",
          "text": [
            "running_loss : 1.6374413967132568\n",
            "loss\n",
            "tensor([511,  53,  26, 511], device='cuda:0')\n",
            "tensor([ 0, 53, 26,  0], device='cuda:0')\n",
            "ce1 : 1.0457147359848022\n",
            "ce2 : 0.9707701802253723\n"
          ]
        },
        {
          "output_type": "stream",
          "name": "stderr",
          "text": [
            "Train - Loss: 2.016:  50%|█████     | 2/4 [00:00<00:00,  2.59it/s]"
          ]
        },
        {
          "output_type": "stream",
          "name": "stdout",
          "text": [
            "running_loss : 2.0164849758148193\n",
            "loss\n",
            "tensor([ 28, 401, 511,   0], device='cuda:0')\n",
            "tensor([ 28, 401,   0,   0], device='cuda:0')\n",
            "ce1 : 0.7023879289627075\n",
            "ce2 : 0.6505377292633057\n"
          ]
        },
        {
          "output_type": "stream",
          "name": "stderr",
          "text": [
            "Train - Loss: 1.353:  75%|███████▌  | 3/4 [00:01<00:00,  2.52it/s]"
          ]
        },
        {
          "output_type": "stream",
          "name": "stdout",
          "text": [
            "running_loss : 1.3529256582260132\n",
            "loss\n",
            "tensor([195, 151, 415,  83], device='cuda:0')\n",
            "tensor([195, 151, 415,  83], device='cuda:0')\n",
            "ce1 : 0.15804457664489746\n",
            "ce2 : 0.1500614434480667\n"
          ]
        },
        {
          "output_type": "stream",
          "name": "stderr",
          "text": [
            "Train - Loss: 0.308: 100%|██████████| 4/4 [00:01<00:00,  2.52it/s]\n"
          ]
        },
        {
          "output_type": "stream",
          "name": "stdout",
          "text": [
            "running_loss : 0.308106005191803\n",
            "train score: 1.329\n"
          ]
        },
        {
          "output_type": "stream",
          "name": "stderr",
          "text": [
            "Evaluation: 100%|██████████| 1/1 [00:00<00:00, 16.96it/s]"
          ]
        },
        {
          "output_type": "stream",
          "name": "stdout",
          "text": [
            "Evaluation score: 9.000\n"
          ]
        },
        {
          "output_type": "stream",
          "name": "stderr",
          "text": [
            "\n"
          ]
        },
        {
          "output_type": "stream",
          "name": "stdout",
          "text": [
            "Epoch 29\n"
          ]
        },
        {
          "output_type": "stream",
          "name": "stderr",
          "text": [
            "\rTrain:   0%|          | 0/4 [00:00<?, ?it/s]"
          ]
        },
        {
          "output_type": "stream",
          "name": "stdout",
          "text": [
            "loss\n",
            "tensor([53,  0,  0, 28], device='cuda:0')\n",
            "tensor([53,  0,  0, 28], device='cuda:0')\n",
            "ce1 : 0.5228502750396729\n",
            "ce2 : 0.5151278972625732\n"
          ]
        },
        {
          "output_type": "stream",
          "name": "stderr",
          "text": [
            "Train - Loss: 1.038:  25%|██▌       | 1/4 [00:00<00:01,  2.56it/s]"
          ]
        },
        {
          "output_type": "stream",
          "name": "stdout",
          "text": [
            "running_loss : 1.037978172302246\n",
            "loss\n",
            "tensor([135, 415,  83,   0], device='cuda:0')\n",
            "tensor([135, 415,  83,   0], device='cuda:0')\n",
            "ce1 : 0.2513519525527954\n",
            "ce2 : 0.40660709142684937\n"
          ]
        },
        {
          "output_type": "stream",
          "name": "stderr",
          "text": [
            "Train - Loss: 0.658:  50%|█████     | 2/4 [00:00<00:00,  2.55it/s]"
          ]
        },
        {
          "output_type": "stream",
          "name": "stdout",
          "text": [
            "running_loss : 0.6579590439796448\n",
            "loss\n",
            "tensor([151,  26,   0, 195], device='cuda:0')\n",
            "tensor([151,  26,   0, 195], device='cuda:0')\n",
            "ce1 : 0.22508679330348969\n",
            "ce2 : 0.23885107040405273\n"
          ]
        },
        {
          "output_type": "stream",
          "name": "stderr",
          "text": [
            "Train - Loss: 0.464:  75%|███████▌  | 3/4 [00:01<00:00,  2.49it/s]"
          ]
        },
        {
          "output_type": "stream",
          "name": "stdout",
          "text": [
            "running_loss : 0.4639378786087036\n",
            "loss\n",
            "tensor([511, 401,  26,   0], device='cuda:0')\n",
            "tensor([  0, 401,  26,   0], device='cuda:0')\n",
            "ce1 : 0.39451906085014343\n",
            "ce2 : 0.4045025110244751\n"
          ]
        },
        {
          "output_type": "stream",
          "name": "stderr",
          "text": [
            "Train - Loss: 0.799: 100%|██████████| 4/4 [00:01<00:00,  2.51it/s]\n"
          ]
        },
        {
          "output_type": "stream",
          "name": "stdout",
          "text": [
            "running_loss : 0.7990216016769409\n",
            "train score: 0.740\n"
          ]
        },
        {
          "output_type": "stream",
          "name": "stderr",
          "text": [
            "Evaluation: 100%|██████████| 1/1 [00:00<00:00, 14.78it/s]"
          ]
        },
        {
          "output_type": "stream",
          "name": "stdout",
          "text": [
            "Evaluation score: 9.012\n"
          ]
        },
        {
          "output_type": "stream",
          "name": "stderr",
          "text": [
            "\n"
          ]
        },
        {
          "output_type": "stream",
          "name": "stdout",
          "text": [
            "Epoch 30\n"
          ]
        },
        {
          "output_type": "stream",
          "name": "stderr",
          "text": [
            "\rTrain:   0%|          | 0/4 [00:00<?, ?it/s]"
          ]
        },
        {
          "output_type": "stream",
          "name": "stdout",
          "text": [
            "loss\n",
            "tensor([  0, 415,  26, 511], device='cuda:0')\n",
            "tensor([  0, 415,  26,   0], device='cuda:0')\n",
            "ce1 : 0.3918457627296448\n",
            "ce2 : 0.3847668170928955\n"
          ]
        },
        {
          "output_type": "stream",
          "name": "stderr",
          "text": [
            "Train - Loss: 0.777:  25%|██▌       | 1/4 [00:00<00:01,  2.62it/s]"
          ]
        },
        {
          "output_type": "stream",
          "name": "stdout",
          "text": [
            "running_loss : 0.7766125798225403\n",
            "loss\n",
            "tensor([401,  28, 151,   0], device='cuda:0')\n",
            "tensor([401,  28, 151,   0], device='cuda:0')\n",
            "ce1 : 0.28128817677497864\n",
            "ce2 : 0.3498210608959198\n"
          ]
        },
        {
          "output_type": "stream",
          "name": "stderr",
          "text": [
            "Train - Loss: 0.631:  50%|█████     | 2/4 [00:00<00:00,  2.58it/s]"
          ]
        },
        {
          "output_type": "stream",
          "name": "stdout",
          "text": [
            "running_loss : 0.6311092376708984\n",
            "loss\n",
            "tensor([  0,  26, 511, 135], device='cuda:0')\n",
            "tensor([  0,  26,   0, 135], device='cuda:0')\n",
            "ce1 : 0.6233572959899902\n",
            "ce2 : 0.44884800910949707\n"
          ]
        },
        {
          "output_type": "stream",
          "name": "stderr",
          "text": [
            "Train - Loss: 1.072:  75%|███████▌  | 3/4 [00:01<00:00,  2.50it/s]"
          ]
        },
        {
          "output_type": "stream",
          "name": "stdout",
          "text": [
            "running_loss : 1.0722053050994873\n",
            "loss\n",
            "tensor([ 53,  83,   0, 195], device='cuda:0')\n",
            "tensor([ 53,  83,   0, 195], device='cuda:0')\n",
            "ce1 : 0.24696674942970276\n",
            "ce2 : 0.2676912546157837\n"
          ]
        },
        {
          "output_type": "stream",
          "name": "stderr",
          "text": [
            "Train - Loss: 0.515: 100%|██████████| 4/4 [00:01<00:00,  2.52it/s]\n"
          ]
        },
        {
          "output_type": "stream",
          "name": "stdout",
          "text": [
            "running_loss : 0.5146579742431641\n",
            "train score: 0.749\n"
          ]
        },
        {
          "output_type": "stream",
          "name": "stderr",
          "text": [
            "Evaluation: 100%|██████████| 1/1 [00:00<00:00, 16.29it/s]"
          ]
        },
        {
          "output_type": "stream",
          "name": "stdout",
          "text": [
            "Evaluation score: 10.302\n"
          ]
        },
        {
          "output_type": "stream",
          "name": "stderr",
          "text": [
            "\n"
          ]
        }
      ]
    },
    {
      "cell_type": "code",
      "source": [
        "import matplotlib.pyplot as plt\n",
        "\n",
        "t = list(range(1, 31))\n",
        "plt.plot(t, train_losses, label=\"Train Loss\")\n",
        "plt.plot(t, dev_losses, label=\"Dev Loss\")\n",
        "plt.xlabel(\"Epoch\")\n",
        "plt.ylabel(\"Loss\")\n",
        "plt.legend()\n",
        "plt.show()"
      ],
      "metadata": {
        "id": "gQCjTP9pHc3f",
        "colab": {
          "base_uri": "https://localhost:8080/",
          "height": 279
        },
        "outputId": "eb2a4b21-769d-433c-ef7f-0daec907a97b"
      },
      "execution_count": 19,
      "outputs": [
        {
          "output_type": "display_data",
          "data": {
            "text/plain": [
              "<Figure size 432x288 with 1 Axes>"
            ],
            "image/png": "[encoded data removed]"
          },
          "metadata": {
            "needs_background": "light"
          }
        }
      ]
    },
    {
      "cell_type": "code",
      "source": [],
      "metadata": {
        "id": "WvZe9FNnKBsr"
      },
      "execution_count": 19,
      "outputs": []
    },
    {
      "cell_type": "markdown",
      "source": [
        "Inference"
      ],
      "metadata": {
        "id": "M3KfdiAiKCvd"
      }
    },
    {
      "cell_type": "code",
      "source": [
        "model = torch.load('dump/model.30')\n",
        "model.eval()"
      ],
      "metadata": {
        "id": "dJLYVVQbKDkc",
        "colab": {
          "base_uri": "https://localhost:8080/"
        },
        "collapsed": true,
        "outputId": "083839c5-a28a-4e54-e689-e161915b46a8"
      },
      "execution_count": 20,
      "outputs": [
        {
          "output_type": "execute_result",
          "data": {
            "text/plain": [
              "BertForQuestionAnswering(\n",
              "  (bert): ElectraModel(\n",
              "    (embeddings): ElectraEmbeddings(\n",
              "      (word_embeddings): Embedding(32000, 768, padding_idx=0)\n",
              "      (position_embeddings): Embedding(512, 768)\n",
              "      (token_type_embeddings): Embedding(2, 768)\n",
              "      (LayerNorm): LayerNorm((768,), eps=1e-12, elementwise_affine=True)\n",
              "      (dropout): Dropout(p=0.1, inplace=False)\n",
              "    )\n",
              "    (encoder): ElectraEncoder(\n",
              "      (layer): ModuleList(\n",
              "        (0): ElectraLayer(\n",
              "          (attention): ElectraAttention(\n",
              "            (self): ElectraSelfAttention(\n",
              "              (query): Linear(in_features=768, out_features=768, bias=True)\n",
              "              (key): Linear(in_features=768, out_features=768, bias=True)\n",
              "              (value): Linear(in_features=768, out_features=768, bias=True)\n",
              "              (dropout): Dropout(p=0.1, inplace=False)\n",
              "            )\n",
              "            (output): ElectraSelfOutput(\n",
              "              (dense): Linear(in_features=768, out_features=768, bias=True)\n",
              "              (LayerNorm): LayerNorm((768,), eps=1e-12, elementwise_affine=True)\n",
              "              (dropout): Dropout(p=0.1, inplace=False)\n",
              "            )\n",
              "          )\n",
              "          (intermediate): ElectraIntermediate(\n",
              "            (dense): Linear(in_features=768, out_features=3072, bias=True)\n",
              "            (intermediate_act_fn): GELUActivation()\n",
              "          )\n",
              "          (output): ElectraOutput(\n",
              "            (dense): Linear(in_features=3072, out_features=768, bias=True)\n",
              "            (LayerNorm): LayerNorm((768,), eps=1e-12, elementwise_affine=True)\n",
              "            (dropout): Dropout(p=0.1, inplace=False)\n",
              "          )\n",
              "        )\n",
              "        (1): ElectraLayer(\n",
              "          (attention): ElectraAttention(\n",
              "            (self): ElectraSelfAttention(\n",
              "              (query): Linear(in_features=768, out_features=768, bias=True)\n",
              "              (key): Linear(in_features=768, out_features=768, bias=True)\n",
              "              (value): Linear(in_features=768, out_features=768, bias=True)\n",
              "              (dropout): Dropout(p=0.1, inplace=False)\n",
              "            )\n",
              "            (output): ElectraSelfOutput(\n",
              "              (dense): Linear(in_features=768, out_features=768, bias=True)\n",
              "              (LayerNorm): LayerNorm((768,), eps=1e-12, elementwise_affine=True)\n",
              "              (dropout): Dropout(p=0.1, inplace=False)\n",
              "            )\n",
              "          )\n",
              "          (intermediate): ElectraIntermediate(\n",
              "            (dense): Linear(in_features=768, out_features=3072, bias=True)\n",
              "            (intermediate_act_fn): GELUActivation()\n",
              "          )\n",
              "          (output): ElectraOutput(\n",
              "            (dense): Linear(in_features=3072, out_features=768, bias=True)\n",
              "            (LayerNorm): LayerNorm((768,), eps=1e-12, elementwise_affine=True)\n",
              "            (dropout): Dropout(p=0.1, inplace=False)\n",
              "          )\n",
              "        )\n",
              "        (2): ElectraLayer(\n",
              "          (attention): ElectraAttention(\n",
              "            (self): ElectraSelfAttention(\n",
              "              (query): Linear(in_features=768, out_features=768, bias=True)\n",
              "              (key): Linear(in_features=768, out_features=768, bias=True)\n",
              "              (value): Linear(in_features=768, out_features=768, bias=True)\n",
              "              (dropout): Dropout(p=0.1, inplace=False)\n",
              "            )\n",
              "            (output): ElectraSelfOutput(\n",
              "              (dense): Linear(in_features=768, out_features=768, bias=True)\n",
              "              (LayerNorm): LayerNorm((768,), eps=1e-12, elementwise_affine=True)\n",
              "              (dropout): Dropout(p=0.1, inplace=False)\n",
              "            )\n",
              "          )\n",
              "          (intermediate): ElectraIntermediate(\n",
              "            (dense): Linear(in_features=768, out_features=3072, bias=True)\n",
              "            (intermediate_act_fn): GELUActivation()\n",
              "          )\n",
              "          (output): ElectraOutput(\n",
              "            (dense): Linear(in_features=3072, out_features=768, bias=True)\n",
              "            (LayerNorm): LayerNorm((768,), eps=1e-12, elementwise_affine=True)\n",
              "            (dropout): Dropout(p=0.1, inplace=False)\n",
              "          )\n",
              "        )\n",
              "        (3): ElectraLayer(\n",
              "          (attention): ElectraAttention(\n",
              "            (self): ElectraSelfAttention(\n",
              "              (query): Linear(in_features=768, out_features=768, bias=True)\n",
              "              (key): Linear(in_features=768, out_features=768, bias=True)\n",
              "              (value): Linear(in_features=768, out_features=768, bias=True)\n",
              "              (dropout): Dropout(p=0.1, inplace=False)\n",
              "            )\n",
              "            (output): ElectraSelfOutput(\n",
              "              (dense): Linear(in_features=768, out_features=768, bias=True)\n",
              "              (LayerNorm): LayerNorm((768,), eps=1e-12, elementwise_affine=True)\n",
              "              (dropout): Dropout(p=0.1, inplace=False)\n",
              "            )\n",
              "          )\n",
              "          (intermediate): ElectraIntermediate(\n",
              "            (dense): Linear(in_features=768, out_features=3072, bias=True)\n",
              "            (intermediate_act_fn): GELUActivation()\n",
              "          )\n",
              "          (output): ElectraOutput(\n",
              "            (dense): Linear(in_features=3072, out_features=768, bias=True)\n",
              "            (LayerNorm): LayerNorm((768,), eps=1e-12, elementwise_affine=True)\n",
              "            (dropout): Dropout(p=0.1, inplace=False)\n",
              "          )\n",
              "        )\n",
              "        (4): ElectraLayer(\n",
              "          (attention): ElectraAttention(\n",
              "            (self): ElectraSelfAttention(\n",
              "              (query): Linear(in_features=768, out_features=768, bias=True)\n",
              "              (key): Linear(in_features=768, out_features=768, bias=True)\n",
              "              (value): Linear(in_features=768, out_features=768, bias=True)\n",
              "              (dropout): Dropout(p=0.1, inplace=False)\n",
              "            )\n",
              "            (output): ElectraSelfOutput(\n",
              "              (dense): Linear(in_features=768, out_features=768, bias=True)\n",
              "              (LayerNorm): LayerNorm((768,), eps=1e-12, elementwise_affine=True)\n",
              "              (dropout): Dropout(p=0.1, inplace=False)\n",
              "            )\n",
              "          )\n",
              "          (intermediate): ElectraIntermediate(\n",
              "            (dense): Linear(in_features=768, out_features=3072, bias=True)\n",
              "            (intermediate_act_fn): GELUActivation()\n",
              "          )\n",
              "          (output): ElectraOutput(\n",
              "            (dense): Linear(in_features=3072, out_features=768, bias=True)\n",
              "            (LayerNorm): LayerNorm((768,), eps=1e-12, elementwise_affine=True)\n",
              "            (dropout): Dropout(p=0.1, inplace=False)\n",
              "          )\n",
              "        )\n",
              "        (5): ElectraLayer(\n",
              "          (attention): ElectraAttention(\n",
              "            (self): ElectraSelfAttention(\n",
              "              (query): Linear(in_features=768, out_features=768, bias=True)\n",
              "              (key): Linear(in_features=768, out_features=768, bias=True)\n",
              "              (value): Linear(in_features=768, out_features=768, bias=True)\n",
              "              (dropout): Dropout(p=0.1, inplace=False)\n",
              "            )\n",
              "            (output): ElectraSelfOutput(\n",
              "              (dense): Linear(in_features=768, out_features=768, bias=True)\n",
              "              (LayerNorm): LayerNorm((768,), eps=1e-12, elementwise_affine=True)\n",
              "              (dropout): Dropout(p=0.1, inplace=False)\n",
              "            )\n",
              "          )\n",
              "          (intermediate): ElectraIntermediate(\n",
              "            (dense): Linear(in_features=768, out_features=3072, bias=True)\n",
              "            (intermediate_act_fn): GELUActivation()\n",
              "          )\n",
              "          (output): ElectraOutput(\n",
              "            (dense): Linear(in_features=3072, out_features=768, bias=True)\n",
              "            (LayerNorm): LayerNorm((768,), eps=1e-12, elementwise_affine=True)\n",
              "            (dropout): Dropout(p=0.1, inplace=False)\n",
              "          )\n",
              "        )\n",
              "        (6): ElectraLayer(\n",
              "          (attention): ElectraAttention(\n",
              "            (self): ElectraSelfAttention(\n",
              "              (query): Linear(in_features=768, out_features=768, bias=True)\n",
              "              (key): Linear(in_features=768, out_features=768, bias=True)\n",
              "              (value): Linear(in_features=768, out_features=768, bias=True)\n",
              "              (dropout): Dropout(p=0.1, inplace=False)\n",
              "            )\n",
              "            (output): ElectraSelfOutput(\n",
              "              (dense): Linear(in_features=768, out_features=768, bias=True)\n",
              "              (LayerNorm): LayerNorm((768,), eps=1e-12, elementwise_affine=True)\n",
              "              (dropout): Dropout(p=0.1, inplace=False)\n",
              "            )\n",
              "          )\n",
              "          (intermediate): ElectraIntermediate(\n",
              "            (dense): Linear(in_features=768, out_features=3072, bias=True)\n",
              "            (intermediate_act_fn): GELUActivation()\n",
              "          )\n",
              "          (output): ElectraOutput(\n",
              "            (dense): Linear(in_features=3072, out_features=768, bias=True)\n",
              "            (LayerNorm): LayerNorm((768,), eps=1e-12, elementwise_affine=True)\n",
              "            (dropout): Dropout(p=0.1, inplace=False)\n",
              "          )\n",
              "        )\n",
              "        (7): ElectraLayer(\n",
              "          (attention): ElectraAttention(\n",
              "            (self): ElectraSelfAttention(\n",
              "              (query): Linear(in_features=768, out_features=768, bias=True)\n",
              "              (key): Linear(in_features=768, out_features=768, bias=True)\n",
              "              (value): Linear(in_features=768, out_features=768, bias=True)\n",
              "              (dropout): Dropout(p=0.1, inplace=False)\n",
              "            )\n",
              "            (output): ElectraSelfOutput(\n",
              "              (dense): Linear(in_features=768, out_features=768, bias=True)\n",
              "              (LayerNorm): LayerNorm((768,), eps=1e-12, elementwise_affine=True)\n",
              "              (dropout): Dropout(p=0.1, inplace=False)\n",
              "            )\n",
              "          )\n",
              "          (intermediate): ElectraIntermediate(\n",
              "            (dense): Linear(in_features=768, out_features=3072, bias=True)\n",
              "            (intermediate_act_fn): GELUActivation()\n",
              "          )\n",
              "          (output): ElectraOutput(\n",
              "            (dense): Linear(in_features=3072, out_features=768, bias=True)\n",
              "            (LayerNorm): LayerNorm((768,), eps=1e-12, elementwise_affine=True)\n",
              "            (dropout): Dropout(p=0.1, inplace=False)\n",
              "          )\n",
              "        )\n",
              "        (8): ElectraLayer(\n",
              "          (attention): ElectraAttention(\n",
              "            (self): ElectraSelfAttention(\n",
              "              (query): Linear(in_features=768, out_features=768, bias=True)\n",
              "              (key): Linear(in_features=768, out_features=768, bias=True)\n",
              "              (value): Linear(in_features=768, out_features=768, bias=True)\n",
              "              (dropout): Dropout(p=0.1, inplace=False)\n",
              "            )\n",
              "            (output): ElectraSelfOutput(\n",
              "              (dense): Linear(in_features=768, out_features=768, bias=True)\n",
              "              (LayerNorm): LayerNorm((768,), eps=1e-12, elementwise_affine=True)\n",
              "              (dropout): Dropout(p=0.1, inplace=False)\n",
              "            )\n",
              "          )\n",
              "          (intermediate): ElectraIntermediate(\n",
              "            (dense): Linear(in_features=768, out_features=3072, bias=True)\n",
              "            (intermediate_act_fn): GELUActivation()\n",
              "          )\n",
              "          (output): ElectraOutput(\n",
              "            (dense): Linear(in_features=3072, out_features=768, bias=True)\n",
              "            (LayerNorm): LayerNorm((768,), eps=1e-12, elementwise_affine=True)\n",
              "            (dropout): Dropout(p=0.1, inplace=False)\n",
              "          )\n",
              "        )\n",
              "        (9): ElectraLayer(\n",
              "          (attention): ElectraAttention(\n",
              "            (self): ElectraSelfAttention(\n",
              "              (query): Linear(in_features=768, out_features=768, bias=True)\n",
              "              (key): Linear(in_features=768, out_features=768, bias=True)\n",
              "              (value): Linear(in_features=768, out_features=768, bias=True)\n",
              "              (dropout): Dropout(p=0.1, inplace=False)\n",
              "            )\n",
              "            (output): ElectraSelfOutput(\n",
              "              (dense): Linear(in_features=768, out_features=768, bias=True)\n",
              "              (LayerNorm): LayerNorm((768,), eps=1e-12, elementwise_affine=True)\n",
              "              (dropout): Dropout(p=0.1, inplace=False)\n",
              "            )\n",
              "          )\n",
              "          (intermediate): ElectraIntermediate(\n",
              "            (dense): Linear(in_features=768, out_features=3072, bias=True)\n",
              "            (intermediate_act_fn): GELUActivation()\n",
              "          )\n",
              "          (output): ElectraOutput(\n",
              "            (dense): Linear(in_features=3072, out_features=768, bias=True)\n",
              "            (LayerNorm): LayerNorm((768,), eps=1e-12, elementwise_affine=True)\n",
              "            (dropout): Dropout(p=0.1, inplace=False)\n",
              "          )\n",
              "        )\n",
              "        (10): ElectraLayer(\n",
              "          (attention): ElectraAttention(\n",
              "            (self): ElectraSelfAttention(\n",
              "              (query): Linear(in_features=768, out_features=768, bias=True)\n",
              "              (key): Linear(in_features=768, out_features=768, bias=True)\n",
              "              (value): Linear(in_features=768, out_features=768, bias=True)\n",
              "              (dropout): Dropout(p=0.1, inplace=False)\n",
              "            )\n",
              "            (output): ElectraSelfOutput(\n",
              "              (dense): Linear(in_features=768, out_features=768, bias=True)\n",
              "              (LayerNorm): LayerNorm((768,), eps=1e-12, elementwise_affine=True)\n",
              "              (dropout): Dropout(p=0.1, inplace=False)\n",
              "            )\n",
              "          )\n",
              "          (intermediate): ElectraIntermediate(\n",
              "            (dense): Linear(in_features=768, out_features=3072, bias=True)\n",
              "            (intermediate_act_fn): GELUActivation()\n",
              "          )\n",
              "          (output): ElectraOutput(\n",
              "            (dense): Linear(in_features=3072, out_features=768, bias=True)\n",
              "            (LayerNorm): LayerNorm((768,), eps=1e-12, elementwise_affine=True)\n",
              "            (dropout): Dropout(p=0.1, inplace=False)\n",
              "          )\n",
              "        )\n",
              "        (11): ElectraLayer(\n",
              "          (attention): ElectraAttention(\n",
              "            (self): ElectraSelfAttention(\n",
              "              (query): Linear(in_features=768, out_features=768, bias=True)\n",
              "              (key): Linear(in_features=768, out_features=768, bias=True)\n",
              "              (value): Linear(in_features=768, out_features=768, bias=True)\n",
              "              (dropout): Dropout(p=0.1, inplace=False)\n",
              "            )\n",
              "            (output): ElectraSelfOutput(\n",
              "              (dense): Linear(in_features=768, out_features=768, bias=True)\n",
              "              (LayerNorm): LayerNorm((768,), eps=1e-12, elementwise_affine=True)\n",
              "              (dropout): Dropout(p=0.1, inplace=False)\n",
              "            )\n",
              "          )\n",
              "          (intermediate): ElectraIntermediate(\n",
              "            (dense): Linear(in_features=768, out_features=3072, bias=True)\n",
              "            (intermediate_act_fn): GELUActivation()\n",
              "          )\n",
              "          (output): ElectraOutput(\n",
              "            (dense): Linear(in_features=3072, out_features=768, bias=True)\n",
              "            (LayerNorm): LayerNorm((768,), eps=1e-12, elementwise_affine=True)\n",
              "            (dropout): Dropout(p=0.1, inplace=False)\n",
              "          )\n",
              "        )\n",
              "      )\n",
              "    )\n",
              "  )\n",
              "  (start_linear): Linear(in_features=768, out_features=1, bias=True)\n",
              "  (end_linear): Linear(in_features=768, out_features=1, bias=True)\n",
              ")"
            ]
          },
          "metadata": {},
          "execution_count": 20
        }
      ]
    },
    {
      "cell_type": "code",
      "source": [
        "for idx, sample in zip(range(1, 4), sample_ds):\n",
        "    print(f'------{idx}------')\n",
        "    \n",
        "    input_ids, token_type_ids, attention_mask = [\n",
        "        torch.tensor(sample[key], dtype=torch.long, device=\"cuda\")\n",
        "        for key in (\"input_ids\", \"token_type_ids\",\"attention_mask\")\n",
        "    ]\n",
        "    \n",
        "    with torch.no_grad():\n",
        "        start_logits, end_logits = model(input_ids=input_ids[None, :], token_type_ids=token_type_ids[None, :], attention_mask=attention_mask[None, :])\n",
        "    start_logits.squeeze_(0), end_logits.squeeze_(0)\n",
        "    \n",
        "    start_prob = start_logits[token_type_ids.bool()][1:-1].softmax(-1)\n",
        "    end_prob = end_logits[token_type_ids.bool()][1:-1].softmax(-1)\n",
        "    probability = torch.triu(start_prob[:, None] @ end_prob[None, :])\n",
        "    index = torch.argmax(probability).item()\n",
        "    \n",
        "    start = index // len(end_prob)\n",
        "    end = index % len(end_prob)\n",
        "    print(sample['input_ids'].shape)\n",
        "    answer = sample[\"input_ids\"][int(start) : int(end) + 1]\n",
        "    print(tokenizer.decode(answer))\n",
        "\n",
        "\n",
        "    # start = sample['position'][start][0]\n",
        "    # end = sample['position'][end][1]\n",
        "\n",
        "    # print('Answer:', sample['context'][start:end])"
      ],
      "metadata": {
        "id": "6ejqS0RFKIaZ",
        "colab": {
          "base_uri": "https://localhost:8080/"
        },
        "outputId": "9d4df06d-333f-4796-d8d4-9d19174a9248"
      },
      "execution_count": 21,
      "outputs": [
        {
          "output_type": "stream",
          "name": "stdout",
          "text": [
            "------1------\n",
            "torch.Size([512])\n"
          ]
        },
        {
          "output_type": "stream",
          "name": "stderr",
          "text": [
            "/usr/local/lib/python3.7/dist-packages/ipykernel_launcher.py:6: UserWarning: To copy construct from a tensor, it is recommended to use sourceTensor.clone().detach() or sourceTensor.clone().detach().requires_grad_(True), rather than torch.tensor(sourceTensor).\n",
            "  \n"
          ]
        },
        {
          "output_type": "stream",
          "name": "stdout",
          "text": [
            "이르\n",
            "------2------\n"
          ]
        },
        {
          "output_type": "stream",
          "name": "stderr",
          "text": [
            "/usr/local/lib/python3.7/dist-packages/ipykernel_launcher.py:6: UserWarning: To copy construct from a tensor, it is recommended to use sourceTensor.clone().detach() or sourceTensor.clone().detach().requires_grad_(True), rather than torch.tensor(sourceTensor).\n",
            "  \n"
          ]
        },
        {
          "output_type": "stream",
          "name": "stdout",
          "text": [
            "torch.Size([512])\n",
            "수 있\n",
            "------3------\n",
            "torch.Size([512])\n",
            "##부\n"
          ]
        }
      ]
    },
    {
      "cell_type": "code",
      "source": [
        "test_dataset = KoMRC.load('/content/test.json')\n",
        "test_dataset = TKIndexerWrappedDataset(test_dataset, tokenizer)\n",
        "print(\"Number of Test Samples\", len(test_dataset))\n",
        "print(test_dataset[0])"
      ],
      "metadata": {
        "id": "xzC9wnI7KI7s",
        "colab": {
          "base_uri": "https://localhost:8080/",
          "height": 409
        },
        "outputId": "b2750449-622d-41c7-9192-59d53a5e2d70"
      },
      "execution_count": 22,
      "outputs": [
        {
          "output_type": "stream",
          "name": "stdout",
          "text": [
            "4008\n"
          ]
        },
        {
          "output_type": "stream",
          "name": "stderr",
          "text": [
            "  0%|          | 0/6142 [00:00<?, ?it/s]\n"
          ]
        },
        {
          "output_type": "error",
          "ename": "TypeError",
          "evalue": "ignored",
          "traceback": [
            "\u001b[0;31m---------------------------------------------------------------------------\u001b[0m",
            "\u001b[0;31mTypeError\u001b[0m                                 Traceback (most recent call last)",
            "\u001b[0;32m<ipython-input-22-6edbe6c4217d>\u001b[0m in \u001b[0;36m<module>\u001b[0;34m\u001b[0m\n\u001b[1;32m      1\u001b[0m \u001b[0mtest_dataset\u001b[0m \u001b[0;34m=\u001b[0m \u001b[0mKoMRC\u001b[0m\u001b[0;34m.\u001b[0m\u001b[0mload\u001b[0m\u001b[0;34m(\u001b[0m\u001b[0;34m'/content/test.json'\u001b[0m\u001b[0;34m)\u001b[0m\u001b[0;34m\u001b[0m\u001b[0;34m\u001b[0m\u001b[0m\n\u001b[0;32m----> 2\u001b[0;31m \u001b[0mtest_dataset\u001b[0m \u001b[0;34m=\u001b[0m \u001b[0mTKIndexerWrappedDataset\u001b[0m\u001b[0;34m(\u001b[0m\u001b[0mtest_dataset\u001b[0m\u001b[0;34m,\u001b[0m \u001b[0mtokenizer\u001b[0m\u001b[0;34m)\u001b[0m\u001b[0;34m\u001b[0m\u001b[0;34m\u001b[0m\u001b[0m\n\u001b[0m\u001b[1;32m      3\u001b[0m \u001b[0mprint\u001b[0m\u001b[0;34m(\u001b[0m\u001b[0;34m\"Number of Test Samples\"\u001b[0m\u001b[0;34m,\u001b[0m \u001b[0mlen\u001b[0m\u001b[0;34m(\u001b[0m\u001b[0mtest_dataset\u001b[0m\u001b[0;34m)\u001b[0m\u001b[0;34m)\u001b[0m\u001b[0;34m\u001b[0m\u001b[0;34m\u001b[0m\u001b[0m\n\u001b[1;32m      4\u001b[0m \u001b[0mprint\u001b[0m\u001b[0;34m(\u001b[0m\u001b[0mtest_dataset\u001b[0m\u001b[0;34m[\u001b[0m\u001b[0;36m0\u001b[0m\u001b[0;34m]\u001b[0m\u001b[0;34m)\u001b[0m\u001b[0;34m\u001b[0m\u001b[0;34m\u001b[0m\u001b[0m\n",
            "\u001b[0;32m<ipython-input-8-2ab803f4eb2c>\u001b[0m in \u001b[0;36m__init__\u001b[0;34m(self, dataset, tokenizer)\u001b[0m\n\u001b[1;32m      3\u001b[0m     \u001b[0;32mdef\u001b[0m \u001b[0m__init__\u001b[0m\u001b[0;34m(\u001b[0m\u001b[0mself\u001b[0m\u001b[0;34m,\u001b[0m \u001b[0mdataset\u001b[0m\u001b[0;34m:\u001b[0m \u001b[0mKoMRC\u001b[0m\u001b[0;34m,\u001b[0m \u001b[0mtokenizer\u001b[0m\u001b[0;34m)\u001b[0m \u001b[0;34m->\u001b[0m \u001b[0;32mNone\u001b[0m\u001b[0;34m:\u001b[0m\u001b[0;34m\u001b[0m\u001b[0;34m\u001b[0m\u001b[0m\n\u001b[1;32m      4\u001b[0m         \u001b[0mself\u001b[0m\u001b[0;34m.\u001b[0m\u001b[0m_indexer\u001b[0m \u001b[0;34m=\u001b[0m \u001b[0mtokenizer\u001b[0m\u001b[0;34m\u001b[0m\u001b[0;34m\u001b[0m\u001b[0m\n\u001b[0;32m----> 5\u001b[0;31m         \u001b[0mself\u001b[0m\u001b[0;34m.\u001b[0m\u001b[0m_dataset\u001b[0m \u001b[0;34m=\u001b[0m \u001b[0mself\u001b[0m\u001b[0;34m.\u001b[0m\u001b[0m_sample2ids_with_tk\u001b[0m\u001b[0;34m(\u001b[0m\u001b[0mdataset\u001b[0m\u001b[0;34m)\u001b[0m\u001b[0;34m\u001b[0m\u001b[0;34m\u001b[0m\u001b[0m\n\u001b[0m\u001b[1;32m      6\u001b[0m \u001b[0;34m\u001b[0m\u001b[0m\n\u001b[1;32m      7\u001b[0m     \u001b[0;32mdef\u001b[0m \u001b[0m__len__\u001b[0m\u001b[0;34m(\u001b[0m\u001b[0mself\u001b[0m\u001b[0;34m)\u001b[0m \u001b[0;34m->\u001b[0m \u001b[0mint\u001b[0m\u001b[0;34m:\u001b[0m\u001b[0;34m\u001b[0m\u001b[0;34m\u001b[0m\u001b[0m\n",
            "\u001b[0;32m<ipython-input-8-2ab803f4eb2c>\u001b[0m in \u001b[0;36m_sample2ids_with_tk\u001b[0;34m(self, sample)\u001b[0m\n\u001b[1;32m     40\u001b[0m \u001b[0;34m\u001b[0m\u001b[0m\n\u001b[1;32m     41\u001b[0m         \u001b[0;31m#\u001b[0m\u001b[0;34m\u001b[0m\u001b[0;34m\u001b[0m\u001b[0;34m\u001b[0m\u001b[0m\n\u001b[0;32m---> 42\u001b[0;31m         \u001b[0mans_start\u001b[0m \u001b[0;34m=\u001b[0m \u001b[0manswers\u001b[0m\u001b[0;34m[\u001b[0m\u001b[0;36m0\u001b[0m\u001b[0;34m]\u001b[0m\u001b[0;34m[\u001b[0m\u001b[0;34m'answer_start'\u001b[0m\u001b[0;34m]\u001b[0m\u001b[0;34m\u001b[0m\u001b[0;34m\u001b[0m\u001b[0m\n\u001b[0m\u001b[1;32m     43\u001b[0m         \u001b[0mans_end\u001b[0m \u001b[0;34m=\u001b[0m \u001b[0manswers\u001b[0m\u001b[0;34m[\u001b[0m\u001b[0;36m0\u001b[0m\u001b[0;34m]\u001b[0m\u001b[0;34m[\u001b[0m\u001b[0;34m'answer_start'\u001b[0m\u001b[0;34m]\u001b[0m \u001b[0;34m+\u001b[0m \u001b[0mlen\u001b[0m\u001b[0;34m(\u001b[0m\u001b[0manswers\u001b[0m\u001b[0;34m[\u001b[0m\u001b[0;36m0\u001b[0m\u001b[0;34m]\u001b[0m\u001b[0;34m[\u001b[0m\u001b[0;34m'text'\u001b[0m\u001b[0;34m]\u001b[0m\u001b[0;34m)\u001b[0m\u001b[0;34m\u001b[0m\u001b[0;34m\u001b[0m\u001b[0m\n\u001b[1;32m     44\u001b[0m \u001b[0;34m\u001b[0m\u001b[0m\n",
            "\u001b[0;31mTypeError\u001b[0m: 'NoneType' object is not subscriptable"
          ]
        }
      ]
    },
    {
      "cell_type": "code",
      "source": [
        "import csv\n",
        "\n",
        "os.makedirs('out', exist_ok=True)\n",
        "with torch.no_grad(), open('out/baseline.csv', 'w') as fd:\n",
        "    writer = csv.writer(fd)\n",
        "    writer.writerow(['Id', 'Predicted'])\n",
        "\n",
        "    rows = []\n",
        "    for sample in tqdm(test_dataset, \"Testing\"):\n",
        "\n",
        "        input_ids, token_type_ids, attention_mask = [\n",
        "            torch.tensor(sample[key], dtype=torch.long, device=\"cuda\")\n",
        "            for key in (\"input_ids\", \"token_type_ids\",\"attention_mask\")\n",
        "        ]\n",
        "        \n",
        "        with torch.no_grad():\n",
        "            start_logits, end_logits = model(input_ids=input_ids[None, :], token_type_ids=token_type_ids[None, :], attention_mask=attention_mask[None, :])\n",
        "        start_logits.squeeze_(0), end_logits.squeeze_(0)\n",
        "        \n",
        "        start_prob = start_logits[token_type_ids.bool()][1:-1].softmax(-1)\n",
        "        end_prob = end_logits[token_type_ids.bool()][1:-1].softmax(-1)\n",
        "        probability = torch.triu(start_prob[:, None] @ end_prob[None, :])\n",
        "        index = torch.argmax(probability).item()\n",
        "        \n",
        "        start = index // len(end_prob)\n",
        "        end = index % len(end_prob)\n",
        "        answer = sample[\"input_ids\"][int(start) : int(end) + 1]\n",
        "        last_answer = tokenizer.decode(answer)\n",
        "        rows.append([sample[\"guid\"], last_answer])\n",
        "\n",
        "\n",
        "        # input_ids, token_type_ids = [\n",
        "        #     torch.tensor(sample[key], dtype=torch.long, device=\"cuda\")\n",
        "        #     for key in (\"input_ids\", \"token_type_ids\")\n",
        "        # ]\n",
        "    \n",
        "        # with torch.no_grad():\n",
        "        #     start_logits, end_logits = model(input_ids=input_ids[None, :], token_type_ids=token_type_ids[None, :])\n",
        "        # start_logits.squeeze_(0), end_logits.squeeze_(0)\n",
        "    \n",
        "        # start_prob = start_logits[token_type_ids.bool()][1:-1].softmax(-1)\n",
        "        # end_prob = end_logits[token_type_ids.bool()][1:-1].softmax(-1)\n",
        "        # probability = torch.triu(start_prob[:, None] @ end_prob[None, :])\n",
        "        # index = torch.argmax(probability).item()\n",
        "    \n",
        "        # start = index // len(end_prob)\n",
        "        # end = index % len(end_prob)\n",
        "    \n",
        "        # start = sample['position'][start][0]\n",
        "        # end = sample['position'][end][1]\n",
        "\n",
        "        # rows.append([sample[\"guid\"], sample['context'][start:end]])\n",
        "    \n",
        "    writer.writerows(rows)"
      ],
      "metadata": {
        "id": "En2EVM5yKKJ8"
      },
      "execution_count": null,
      "outputs": []
    },
    {
      "cell_type": "code",
      "source": [],
      "metadata": {
        "id": "6C-pNN7PKMA3"
      },
      "execution_count": null,
      "outputs": []
    }
  ]
}